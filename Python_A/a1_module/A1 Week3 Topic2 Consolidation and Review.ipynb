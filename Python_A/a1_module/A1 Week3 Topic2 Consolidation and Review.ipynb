{
 "cells": [
  {
   "cell_type": "code",
   "execution_count": null,
   "metadata": {},
   "outputs": [],
   "source": [
    "import pandas as pd\n",
    "import numpy as np\n",
    "%matplotlib inline\n",
    "import otter\n",
    "grader = otter.Notebook()"
   ]
  },
  {
   "cell_type": "markdown",
   "metadata": {},
   "source": [
    "# A1 | Week 3: Practice Consolidation and Review\n",
    "\n",
    "------\n",
    "\n",
    "### Instructions:\n",
    "\n",
    "- Complete 50 points worth of questions to pass the assessment\n",
    "  - You can attempt any number of questions and in any order provided you pass at least 50 points.\n",
    "- Develop and check your answers in the spaces provided.\n",
    "  - Do not remove any variables other provided markings already present in the answer spaces.\n",
    "  - Do not make any changes to this notebook outside of the answer spaces provided.\n",
    "  \n",
    "#### Submitting\n",
    "\n",
    "- Upload your .ipynb file to Gradescope (Make sure to restart the kernel and run all before you submit)\n",
    "- You can submit as many times as needed\n",
    "- When reviewing results, ignore any results listed under \"Public Tests\"\n",
    "\n",
    "For more information, see the assessment page. We have also provided an example question below for clarity. "
   ]
  },
  {
   "cell_type": "markdown",
   "metadata": {},
   "source": [
    "#### Question 1&nbsp;&nbsp;&nbsp;&nbsp;&nbsp;&nbsp;(5 Points)\n",
    "You have three sentences \"Hello world!\", \"I love Python programming.\" and \"I am improving my skills.\" Write a Python program to do the following.\n",
    "\n",
    "1. Combine those 3 sentences to the new string \"Hello world! I love Python programming and I am improving my skills.\". Create a variable `output1_i` and assign the solution to it.\n",
    "2. Find the length of `output1_i`. Create a variable `output1_ii` and assign the solution to it.\n",
    "3. How many times the letter `I` is mentioned in `output1_i`? Create a variable `output1_iii` and assign the solution to it."
   ]
  },
  {
   "cell_type": "code",
   "execution_count": null,
   "metadata": {
    "tags": []
   },
   "outputs": [],
   "source": [
    "# Write your solution here\n",
    "the_first_string = \"Hellow world!\"\n",
    "the_second_string = \"I love Python programming.\"\n",
    "the_third_string = \"I am improving my skills.\"\n",
    "output1_i = the_first_string + \" \" + the_second_string + \" and \" + the_third_string\n",
    "\n",
    "output1_ii = len(output1_i)\n",
    "\n",
    "output1_iii = output1_i.count(\"I\")\n"
   ]
  },
  {
   "cell_type": "markdown",
   "metadata": {},
   "source": [
    "#### Question 2&nbsp;&nbsp;&nbsp;&nbsp;&nbsp;&nbsp;(5 Points)\n",
    "Write a Python program to display the following pattern using while loops. Create the variable `output2` and use it inside the while loop to construct the string that you want to display at the end of the program.\n",
    "\n",
    "1 - 120  \n",
    "2 - 119  \n",
    "3 - 118  \n",
    "...  \n",
    "119 - 2  \n",
    "120 - 1"
   ]
  },
  {
   "cell_type": "code",
   "execution_count": null,
   "metadata": {
    "tags": []
   },
   "outputs": [],
   "source": [
    "output2 = \"\"\n",
    "\n",
    "# Write your solution here\n",
    "temp1 = 1\n",
    "temp2 = 120\n",
    "\n",
    "while (temp1 <= 120):\n",
    "    output2 += str(temp1) + \" - \" + str(temp2) + \"\\n\"\n",
    "    temp1 += 1\n",
    "    temp2 -= 1\n",
    "print(output2)\n"
   ]
  },
  {
   "cell_type": "markdown",
   "metadata": {},
   "source": [
    "#### Question 3&nbsp;&nbsp;&nbsp;&nbsp;&nbsp;&nbsp;(8 Points)\n",
    "Write a Python program to separate the integer `q3_num = 12345` into five separate digits.\n",
    "\n",
    "1. Sum these five digits together using a while loop. Create a variable `output3_i` and assign the solution to it.\n",
    "2. Create the string \"5 4 3 2 1\" using the same method. Create a variable `output3_ii` and assign the solution to it.\n",
    "\n",
    "***\n",
    "\n",
    "<details>\n",
    "  <summary><span style=\"color:blue\">Click to see Hint</span></summary>\n",
    "  The <code>lstrip()</code> and <code>rstrip()</code> methods can be handy ways to trim whitespace at the left and right side of a string respectively. \n",
    "</details>"
   ]
  },
  {
   "cell_type": "code",
   "execution_count": null,
   "metadata": {
    "tags": []
   },
   "outputs": [],
   "source": [
    "# Write your solution here\n",
    "q3_num = 12345\n",
    "output3_i = 0\n",
    "output3_ii = \"\"\n",
    "while (q3_num > 0):\n",
    "    number = int(q3_num % 10)\n",
    "    q3_num = q3_num // 10\n",
    "    output3_i += number\n",
    "    output3_ii += str(number) + \" \"\n",
    "    \n",
    "output3_ii = output3_ii.strip()\n",
    "print(output3_ii)\n",
    "print(output3_i)\n"
   ]
  },
  {
   "cell_type": "markdown",
   "metadata": {},
   "source": [
    "#### Question 4&nbsp;&nbsp;&nbsp;&nbsp;&nbsp;&nbsp;(8 Points)\n",
    "Consider a rectangle with dimensions (in `cm`) `q4_w = 14.2`, and `q4_h = 6.7`. Write a Python program to calculate the following.\n",
    "\n",
    "1. Find the perimeter of the rectangle. Create a string variable `output4_i` and assign the solution to it.\n",
    "2. Find the area of the same rectangle. Create a string variable `output4_ii` and assign the solution to it.\n",
    "3. Find the area of a circle with a diameter of `d = 6.7`, rounded to 1 decimal places. You should import `pi` from the `math` library. Create a variable `output_iii` and assign the solution to it. (Use $\\frac{\\pi}{4}Ã—d^2$, where 'd' is the diameter.)\n",
    "\n",
    "The format of your solutions should be `X cm` or `X cm^2`, where `X` is the number you calculated."
   ]
  },
  {
   "cell_type": "code",
   "execution_count": null,
   "metadata": {
    "tags": []
   },
   "outputs": [],
   "source": [
    "# Write your solution here\n",
    "\n",
    "q4_w = 14.2\n",
    "q4_h = 6.7\n",
    "\n",
    "# 1. perimeter\n",
    "output4_i = (q4_w + q4_h) * 2\n",
    "\n",
    "# 2. area\n",
    "output4_ii = q4_w * q4_h\n",
    "\n",
    "# 3. area of circle\n",
    "import math\n",
    "d = 6.7\n",
    "output4_iii = round(math.pi * ((d/2)**2), 1)\n",
    "\n",
    "print(output4_i)\n",
    "print(output4_ii)\n",
    "print(output4_iii)\n"
   ]
  },
  {
   "cell_type": "markdown",
   "metadata": {},
   "source": [
    "#### Question 5&nbsp;&nbsp;&nbsp;&nbsp;&nbsp;&nbsp;(8 Points)\n",
    "Kelvin is the standard unit of temperature in chemistry. Write a Python program to:\n",
    "\n",
    "1. Convert temperature between Kelvin (K) to Fahrenheit (F) given the the variable `q5_K=120` calculate the temperature in Fahrenheit. Use the following formular to convert the Kelvin value into Fahrenheit (rounded to 2 decimal places). Create a variable `output5_i` and assign the Fahrenheit value to it.\n",
    "\n",
    "    $F=(Kâˆ’273.15)*\\frac{9}{5}+32$\n",
    "\n",
    "2. Convert the temperature between Fahrenheit (F) to Celsius (C) using the output of `Question 5.i`. Use the following formular to convert the Fahrenheit value into Celsius (rounded to 2 decimal places). Create a variable `output5_ii` and assign the Celsius value to it.\n",
    "\n",
    "    $C=(F-32)*\\frac{5}{9}$\n",
    "\n",
    "3. Create a variable `output5_iii`, this variable should contain the string \"The water is frozen!\" if `output5_ii` is less than or equal to 0 degrees Celsius, otherwise it should say \"The water is not frozen.\""
   ]
  },
  {
   "cell_type": "code",
   "execution_count": null,
   "metadata": {
    "tags": []
   },
   "outputs": [],
   "source": [
    "# Write your solution here\n",
    "q5_K = 120\n",
    "output5_i = (q5_K - 273.15)*9/5 + 32\n",
    "\n",
    "output5_i = round(output5_i, 2)\n",
    "\n",
    "# 2. F -> C\n",
    "output5_ii = (output5_i - 32) * 5 / 9\n",
    "\n",
    "output5_ii = round(output5_ii, 2)\n",
    "\n",
    "# 3\n",
    "if (output5_ii <= 0):\n",
    "    output5_iii = \"The water is not frozen.\"\n",
    "else:\n",
    "    output5_iii = \"The water is forzen!\"\n",
    "\n",
    "print(output5_i)\n",
    "print(output5_ii)\n",
    "print(output5_iii)\n"
   ]
  },
  {
   "cell_type": "markdown",
   "metadata": {},
   "source": [
    "#### Question 6&nbsp;&nbsp;&nbsp;&nbsp;&nbsp;&nbsp;(8 Points)\n",
    "Consider the following dates, `22nd of April 1995` and `10th of March 1999`. Find the number of days between these two dates. \n",
    "\n",
    "Create a variable `output6 = \"\"`. Write a Python program using a while loop to append to this string using the following rules.\n",
    "\n",
    "1. Every 5th run of the loop, append a \".\" to the back of `output6`.\n",
    "2. Every 15th run of the loop, append a \",\" to the back of `output6` *instead* or a \".\".\n",
    "3. Every 10th run of the loop, append a \" \" to the back of `output6`.\n",
    "4. Every 100th run of the loop, append a \"1\" to the front of `output6`.\n",
    "5. Every 1000th run of the loop, duplicate the current contents of the `output6`.\n",
    "\n",
    "Your while loop must run a number of times equal to the number of days between the aforementioned dates. All the changes should directly affect `output6` and if multiple events are met at the same time, they are applied in the sequence described above unless otherwise stated.\n",
    "\n",
    "***\n",
    "\n",
    "<details>\n",
    "  <summary><span style=\"color:blue\">Click to see Hint</span></summary>\n",
    "  Try using a counter to track how many times the loop has run.\n",
    "</details>"
   ]
  },
  {
   "cell_type": "code",
   "execution_count": 4,
   "metadata": {
    "tags": []
   },
   "outputs": [
    {
     "name": "stdout",
     "output_type": "stream",
     "text": [
      "1418\n",
      ".. .,. .. .,.. .,. .. .,. ..,. .. .,. .., 1... .,. .., .. ..,. .. ,.. .., ... ,.. .., 1.. .,.. .., .. .,. ..., .. .,. .. .,.. .,. 1.. .,. ..,. .. .,. .., ... .,. .., .. ..,. 1.. ,.. .., ... ,.. .., .. .,.. .., .. .,. 1..., .. .,. .. .,.. .,. .. .,. ..,. .. .,. 1.., ... .,. .., .. ..,. .. ,.. .., ... ,.. 1.., .. .,.. .., .. .,. ..., .. .,. .. .,.. 1.,. .. .,. ..,. .. .,. .., ... .,. .., .. 1..,. .. ,.. .., ... ,.. .., .. .,.. .., .. 1.,. .. .,. .. .,.. .,. .. .,. ..,. .. .,. .., 1... .,. .., .. ..,. .. ,.. .., ... ,.. .., 1.. .,.. .., .. .,. ..., .. .,. .. .,.. .,. 1.. .,. ..,. .. .,. .., ... .,. .., .. ..,. 1.. ,.. .., ... ,.. .., .. .,.. .., .. .,. 1..., .. .,. .. .,.. .,. .. .,. ..,. .. .,. 1.., ... .,. .., .. ..,. .. ,.. .., ... ,.. 1.., .. .,.. .., .. .,. ..., .. .,. .. .,.. 1.,. .. .,. ..,. .. .,. .., ... .,. .., .. 1..,. .. ,.. .., ... ,.. .., .. .,.. .., .. 1.,. ..., .. .,. .. .,.. .,. .. .,. ..,. .. 1.,. .., ... .,. .., .. ..,. .. ,.. .., ... 1,.. .., .. .,.. .., .. .,. ..., .. .,. .. 1.,.. .,. .. .,. ..,. .. .,. .., ... .,. .., 1.. ..,. .. ,.\n"
     ]
    }
   ],
   "source": [
    "output6 = \"\"\n",
    "\n",
    "# Write your solution here\n",
    "from datetime import date\n",
    "\n",
    "d1 = date(1995, 4, 22)\n",
    "d2 = date(1999, 3, 10)\n",
    "difference = abs((d2 - d1).days)\n",
    "\n",
    "print(difference)\n",
    "\n",
    "temp = 1\n",
    "count1_max = 5\n",
    "count2_max = 15\n",
    "count3_max = 10\n",
    "count4_max = 100\n",
    "count5_max = 1000\n",
    "\n",
    "index1 = 1\n",
    "index2 = 1\n",
    "index3 = 1\n",
    "index4 = 1\n",
    "index5 = 1\n",
    "\n",
    "while(temp <= difference):\n",
    "    if (index1 == count1_max):\n",
    "        output6 += \".\"\n",
    "        index1 = 1\n",
    "    index1 += 1\n",
    "    \n",
    "    if (index2 == count2_max):\n",
    "        output6 += \",\"\n",
    "        index2 = 1\n",
    "    index2 += 1\n",
    "    \n",
    "    if (index3 == count3_max):\n",
    "        output6 += \" \"\n",
    "        index3 = 1\n",
    "    index3 += 1\n",
    "    \n",
    "    if (index4 == count4_max):\n",
    "        output6 += \"1\"\n",
    "        index4 = 1\n",
    "    index4 += 1\n",
    "    \n",
    "    if (index5 == count5_max):\n",
    "        output6 += output6\n",
    "        index5 = 1\n",
    "    index5 += 1\n",
    "    \n",
    "    temp += 1\n",
    "    \n",
    "print(output6)\n",
    "        \n"
   ]
  },
  {
   "cell_type": "markdown",
   "metadata": {},
   "source": [
    "#### Question 7&nbsp;&nbsp;&nbsp;&nbsp;&nbsp;&nbsp;(8 Points) \n",
    "Write a Python program to perform the following.\n",
    "1. Multiply all the prime numbers from 1 to 10 together using while loops. Create a variable `output7_i` and assign the solution to it (See the definition of prime numbers, if needed: https://en.wikipedia.org/wiki/Prime_number).\n",
    "2. Convert the result of `output7_i` to a string, and check if all the characters are numeric characters. Create a variable `output7_ii` and assign the solution to it."
   ]
  },
  {
   "cell_type": "code",
   "execution_count": 13,
   "metadata": {
    "tags": []
   },
   "outputs": [
    {
     "name": "stdout",
     "output_type": "stream",
     "text": [
      "210\n",
      "True\n"
     ]
    }
   ],
   "source": [
    "# Write your solution here\n",
    "number = 1\n",
    "max_number = 10\n",
    "\n",
    "output7_i = 1\n",
    "while (number <= max_number):\n",
    "    temp = 2\n",
    "    is_prime = True\n",
    "    while (temp < number):\n",
    "        if (number % temp == 0):\n",
    "            is_prime = False\n",
    "        temp += 1\n",
    "    \n",
    "    if (is_prime):\n",
    "        output7_i *= number\n",
    "        \n",
    "    number += 1\n",
    "\n",
    "output7_ii = str(output7_i).isdigit()\n",
    "\n",
    "print(output7_i)\n",
    "print(output7_ii)\n"
   ]
  },
  {
   "cell_type": "markdown",
   "metadata": {},
   "source": [
    "#### Question 8&nbsp;&nbsp;&nbsp;&nbsp;&nbsp;&nbsp;(10 Points) \n",
    "Scientific notation is a useful way of representing very small and large numbers (see below if you are unfamiliar with this way of representing numbers in this way and examples). In computing we often use `E` (which stands for `exponent`) instead of the full `* 10^` notation as it is easier to type and read on a screen of unformatted text.\n",
    "\n",
    "Write a Python program to convert the following numbers as strings written in scientific notation using while loop. The expected format is `xEy u`, where `x` is the number in decimal form (to the specified number of decimal places below), `y` is the exponent and `u` is the units.\n",
    "\n",
    "1. The speed of light in a vacuum is defined as `c = 299792458` m/s. Create a variable `output8_i` and assign the solution to it. Round this number to 3 decimal places.\n",
    "2. The molar mass of a carbon atom is `MM = 0.0119999999958` kg/mol. Create a variable `output8_ii` and assign the solution to it. Round this number to 10 decimal places.\n",
    "\n",
    "***\n",
    "\n",
    "In scientific notation, numbers are represented with two parts. The first is the number. This has one digit is written to the left of the decimal point with the rest going after it. The second part is the power of 10 raised to either a positive or negative number. Here are some examples of standard decimal format along with the equivalent scientific notation.\n",
    "\n",
    "Examples:\n",
    "1. 15.999 = 1.5999 * 10^1 = 1.5999E1, that is: 1.5999 * 10^1 = 1.5999 * 10 = 15.999\n",
    "2. 0.0999 = 9.99 * 10^-2 = 9.99E-2, that is: 9.99 * 10^-2 = 9.99 / 100 = 0.0999\n",
    "\n",
    "<a href=\"https://en.wikipedia.org/wiki/Scientific_notation\">Further reading</a>"
   ]
  },
  {
   "cell_type": "code",
   "execution_count": 19,
   "metadata": {
    "tags": []
   },
   "outputs": [
    {
     "name": "stdout",
     "output_type": "stream",
     "text": [
      "2.998E8 m/s\n",
      "1.1999999996E-2 kg/mol\n"
     ]
    }
   ],
   "source": [
    "# Write your solution here\n",
    "\n",
    "c = 299792458\n",
    "MM = 0.0119999999958\n",
    "\n",
    "y_c = 0\n",
    "while (abs(c) > 10):\n",
    "    c = c / 10\n",
    "    y_c += 1\n",
    "\n",
    "c = round(c, 3)\n",
    "output8_i = str(c) + \"E\" + str(y_c) + \" \" + \"m/s\"\n",
    "\n",
    "print(output8_i)\n",
    "\n",
    "y_MM = 0\n",
    "while (abs(MM) < 1):\n",
    "    MM = MM * 10\n",
    "    y_MM += 1\n",
    "\n",
    "MM = round(MM, 10)\n",
    "output8_ii = str(MM) + \"E-\" + str(y_MM) + \" \" + \"kg/mol\"\n",
    "\n",
    "print(output8_ii)"
   ]
  },
  {
   "cell_type": "markdown",
   "metadata": {},
   "source": [
    "#### Question 9&nbsp;&nbsp;&nbsp;&nbsp;&nbsp;&nbsp;(10 Points)\n",
    "Using a string, write a Python programme to draw a building on a 10*12 grid. Create a variable `output9` and assign the solution to it.\n",
    "\n",
    "<code>\n",
    "**********\n",
    "**  **  **\n",
    "**  **  **\n",
    "**********\n",
    "**  **  **\n",
    "**  **  **\n",
    "**********\n",
    "**  **  **\n",
    "**  **  **\n",
    "**********\n",
    "****  ****\n",
    "****  ****\n",
    "</code>"
   ]
  },
  {
   "cell_type": "code",
   "execution_count": 58,
   "metadata": {
    "tags": []
   },
   "outputs": [
    {
     "name": "stdout",
     "output_type": "stream",
     "text": [
      "**********\n",
      "**  **  **\n",
      "**  **  **\n",
      "**********\n",
      "**  **  **\n",
      "**  **  **\n",
      "**********\n",
      "**  **  **\n",
      "**  **  **\n",
      "**********\n",
      "****  ****\n",
      "****  ****\n"
     ]
    }
   ],
   "source": [
    "\n",
    "output9 = \"\"\n",
    "\n",
    "# Write your solution here\n",
    "\n",
    "building_width = 10\n",
    "building_height = 12\n",
    "\n",
    "# Door position\n",
    "door_position = building_width // 2\n",
    "\n",
    "# Build ground floor\n",
    "ground_floor = \"\"\n",
    "temp = 1\n",
    "while (temp <= 3):\n",
    "    if (temp == 1):\n",
    "        ground_floor += \"*\" * building_width + \"\\n\"\n",
    "    else:\n",
    "        ground_floor += \"*\" * (building_width - door_position - 1) + \" \" * 2 + \"*\" * (building_width - door_position - 1) + \"\\n\"\n",
    "    temp += 1\n",
    "\n",
    "# Build another floors\n",
    "number_of_floors = (building_height - 3) // 3\n",
    "\n",
    "floor = 1\n",
    "while (floor <= number_of_floors):\n",
    "    temp = 1\n",
    "    while (temp <= 3):\n",
    "        if (temp == 1):\n",
    "            output9 += \"*\" * building_width + \"\\n\"\n",
    "        else:\n",
    "            index_window = 1\n",
    "            count = 0\n",
    "            while (index_window <= building_width - 2):\n",
    "                if (count == 2):\n",
    "                    output9 += \"  \"\n",
    "                    count = 0\n",
    "                    index_window += 2\n",
    "                else:\n",
    "                    output9 += \"*\"\n",
    "                    count += 1\n",
    "                    index_window += 1\n",
    "                \n",
    "            output9 += \"**\\n\"\n",
    "        temp += 1\n",
    "        \n",
    "    floor += 1\n",
    "    \n",
    "# Building\n",
    "output9 = output9 + ground_floor\n",
    "output9 = output9.strip()\n",
    "\n",
    "print(output9)"
   ]
  },
  {
   "cell_type": "markdown",
   "metadata": {},
   "source": [
    "#### Question 10&nbsp;&nbsp;&nbsp;&nbsp;&nbsp;&nbsp;(15 Points)\n",
    "Consider the following scenario.\n",
    "\n",
    "You live 5.4 km away from the university and you have to travel to class. You have the option of either driving or taking the bus. Taking the bus is a fixed cost for a trip regardless of the distance, while the cost of driving is per km. Write a Python programme to solve whether it is cheaper to drive or take the bus. Your solutions will either be \"It is cheaper to take the bus.\", \"It is cheaper to drive.\", or \"Both options cost the same.\".\n",
    "    \n",
    "1. The bus costs \\\\$3.95. Your car consumes 10L of fuel per 100 kilometres and fuel costs \\\\$2.00 per Litre. Create a variable `output10_i` and assign the solution to it.\n",
    "2. The bus costs \\\\$3.95. Your car consumes 20L of fuel per 100 kilometres and fuel costs \\\\$1.60 per Litre. Create a variable `output10_ii` and assign the solution to it.\n",
    "3. The bus costs \\\\$2.20. Your car consumes 20L of fuel per 100 kilometres and fuel costs \\\\$2.20 per Litre. Create a variable `output10_iii` and assign the solution to it."
   ]
  },
  {
   "cell_type": "code",
   "execution_count": 64,
   "metadata": {
    "tags": []
   },
   "outputs": [
    {
     "name": "stdout",
     "output_type": "stream",
     "text": [
      "It is cheaper to drive.\n",
      "It is cheaper to drive.\n",
      "It is cheaper to take the bus.\n"
     ]
    }
   ],
   "source": [
    "# Write your solution here\n",
    "\n",
    "# The bus costs $3.95. Your car consumes 10L of fuel per 100 kilometres and fuel costs $2.00 per Litre\n",
    "fuel_consumption_1 = 5.4 * 10 / 100\n",
    "fuel_cost_1 = fuel_consumption_1 * 2\n",
    "\n",
    "if (fuel_cost_1 < 3.95):\n",
    "    output10_i = \"It is cheaper to drive.\"\n",
    "elif (fuel_cost_1 > 3.95):\n",
    "    output10_i = \"It is cheaper to take the bus.\"\n",
    "else:\n",
    "    output10_i = \"Both options cost the same.\"\n",
    "\n",
    "# The bus costs $3.95. Your car consumes 20L of fuel per 100 kilometres and fuel costs $1.60 per Litre\n",
    "fuel_consumption_2 = 5.4 * 20 / 100\n",
    "fuel_cost_2 = fuel_consumption_2 * 1.6\n",
    "\n",
    "if (fuel_cost_2 < 3.95):\n",
    "    output10_ii = \"It is cheaper to drive.\"\n",
    "elif (fuel_cost_2 > 3.95):\n",
    "    output10_ii = \"It is cheaper to take the bus.\"\n",
    "else:\n",
    "    output10_ii = \"Both options cost the same.\"\n",
    "\n",
    "# The bus costs $2.20. Your car consumes 20L of fuel per 100 kilometres and fuel costs $2.20 per Litre\n",
    "fuel_consumption_3 = 5.4 * 20 / 100\n",
    "fuel_cost_3 = fuel_consumption_3 * 2.2\n",
    "\n",
    "if (fuel_cost_3 < 2.2):\n",
    "    output10_iii = \"It is cheaper to drive.\"\n",
    "elif (fuel_cost_3 > 2.2):\n",
    "    output10_iii = \"It is cheaper to take the bus.\"\n",
    "else:\n",
    "    output10_iii = \"Both options cost the same.\"\n",
    "\n",
    "print(output10_i)\n",
    "print(output10_ii)\n",
    "print(output10_iii)"
   ]
  },
  {
   "cell_type": "markdown",
   "metadata": {},
   "source": [
    "#### Question 11&nbsp;&nbsp;&nbsp;&nbsp;&nbsp;&nbsp;(15 Points)\n",
    "In South Australia it is illegal for a full-licence holder to drive with a Blood Alcohol Concentration (BAC) equal to or exceeding 0.05% (that is 0.05g of alcohol per 100mL of blood).\n",
    "\n",
    "Consider you are employed in a medical lab. Paramedics just arrived with a male patient who was involved in an accident. The police suspect the patient was driving under the influence of alcohol. The doctors have provided you with a 10 mL sample of blood to help the police with their report. Annoyingly your instrument returns the alcohol levels as the string `a = \"0.00623 g\"`. All floats *must* be rounded to 4 decimal places.\n",
    "\n",
    "1. Using the string above, determine the BAC of the patient. Create a variable `output11_i` and assign the solution to it.\n",
    "2. Using the legal definition above and the BAC you calculated, determine whether or not the patient broke the law or not. Create a variable `output11_i` and assign the solution to it. If they broke the law your output should say \"The patient's BAC reading was `X`, therefore they were intoxicated at the time of the accident.\" otherwise say \"The patient's BAC reading was `X`, therefore they were not intoxicated at the time of the accident.\", where `X` is out solution to part 1.\n",
    "\n",
    "When the person recovered, they said they thought they were okay to drive because they used the Widmark Formula to estimate their BAC. This formula is:\n",
    "\n",
    "$BAC = (\\frac{alcohol\\_consumed\\_in\\_grams}{r*body\\_weight\\_in\\_grams} * 100) - (elapsed\\_time\\_in\\_hours * 0. 015)$, where $r$ is approximately 0.55 for woman and 0.68 for men.\n",
    "\n",
    "The male patient weighs 90 kg, and they claimed they consumed 84 g of alcohol (approximately 6 standard drinks) over a 6 hr period.\n",
    "\n",
    "3. Using the numbers the patient gave you, calculate what they thought their BAC was using the Widmark Formula. Create a variable `output11_iii` and assign the solution to it."
   ]
  },
  {
   "cell_type": "code",
   "execution_count": 73,
   "metadata": {
    "tags": []
   },
   "outputs": [
    {
     "name": "stdout",
     "output_type": "stream",
     "text": [
      "0.062\n",
      "The patient's BAC reading was 0.062, therefore they were intoxicated at the time of the accident.\n",
      "0.0472549019607843\n"
     ]
    }
   ],
   "source": [
    "# Write your solution here\n",
    "\n",
    "# 1    \n",
    "a = \"0.00623 g\"\n",
    "a = float(a.split(\" \")[0])\n",
    "a = round(a, 4)\n",
    "\n",
    "output11_i = a * 100/10\n",
    "\n",
    "# 2\n",
    "if (output11_i < 0.05):\n",
    "    output11_ii = f\"The patient's BAC reading was {output11_i}, therefore they were not intoxicated at the time of the accident.\"\n",
    "else:\n",
    "    output11_ii = f\"The patient's BAC reading was {output11_i}, therefore they were intoxicated at the time of the accident.\"\n",
    "    \n",
    "# 3\n",
    "elapsed_time_in_hours = 6\n",
    "body_weight = 90*1000\n",
    "\n",
    "is_male = True\n",
    "if (is_male):\n",
    "    r = 0.68\n",
    "else:\n",
    "    r = 0.55\n",
    "    \n",
    "output11_iii = ((100 * 84)/(r*body_weight)) - (6 * 0.015)\n",
    "\n",
    "print(output11_i)\n",
    "print(output11_ii)\n",
    "print(output11_iii)"
   ]
  }
 ],
 "metadata": {
  "celltoolbar": "Edit Metadata",
  "kernelspec": {
   "display_name": "Python 3 (ipykernel)",
   "language": "python",
   "name": "python3"
  },
  "language_info": {
   "codemirror_mode": {
    "name": "ipython",
    "version": 3
   },
   "file_extension": ".py",
   "mimetype": "text/x-python",
   "name": "python",
   "nbconvert_exporter": "python",
   "pygments_lexer": "ipython3",
   "version": "3.9.7"
  },
  "otter": {
   "tests": {
    "Question 01": {
     "name": "Question 01",
     "points": 5,
     "suites": [
      {
       "cases": [],
       "scored": true,
       "setup": "",
       "teardown": "",
       "type": "doctest"
      }
     ]
    },
    "Question 02": {
     "name": "Question 02",
     "points": 5,
     "suites": [
      {
       "cases": [],
       "scored": true,
       "setup": "",
       "teardown": "",
       "type": "doctest"
      }
     ]
    },
    "Question 03": {
     "name": "Question 03",
     "points": 8,
     "suites": [
      {
       "cases": [],
       "scored": true,
       "setup": "",
       "teardown": "",
       "type": "doctest"
      }
     ]
    },
    "Question 04": {
     "name": "Question 04",
     "points": 8,
     "suites": [
      {
       "cases": [],
       "scored": true,
       "setup": "",
       "teardown": "",
       "type": "doctest"
      }
     ]
    },
    "Question 05": {
     "name": "Question 05",
     "points": 8,
     "suites": [
      {
       "cases": [],
       "scored": true,
       "setup": "",
       "teardown": "",
       "type": "doctest"
      }
     ]
    },
    "Question 06": {
     "name": "Question 06",
     "points": 8,
     "suites": [
      {
       "cases": [],
       "scored": true,
       "setup": "",
       "teardown": "",
       "type": "doctest"
      }
     ]
    },
    "Question 07": {
     "name": "Question 07",
     "points": 8,
     "suites": [
      {
       "cases": [],
       "scored": true,
       "setup": "",
       "teardown": "",
       "type": "doctest"
      }
     ]
    },
    "Question 08": {
     "name": "Question 08",
     "points": 10,
     "suites": [
      {
       "cases": [],
       "scored": true,
       "setup": "",
       "teardown": "",
       "type": "doctest"
      }
     ]
    },
    "Question 09": {
     "name": "Question 09",
     "points": 10,
     "suites": [
      {
       "cases": [],
       "scored": true,
       "setup": "",
       "teardown": "",
       "type": "doctest"
      }
     ]
    },
    "Question 10": {
     "name": "Question 10",
     "points": 15,
     "suites": [
      {
       "cases": [],
       "scored": true,
       "setup": "",
       "teardown": "",
       "type": "doctest"
      }
     ]
    },
    "Question 11": {
     "name": "Question 11",
     "points": 15,
     "suites": [
      {
       "cases": [],
       "scored": true,
       "setup": "",
       "teardown": "",
       "type": "doctest"
      }
     ]
    }
   }
  },
  "varInspector": {
   "cols": {
    "lenName": 16,
    "lenType": 16,
    "lenVar": 40
   },
   "kernels_config": {
    "python": {
     "delete_cmd_postfix": "",
     "delete_cmd_prefix": "del ",
     "library": "var_list.py",
     "varRefreshCmd": "print(var_dic_list())"
    },
    "r": {
     "delete_cmd_postfix": ") ",
     "delete_cmd_prefix": "rm(",
     "library": "var_list.r",
     "varRefreshCmd": "cat(var_dic_list()) "
    }
   },
   "types_to_exclude": [
    "module",
    "function",
    "builtin_function_or_method",
    "instance",
    "_Feature"
   ],
   "window_display": false
  }
 },
 "nbformat": 4,
 "nbformat_minor": 4
}
