{
 "cells": [
  {
   "cell_type": "code",
   "execution_count": 1,
   "metadata": {},
   "outputs": [
    {
     "ename": "KeyboardInterrupt",
     "evalue": "",
     "output_type": "error",
     "traceback": [
      "\u001b[0;31m---------------------------------------------------------------------------\u001b[0m",
      "\u001b[0;31mKeyboardInterrupt\u001b[0m                         Traceback (most recent call last)",
      "\u001b[0;32m/var/folders/pw/s8535kh50y9b39g5wwk9_83h0000gn/T/ipykernel_7069/3214237745.py\u001b[0m in \u001b[0;36m<module>\u001b[0;34m\u001b[0m\n\u001b[0;32m----> 1\u001b[0;31m \u001b[0;32mimport\u001b[0m \u001b[0mpandas\u001b[0m \u001b[0;32mas\u001b[0m \u001b[0mpd\u001b[0m\u001b[0;34m\u001b[0m\u001b[0;34m\u001b[0m\u001b[0m\n\u001b[0m\u001b[1;32m      2\u001b[0m \u001b[0;32mimport\u001b[0m \u001b[0mnumpy\u001b[0m \u001b[0;32mas\u001b[0m \u001b[0mnp\u001b[0m\u001b[0;34m\u001b[0m\u001b[0;34m\u001b[0m\u001b[0m\n\u001b[1;32m      3\u001b[0m \u001b[0mget_ipython\u001b[0m\u001b[0;34m(\u001b[0m\u001b[0;34m)\u001b[0m\u001b[0;34m.\u001b[0m\u001b[0mrun_line_magic\u001b[0m\u001b[0;34m(\u001b[0m\u001b[0;34m'matplotlib'\u001b[0m\u001b[0;34m,\u001b[0m \u001b[0;34m'inline'\u001b[0m\u001b[0;34m)\u001b[0m\u001b[0;34m\u001b[0m\u001b[0;34m\u001b[0m\u001b[0m\n\u001b[1;32m      4\u001b[0m \u001b[0;32mimport\u001b[0m \u001b[0motter\u001b[0m\u001b[0;34m\u001b[0m\u001b[0;34m\u001b[0m\u001b[0m\n\u001b[1;32m      5\u001b[0m \u001b[0mgrader\u001b[0m \u001b[0;34m=\u001b[0m \u001b[0motter\u001b[0m\u001b[0;34m.\u001b[0m\u001b[0mNotebook\u001b[0m\u001b[0;34m(\u001b[0m\u001b[0;34m)\u001b[0m\u001b[0;34m\u001b[0m\u001b[0;34m\u001b[0m\u001b[0m\n",
      "\u001b[0;32m~/opt/anaconda3/lib/python3.9/site-packages/pandas/__init__.py\u001b[0m in \u001b[0;36m<module>\u001b[0;34m\u001b[0m\n\u001b[1;32m    177\u001b[0m \u001b[0;34m\u001b[0m\u001b[0m\n\u001b[1;32m    178\u001b[0m \u001b[0;32mfrom\u001b[0m \u001b[0mpandas\u001b[0m\u001b[0;34m.\u001b[0m\u001b[0mutil\u001b[0m\u001b[0;34m.\u001b[0m\u001b[0m_tester\u001b[0m \u001b[0;32mimport\u001b[0m \u001b[0mtest\u001b[0m\u001b[0;34m\u001b[0m\u001b[0;34m\u001b[0m\u001b[0m\n\u001b[0;32m--> 179\u001b[0;31m \u001b[0;32mimport\u001b[0m \u001b[0mpandas\u001b[0m\u001b[0;34m.\u001b[0m\u001b[0mtesting\u001b[0m\u001b[0;34m\u001b[0m\u001b[0;34m\u001b[0m\u001b[0m\n\u001b[0m\u001b[1;32m    180\u001b[0m \u001b[0;32mimport\u001b[0m \u001b[0mpandas\u001b[0m\u001b[0;34m.\u001b[0m\u001b[0marrays\u001b[0m\u001b[0;34m\u001b[0m\u001b[0;34m\u001b[0m\u001b[0m\n\u001b[1;32m    181\u001b[0m \u001b[0;34m\u001b[0m\u001b[0m\n",
      "\u001b[0;32m~/opt/anaconda3/lib/python3.9/site-packages/pandas/testing.py\u001b[0m in \u001b[0;36m<module>\u001b[0;34m\u001b[0m\n\u001b[1;32m      4\u001b[0m \u001b[0;34m\u001b[0m\u001b[0m\n\u001b[1;32m      5\u001b[0m \u001b[0;34m\u001b[0m\u001b[0m\n\u001b[0;32m----> 6\u001b[0;31m from pandas._testing import (\n\u001b[0m\u001b[1;32m      7\u001b[0m     \u001b[0massert_extension_array_equal\u001b[0m\u001b[0;34m,\u001b[0m\u001b[0;34m\u001b[0m\u001b[0;34m\u001b[0m\u001b[0m\n\u001b[1;32m      8\u001b[0m     \u001b[0massert_frame_equal\u001b[0m\u001b[0;34m,\u001b[0m\u001b[0;34m\u001b[0m\u001b[0;34m\u001b[0m\u001b[0m\n",
      "\u001b[0;32m~/opt/anaconda3/lib/python3.9/site-packages/pandas/_testing/__init__.py\u001b[0m in \u001b[0;36m<module>\u001b[0;34m\u001b[0m\n\u001b[1;32m     72\u001b[0m )\n\u001b[1;32m     73\u001b[0m \u001b[0;32mfrom\u001b[0m \u001b[0mpandas\u001b[0m\u001b[0;34m.\u001b[0m\u001b[0m_testing\u001b[0m\u001b[0;34m.\u001b[0m\u001b[0m_warnings\u001b[0m \u001b[0;32mimport\u001b[0m \u001b[0massert_produces_warning\u001b[0m  \u001b[0;31m# noqa:F401\u001b[0m\u001b[0;34m\u001b[0m\u001b[0;34m\u001b[0m\u001b[0m\n\u001b[0;32m---> 74\u001b[0;31m from pandas._testing.asserters import (  # noqa:F401\n\u001b[0m\u001b[1;32m     75\u001b[0m     \u001b[0massert_almost_equal\u001b[0m\u001b[0;34m,\u001b[0m\u001b[0;34m\u001b[0m\u001b[0;34m\u001b[0m\u001b[0m\n\u001b[1;32m     76\u001b[0m     \u001b[0massert_attr_equal\u001b[0m\u001b[0;34m,\u001b[0m\u001b[0;34m\u001b[0m\u001b[0;34m\u001b[0m\u001b[0m\n",
      "\u001b[0;32m~/opt/anaconda3/lib/python3.9/site-packages/pandas/_testing/asserters.py\u001b[0m in \u001b[0;36m<module>\u001b[0;34m\u001b[0m\n\u001b[1;32m     11\u001b[0m )\n\u001b[1;32m     12\u001b[0m \u001b[0;32mfrom\u001b[0m \u001b[0mpandas\u001b[0m\u001b[0;34m.\u001b[0m\u001b[0m_libs\u001b[0m\u001b[0;34m.\u001b[0m\u001b[0mmissing\u001b[0m \u001b[0;32mimport\u001b[0m \u001b[0mis_matching_na\u001b[0m\u001b[0;34m\u001b[0m\u001b[0;34m\u001b[0m\u001b[0m\n\u001b[0;32m---> 13\u001b[0;31m \u001b[0;32mimport\u001b[0m \u001b[0mpandas\u001b[0m\u001b[0;34m.\u001b[0m\u001b[0m_libs\u001b[0m\u001b[0;34m.\u001b[0m\u001b[0mtesting\u001b[0m \u001b[0;32mas\u001b[0m \u001b[0m_testing\u001b[0m\u001b[0;34m\u001b[0m\u001b[0;34m\u001b[0m\u001b[0m\n\u001b[0m\u001b[1;32m     14\u001b[0m \u001b[0;34m\u001b[0m\u001b[0m\n\u001b[1;32m     15\u001b[0m from pandas.core.dtypes.common import (\n",
      "\u001b[0;32m~/opt/anaconda3/lib/python3.9/importlib/_bootstrap.py\u001b[0m in \u001b[0;36mparent\u001b[0;34m(self)\u001b[0m\n",
      "\u001b[0;31mKeyboardInterrupt\u001b[0m: "
     ]
    }
   ],
   "source": [
    "import pandas as pd\n",
    "import numpy as np\n",
    "%matplotlib inline\n",
    "import otter\n",
    "grader = otter.Notebook()"
   ]
  },
  {
   "cell_type": "markdown",
   "metadata": {},
   "source": [
    "# A1 | Week 3: Practice While Loops\n",
    "\n",
    "------\n",
    "\n",
    "### Instructions:\n",
    "\n",
    "- Complete 50 points worth of questions to pass the assessment\n",
    "  - You can attempt any number of questions and in any order provided you pass at least 50 points.\n",
    "- Develop and check your answers in the spaces provided.\n",
    "  - Do not remove any variables other provided markings already present in the answer spaces.\n",
    "  - Do not make any changes to this notebook outside of the answer spaces provided.\n",
    "  \n",
    "#### Submitting\n",
    "\n",
    "- Upload your .ipynb file to Gradescope (Make sure to restart the kernel and run all before you submit)\n",
    "- You can submit as many times as needed\n",
    "- When reviewing results, ignore any results listed under \"Public Tests\"\n",
    "\n",
    "For more information, see the assessment page. We have also provided an example question below for clarity. "
   ]
  },
  {
   "cell_type": "markdown",
   "metadata": {},
   "source": [
    "#### Example Question\n",
    "Write a Python program to display the first 10 integer numbers starting with 1 using while loops. Create the variable `example_output` and use it inside the while loop to construct the string that you want to display at the end of the program.\n",
    "\n",
    "```\n",
    "#This solution is for demonstration purposes ONLY. \n",
    "#There may be other ways of doing this task using while loops that produce the same output.\n",
    "#You have the freedom to use a solution that you prefer as long as it uses while loop and \n",
    "#produces the expected output using the example_output variable.\n",
    "example_output = \"\"\n",
    "example_count = 1\n",
    "while example_count <= 10:\n",
    "    example_output += str(example_count)\n",
    "    example_output += \"\\n\"\n",
    "    example_count += 1\n",
    "example_output = example_output.strip() #this is to remove the extra new line in 10\n",
    "print(example_output)\n",
    "```"
   ]
  },
  {
   "cell_type": "markdown",
   "metadata": {},
   "source": [
    "#### Question 1&nbsp;&nbsp;&nbsp;&nbsp;&nbsp;&nbsp;(1 Point)\n",
    "Write a Python program to display integer numbers starting with 190 to 200 using while loops. Create the variable `output1` and use it inside the while loop to construct the string that you want to display at the end of the program.\n",
    "\n",
    "Expected Output:   \n",
    "190  \n",
    "191  \n",
    "192  \n",
    "193  \n",
    "194  \n",
    "195  \n",
    "196  \n",
    "197  \n",
    "198  \n",
    "199  \n",
    "200"
   ]
  },
  {
   "cell_type": "code",
   "execution_count": null,
   "metadata": {
    "tags": []
   },
   "outputs": [],
   "source": [
    "output1 = \"\"\n",
    "\n",
    "# Write your solution here\n",
    "temp = 190\n",
    "line_break = \"\\n\"\n",
    "while(temp <= 200):\n",
    "    output1 += str(temp) + line_break\n",
    "    temp += 1\n",
    "\n",
    "output1 = output1.strip()\n",
    "print(output1)\n"
   ]
  },
  {
   "cell_type": "markdown",
   "metadata": {},
   "source": [
    "#### Question 2&nbsp;&nbsp;&nbsp;&nbsp;&nbsp;&nbsp;(1 Point)\n",
    "Write a Python program to display the first 10 even numbers starting with 0 using while loops. Create the variable `output2` and use  it inside the while loop to construct the string that you want to display at the end of the program.\n",
    "\n",
    "*Note: The displayed string should be in the same format as in Q1. For clarity, the expected output is shown below.*\n",
    "\n",
    "Expected Output:\n",
    "<p>\n",
    "0<br> \n",
    "2<br> \n",
    "4<br> \n",
    "6<br> \n",
    "8<br> \n",
    "10<br> \n",
    "12<br>\n",
    "14<br> \n",
    "16<br> \n",
    "18\n",
    "</p>"
   ]
  },
  {
   "cell_type": "code",
   "execution_count": null,
   "metadata": {
    "tags": []
   },
   "outputs": [],
   "source": [
    "output2 = \"\"\n",
    "\n",
    "# Write your solution here\n",
    "temp = 0\n",
    "count = 0\n",
    "line_break = \"\\n\"\n",
    "while(count < 10):\n",
    "    output2 += str(temp) + line_break\n",
    "    count += 1\n",
    "    temp += 2\n",
    "\n",
    "output2 = output2.strip()\n",
    "print(output2)\n"
   ]
  },
  {
   "cell_type": "markdown",
   "metadata": {},
   "source": [
    "#### Question 3&nbsp;&nbsp;&nbsp;&nbsp;&nbsp;&nbsp;(1 Point)\n",
    "Write a Python program to display the following series using while loops: `30, 40, 50, 60, 70, 80, 90, ..., 300`. Create the variable `output3` and use  it inside the while loop to construct the string that you want to display at the end of the program.\n",
    "\n",
    "*Note: The displayed string should be in the same format as in Q1. For clarity, the expected output is shown below.*\n",
    "\n",
    "Expected Output:\n",
    "<p>\n",
    "30<br> \n",
    "40<br> \n",
    "50<br> \n",
    "60<br> \n",
    "70<br> \n",
    "80<br> \n",
    "90<br> \n",
    "...<br> \n",
    "300\n",
    "</p>"
   ]
  },
  {
   "cell_type": "code",
   "execution_count": null,
   "metadata": {
    "tags": []
   },
   "outputs": [],
   "source": [
    "output3 = \"\"\n",
    "\n",
    "# Write your solution here\n",
    "temp = 30\n",
    "line_break = \"\\n\"\n",
    "while(temp <= 300):\n",
    "    output3 += str(temp) + line_break\n",
    "    temp += 10\n",
    "\n",
    "output3 = output3.strip()\n",
    "print(output3)\n"
   ]
  },
  {
   "cell_type": "markdown",
   "metadata": {},
   "source": [
    "#### Question 4&nbsp;&nbsp;&nbsp;&nbsp;&nbsp;&nbsp;(1 Point)\n",
    "Write a Python program to display the squares of integer numbers divisible by 4 until 200 (inclusive) using while loops. Create the variable `output4` and use it inside the while loop to construct the string that you want to display at the end of the program. (Expected output series: 16, ..., 40000)\n",
    "\n",
    "*Note: The displayed string should be in the same format as in Q1.*"
   ]
  },
  {
   "cell_type": "code",
   "execution_count": null,
   "metadata": {
    "tags": []
   },
   "outputs": [],
   "source": [
    "output4 = \"\"\n",
    "\n",
    "# Write your solution here\n",
    "temp = 1\n",
    "line_break = \"\\n\"\n",
    "\n",
    "while temp <= 200:\n",
    "    if (temp % 4 == 0):\n",
    "        output4 += str(temp**2) + line_break\n",
    "    temp += 1\n",
    "\n",
    "output4 = output4.strip()\n",
    "print(output4)\n"
   ]
  },
  {
   "cell_type": "markdown",
   "metadata": {},
   "source": [
    "#### Question 5&nbsp;&nbsp;&nbsp;&nbsp;&nbsp;&nbsp;(1 Point)\n",
    "Write a Python program to print the following series using while loops: `120, 116, 112, ..., 36`. Create the variable `output5` and use it inside the while loop to construct the string that you want to display at the end of the program.\n",
    "\n",
    "*Note: The displayed string should be in the same format as in Q1.*"
   ]
  },
  {
   "cell_type": "code",
   "execution_count": null,
   "metadata": {
    "tags": []
   },
   "outputs": [],
   "source": [
    "output5 = \"\"\n",
    "\n",
    "# Write your solution here\n",
    "temp = 120\n",
    "line_break = \"\\n\"\n",
    "while temp >= 36:\n",
    "    output5 += str(temp) + line_break\n",
    "    temp -= 4\n",
    "\n",
    "output5 = output5.strip()\n",
    "print(output5)\n"
   ]
  },
  {
   "cell_type": "markdown",
   "metadata": {},
   "source": [
    "#### Question 6&nbsp;&nbsp;&nbsp;&nbsp;&nbsp;&nbsp;(3 Points)\n",
    "Write a Python program that adds all the odd numbers until 300 (inclusive) using while loops. Create the variable `ouput6` and use it inside the while loop for the calculations needed. Print `output6` at the end of the program to check if it works correctly."
   ]
  },
  {
   "cell_type": "code",
   "execution_count": null,
   "metadata": {
    "tags": []
   },
   "outputs": [],
   "source": [
    "output6 = 0\n",
    "\n",
    "# Write your solution here\n",
    "temp = 0\n",
    "while (temp <= 300):\n",
    "    if (temp % 2 != 0):\n",
    "        output6 += temp\n",
    "    temp += 1\n",
    "\n",
    "print(output6)\n"
   ]
  },
  {
   "cell_type": "markdown",
   "metadata": {},
   "source": [
    "#### Question 7&nbsp;&nbsp;&nbsp;&nbsp;&nbsp;&nbsp;(3 Points) \n",
    "Write a Python program to calculate the total of first 10 integer numbers using while loops. However, if the number is divisible by 5, do not use them to calculate the total value. Create the variable `output7` and use it inside the while loop for the calculations needed. [Expected output: 40]\n",
    "***\n",
    "<details>\n",
    "  <summary><span style=\"color:blue\">Click to see Hints</span></summary>\n",
    "    \n",
    "* You will need to use `continue` statement. This statement rejects all the remaining statements in the current iteration of the loop and moves the control back to the top of the loop.\n",
    "</details>"
   ]
  },
  {
   "cell_type": "code",
   "execution_count": null,
   "metadata": {
    "tags": []
   },
   "outputs": [],
   "source": [
    "output7 = 0\n",
    "\n",
    "# Write your solution here\n",
    "temp = 1\n",
    "while (temp <= 10):\n",
    "    if (temp % 5 != 0):\n",
    "        output7 += temp\n",
    "    temp += 1\n",
    "\n",
    "print(output7)\n"
   ]
  },
  {
   "cell_type": "markdown",
   "metadata": {},
   "source": [
    "#### Question 8&nbsp;&nbsp;&nbsp;&nbsp;&nbsp;&nbsp;(3 Points) \n",
    "Write a Python program to calculate the total of first 20 integer numbers using while loops. However, if the program encounters a number that is divisible by 10 between 1 to 20, stop looping at the very moment and  calculate the total value until that point (i.e., excluding the number that is divisible by 10 and the numbers after that are also excluded). Create the variables `output8` and use it in the program for the calculations needed. [Expected output: 45]\n",
    "***\n",
    "<details>\n",
    "  <summary><span style=\"color:blue\">Click to see Hints</span></summary>\n",
    "    \n",
    "* You will need to use `break` statement. This will terminate the current loop.\n",
    "</details>"
   ]
  },
  {
   "cell_type": "code",
   "execution_count": null,
   "metadata": {
    "tags": []
   },
   "outputs": [],
   "source": [
    "output8 = 0\n",
    "\n",
    "# Write your solution here\n",
    "temp = 1\n",
    "while (temp <= 20):\n",
    "    if (temp % 10 == 0):\n",
    "        break\n",
    "    output8 += temp\n",
    "    temp += 1\n",
    "print(output8)\n"
   ]
  },
  {
   "cell_type": "markdown",
   "metadata": {},
   "source": [
    "#### Question 9&nbsp;&nbsp;&nbsp;&nbsp;&nbsp;&nbsp;(3 Points)\n",
    "Write a Python program to display the average (rounded to two decimal places) of all the numbers which are divisible by 13 but not by 3 between 300 and 600.(exclusive both numbers) using while loop. Use the variable `output9` to assign the solution to it."
   ]
  },
  {
   "cell_type": "code",
   "execution_count": null,
   "metadata": {
    "tags": []
   },
   "outputs": [],
   "source": [
    "# Write your solution here\n",
    "temp = 301\n",
    "sum = 0\n",
    "total_numbers = 0;\n",
    "while (temp < 600):\n",
    "    if (temp % 13 == 0) and (temp % 3 != 0):\n",
    "        sum += temp\n",
    "        total_numbers += 1\n",
    "    temp += 1\n",
    "    \n",
    "output9 = sum/total_numbers\n",
    "output9 = round(output9, 2)\n",
    "print(output9)\n"
   ]
  },
  {
   "cell_type": "markdown",
   "metadata": {},
   "source": [
    "#### Question 10&nbsp;&nbsp;&nbsp;&nbsp;&nbsp;&nbsp;(3 Points)\n",
    "Write a Python program to display the following pattern using while loops. Create the variable `output10` and use it inside the while loop to construct the string that you want to display at the end of the program.\n",
    "<p>\n",
    "*<br>\n",
    "**<br>\n",
    "***<br>\n",
    "****<br>\n",
    "*****<br>\n",
    "</p>"
   ]
  },
  {
   "cell_type": "code",
   "execution_count": null,
   "metadata": {
    "tags": []
   },
   "outputs": [],
   "source": [
    "output10 = \"\"\n",
    "\n",
    "# Write your solution here\n",
    "row = 1\n",
    "temp = \"*\"\n",
    "line_break = \"\\n\"\n",
    "while (row <= 5):\n",
    "    output10 += temp*row + line_break\n",
    "    row += 1\n",
    "\n",
    "output10 = output10.strip()\n",
    "print(output10)\n"
   ]
  },
  {
   "cell_type": "markdown",
   "metadata": {},
   "source": [
    "#### Question 11&nbsp;&nbsp;&nbsp;&nbsp;&nbsp;&nbsp;(4 Points)\n",
    "Write a Python program to display the following pattern using while loops. Create the variable `output11` and use it inside the while loop to construct the string that you want to display at the end of the program.\n",
    "<p>\n",
    "1<br>\n",
    "22<br>\n",
    "333<br>\n",
    "4444<br>\n",
    "55555<br>\n",
    "666666<br>\n",
    "7777777<br>\n",
    "88888888<br>\n",
    "999999999<br>\n",
    "</p>"
   ]
  },
  {
   "cell_type": "code",
   "execution_count": null,
   "metadata": {
    "tags": []
   },
   "outputs": [],
   "source": [
    "output11 = \"\"\n",
    "\n",
    "# Write your solution here\n",
    "row = 1\n",
    "line_break = \"\\n\"\n",
    "\n",
    "while (row <= 9):\n",
    "    output11 += str(row)*row + line_break\n",
    "    row += 1\n",
    "    \n",
    "output11 = output11.strip()\n",
    "print(output11)\n"
   ]
  },
  {
   "cell_type": "markdown",
   "metadata": {},
   "source": [
    "#### Question 12&nbsp;&nbsp;&nbsp;&nbsp;&nbsp;&nbsp;(4 Points)\n",
    "Write a Python program to display numbers that are divisible by 9 and multiple of 5, between 1000 and 2000 (including 1000 and 2000) using while loops. Create the variable `output12` and use it inside the while loop to construct the string that you want to display at the end of the program.\n",
    "\n",
    "*Note: The displayed string should be in the same format as in Q1.*"
   ]
  },
  {
   "cell_type": "code",
   "execution_count": null,
   "metadata": {
    "tags": []
   },
   "outputs": [],
   "source": [
    "output12 = \"\"\n",
    "\n",
    "# Write your solution here\n",
    "temp = 1000\n",
    "line_break = \"\\n\"\n",
    "\n",
    "while (temp <= 2000):\n",
    "    if (temp % 9 == 0) and (temp % 5 == 0):\n",
    "        output12 += str(temp) + line_break\n",
    "    temp += 1\n",
    "    \n",
    "output12 = output12.strip()\n",
    "print(output12)\n"
   ]
  },
  {
   "cell_type": "markdown",
   "metadata": {},
   "source": [
    "#### Question 13&nbsp;&nbsp;&nbsp;&nbsp;&nbsp;&nbsp;(4 Points)\n",
    "Write a Python program that iterates from 200 to 250 (including both 200 and 250) using while loops and perform the following. Create the variable `output13` and use it inside the while loop to construct the string that you want to display at the end of the program.\n",
    "\n",
    "1. If a number is a multiply of 3, display \"NUMBER is a multiply of 3!\" (*Note: NUMBER should be replaced with the value at that iteration*)\n",
    "2. If a number is a multiply of 5, display \"NUMBER is a multiply of 5!\" (*Note: NUMBER should be replaced with the value at that iteration*)\n",
    "3. If a number is a multiply of 3 as well as multiply of 5, display \"NUMBER is a multiply of both 3 and 5!\" (*Note: NUMBER should be replaced with the value at that iteration*)\n",
    "\n",
    "*Note: The displayed string should be in the same format as in Q1.*"
   ]
  },
  {
   "cell_type": "code",
   "execution_count": null,
   "metadata": {
    "tags": []
   },
   "outputs": [],
   "source": [
    "output13 = \"\"\n",
    "\n",
    "# Write your solution here\n",
    "temp = 200\n",
    "while (temp <= 250):\n",
    "    if (temp % 3 == 0) and (temp % 5 == 0):\n",
    "        output13 += f\"{temp} is a multiply of both 3 and 5!\\n\"\n",
    "        \n",
    "    elif (temp % 3 == 0):\n",
    "        output13 += f\"{temp} is a multiply of 3!\\n\"\n",
    "        \n",
    "    elif (temp % 5 == 0):\n",
    "        output13 += f\"{temp} is a multiply of 5!\\n\"\n",
    "        \n",
    "    temp += 1\n",
    "\n",
    "output13 = output13.strip()\n",
    "print(output13)"
   ]
  },
  {
   "cell_type": "markdown",
   "metadata": {},
   "source": [
    "#### Question 14&nbsp;&nbsp;&nbsp;&nbsp;&nbsp;&nbsp;(4 Points)\n",
    "Create the variable `q14_num` and assign 1912 to it. Write a Python program to reverse `q14_num` using while loop and arithmetic operations. For example, if `q14_num` is 1912, the reversed number is 2191. Create the variable `output14` and assign the reversed number to it. However, if a user has mistakenly assign one digit number (i.e., 0-9) to `q14_num`, `output14`should be the string \"Please enter at least two digits to perform operations\". Print `output14` at the end of the prohram to check if it works correctly."
   ]
  },
  {
   "cell_type": "code",
   "execution_count": null,
   "metadata": {
    "tags": []
   },
   "outputs": [],
   "source": [
    "q14_num = 1912\n",
    "\n",
    "# Write your solution here\n",
    "if (q14_num >= 0 and q14_num <= 9):\n",
    "    output14 = \"Please enter at least two digits to perform operations\"\n",
    "else:\n",
    "    output14 = int(str(q14_num)[::-1])\n",
    "\n",
    "print(output14)\n"
   ]
  },
  {
   "cell_type": "markdown",
   "metadata": {},
   "source": [
    "#### Question 15 &nbsp;&nbsp;&nbsp;&nbsp;&nbsp;&nbsp;(4 Points) \n",
    "Write a Python program to display the series of `2, 22, 222, 2222, ..., n terms` till n terms using while loops.\n",
    "\n",
    "For this question, create `q15_n` variable (that represents `n` in the series) and assign 20 to it. Create the variable `output15` and use it inside the while loop to construct the string that you want to display at the end of the program.\n",
    "\n",
    "*Note: The displayed string should be in the same format as in Q1.*"
   ]
  },
  {
   "cell_type": "code",
   "execution_count": null,
   "metadata": {
    "tags": []
   },
   "outputs": [],
   "source": [
    "q15_n = 20\n",
    "output15 = \"\"\n",
    "\n",
    "# Write your solution here\n",
    "temp = 1\n",
    "line_break = \"\\n\"\n",
    "\n",
    "while (temp <= q15_n):\n",
    "    output15 += \"2\"*temp + line_break\n",
    "    temp += 1\n",
    "\n",
    "output15 = output15.strip()\n",
    "print(output15)\n"
   ]
  },
  {
   "cell_type": "markdown",
   "metadata": {},
   "source": [
    "#### Question 16 &nbsp;&nbsp;&nbsp;&nbsp;&nbsp;&nbsp;(4 Points)\n",
    "Write a Python program to find the sum of following series: 1 + 4 - 9 + 16 - 25 + 36 ... n terms.\n",
    "\n",
    "For this question, create `q16_n` variable (that represents `n` in the series) and assign 20 to it. Create the variable `output16` and assign the solution to it."
   ]
  },
  {
   "cell_type": "code",
   "execution_count": 3,
   "metadata": {
    "tags": []
   },
   "outputs": [
    {
     "name": "stdout",
     "output_type": "stream",
     "text": [
      "212\n"
     ]
    }
   ],
   "source": [
    "q16_n = 20\n",
    "\n",
    "# Write your solution here\n",
    "temp = 1\n",
    "output16 = 0\n",
    "while (temp <= q16_n):\n",
    "    \n",
    "    if (temp == 1):\n",
    "         output16 += temp**2\n",
    "            \n",
    "    elif (temp % 2 == 0):\n",
    "        output16 += temp**2\n",
    "        \n",
    "    else:\n",
    "        output16 -= temp**2\n",
    "        \n",
    "    temp += 1\n",
    "\n",
    "print(output16)"
   ]
  },
  {
   "cell_type": "markdown",
   "metadata": {},
   "source": [
    "#### Question 17 &nbsp;&nbsp;&nbsp;&nbsp;&nbsp;&nbsp;(6 Points)\n",
    " Write a Python program to calculate factorial using while loop. Create a variable `q17_input` and assign the number 191 to it. To calculate the factorial use the following guidelines. Create a variable `output17` and assign the solution to it.\n",
    "\n",
    "* Factorial of number n is represented by `n!` and it is equal to `1*2*3*....*(n-1)*n`. For example, `4!` = `1*2*3*4` = 24\n",
    "* Note that 1! = 1 and 0! = 1"
   ]
  },
  {
   "cell_type": "code",
   "execution_count": null,
   "metadata": {
    "tags": []
   },
   "outputs": [],
   "source": [
    "q17_input = 191\n",
    "\n",
    "# Write your solution here\n",
    "output17 = 1\n",
    "if (q17_input == 0):\n",
    "    output17 = 0\n",
    "else:\n",
    "    temp = 1\n",
    "    while (temp <= q17_input):\n",
    "        output17 *= temp\n",
    "        temp += 1\n",
    "        \n",
    "print(output17)\n"
   ]
  },
  {
   "cell_type": "markdown",
   "metadata": {},
   "source": [
    "#### Question 18 &nbsp;&nbsp;&nbsp;&nbsp;&nbsp;&nbsp;(6 Points)\n",
    "Write a Python program to display the following pattern using while loops. Create the variable `output18` and use it inside the while loop to construct the string that you want to display at the end of the program.\n",
    "<p>\n",
    "    &nbsp;&nbsp;&nbsp;&nbsp;*  <br>\n",
    "  &nbsp;&nbsp;&nbsp;*** <br>\n",
    "  &nbsp;&nbsp;***** <br>\n",
    "&nbsp;******* <br>\n",
    "********* <br>\n",
    "&nbsp;******* <br>\n",
    "&nbsp;&nbsp;***** <br>\n",
    "   &nbsp;&nbsp;&nbsp;*** <br>\n",
    "    &nbsp;&nbsp;&nbsp;&nbsp;*  <br>\n",
    "</p>\n",
    "\n",
    "***\n",
    "<details>\n",
    "  <summary><span style=\"color:blue\">Click to see Hints</span></summary>\n",
    "    \n",
    "* You may need to use two while loops to print the first half and second half of the pattern.\n",
    "* You may need to use `break` statement as practiced in Question 8.\n",
    "</details>"
   ]
  },
  {
   "cell_type": "code",
   "execution_count": null,
   "metadata": {
    "tags": []
   },
   "outputs": [],
   "source": [
    "output18 = \"\"\n",
    "\n",
    "# Write your solution here\n",
    "\n",
    "import math\n",
    "\n",
    "# init value\n",
    "row = 1\n",
    "number_of_wildcards = 1\n",
    "space = \" \"\n",
    "wildcard = \"*\"\n",
    "\n",
    "# Change max number of wildcards\n",
    "max_wildcards = 9\n",
    "half_rows = math.ceil(max_wildcards/2)\n",
    "\n",
    "while (row <= max_wildcards):\n",
    "    \n",
    "    if (row <= half_rows):\n",
    "        # First half\n",
    "        while (number_of_wildcards % 2 == 0):\n",
    "            number_of_wildcards += 1\n",
    "\n",
    "        number_of_spaces_beginning_ending = int((max_wildcards - number_of_wildcards) / 2)\n",
    "        output18 += space * number_of_spaces_beginning_ending +  wildcard * number_of_wildcards + space * number_of_spaces_beginning_ending + \"\\n\"\n",
    "        number_of_wildcards += 1\n",
    "        \n",
    "    else:\n",
    "        # Second half\n",
    "        while (number_of_wildcards % 2 == 0 or number_of_wildcards == max_wildcards):\n",
    "            number_of_wildcards -= 1\n",
    "\n",
    "        number_of_spaces_beginning_ending = int((max_wildcards - number_of_wildcards) / 2)\n",
    "        output18 += space * number_of_spaces_beginning_ending +  wildcard * number_of_wildcards + space * number_of_spaces_beginning_ending + \"\\n\"\n",
    "        number_of_wildcards -= 1\n",
    "    \n",
    "    row += 1\n",
    "\n",
    "output18 = output18.rstrip()\n",
    "print(output18)"
   ]
  },
  {
   "cell_type": "markdown",
   "metadata": {},
   "source": [
    "#### Question 19 &nbsp;&nbsp;&nbsp;&nbsp;&nbsp;&nbsp;(6 Points)\n",
    "Write a Python program to reverse a given number using while loop. Create a variable `q19_input` and assign the number 121019200109 to it. Use the variable `output19` and assign the solution to it."
   ]
  },
  {
   "cell_type": "code",
   "execution_count": null,
   "metadata": {
    "tags": []
   },
   "outputs": [],
   "source": [
    "q19_input = 121019200109\n",
    "\n",
    "# Write your solution here\n",
    "output19 = \"\"\n",
    "while (q19_input > 0):\n",
    "    temp = q19_input % 10\n",
    "    output19 += str(temp)\n",
    "    q19_input = q19_input // 10\n",
    "\n",
    "output19 = int(output19)\n",
    "\n",
    "print(output19)"
   ]
  },
  {
   "cell_type": "markdown",
   "metadata": {},
   "source": [
    "#### Question 20 &nbsp;&nbsp;&nbsp;&nbsp;&nbsp;&nbsp;(6 Points)\n",
    "Write a Python program to find the sum of the following series using a while loop.  \n",
    "$1 +\\frac{y}{1!} + \\frac{y^2}{2!} + ... + \\frac{y^n}{n!}$\n",
    "\n",
    "Use the following guidelines when developing the program.\n",
    "\n",
    "* Create two variables `q20_y` and `q20_n` and assign the values 6 and 26 (Note that `q20_y` and `q20_n` represent `y` and `n` in the above-mentioned series).\n",
    "* The sum should be ronded to the nearest integer value. Create the variable `output20` and assign the solution to it."
   ]
  },
  {
   "cell_type": "code",
   "execution_count": null,
   "metadata": {
    "tags": []
   },
   "outputs": [],
   "source": [
    "q20_y, q20_n = 6, 26\n",
    "\n",
    "# Write your solution here\n",
    "temp_n = 1\n",
    "output20 = 1\n",
    "\n",
    "while (temp_n <= q20_n):\n",
    "    # Calculate factorial number of temp_n\n",
    "    index = 1\n",
    "    fractorial_of_temp_n = 1\n",
    "    \n",
    "    while (index <= temp_n):\n",
    "        fractorial_of_temp_n *= index\n",
    "        index += 1\n",
    "    \n",
    "    # Calculate output20\n",
    "    output20 += (q20_y**temp_n)/fractorial_of_temp_n\n",
    "    \n",
    "    # Increase temp_n by 1\n",
    "    temp_n += 1\n",
    "\n",
    "# The sum should be ronded to the nearest integer value\n",
    "output20 = int(round(output20, 0))\n",
    "print(output20)\n"
   ]
  },
  {
   "cell_type": "markdown",
   "metadata": {},
   "source": [
    "#### Question 21 &nbsp;&nbsp;&nbsp;&nbsp;&nbsp;&nbsp;(6 Points)\n",
    "Write a Python program to check whether a number is palindrome or not using while loop.\n",
    "Palindrome is a sequence which reads the same backward as forward. Examples of palindromes are mentioned below.\n",
    "* 12344321\n",
    "* 2002\n",
    "* 19191\n",
    "\n",
    "Create the variable `q21_input` and assign 12123454321 to it. If `q21_input` is a palindrome assign the string \"This is a palindrome\" to `output21`. Otherwise, `output21` should be \"This is not a palindrome\""
   ]
  },
  {
   "cell_type": "code",
   "execution_count": null,
   "metadata": {
    "tags": []
   },
   "outputs": [],
   "source": [
    "q21_input = 12123454321\n",
    "\n",
    "# Write your solution here\n",
    "revert_of_q21_input = int(str(q21_input)[::-1])\n",
    "if (q21_input == revert_of_q21_input):\n",
    "    output21 = \"This is a palindrome\"\n",
    "else:\n",
    "    output21 = \"This is not a palindrome\"\n",
    "    \n",
    "print(output21)\n"
   ]
  },
  {
   "cell_type": "markdown",
   "metadata": {},
   "source": [
    "#### Question 22 &nbsp;&nbsp;&nbsp;&nbsp;&nbsp;&nbsp;(6 Points)\n",
    "Write a Python program that displays sum of odd numbers and even numbers separately that fall between two given numbers `q22_num1` and `q22_num2` (including both numbers) using while loop. Use the following guidelines to develop this program.\n",
    "\n",
    "* For this question, assign the values 21 and 9 to the two variables `q22_num1` and `q22_num2`, respectively.\n",
    "* Use the two variables `output22_odd` and `output22_even` to assign the sum of odd numbers and the sum of even numbers, respectively."
   ]
  },
  {
   "cell_type": "code",
   "execution_count": null,
   "metadata": {
    "tags": []
   },
   "outputs": [],
   "source": [
    "q22_num1 = 21\n",
    "q22_num2 = 9\n",
    "\n",
    "# Write your solution here\n",
    "q22_max = max(q22_num1, q22_num2)\n",
    "q22_min = min(q22_num1, q22_num2)\n",
    "\n",
    "output22_odd = 0\n",
    "output22_even = 0\n",
    "temp = q22_min\n",
    "while (temp <= q22_max):\n",
    "    if (temp % 2 == 0):\n",
    "        output22_even += temp\n",
    "    else:\n",
    "        output22_odd += temp\n",
    "    temp += 1\n",
    "\n",
    "print(output22_even)\n",
    "print(output22_odd)\n"
   ]
  },
  {
   "cell_type": "markdown",
   "metadata": {},
   "source": [
    "#### Question 23 &nbsp;&nbsp;&nbsp;&nbsp;&nbsp;&nbsp;(10 Points)\n",
    "Write a Python program to display the following pattern using while loops. Create the variable `output23` and use it inside the while loop to construct the string that you want to display at the end of the program.\n",
    "<p>\n",
    " &nbsp;***<br>                                                                 \n",
    " *&nbsp;&nbsp;&nbsp;*<br>                                                                  \n",
    " *&nbsp;&nbsp;&nbsp;*<br>                                                                  \n",
    " *&nbsp;&nbsp;&nbsp;*<br>                                                                  \n",
    " *&nbsp;&nbsp;&nbsp;*<br>                                                                  \n",
    " *&nbsp;&nbsp;&nbsp;*<br>                                                                  \n",
    "&nbsp;*** \n",
    "</p>"
   ]
  },
  {
   "cell_type": "code",
   "execution_count": null,
   "metadata": {
    "scrolled": true,
    "tags": []
   },
   "outputs": [],
   "source": [
    "output23 = \"\" \n",
    "\n",
    "# Write your solution here\n",
    "row = 7\n",
    "temp = 1\n",
    "while (temp <= row):\n",
    "    if (temp == 1):\n",
    "        output23 += \"  ***  \" + \"\\n\"\n",
    "    elif (temp == row):\n",
    "        output23 += \"  ***\"\n",
    "    else:\n",
    "        output23 += \" *   * \" + \"\\n\"\n",
    "    temp += 1\n",
    "\n",
    "print(output23)"
   ]
  },
  {
   "cell_type": "markdown",
   "metadata": {},
   "source": [
    "#### Question 24 &nbsp;&nbsp;&nbsp;&nbsp;&nbsp;&nbsp;(10 Points)\n",
    "Write a Python program to display the following pattern using while loops. Create the variable `output24` and use it inside the while loop to construct the string that you want to display at the end of the program.\n",
    "\n",
    "<p>\n",
    "    * * * * *<br> \n",
    "&nbsp;* * * *<br> \n",
    "&nbsp;&nbsp;* * *<br> \n",
    "&nbsp;&nbsp;&nbsp;* *<br> \n",
    "&nbsp;&nbsp;&nbsp;&nbsp;*<br> \n",
    "&nbsp;&nbsp;&nbsp;&nbsp;*<br> \n",
    "&nbsp;&nbsp;&nbsp;* *<br> \n",
    "&nbsp;&nbsp;* * *<br> \n",
    "&nbsp;* * * *<br> \n",
    "* * * * *<br>\n",
    "</p>"
   ]
  },
  {
   "cell_type": "code",
   "execution_count": null,
   "metadata": {
    "tags": []
   },
   "outputs": [],
   "source": [
    "output24 = \"\"\n",
    "\n",
    "# Write your solution here\n",
    "\n",
    "import math\n",
    "\n",
    "# init value\n",
    "space = \" \"\n",
    "wildcard = \"*\"\n",
    "sample_line = \"\"\n",
    "\n",
    "# Change max number of wildcards\n",
    "max_wildcards = 5\n",
    "\n",
    "# generate sample line (line with max wildcards)\n",
    "temp = 1\n",
    "while (temp <= max_wildcards):\n",
    "    sample_line += wildcard + space\n",
    "    temp += 1\n",
    "max_length = len(sample_line)\n",
    "\n",
    "# generate first half of output24\n",
    "number_of_wildcards = 0\n",
    "temp_line = sample_line\n",
    "# First half\n",
    "while (number_of_wildcards < max_wildcards):\n",
    "    if (number_of_wildcards != 0):\n",
    "        # Calculate new sample line\n",
    "        temp_line = temp_line[number_of_wildcards + 1:len(temp_line)]\n",
    "        \n",
    "        # Add space into sample line\n",
    "        temp_line = space*number_of_wildcards + temp_line\n",
    "        \n",
    "    output24 += temp_line + \"\\n\"\n",
    "    number_of_wildcards += 1\n",
    "\n",
    "# Append reverse of output24\n",
    "splits = output24.split(\"\\n\")\n",
    "index = len(splits) - 1\n",
    "\n",
    "while (index >= 0):\n",
    "    if (splits[index] != \"\"):\n",
    "        output24 += splits[index] + \"\\n\"\n",
    "    index -= 1\n",
    "\n",
    "output24 = output24.rstrip()\n",
    "print(output24)"
   ]
  }
 ],
 "metadata": {
  "celltoolbar": "Edit Metadata",
  "kernelspec": {
   "display_name": "Python 3 (ipykernel)",
   "language": "python",
   "name": "python3"
  },
  "language_info": {
   "codemirror_mode": {
    "name": "ipython",
    "version": 3
   },
   "file_extension": ".py",
   "mimetype": "text/x-python",
   "name": "python",
   "nbconvert_exporter": "python",
   "pygments_lexer": "ipython3",
   "version": "3.9.7"
  },
  "otter": {
   "tests": {
    "Question 01": {
     "name": "Question 01",
     "points": 1,
     "suites": [
      {
       "cases": [],
       "scored": true,
       "setup": "",
       "teardown": "",
       "type": "doctest"
      }
     ]
    },
    "Question 02": {
     "name": "Question 02",
     "points": 1,
     "suites": [
      {
       "cases": [],
       "scored": true,
       "setup": "",
       "teardown": "",
       "type": "doctest"
      }
     ]
    },
    "Question 03": {
     "name": "Question 03",
     "points": 1,
     "suites": [
      {
       "cases": [],
       "scored": true,
       "setup": "",
       "teardown": "",
       "type": "doctest"
      }
     ]
    },
    "Question 04": {
     "name": "Question 04",
     "points": 1,
     "suites": [
      {
       "cases": [],
       "scored": true,
       "setup": "",
       "teardown": "",
       "type": "doctest"
      }
     ]
    },
    "Question 05": {
     "name": "Question 05",
     "points": 1,
     "suites": [
      {
       "cases": [],
       "scored": true,
       "setup": "",
       "teardown": "",
       "type": "doctest"
      }
     ]
    },
    "Question 06": {
     "name": "Question 06",
     "points": 3,
     "suites": [
      {
       "cases": [],
       "scored": true,
       "setup": "",
       "teardown": "",
       "type": "doctest"
      }
     ]
    },
    "Question 07": {
     "name": "Question 07",
     "points": 3,
     "suites": [
      {
       "cases": [],
       "scored": true,
       "setup": "",
       "teardown": "",
       "type": "doctest"
      }
     ]
    },
    "Question 08": {
     "name": "Question 08",
     "points": 3,
     "suites": [
      {
       "cases": [],
       "scored": true,
       "setup": "",
       "teardown": "",
       "type": "doctest"
      }
     ]
    },
    "Question 09": {
     "name": "Question 09",
     "points": 3,
     "suites": [
      {
       "cases": [],
       "scored": true,
       "setup": "",
       "teardown": "",
       "type": "doctest"
      }
     ]
    },
    "Question 10": {
     "name": "Question 10",
     "points": 3,
     "suites": [
      {
       "cases": [],
       "scored": true,
       "setup": "",
       "teardown": "",
       "type": "doctest"
      }
     ]
    },
    "Question 11": {
     "name": "Question 11",
     "points": 4,
     "suites": [
      {
       "cases": [],
       "scored": true,
       "setup": "",
       "teardown": "",
       "type": "doctest"
      }
     ]
    },
    "Question 12": {
     "name": "Question 12",
     "points": 4,
     "suites": [
      {
       "cases": [],
       "scored": true,
       "setup": "",
       "teardown": "",
       "type": "doctest"
      }
     ]
    },
    "Question 13": {
     "name": "Question 13",
     "points": 4,
     "suites": [
      {
       "cases": [],
       "scored": true,
       "setup": "",
       "teardown": "",
       "type": "doctest"
      }
     ]
    },
    "Question 14": {
     "name": "Question 14",
     "points": 4,
     "suites": [
      {
       "cases": [],
       "scored": true,
       "setup": "",
       "teardown": "",
       "type": "doctest"
      }
     ]
    },
    "Question 15": {
     "name": "Question 15",
     "points": 4,
     "suites": [
      {
       "cases": [],
       "scored": true,
       "setup": "",
       "teardown": "",
       "type": "doctest"
      }
     ]
    },
    "Question 16": {
     "name": "Question 16",
     "points": 4,
     "suites": [
      {
       "cases": [],
       "scored": true,
       "setup": "",
       "teardown": "",
       "type": "doctest"
      }
     ]
    },
    "Question 17": {
     "name": "Question 17",
     "points": 6,
     "suites": [
      {
       "cases": [],
       "scored": true,
       "setup": "",
       "teardown": "",
       "type": "doctest"
      }
     ]
    },
    "Question 18": {
     "name": "Question 18",
     "points": 6,
     "suites": [
      {
       "cases": [],
       "scored": true,
       "setup": "",
       "teardown": "",
       "type": "doctest"
      }
     ]
    },
    "Question 19": {
     "name": "Question 19",
     "points": 6,
     "suites": [
      {
       "cases": [],
       "scored": true,
       "setup": "",
       "teardown": "",
       "type": "doctest"
      }
     ]
    },
    "Question 20": {
     "name": "Question 20",
     "points": 6,
     "suites": [
      {
       "cases": [],
       "scored": true,
       "setup": "",
       "teardown": "",
       "type": "doctest"
      }
     ]
    },
    "Question 21": {
     "name": "Question 21",
     "points": 6,
     "suites": [
      {
       "cases": [],
       "scored": true,
       "setup": "",
       "teardown": "",
       "type": "doctest"
      }
     ]
    },
    "Question 22": {
     "name": "Question 22",
     "points": 6,
     "suites": [
      {
       "cases": [
        {
         "code": ">>> output22_even\n90",
         "hidden": false,
         "locked": false
        }
       ],
       "scored": true,
       "setup": "",
       "teardown": "",
       "type": "doctest"
      }
     ]
    },
    "Question 23": {
     "name": "Question 23",
     "points": 10,
     "suites": [
      {
       "cases": [],
       "scored": true,
       "setup": "",
       "teardown": "",
       "type": "doctest"
      }
     ]
    },
    "Question 24": {
     "name": "Question 24",
     "points": 10,
     "suites": [
      {
       "cases": [],
       "scored": true,
       "setup": "",
       "teardown": "",
       "type": "doctest"
      }
     ]
    }
   }
  },
  "varInspector": {
   "cols": {
    "lenName": 16,
    "lenType": 16,
    "lenVar": 40
   },
   "kernels_config": {
    "python": {
     "delete_cmd_postfix": "",
     "delete_cmd_prefix": "del ",
     "library": "var_list.py",
     "varRefreshCmd": "print(var_dic_list())"
    },
    "r": {
     "delete_cmd_postfix": ") ",
     "delete_cmd_prefix": "rm(",
     "library": "var_list.r",
     "varRefreshCmd": "cat(var_dic_list()) "
    }
   },
   "types_to_exclude": [
    "module",
    "function",
    "builtin_function_or_method",
    "instance",
    "_Feature"
   ],
   "window_display": false
  }
 },
 "nbformat": 4,
 "nbformat_minor": 4
}
