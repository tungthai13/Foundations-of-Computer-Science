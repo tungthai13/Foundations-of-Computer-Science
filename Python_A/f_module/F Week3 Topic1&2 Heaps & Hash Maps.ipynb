{
 "cells": [
  {
   "cell_type": "code",
   "execution_count": null,
   "metadata": {
    "ExecuteTime": {
     "end_time": "2022-03-28T09:26:13.782010Z",
     "start_time": "2022-03-28T09:26:13.068747Z"
    }
   },
   "outputs": [],
   "source": [
    "import pandas as pd\n",
    "import numpy as np\n",
    "%matplotlib inline\n",
    "import otter\n",
    "grader = otter.Notebook()"
   ]
  },
  {
   "cell_type": "markdown",
   "metadata": {},
   "source": [
    "# F | Week 2: Practice Heaps & Hash Maps\n",
    "\n",
    "### Do not forget to try these practice questions using all the different implemetation methods you learned in the course.\n",
    "\n",
    "------\n",
    "\n",
    "### Instructions:\n",
    "\n",
    "- Complete 50 points worth of questions to pass the assessment\n",
    "  - You can attempt any number of questions and in any order provided you pass at least 50 points.\n",
    "- Develop and check your answers in the spaces provided.\n",
    "  - Do not remove any variables other provided markings already present in the answer spaces.\n",
    "  - Do not make any changes to this notebook outside of the answer spaces provided.\n",
    "  \n",
    "#### Submitting\n",
    "\n",
    "- Upload your .ipynb file to Gradescope (Make sure to restart the kernel and run all before you submit)\n",
    "- You can submit as many times as needed\n",
    "- When reviewing results, ignore any results listed under \"Public Tests\"\n",
    "\n",
    "For more information, see the assessment page. We have also provided an example question below for clarity. "
   ]
  },
  {
   "cell_type": "markdown",
   "metadata": {},
   "source": [
    "#### Question 1&nbsp;&nbsp;&nbsp;&nbsp;&nbsp;&nbsp;(10 Points)\n",
    "Write a Python program to get the k most frequent elements from a given non-empty list of words using heapq. Use the function `q1_top_k_frequent()`, which returns the k most frequent elements. Check whether your function works correctly by using the function call `q1_top_k_frequent(q1_lst, 3)`. The q1_lst is `['y', 'john', 'y', 'danise', 'john', 'y', 'john', 'y', 'david', 'mn', 'mn']` and the output of this function call should be ['y', 'john', 'mn']. "
   ]
  },
  {
   "cell_type": "code",
   "execution_count": 111,
   "metadata": {
    "ExecuteTime": {
     "end_time": "2022-03-28T08:13:13.775211Z",
     "start_time": "2022-03-28T08:13:13.754711Z"
    },
    "tags": []
   },
   "outputs": [
    {
     "data": {
      "text/plain": [
       "['y', 'john', 'mn']"
      ]
     },
     "execution_count": 111,
     "metadata": {},
     "output_type": "execute_result"
    }
   ],
   "source": [
    "# Write your solution here\n",
    "import heapq\n",
    "\n",
    "class Q1_Class:\n",
    "    def __init__(self, value, frequent = 0):\n",
    "        self.value = value\n",
    "        self.frequent = frequent\n",
    "        \n",
    "    def __lt__(self, other):\n",
    "        return self.frequent < other.frequent\n",
    "    \n",
    "    def __str__(self):\n",
    "        return \"Value = \" + str(self.value) + \", frequent = \" + str(self.frequent)\n",
    "    def __repr__(self):\n",
    "        return \"(\" + str(self.value) + \":\" + str(self.frequent) + \")\"\n",
    "\n",
    "def q1_top_k_frequent(my_list, k_number):\n",
    "    \n",
    "    dictionary = {}\n",
    "    for item in my_list:\n",
    "        if item not in dictionary:\n",
    "            dictionary[item] = 1\n",
    "        else:\n",
    "            dictionary[item] += 1\n",
    "            \n",
    "    list_q1_class = [Q1_Class(key, value) for key, value in dictionary.items()]\n",
    "    \n",
    "    # Create heapq\n",
    "    heapq.heapify(list_q1_class)\n",
    "    \n",
    "    # Get 3 largest\n",
    "    result = heapq.nlargest(3, list_q1_class)\n",
    "    result = [item.value for item in result]\n",
    "    \n",
    "    return result\n",
    "q1_lst = ['y', 'john', 'y', 'danise', 'john', 'y', 'john', 'y', 'david', 'mn', 'mn']\n",
    "q1_top_k_frequent(q1_lst, 3)\n"
   ]
  },
  {
   "cell_type": "markdown",
   "metadata": {},
   "source": [
    "#### Question 2&nbsp;&nbsp;&nbsp;&nbsp;&nbsp;&nbsp;(10 Points)\n",
    "Write a Python program to merge below-mentioned sorted inputs into a single sorted iterator (over the sorted values) using heapq. Create the variable `q2_output` and assign the soluion as a list to it.\n",
    "```\n",
    "q2_num1 = [25, 24, 15, 4, 5, 29, 110]\n",
    "q2_num2 = [19, 20, 11, 56, 25, 233, 154]\n",
    "q2_num3 = [24, 26, 54, 48]\n",
    "```\n",
    "Hint: Use `merge` in heapq."
   ]
  },
  {
   "cell_type": "code",
   "execution_count": 112,
   "metadata": {
    "ExecuteTime": {
     "end_time": "2022-03-28T23:24:01.886602Z",
     "start_time": "2022-03-28T23:24:01.865661Z"
    },
    "scrolled": true,
    "tags": []
   },
   "outputs": [
    {
     "name": "stdout",
     "output_type": "stream",
     "text": [
      "[4, 5, 11, 15, 19, 20, 24, 24, 25, 25, 26, 29, 48, 54, 56, 110, 154, 233]\n"
     ]
    }
   ],
   "source": [
    "# Write your solution here\n",
    "q2_num1 = [25, 24, 15, 4, 5, 29, 110]\n",
    "q2_num2 = [19, 20, 11, 56, 25, 233, 154]\n",
    "q2_num3 = [24, 26, 54, 48]\n",
    "\n",
    "q2_num1.sort()\n",
    "q2_num2.sort()\n",
    "q2_num3.sort()\n",
    "\n",
    "q2_output = list(heapq.merge(q2_num1, q2_num2, q2_num3))\n",
    "print(q2_output)"
   ]
  },
  {
   "cell_type": "markdown",
   "metadata": {},
   "source": [
    "#### Question 3&nbsp;&nbsp;&nbsp;&nbsp;&nbsp;&nbsp;(10 Points)\n",
    "Write a Python program to check if the letters of a given string can be rearranged so that two characters that are adjacent to each other are different using heapq. Use the function `q3_string` to perform this, which returns the modified string.\n",
    "\n",
    "Mentioned below are some examples\n",
    "```\n",
    "q3_string(\"aab\") #returns aba\n",
    "q3_string(\"abc\") #returns abc\n",
    "q3_string(\"aabb\") #returns abab\n",
    "```"
   ]
  },
  {
   "cell_type": "code",
   "execution_count": 38,
   "metadata": {
    "ExecuteTime": {
     "end_time": "2022-03-28T23:25:21.296007Z",
     "start_time": "2022-03-28T23:25:21.281020Z"
    },
    "tags": []
   },
   "outputs": [
    {
     "name": "stdout",
     "output_type": "stream",
     "text": [
      "aba\n",
      "abc\n",
      "abab\n"
     ]
    }
   ],
   "source": [
    "# Write your solution here\n",
    "def q3_string(string):\n",
    "    dictionary = {}\n",
    "    for item in string:\n",
    "        if item not in dictionary:\n",
    "            dictionary[item] = 1\n",
    "        else:\n",
    "            dictionary[item] += 1\n",
    "    \n",
    "    heap = [(-value, key) for key, value in dictionary.items()]\n",
    "    \n",
    "    heapq.heapify(heap)\n",
    "    if (-heap[0][0]) * 2 > len(string) + 1: \n",
    "        return \"\"\n",
    "    \n",
    "    result = []\n",
    "    while len(heap) >= 2:\n",
    "        char_counter_1, char1 = heapq.heappop(heap)\n",
    "        char_counter_2, char2 = heapq.heappop(heap)\n",
    "        \n",
    "        result.extend([char1, char2])\n",
    "        \n",
    "        if char_counter_1 != -1: \n",
    "            heapq.heappush(heap, (char_counter_1 + 1, char1))\n",
    "        if char_counter_2 != -1: \n",
    "            heapq.heappush(heap, (char_counter_2 + 1, char2))\n",
    "            \n",
    "    return \"\".join(result) + (heap[0][1] if heap else \"\")\n",
    "\n",
    "print(q3_string(\"aab\"))\n",
    "print(q3_string(\"abc\"))\n",
    "print(q3_string(\"aabb\"))"
   ]
  },
  {
   "cell_type": "markdown",
   "metadata": {},
   "source": [
    "#### Question 4&nbsp;&nbsp;&nbsp;&nbsp;&nbsp;&nbsp;(10 Points)\n",
    "Write a Python program to compute the median of all elements in a list using heapq. Use the function `q4_median`, which returns the median value as a float. Mentioned below are some examples.\n",
    "```\n",
    "q4_median([1, 2]) #returns 1.5\n",
    "q4_median([1, 2, 3]) #returns 2.0\n",
    "q4_median([1, 2, 3, 4, 5]) #returns 3.0\n",
    "```"
   ]
  },
  {
   "cell_type": "code",
   "execution_count": 39,
   "metadata": {
    "ExecuteTime": {
     "end_time": "2022-03-28T23:29:22.345970Z",
     "start_time": "2022-03-28T23:29:22.329287Z"
    },
    "tags": []
   },
   "outputs": [
    {
     "name": "stdout",
     "output_type": "stream",
     "text": [
      "1.5\n",
      "2.0\n",
      "3.0\n"
     ]
    }
   ],
   "source": [
    "# Write your solution here\n",
    "def q4_median(list_numbers):\n",
    "    \n",
    "    if len(list_numbers) == 0:\n",
    "        return 0\n",
    "    \n",
    "    heapq.heapify(list_numbers)\n",
    "    \n",
    "    summary = 0\n",
    "    number_of_items = len(list_numbers)\n",
    "    \n",
    "    while len(list_numbers) > 0:\n",
    "        summary += heapq.heappop(list_numbers)\n",
    "        \n",
    "    return summary/number_of_items\n",
    "\n",
    "print(q4_median([1, 2])) #returns 1.5\n",
    "print(q4_median([1, 2, 3])) #returns 2.0\n",
    "print(q4_median([1, 2, 3, 4, 5])) #returns 3.0"
   ]
  },
  {
   "cell_type": "markdown",
   "metadata": {},
   "source": [
    "#### Question 5&nbsp;&nbsp;&nbsp;&nbsp;&nbsp;&nbsp;(10 Points)\n",
    "Suppose that you are given two sorted integer lists in ascending order and an integer k. Write a Python program to find k number of smallest pairs (m, n), which consists of one element from the first list and one element from the second list using heapq. Use the function `q5_minimumpairs(num1, num2, k)`, which returns the pairs as a list of lists.\n",
    "\n",
    "For example, given the following, the output should be [[1, 2], [1, 4]].\n",
    "```\n",
    "q5_num1 = [1,3,7]\n",
    "q5_num2 = [2,4,6]\n",
    "q5_k = 2\n",
    "```"
   ]
  },
  {
   "cell_type": "code",
   "execution_count": 113,
   "metadata": {
    "ExecuteTime": {
     "end_time": "2022-03-28T23:39:29.623205Z",
     "start_time": "2022-03-28T23:39:29.616253Z"
    },
    "tags": []
   },
   "outputs": [
    {
     "name": "stdout",
     "output_type": "stream",
     "text": [
      "[[1, 2], [1, 4]]\n"
     ]
    }
   ],
   "source": [
    "# Write your solution here\n",
    "from itertools import product\n",
    "\n",
    "q5_num1 = [1,3,7]\n",
    "q5_num2 = [2,4,6]\n",
    "q5_k = 2\n",
    "\n",
    "def q5_minimumpairs(num1, num2, k):\n",
    "    list_of_pairs = list(product(num1, num2))\n",
    "    \n",
    "    list_of_pairs = [list(item) for item in list_of_pairs]\n",
    "    \n",
    "    heapq.heapify(list_of_pairs)\n",
    "    \n",
    "    result = heapq.nsmallest(2, list_of_pairs)\n",
    "    \n",
    "    return result\n",
    "    \n",
    "print(q5_minimumpairs(q5_num1, q5_num2, q5_k))"
   ]
  },
  {
   "cell_type": "markdown",
   "metadata": {},
   "source": [
    "#### Question 6&nbsp;&nbsp;&nbsp;&nbsp;&nbsp;&nbsp;(10 Points)\n",
    "Suppose you are given n ropes of different lengths, where you need to connect these ropes into one rope. The cost to connect two ropes is equal to the sum of their lengths. You need to connect the ropes with minimum cost.\n",
    "\n",
    "For example, given 4 ropes of lengths 4, 3, 2, and 6 (i.e., [4, 3, 2, 6]), you can connect the ropes in the following ways to get the minimum cost. \n",
    "- First, connect ropes of lengths 2 and 3. Now you have three ropes of lengths 4, 6, and 5. \n",
    "- Now connect ropes of lengths 4 and 5. Now you have two ropes of lengths 6 and 9. \n",
    "- Finally connect the two ropes and all ropes have connected.\n",
    "\n",
    "Total cost for connecting all ropes is 5 + 9 + 15 = 29. This is the optimised cost for connecting ropes. Use priority queues to implement this. Use the fnction `q6_mincost(lst)`, which returns the minimum cost."
   ]
  },
  {
   "cell_type": "code",
   "execution_count": 120,
   "metadata": {
    "ExecuteTime": {
     "end_time": "2022-03-28T23:48:06.994956Z",
     "start_time": "2022-03-28T23:48:06.983971Z"
    },
    "tags": []
   },
   "outputs": [
    {
     "name": "stdout",
     "output_type": "stream",
     "text": [
      "29\n"
     ]
    }
   ],
   "source": [
    "# Write your solution here\n",
    "def q6_mincost(lst):\n",
    "    heapq.heapify(lst)\n",
    "    \n",
    "    total_cost = 0\n",
    "    while len(lst) != 0:\n",
    "        minimum_cost_1 = heapq.heappop(lst)\n",
    "        minimum_cost_2 = heapq.heappop(lst)\n",
    "        minimum_cost = minimum_cost_1 + minimum_cost_2\n",
    "        total_cost +=  minimum_cost\n",
    "        \n",
    "        if len(lst) != 0:\n",
    "            heapq.heappush(lst, minimum_cost)\n",
    "    \n",
    "    return total_cost\n",
    "\n",
    "print(q6_mincost([4,3,2,6]))\n"
   ]
  },
  {
   "cell_type": "markdown",
   "metadata": {},
   "source": [
    "#### Question 7&nbsp;&nbsp;&nbsp;&nbsp;&nbsp;&nbsp;(10 Points) \n",
    "Given a non-empty list of words, return the k most frequent elements using priority queues. Use the method `q7_topwords(lst, k)`, which returns the top k words as a list. for example, given `q7_topwords(['green', 'blue', 'yellow', 'green', 'green', 'blue', 'blue', 'brown', 'blue', 'brown'], 2)`m the output should be `['blue', 'green']`."
   ]
  },
  {
   "cell_type": "code",
   "execution_count": 67,
   "metadata": {
    "ExecuteTime": {
     "end_time": "2022-03-29T00:40:03.117011Z",
     "start_time": "2022-03-29T00:40:03.102599Z"
    },
    "tags": []
   },
   "outputs": [
    {
     "name": "stdout",
     "output_type": "stream",
     "text": [
      "['blue', 'green']\n"
     ]
    }
   ],
   "source": [
    "# Write your solution here\n",
    "def q7_topwords(lst, k):\n",
    "    \n",
    "    # Multiple by -1 for using priority queue by max key\n",
    "    list_occurrences = [(lst.count(item) * (-1), item) for item in set(lst)]\n",
    "    \n",
    "    heapq.heapify(list_occurrences)\n",
    "    \n",
    "    result = []\n",
    "    count = 0\n",
    "    while count < 2:\n",
    "        count += 1\n",
    "        result.append(heapq.heappop(list_occurrences))\n",
    "        \n",
    "    # Remove occurrences in result\n",
    "    result = [item[1] for item in result]\n",
    "    \n",
    "    return result\n",
    "\n",
    "print(q7_topwords(['green', 'blue', 'yellow', 'green', 'green', 'blue', 'blue', 'brown', 'blue', 'brown'], 2))\n"
   ]
  },
  {
   "cell_type": "markdown",
   "metadata": {},
   "source": [
    "#### Question 8&nbsp;&nbsp;&nbsp;&nbsp;&nbsp;&nbsp;(10 Points) \n",
    "Develop priority queues using singly linked lists using the following structure. Create an instance `q8_q` and push the values 4 (priority 1), 5 (priority 2), 6 (priority 3), 7 (priority 0) and pop once. Use `q8_traverse` to check whether the operations have been performed correctly.\n",
    "\n",
    "```\n",
    "class PriorityQueueNode:\n",
    "    def __init__(self, value, pr):\n",
    "       #your implementation\n",
    "\n",
    "# Implementation of Priority Queue\n",
    "class PriorityQueue:\n",
    "     \n",
    "    def __init__(self):\n",
    "        #your implementation\n",
    "         \n",
    "    #Method to check Priority Queue is Empty or not \n",
    "    #if Empty then it will return True. Otherwise False\n",
    "    def isEmpty(self):\n",
    "        #your implementation\n",
    "     \n",
    "    #Method to add items in priority queue according to their priority value (lowest first)\n",
    "    def push(self, value, priority):\n",
    "         #your implementation\n",
    "     \n",
    "    # Method to remove lowest priority item from the Priority Queue\n",
    "    def pop(self):\n",
    "        #your implementation\n",
    "             \n",
    "    # Method to return lowest priority node value (not removing it)\n",
    "    def peek(self):\n",
    "         #your implementation\n",
    "             \n",
    "    # Method to Traverse through priority queue and retrun it as a list\n",
    "    def q8_traverse(self):\n",
    "        #your implementation\n",
    "```"
   ]
  },
  {
   "cell_type": "code",
   "execution_count": 121,
   "metadata": {
    "ExecuteTime": {
     "end_time": "2022-03-29T00:51:11.957562Z",
     "start_time": "2022-03-29T00:51:11.942572Z"
    },
    "tags": []
   },
   "outputs": [
    {
     "name": "stdout",
     "output_type": "stream",
     "text": [
      "[7, 4, 5, 6]\n",
      "(value=7,priority=0)\n",
      "[7, 4, 5, 6]\n",
      "(value=7,priority=0)\n",
      "[4, 5, 6]\n"
     ]
    }
   ],
   "source": [
    "# Write your solution here\n",
    "class PriorityQueueNode:\n",
    "    def __init__(self, value, pr):\n",
    "        self.value = value\n",
    "        self.pr = pr\n",
    "        self.next = None\n",
    "        \n",
    "    def __repr__(self):\n",
    "        return \"(value=\" + str(self.value)+\",priority=\"+str(self.pr)+\")\"\n",
    "\n",
    "# Implementation of Priority Queue\n",
    "class PriorityQueue:\n",
    "\n",
    "    def __init__(self):\n",
    "        self.head = None\n",
    "\n",
    "    #Method to check Priority Queue is Empty or not \n",
    "    #if Empty then it will return True. Otherwise False\n",
    "    def isEmpty(self):\n",
    "        #your implementation\n",
    "        if self.head is not None:\n",
    "            return False\n",
    "        \n",
    "        return True\n",
    "\n",
    "    #Method to add items in priority queue according to their priority value (lowest first)\n",
    "    def push(self, value, priority):\n",
    "    \n",
    "        new_node = PriorityQueueNode(value, priority)\n",
    "\n",
    "        if self.head is None:\n",
    "            self.head = new_node\n",
    "            \n",
    "        elif self.head.pr > priority:\n",
    "            current = self.head\n",
    "            new_node.next = current\n",
    "            self.head = new_node\n",
    "            \n",
    "        else:\n",
    "            # Find index of a node which has priority higher than new node\n",
    "            current = self.head\n",
    "            \n",
    "            while current.next and current.next.pr < priority:\n",
    "                current = current.next\n",
    "                \n",
    "            new_node.next = current.next\n",
    "            current.next = new_node\n",
    "\n",
    "    # Method to remove lowest priority item from the Priority Queue\n",
    "    def pop(self):\n",
    "        \n",
    "        old_head = self.head\n",
    "\n",
    "        self.head = old_head.next\n",
    "        \n",
    "        return old_head\n",
    "        \n",
    "    # Method to return lowest priority node value (not removing it)\n",
    "    def peek(self):\n",
    "         return self.head\n",
    "\n",
    "    # Method to Traverse through priority queue and retrun it as a list\n",
    "    def q8_traverse(self):\n",
    "        result = []\n",
    "        current = self.head\n",
    "        while current:\n",
    "            result.append(current.value)\n",
    "            current = current.next\n",
    "            \n",
    "        return result\n",
    "\n",
    "q8_q = PriorityQueue()\n",
    "q8_q.push(4, 1)\n",
    "q8_q.push(5, 2)\n",
    "q8_q.push(6, 3)\n",
    "q8_q.push(7, 0)\n",
    "\n",
    "print(q8_q.q8_traverse())\n",
    "print(q8_q.peek())\n",
    "print(q8_q.q8_traverse())\n",
    "print(q8_q.pop())\n",
    "print(q8_q.q8_traverse())"
   ]
  },
  {
   "cell_type": "markdown",
   "metadata": {},
   "source": [
    "#### Question 9&nbsp;&nbsp;&nbsp;&nbsp;&nbsp;&nbsp;(10 Points)\n",
    "Given a list of n numbers and a positive integer k, find the top k numbers having the maximum frequency. If two numbers have the same frequency, then the larger number should be given preference. The numbers should be displayed in decreasing order of their frequencies. Use priority queues to implement this. Use the function `q9_mostfrequent(lst, k)`, which returns the top k numbers having the maximum frequency as a list. For example, given `q9_mostfrequent([3, 1, 4, 4, 5, 2, 6, 1], 2)`, the output should be `[4, 1]`."
   ]
  },
  {
   "cell_type": "code",
   "execution_count": 95,
   "metadata": {
    "ExecuteTime": {
     "end_time": "2022-03-29T00:54:49.136543Z",
     "start_time": "2022-03-29T00:54:49.117557Z"
    },
    "tags": []
   },
   "outputs": [
    {
     "name": "stdout",
     "output_type": "stream",
     "text": [
      "[4, 1]\n"
     ]
    }
   ],
   "source": [
    "# Write your solution here\n",
    "class Q9_Frequent:\n",
    "    def __init__(self, value, frequent):\n",
    "        self.value = value\n",
    "        self.frequent = frequent\n",
    "        \n",
    "    def __lt__(self, other):\n",
    "        if self.frequent == other.frequent:\n",
    "            return self.value > other.value\n",
    "        \n",
    "        return self.frequent < other.frequent\n",
    "    \n",
    "    def __repr__(self):\n",
    "        return \"(value=\" + str(self.value) + \", frequent=\" + str(self.frequent) + \")\"\n",
    "\n",
    "def q9_mostfrequent(lst, k):\n",
    "    list_frequent = [Q9_Frequent(item, lst.count(item) * (-1)) for item in set(lst)]\n",
    "    \n",
    "    heapq.heapify(list_frequent)\n",
    "    \n",
    "    result = []\n",
    "    count = 0\n",
    "    while count < k:\n",
    "        count += 1\n",
    "        result.append(heapq.heappop(list_frequent))\n",
    "        \n",
    "    result = [item.value for item in result]\n",
    "    \n",
    "    return result\n",
    "\n",
    "print(q9_mostfrequent([3, 1, 4, 4, 5, 2, 6, 1], 2))"
   ]
  },
  {
   "cell_type": "markdown",
   "metadata": {},
   "source": [
    "#### Question 10&nbsp;&nbsp;&nbsp;&nbsp;&nbsp;&nbsp;(10 Points)\n",
    "Given an unsorted integer list, find a pair with the given sum in it using hash maps. Use the function `q10_find(nums, target)`, which returns the pair as a tuple.\n",
    "\n",
    "For example, given `q10_find([8, 7, 2, 5, 3, 1], 10)`, the output should be `(8, 2)`."
   ]
  },
  {
   "cell_type": "code",
   "execution_count": 122,
   "metadata": {
    "ExecuteTime": {
     "end_time": "2022-03-29T01:18:35.258063Z",
     "start_time": "2022-03-29T01:18:35.236899Z"
    },
    "tags": []
   },
   "outputs": [
    {
     "name": "stdout",
     "output_type": "stream",
     "text": [
      "(8, 2)\n"
     ]
    }
   ],
   "source": [
    "# Write your solution here\n",
    "\n",
    "class HashMap:\n",
    "    def __init__(self, size):\n",
    "        self.size = size\n",
    "        self.hash_map = self.create_buckets()\n",
    "        \n",
    "    def create_buckets(self):\n",
    "        return [[] for _ in range(self.size)]\n",
    "    \n",
    "    def set_val(self, key, val):\n",
    "        hashed_key = hash(key) % self.size\n",
    "        \n",
    "        bucket = self.hash_map[hashed_key]\n",
    "        \n",
    "        found_key = False\n",
    "        for index, record in enumerate(bucket):\n",
    "            record_key, record_value = record\n",
    "            \n",
    "            if record_key == key:\n",
    "                found_key = True\n",
    "                break\n",
    "                \n",
    "        if found_key:\n",
    "            # bucket[index] = (key, val)\n",
    "            pass\n",
    "        else:\n",
    "            bucket.append((key, val))\n",
    "            \n",
    "    def get_val(self, key):\n",
    "        hashed_key = hash(key) % self.size\n",
    "        \n",
    "        bucket = self.hash_map[hashed_key]\n",
    "        \n",
    "        for item in bucket:\n",
    "            if item[0] == key:\n",
    "                return item[1]\n",
    "            \n",
    "        return None\n",
    "    \n",
    "    def delete_val(self, key):\n",
    "        hashed_key = hash(key) % self.size\n",
    "        \n",
    "        bucket = self.hash_map[hashed_key]\n",
    "        \n",
    "        delete_index = None\n",
    "        for index, item in enumerate(bucket):\n",
    "            if item[0] == key:\n",
    "                delete_index = index\n",
    "                break\n",
    "                \n",
    "        if index != None:\n",
    "            bucket.pop(index)\n",
    "            \n",
    "    def __str__(self):\n",
    "        return \"\".join(str(item) for item in self.hash_map)\n",
    "\n",
    "import itertools\n",
    "\n",
    "def q10_find(nums, target):\n",
    "    hash_map = HashMap(10)\n",
    "    \n",
    "    lst = list(itertools.combinations(nums, 2))\n",
    "    \n",
    "    for item in lst:\n",
    "        hash_map.set_val(item[0] + item[1], item)\n",
    "    \n",
    "    return hash_map.get_val(target)\n",
    "\n",
    "print(q10_find([8, 7, 2, 5, 3, 1], 10))"
   ]
  }
 ],
 "metadata": {
  "celltoolbar": "Edit Metadata",
  "kernelspec": {
   "display_name": "Python 3 (ipykernel)",
   "language": "python",
   "name": "python3"
  },
  "language_info": {
   "codemirror_mode": {
    "name": "ipython",
    "version": 3
   },
   "file_extension": ".py",
   "mimetype": "text/x-python",
   "name": "python",
   "nbconvert_exporter": "python",
   "pygments_lexer": "ipython3",
   "version": "3.9.7"
  },
  "otter": {
   "tests": {
    "Question 01": {
     "name": "Question 01",
     "points": 10,
     "suites": [
      {
       "cases": [],
       "scored": true,
       "setup": "",
       "teardown": "",
       "type": "doctest"
      }
     ]
    },
    "Question 02": {
     "name": "Question 02",
     "points": 10,
     "suites": [
      {
       "cases": [],
       "scored": true,
       "setup": "",
       "teardown": "",
       "type": "doctest"
      }
     ]
    },
    "Question 03": {
     "name": "Question 03",
     "points": 10,
     "suites": [
      {
       "cases": [],
       "scored": true,
       "setup": "",
       "teardown": "",
       "type": "doctest"
      }
     ]
    },
    "Question 04": {
     "name": "Question 04",
     "points": 10,
     "suites": [
      {
       "cases": [],
       "scored": true,
       "setup": "",
       "teardown": "",
       "type": "doctest"
      }
     ]
    },
    "Question 05": {
     "name": "Question 05",
     "points": 10,
     "suites": [
      {
       "cases": [],
       "scored": true,
       "setup": "",
       "teardown": "",
       "type": "doctest"
      }
     ]
    },
    "Question 06": {
     "name": "Question 06",
     "points": 10,
     "suites": [
      {
       "cases": [],
       "scored": true,
       "setup": "",
       "teardown": "",
       "type": "doctest"
      }
     ]
    },
    "Question 07": {
     "name": "Question 07",
     "points": 10,
     "suites": [
      {
       "cases": [],
       "scored": true,
       "setup": "",
       "teardown": "",
       "type": "doctest"
      }
     ]
    },
    "Question 08": {
     "name": "Question 08",
     "points": 10,
     "suites": [
      {
       "cases": [],
       "scored": true,
       "setup": "",
       "teardown": "",
       "type": "doctest"
      }
     ]
    },
    "Question 09": {
     "name": "Question 09",
     "points": 10,
     "suites": [
      {
       "cases": [],
       "scored": true,
       "setup": "",
       "teardown": "",
       "type": "doctest"
      }
     ]
    },
    "Question 10": {
     "name": "Question 10",
     "points": 10,
     "suites": [
      {
       "cases": [],
       "scored": true,
       "setup": "",
       "teardown": "",
       "type": "doctest"
      }
     ]
    }
   }
  },
  "varInspector": {
   "cols": {
    "lenName": 16,
    "lenType": 16,
    "lenVar": 40
   },
   "kernels_config": {
    "python": {
     "delete_cmd_postfix": "",
     "delete_cmd_prefix": "del ",
     "library": "var_list.py",
     "varRefreshCmd": "print(var_dic_list())"
    },
    "r": {
     "delete_cmd_postfix": ") ",
     "delete_cmd_prefix": "rm(",
     "library": "var_list.r",
     "varRefreshCmd": "cat(var_dic_list()) "
    }
   },
   "types_to_exclude": [
    "module",
    "function",
    "builtin_function_or_method",
    "instance",
    "_Feature"
   ],
   "window_display": false
  }
 },
 "nbformat": 4,
 "nbformat_minor": 4
}
