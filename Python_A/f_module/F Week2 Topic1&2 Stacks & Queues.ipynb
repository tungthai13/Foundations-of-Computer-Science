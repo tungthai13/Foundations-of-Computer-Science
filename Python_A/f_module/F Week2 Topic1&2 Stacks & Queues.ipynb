{
 "cells": [
  {
   "cell_type": "code",
   "execution_count": 1,
   "metadata": {
    "ExecuteTime": {
     "end_time": "2022-03-28T09:26:13.782010Z",
     "start_time": "2022-03-28T09:26:13.068747Z"
    }
   },
   "outputs": [],
   "source": [
    "import pandas as pd\n",
    "import numpy as np\n",
    "%matplotlib inline\n",
    "import otter\n",
    "grader = otter.Notebook()"
   ]
  },
  {
   "cell_type": "markdown",
   "metadata": {},
   "source": [
    "# F | Week 2: Practice Stacks & Queues\n",
    "\n",
    "### Do not forget to try these practice questions using all the different implemetation methods you learned in the course.\n",
    "\n",
    "------\n",
    "\n",
    "### Instructions:\n",
    "\n",
    "- Complete 50 points worth of questions to pass the assessment\n",
    "  - You can attempt any number of questions and in any order provided you pass at least 50 points.\n",
    "- Develop and check your answers in the spaces provided.\n",
    "  - Do not remove any variables other provided markings already present in the answer spaces.\n",
    "  - Do not make any changes to this notebook outside of the answer spaces provided.\n",
    "  \n",
    "#### Submitting\n",
    "\n",
    "- Upload your .ipynb file to Gradescope (Make sure to restart the kernel and run all before you submit)\n",
    "- You can submit as many times as needed\n",
    "- When reviewing results, ignore any results listed under \"Public Tests\"\n",
    "\n",
    "For more information, see the assessment page. We have also provided an example question below for clarity. "
   ]
  },
  {
   "cell_type": "markdown",
   "metadata": {},
   "source": [
    "#### Question 1&nbsp;&nbsp;&nbsp;&nbsp;&nbsp;&nbsp;(10 Points)\n",
    "Suppose we have two stacks and no other temporary variable. Construct a queue data structure using only these two stacks. Use the following template when developing the solution. Next, create a instance `q1_q` and check if the enqueue and dequeue operations are correctly working.\n",
    "\n",
    "```\n",
    "class Q1Queue:\n",
    "    def __init__(self):\n",
    "        self.s1 = [] #stack 1\n",
    "        self.s2 = [] #stack 2\n",
    " \n",
    "    #enqueue an item from the queue\n",
    "    def enqueue(self, x):\n",
    "        #implementation\n",
    " \n",
    "    #dequeue an item from the queue\n",
    "    def dequeue(self):\n",
    "        #implementation\n",
    "        \n",
    "        return x #retrun the enqueued value\n",
    "```"
   ]
  },
  {
   "cell_type": "code",
   "execution_count": 2,
   "metadata": {
    "ExecuteTime": {
     "end_time": "2022-03-28T08:13:13.775211Z",
     "start_time": "2022-03-28T08:13:13.754711Z"
    },
    "tags": []
   },
   "outputs": [
    {
     "name": "stdout",
     "output_type": "stream",
     "text": [
      "1\n",
      "2\n",
      "3\n"
     ]
    }
   ],
   "source": [
    "# Write your solution here\n",
    "\n",
    "class Q1Queue:\n",
    "    def __init__(self):\n",
    "        self.s1 = [] #stack 1\n",
    "        self.s2 = [] #stack 2\n",
    "\n",
    "    #enqueue an item from the queue\n",
    "    def enqueue(self, x):\n",
    "        self.s1.append(x)\n",
    "\n",
    "    #dequeue an item from the queue\n",
    "    def dequeue(self):\n",
    "        #implementation\n",
    "        if len(self.s1) == 0 and len(self.s2) == 0:\n",
    "            return None\n",
    "        \n",
    "        while len(self.s1) != 0:\n",
    "            self.s2.append(self.s1[-1])\n",
    "            self.s1.pop()\n",
    "            \n",
    "        return self.s2.pop()\n",
    "        \n",
    "q1_q = Q1Queue()\n",
    "q1_q.enqueue(1)\n",
    "q1_q.enqueue(2)\n",
    "q1_q.enqueue(3)\n",
    "q1_q.enqueue(4)\n",
    "print(q1_q.dequeue())\n",
    "print(q1_q.dequeue())\n",
    "print(q1_q.dequeue())"
   ]
  },
  {
   "cell_type": "markdown",
   "metadata": {},
   "source": [
    "#### Question 2&nbsp;&nbsp;&nbsp;&nbsp;&nbsp;&nbsp;(10 Points)\n",
    "Given two queues with their standard operations (e.g., enqueue, dequeue, size), implement a stack with its standard operations (pop, push, top, size). Next, create a instance `q2_s` and push 1, 2, 3, 4 and then pop once.\n",
    "\n",
    "```\n",
    "from queue import Queue\n",
    "class Q2Stack:\n",
    "    def __init__(self):\n",
    "        self.q1 = Queue()\n",
    "        self.q2 = Queue()\n",
    "        \n",
    "        # To maintain current number of elements\n",
    "        self.curr_size = 0\n",
    " \n",
    "    def push(self, x):\n",
    "        #your implementation\n",
    " \n",
    "    def pop(self):\n",
    "        #your implementation\n",
    " \n",
    "    def top(self):\n",
    "       #your implementation\n",
    " \n",
    "        return top #return the top value\n",
    "    \n",
    "    def size(self):\n",
    "        #your implementation\n",
    "        return size #return the size\n",
    "```"
   ]
  },
  {
   "cell_type": "code",
   "execution_count": 3,
   "metadata": {
    "ExecuteTime": {
     "end_time": "2022-03-28T23:24:01.886602Z",
     "start_time": "2022-03-28T23:24:01.865661Z"
    },
    "tags": []
   },
   "outputs": [
    {
     "name": "stdout",
     "output_type": "stream",
     "text": [
      "4\n",
      "4\n",
      "3\n",
      "2\n",
      "1\n",
      "0\n"
     ]
    }
   ],
   "source": [
    "# Write your solution here\n",
    "from queue import Queue\n",
    "class Q2Stack:\n",
    "    def __init__(self):\n",
    "        self.q1 = Queue()\n",
    "        self.q2 = Queue()\n",
    "\n",
    "        # To maintain current number of elements\n",
    "        self.curr_size = 0\n",
    "\n",
    "    def push(self, x):\n",
    "        #your implementation\n",
    "        self.curr_size += 1\n",
    "        if self.q1.empty():\n",
    "            self.q2.put(x)\n",
    "        else:\n",
    "            self.q1.put(x)\n",
    "\n",
    "    def pop(self):\n",
    "        #your implementation\n",
    "        if self.curr_size > 0:\n",
    "            self.curr_size -= 1\n",
    "            \n",
    "            if self.q2.empty():\n",
    "                while self.q1.qsize() > 1:\n",
    "                    self.q2.put(self.q1.get())\n",
    "\n",
    "                return self.q1.get()\n",
    "            else:\n",
    "                while self.q2.qsize() > 1:\n",
    "                    self.q1.put(self.q2.get())\n",
    "                return self.q2.get()\n",
    "        else:\n",
    "            return None\n",
    "\n",
    "    def top(self):\n",
    "        def top_process(queue1, queue2):\n",
    "            while queue1.qsize() > 1:\n",
    "                queue2.put(queue1.get())\n",
    "\n",
    "            top = queue1.get()\n",
    "            queue2.put(top)\n",
    "            \n",
    "            return top\n",
    "        if self.q2.empty():\n",
    "            top = top_process(self.q1, self.q2)\n",
    "        else:\n",
    "            top = top_process(self.q2, self.q1)\n",
    "            \n",
    "        return top #return the top value\n",
    "\n",
    "    def size(self):\n",
    "        #your implementation\n",
    "        return self.curr_size #return the size\n",
    "\n",
    "q2_s = Q2Stack()\n",
    "q2_s.push(1)\n",
    "q2_s.push(2)\n",
    "q2_s.push(3)\n",
    "q2_s.push(4)\n",
    "print(q2_s.size())\n",
    "print(q2_s.pop())\n",
    "print(q2_s.pop())\n",
    "print(q2_s.pop())\n",
    "print(q2_s.pop())\n",
    "\n",
    "print(q2_s.size())"
   ]
  },
  {
   "cell_type": "markdown",
   "metadata": {},
   "source": [
    "#### Question 3&nbsp;&nbsp;&nbsp;&nbsp;&nbsp;&nbsp;(10 Points)\n",
    "Write a Python program to reverse a string using a stack. Use the following template when developing the solution. Next, create a instance `q3_s` and check if the reverse operation is correctly working.\n",
    "```\n",
    "class Q3Stack:\n",
    "    #your implementation with initialiser and methods\n",
    " \n",
    "    def reverse(self, string):\n",
    "       #your implementation of reverse method\n",
    "       \n",
    "       return string #return the reversed string\n",
    "```"
   ]
  },
  {
   "cell_type": "code",
   "execution_count": 4,
   "metadata": {
    "ExecuteTime": {
     "end_time": "2022-03-28T23:25:21.296007Z",
     "start_time": "2022-03-28T23:25:21.281020Z"
    },
    "tags": []
   },
   "outputs": [
    {
     "name": "stdout",
     "output_type": "stream",
     "text": [
      "DCBA\n"
     ]
    }
   ],
   "source": [
    "# Write your solution here\n",
    "class Q3Stack:\n",
    "    #your implementation with initialiser and methods\n",
    "    def __init__(self):\n",
    "        self.stack = []\n",
    "\n",
    "    def reverse(self, string):\n",
    "        #your implementation of reverse method\n",
    "        for char in string:\n",
    "            self.stack.append(char)\n",
    "        \n",
    "        string = \"\"\n",
    "        while len(self.stack):\n",
    "            string += self.stack.pop()\n",
    "        return string #return the reversed string\n",
    "\n",
    "q3_s = Q3Stack()\n",
    "print(q3_s.reverse(\"ABCD\"))"
   ]
  },
  {
   "cell_type": "markdown",
   "metadata": {},
   "source": [
    "#### Question 4&nbsp;&nbsp;&nbsp;&nbsp;&nbsp;&nbsp;(10 Points)\n",
    "Given a stack of integers, write a Python program to sort it in ascending order using another temporary stack. For example, give a stack [3, 5, 1, 4, 2, 8] the output should be [1, 2, 3, 4, 5, 8]. Use the following template when developing the solution. Next, create a instance `q4_s` and check if the enqueue and dequeue operations are correctly working.\n",
    "```\n",
    "class Q4Stack:\n",
    "    #your implementation of init and methods\n",
    "        \n",
    "    def sort_stack(self):\n",
    "        #your implementation\n",
    "        \n",
    "        return mylist #return the sorted stack as a list\n",
    "```"
   ]
  },
  {
   "cell_type": "code",
   "execution_count": 5,
   "metadata": {
    "ExecuteTime": {
     "end_time": "2022-03-28T23:29:22.345970Z",
     "start_time": "2022-03-28T23:29:22.329287Z"
    },
    "tags": []
   },
   "outputs": [
    {
     "name": "stdout",
     "output_type": "stream",
     "text": [
      "[1, 2, 3, 4, 5, 8]\n"
     ]
    }
   ],
   "source": [
    "# Write your solution here\n",
    "class Q4Stack:\n",
    "    #your implementation of init and methods\n",
    "    def __init__(self, stack_init = None):\n",
    "        if stack_init is not None:\n",
    "            self.my_stack = stack_init\n",
    "        else:\n",
    "            self.my_stack = []\n",
    "            \n",
    "    def set_my_stack(self, my_stack):\n",
    "        self.my_stack = my_stack\n",
    "\n",
    "    def sort_stack(self):\n",
    "        #your implementation\n",
    "        mylist = []\n",
    "        \n",
    "        while len(self.my_stack):\n",
    "            temp = self.my_stack.pop()\n",
    "            \n",
    "            while len(mylist) and mylist[-1] > temp:\n",
    "                self.my_stack.append(mylist.pop())\n",
    "            \n",
    "            mylist.append(temp)\n",
    "\n",
    "        return mylist #return the sorted stack as a list\n",
    "\n",
    "q4_s = Q4Stack([3,5,1,4,2,8])\n",
    "print(q4_s.sort_stack())"
   ]
  },
  {
   "cell_type": "markdown",
   "metadata": {},
   "source": [
    "#### Question 5&nbsp;&nbsp;&nbsp;&nbsp;&nbsp;&nbsp;(10 Points)\n",
    "Write a Python program to check if parentheses are balanced using stack. Use the method `q5_parentheses`, which returns `True` if balanced. Otherwise, `False`."
   ]
  },
  {
   "cell_type": "code",
   "execution_count": 6,
   "metadata": {
    "ExecuteTime": {
     "end_time": "2022-03-28T23:39:29.623205Z",
     "start_time": "2022-03-28T23:39:29.616253Z"
    },
    "tags": []
   },
   "outputs": [
    {
     "name": "stdout",
     "output_type": "stream",
     "text": [
      "{[]{()}} - True\n",
      "[{}{})(] - False\n",
      "(a+b+(c*d)) - True\n"
     ]
    }
   ],
   "source": [
    "# Write your solution here\n",
    "def q5_parentheses(string):\n",
    "    open_list = [\"[\",\"{\",\"(\"]\n",
    "    close_list = [\"]\",\"}\",\")\"]\n",
    "    \n",
    "    my_stack = []\n",
    "    \n",
    "    for char in string:\n",
    "        if char in open_list:\n",
    "            my_stack.append(char)\n",
    "        elif char in close_list:\n",
    "            position = close_list.index(char)\n",
    "            \n",
    "            if len(my_stack) and open_list[position] == my_stack[-1]:\n",
    "                my_stack.pop()\n",
    "            else:\n",
    "                return False\n",
    "            \n",
    "    if len(my_stack) == 0:\n",
    "        return True\n",
    "    \n",
    "    return False\n",
    "\n",
    "string = \"{[]{()}}\"\n",
    "print(string,\"-\", q5_parentheses(string))\n",
    "  \n",
    "string = \"[{}{})(]\"\n",
    "print(string,\"-\", q5_parentheses(string))\n",
    "  \n",
    "string = \"(a+b+(c*d))\"\n",
    "print(string,\"-\",q5_parentheses(string))"
   ]
  },
  {
   "cell_type": "markdown",
   "metadata": {},
   "source": [
    "#### Question 6&nbsp;&nbsp;&nbsp;&nbsp;&nbsp;&nbsp;(10 Points)\n",
    "Write a Python program to check if an expression has duplicate parenthesis or not using stacks. Use the method `q6_parentheses`, which returns `True` if it has duplicates. Otherwise, `False`.\n",
    "\n",
    "For example, (((x+(y))+(m+n))) has duplicate parenthesis since the whole expression is surrounded by two pairs of brackets.\n",
    "((x+y)+(m+n)) do not have any duplicate parenthesis since no subsexpression is surrounded by duplicate\n",
    "brackets."
   ]
  },
  {
   "cell_type": "code",
   "execution_count": 7,
   "metadata": {
    "ExecuteTime": {
     "end_time": "2022-03-28T23:48:06.994956Z",
     "start_time": "2022-03-28T23:48:06.983971Z"
    },
    "tags": []
   },
   "outputs": [
    {
     "name": "stdout",
     "output_type": "stream",
     "text": [
      "True\n",
      "False\n"
     ]
    }
   ],
   "source": [
    "# Write your solution here\n",
    "def q6_parentheses(string):\n",
    "    stack = []\n",
    "    for char in string:\n",
    "\n",
    "        if char == ')':\n",
    "            top = stack.pop()\n",
    "\n",
    "            elementsInside = 0\n",
    "            while top != '(':\n",
    "                elementsInside += 1\n",
    "                top = stack.pop()\n",
    "                \n",
    "            if elementsInside < 1:\n",
    "                return True\n",
    "\n",
    "        else:\n",
    "            stack.append(char)\n",
    "            \n",
    "    return False\n",
    "\n",
    "string = \"(((x+(y))+(m+n)))\"\n",
    "print(q6_parentheses(string))\n",
    "\n",
    "string = \"((x+y)+(m+n))\"\n",
    "print(q6_parentheses(string))"
   ]
  },
  {
   "cell_type": "markdown",
   "metadata": {},
   "source": [
    "#### Question 7&nbsp;&nbsp;&nbsp;&nbsp;&nbsp;&nbsp;(10 Points) \n",
    "Write a Python program to to check if parentheses are balanced using queue. Use the method `q7_parentheses`, which returns `True` if balanced. Otherwise, `False`."
   ]
  },
  {
   "cell_type": "code",
   "execution_count": 8,
   "metadata": {
    "ExecuteTime": {
     "end_time": "2022-03-29T00:40:03.117011Z",
     "start_time": "2022-03-29T00:40:03.102599Z"
    },
    "tags": []
   },
   "outputs": [
    {
     "name": "stdout",
     "output_type": "stream",
     "text": [
      "{[]{()}} - True\n",
      "[{}{})(] - False\n",
      "(a+b+(c*d)) - True\n"
     ]
    }
   ],
   "source": [
    "# Write your solution here\n",
    "def q7_parentheses(string):\n",
    "    open_list = [\"[\",\"{\",\"(\"]\n",
    "    close_list = [\"]\",\"}\",\")\"]\n",
    "    \n",
    "    my_queue = []\n",
    "    \n",
    "    for char in string:\n",
    "\n",
    "        if char in open_list:\n",
    "            my_queue.append(char)\n",
    "        elif char in close_list:\n",
    "            position = close_list.index(char)\n",
    "\n",
    "            if not len(my_queue) or open_list[position] != my_queue.pop():\n",
    "                return False\n",
    "            \n",
    "    if len(my_queue) == 0:\n",
    "        return True\n",
    "    \n",
    "    return False\n",
    "\n",
    "string = \"{[]{()}}\"\n",
    "print(string,\"-\", q7_parentheses(string))\n",
    "  \n",
    "string = \"[{}{})(]\"\n",
    "print(string,\"-\", q7_parentheses(string))\n",
    "  \n",
    "string = \"(a+b+(c*d))\"\n",
    "print(string,\"-\",q7_parentheses(string))"
   ]
  },
  {
   "cell_type": "markdown",
   "metadata": {},
   "source": [
    "#### Question 8&nbsp;&nbsp;&nbsp;&nbsp;&nbsp;&nbsp;(10 Points) \n",
    "Write a Python program to sort a queue without extra space using the method `q8_sortqueue`, which returns the sorted queue as a list. Create a queue with the elements 30, 11, 15 and assign it to the variable `q8_q`. Use `q8_sortqueue(q8_q)` to check if the method is correctly working."
   ]
  },
  {
   "cell_type": "code",
   "execution_count": 9,
   "metadata": {
    "ExecuteTime": {
     "end_time": "2022-03-29T00:51:11.957562Z",
     "start_time": "2022-03-29T00:51:11.942572Z"
    },
    "tags": []
   },
   "outputs": [
    {
     "name": "stdout",
     "output_type": "stream",
     "text": [
      "[1, 2, 3, 4, 5, 8]\n"
     ]
    }
   ],
   "source": [
    "# Write your solution here\n",
    "q8_q = [30, 11, 15]\n",
    "def q8_sortqueue(queue):\n",
    "    for i in range(1, len(queue) + 1):\n",
    "        min_index = get_min_index(queue, len(queue) - i)\n",
    "        insert_min(queue, min_index)\n",
    "\n",
    "    return queue\n",
    "\n",
    "def get_min_index(queue, sorted_index):\n",
    "    min_index = -1\n",
    "    min_val = 999999999999\n",
    "    length = len(queue)\n",
    "    for i in range(length):\n",
    "        curr = queue[0]\n",
    "        queue.pop(0)\n",
    "\n",
    "        if (curr <= min_val and i <= sorted_index):\n",
    "            min_index = i\n",
    "            min_val = curr\n",
    "        queue.append(curr)\n",
    "        \n",
    "    return min_index\n",
    " \n",
    "def insert_min(queue, min_index):\n",
    "    min_val = None\n",
    "    length = len(queue)\n",
    "    for i in range(length):\n",
    "        curr = queue[0]\n",
    "        queue.pop(0)\n",
    "        if (i != min_index):\n",
    "            queue.append(curr)\n",
    "        else:\n",
    "            min_val = curr\n",
    "    queue.append(min_val)\n",
    "\n",
    "print(q8_sortqueue([3,5,1,4,2,8]))"
   ]
  },
  {
   "cell_type": "markdown",
   "metadata": {},
   "source": [
    "#### Question 9&nbsp;&nbsp;&nbsp;&nbsp;&nbsp;&nbsp;(10 Points)\n",
    "Write a Python program to reverse the elements in a queue using the method `q9_reversequeue` which returns the reversed queue as a list. Create a queue with the elements 1, 2, 3, 4, 5 and assign it to the variable `q9_q`. Use `q9_reversequeue(q9_q)` to check if the method is correctly working."
   ]
  },
  {
   "cell_type": "code",
   "execution_count": 10,
   "metadata": {
    "ExecuteTime": {
     "end_time": "2022-03-29T00:54:49.136543Z",
     "start_time": "2022-03-29T00:54:49.117557Z"
    },
    "tags": []
   },
   "outputs": [
    {
     "name": "stdout",
     "output_type": "stream",
     "text": [
      "[5, 4, 3, 2, 1]\n"
     ]
    }
   ],
   "source": [
    "# Write your solution here\n",
    "def q9_reversequeue(queue):\n",
    "    stack = []\n",
    "    \n",
    "    while len(queue):\n",
    "        stack.append(queue.pop(0))\n",
    "        \n",
    "    while len(stack):\n",
    "        queue.append(stack.pop())\n",
    "        \n",
    "    return queue\n",
    "\n",
    "q9_q = [1,2,3,4,5]\n",
    "print(q9_reversequeue(q9_q))"
   ]
  },
  {
   "cell_type": "markdown",
   "metadata": {},
   "source": [
    "#### Question 10&nbsp;&nbsp;&nbsp;&nbsp;&nbsp;&nbsp;(10 Points)\n",
    "Write a Python program to check if sequence of characters is a palindrome by using a Stack and a Queue. Use the method `q10_is_palindrome`, which will return `True` if the sequence is a palindrome. Otherwise, `False`."
   ]
  },
  {
   "cell_type": "code",
   "execution_count": 11,
   "metadata": {
    "ExecuteTime": {
     "end_time": "2022-03-29T01:18:35.258063Z",
     "start_time": "2022-03-29T01:18:35.236899Z"
    },
    "tags": []
   },
   "outputs": [
    {
     "name": "stdout",
     "output_type": "stream",
     "text": [
      "True\n"
     ]
    }
   ],
   "source": [
    "# Write your solution here\n",
    "\n",
    "def q10_is_palindrome(string):\n",
    "    stack = []\n",
    "    queue = []\n",
    "    for char in string.lower():\n",
    "        stack.append(char)\n",
    "        queue.append(char)\n",
    "\n",
    "    while len(stack):\n",
    "        if stack.pop() != queue.pop(0):\n",
    "            return False\n",
    "        \n",
    "    return True\n",
    "\n",
    "print(q10_is_palindrome('Madam'))"
   ]
  }
 ],
 "metadata": {
  "celltoolbar": "Edit Metadata",
  "kernelspec": {
   "display_name": "Python 3 (ipykernel)",
   "language": "python",
   "name": "python3"
  },
  "language_info": {
   "codemirror_mode": {
    "name": "ipython",
    "version": 3
   },
   "file_extension": ".py",
   "mimetype": "text/x-python",
   "name": "python",
   "nbconvert_exporter": "python",
   "pygments_lexer": "ipython3",
   "version": "3.9.7"
  },
  "otter": {
   "tests": {
    "Question 01": {
     "name": "Question 01",
     "points": 10,
     "suites": [
      {
       "cases": [],
       "scored": true,
       "setup": "",
       "teardown": "",
       "type": "doctest"
      }
     ]
    },
    "Question 02": {
     "name": "Question 02",
     "points": 10,
     "suites": [
      {
       "cases": [],
       "scored": true,
       "setup": "",
       "teardown": "",
       "type": "doctest"
      }
     ]
    },
    "Question 03": {
     "name": "Question 03",
     "points": 10,
     "suites": [
      {
       "cases": [],
       "scored": true,
       "setup": "",
       "teardown": "",
       "type": "doctest"
      }
     ]
    },
    "Question 04": {
     "name": "Question 04",
     "points": 10,
     "suites": [
      {
       "cases": [],
       "scored": true,
       "setup": "",
       "teardown": "",
       "type": "doctest"
      }
     ]
    },
    "Question 05": {
     "name": "Question 05",
     "points": 10,
     "suites": [
      {
       "cases": [],
       "scored": true,
       "setup": "",
       "teardown": "",
       "type": "doctest"
      }
     ]
    },
    "Question 06": {
     "name": "Question 06",
     "points": 10,
     "suites": [
      {
       "cases": [],
       "scored": true,
       "setup": "",
       "teardown": "",
       "type": "doctest"
      }
     ]
    },
    "Question 07": {
     "name": "Question 07",
     "points": 10,
     "suites": [
      {
       "cases": [],
       "scored": true,
       "setup": "",
       "teardown": "",
       "type": "doctest"
      }
     ]
    },
    "Question 08": {
     "name": "Question 08",
     "points": 10,
     "suites": [
      {
       "cases": [],
       "scored": true,
       "setup": "",
       "teardown": "",
       "type": "doctest"
      }
     ]
    },
    "Question 09": {
     "name": "Question 09",
     "points": 10,
     "suites": [
      {
       "cases": [],
       "scored": true,
       "setup": "",
       "teardown": "",
       "type": "doctest"
      }
     ]
    },
    "Question 10": {
     "name": "Question 10",
     "points": 10,
     "suites": [
      {
       "cases": [],
       "scored": true,
       "setup": "",
       "teardown": "",
       "type": "doctest"
      }
     ]
    }
   }
  },
  "varInspector": {
   "cols": {
    "lenName": 16,
    "lenType": 16,
    "lenVar": 40
   },
   "kernels_config": {
    "python": {
     "delete_cmd_postfix": "",
     "delete_cmd_prefix": "del ",
     "library": "var_list.py",
     "varRefreshCmd": "print(var_dic_list())"
    },
    "r": {
     "delete_cmd_postfix": ") ",
     "delete_cmd_prefix": "rm(",
     "library": "var_list.r",
     "varRefreshCmd": "cat(var_dic_list()) "
    }
   },
   "types_to_exclude": [
    "module",
    "function",
    "builtin_function_or_method",
    "instance",
    "_Feature"
   ],
   "window_display": false
  }
 },
 "nbformat": 4,
 "nbformat_minor": 4
}
