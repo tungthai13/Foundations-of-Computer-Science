{
 "cells": [
  {
   "cell_type": "code",
   "execution_count": null,
   "metadata": {
    "ExecuteTime": {
     "end_time": "2022-03-28T09:26:13.782010Z",
     "start_time": "2022-03-28T09:26:13.068747Z"
    }
   },
   "outputs": [],
   "source": [
    "import pandas as pd\n",
    "import numpy as np\n",
    "%matplotlib inline\n",
    "import otter\n",
    "grader = otter.Notebook()"
   ]
  },
  {
   "cell_type": "markdown",
   "metadata": {},
   "source": [
    "# F | Week 1: Practice Linked Lists\n",
    "\n",
    "------\n",
    "\n",
    "### Instructions:\n",
    "\n",
    "- Complete 50 points worth of questions to pass the assessment\n",
    "  - You can attempt any number of questions and in any order provided you pass at least 50 points.\n",
    "- Develop and check your answers in the spaces provided.\n",
    "  - Do not remove any variables other provided markings already present in the answer spaces.\n",
    "  - Do not make any changes to this notebook outside of the answer spaces provided.\n",
    "  \n",
    "#### Submitting\n",
    "\n",
    "- Upload your .ipynb file to Gradescope (Make sure to restart the kernel and run all before you submit)\n",
    "- You can submit as many times as needed\n",
    "- When reviewing results, ignore any results listed under \"Public Tests\"\n",
    "\n",
    "For more information, see the assessment page. We have also provided an example question below for clarity. "
   ]
  },
  {
   "cell_type": "markdown",
   "metadata": {},
   "source": [
    "#### Question 1&nbsp;&nbsp;&nbsp;&nbsp;&nbsp;&nbsp;(5 Points)\n",
    "Write a Python program to create a singly linked list named `q1_ll` and append the following items. \n",
    "- 12\n",
    "- 20\n",
    "- 19\n",
    "- 42\n",
    "\n",
    "Iterate through the list using `q1_traverse` method and return the items in the linked list as a list to check if the values are properly inserted.\n",
    "\n",
    "Expected output: [12, 20, 19, 42]"
   ]
  },
  {
   "cell_type": "code",
   "execution_count": 88,
   "metadata": {
    "ExecuteTime": {
     "end_time": "2022-03-28T08:13:13.775211Z",
     "start_time": "2022-03-28T08:13:13.754711Z"
    },
    "tags": []
   },
   "outputs": [
    {
     "name": "stdout",
     "output_type": "stream",
     "text": [
      "[12, 20, 19, 42]\n"
     ]
    }
   ],
   "source": [
    "# Write your solution here\n",
    "\n",
    "class Node:\n",
    "    def __init__(self, data):\n",
    "        self.data = data\n",
    "        self.next = None\n",
    "        \n",
    "class LinkedList:\n",
    "    def __init__(self, init_list = []):\n",
    "        self.head = None\n",
    "        for item in init_list:\n",
    "            self.append(item)\n",
    "        \n",
    "    def q1_traverse(self):\n",
    "        \n",
    "        node = self.head\n",
    "        result = []\n",
    "        while node:\n",
    "            result.append(node.data)\n",
    "            node = node.next\n",
    "            \n",
    "        return result\n",
    "    \n",
    "    def q5_traverse(self):\n",
    "        node = self.head\n",
    "        result = []\n",
    "        while node:\n",
    "            result.append(node.data)\n",
    "            node = node.next\n",
    "            \n",
    "        return result\n",
    "    \n",
    "    def q6_traverse(self):\n",
    "        node = self.head\n",
    "        result = []\n",
    "        while node:\n",
    "            result.append(node.data)\n",
    "            node = node.next\n",
    "            \n",
    "        return result\n",
    "    \n",
    "    def q7_traverse(self):\n",
    "        node = self.head\n",
    "        result = []\n",
    "        while node:\n",
    "            result.append(node.data)\n",
    "            node = node.next\n",
    "            \n",
    "        return result\n",
    "    \n",
    "    def q2_size(self):\n",
    "        return len(self.q1_traverse())\n",
    "    \n",
    "    def q3_search(self, num):\n",
    "        node = self.head\n",
    "        while node:\n",
    "            if node.data == num:\n",
    "                return True\n",
    "            node = node.next\n",
    "            \n",
    "        return False\n",
    "    \n",
    "    def q4_search(self, index_num):\n",
    "        node = self.head\n",
    "        count = 0\n",
    "        while node:\n",
    "            if index_num == count:\n",
    "                return node.data\n",
    "            node = node.next\n",
    "            count += 1\n",
    "            \n",
    "        return False\n",
    "    \n",
    "    def q5_set_element(self, index, value):\n",
    "        node = self.head\n",
    "        \n",
    "        count = 0\n",
    "        while node:\n",
    "            if index == count:\n",
    "                node.data = value\n",
    "                return True\n",
    "                \n",
    "            node = node.next\n",
    "            count += 1\n",
    "            \n",
    "        return False\n",
    "    \n",
    "    def q6_delete(self):\n",
    "        head = self.head\n",
    "        \n",
    "        if head == None:\n",
    "            return False\n",
    "        \n",
    "        next_node = head.next\n",
    "        self.head = next_node\n",
    "    \n",
    "    def q7_delete(self):\n",
    "        node = self.head\n",
    "        \n",
    "        if node == None:\n",
    "            return\n",
    "        \n",
    "        while node.next != None:\n",
    "            if node.next.next == None:\n",
    "                \n",
    "                deleted = node.next\n",
    "                \n",
    "                node.next = None\n",
    "                del deleted\n",
    "                \n",
    "                return\n",
    "                \n",
    "            node = node.next\n",
    "        \n",
    "        if node == self.head:\n",
    "            self.q6_delete()\n",
    "            return\n",
    "        \n",
    "        if node != None:\n",
    "            print(node.data)\n",
    "            deleted_node = node.next\n",
    "            node.next = None\n",
    "            del deleted_node\n",
    "            \n",
    "    def append(self, data):\n",
    "        new_node = Node(data)\n",
    "        if self.head == None:\n",
    "            self.head = new_node\n",
    "        else:\n",
    "            node = self.head\n",
    "\n",
    "            while node.next:\n",
    "                node = node.next\n",
    "                \n",
    "            node.next = new_node\n",
    "            \n",
    "\n",
    "q1_ll = LinkedList()\n",
    "q1_ll.append(12)\n",
    "q1_ll.append(20)\n",
    "q1_ll.append(19)\n",
    "q1_ll.append(42)\n",
    "\n",
    "print(q1_ll.q1_traverse())\n",
    "            "
   ]
  },
  {
   "cell_type": "markdown",
   "metadata": {},
   "source": [
    "#### Question 2&nbsp;&nbsp;&nbsp;&nbsp;&nbsp;&nbsp;(5 Points)\n",
    "Write a Python program to find the size of the following singly linked list using the method `q2_size`.\n",
    "\n",
    "```\n",
    "q2_ll = [12, 'John', 19, True, 'Purple', False]\n",
    "```"
   ]
  },
  {
   "cell_type": "code",
   "execution_count": 19,
   "metadata": {
    "ExecuteTime": {
     "end_time": "2022-03-28T23:24:01.886602Z",
     "start_time": "2022-03-28T23:24:01.865661Z"
    },
    "tags": []
   },
   "outputs": [
    {
     "name": "stdout",
     "output_type": "stream",
     "text": [
      "6\n"
     ]
    }
   ],
   "source": [
    "# Write your solution here\n",
    "q2_ll = LinkedList()\n",
    "q2_ll.append(12)\n",
    "q2_ll.append('John')\n",
    "q2_ll.append(19)\n",
    "q2_ll.append(True)\n",
    "q2_ll.append('Purple')\n",
    "q2_ll.append(False)\n",
    "\n",
    "print(q2_ll.q2_size())"
   ]
  },
  {
   "cell_type": "markdown",
   "metadata": {},
   "source": [
    "#### Question 3&nbsp;&nbsp;&nbsp;&nbsp;&nbsp;&nbsp;(5 Points)\n",
    "Write a Python program to search 12 in the singly linked list using `q3_search(num)` method. This method shoul return `True` if the item is found, otherwise return `False`.\n",
    "```\n",
    "q3_ll = [1, 12, 6, 20, 'John', 19, True, 'Purple', False]\n",
    "```"
   ]
  },
  {
   "cell_type": "code",
   "execution_count": 5,
   "metadata": {
    "ExecuteTime": {
     "end_time": "2022-03-28T23:25:21.296007Z",
     "start_time": "2022-03-28T23:25:21.281020Z"
    },
    "tags": []
   },
   "outputs": [
    {
     "data": {
      "text/plain": [
       "True"
      ]
     },
     "execution_count": 5,
     "metadata": {},
     "output_type": "execute_result"
    }
   ],
   "source": [
    "# Write your solution here\n",
    "q3_ll = LinkedList([1, 12, 6, 20, 'John', 19, True, 'Purple', False])\n",
    "q3_ll.q3_search(12)\n"
   ]
  },
  {
   "cell_type": "markdown",
   "metadata": {},
   "source": [
    "#### Question 4&nbsp;&nbsp;&nbsp;&nbsp;&nbsp;&nbsp;(5 Points)\n",
    "Write a Python program to access the element in second index of the following singly linked list. Use the method `q4_search(index_num)` that returns the element in the given index.\n",
    "```\n",
    "q4_ll = [12, 'John', 19, True, 'Purple', False]\n",
    "```"
   ]
  },
  {
   "cell_type": "code",
   "execution_count": 84,
   "metadata": {
    "ExecuteTime": {
     "end_time": "2022-03-28T23:29:22.345970Z",
     "start_time": "2022-03-28T23:29:22.329287Z"
    },
    "tags": []
   },
   "outputs": [
    {
     "name": "stdout",
     "output_type": "stream",
     "text": [
      "19\n"
     ]
    }
   ],
   "source": [
    "# Write your solution here\n",
    "q4_ll = LinkedList([12, 'John', 19, True, 'Purple', False])\n",
    "print(q4_ll.q4_search(2))\n"
   ]
  },
  {
   "cell_type": "markdown",
   "metadata": {},
   "source": [
    "#### Question 5&nbsp;&nbsp;&nbsp;&nbsp;&nbsp;&nbsp;(10 Points)\n",
    "Write a Python program to set a new value of an element of the following singly linked list using its index value. Use the method `q5_set_element(index_num, val)` to set the value of second index to 91. \n",
    "```\n",
    "q5_ll = [12, 'John', 19, True, 'Purple', False]\n",
    "```\n",
    "Use `q5_traverse()` to return the updated linked list as a list."
   ]
  },
  {
   "cell_type": "code",
   "execution_count": 89,
   "metadata": {
    "ExecuteTime": {
     "end_time": "2022-03-28T23:39:29.623205Z",
     "start_time": "2022-03-28T23:39:29.616253Z"
    },
    "tags": []
   },
   "outputs": [
    {
     "name": "stdout",
     "output_type": "stream",
     "text": [
      "[12, 'John', 91, True, 'Purple', False]\n"
     ]
    }
   ],
   "source": [
    "# Write your solution here\n",
    "\n",
    "q5_ll = LinkedList([12, 'John', 19, True, 'Purple', False])\n",
    "q5_ll.q5_set_element(2, 91)\n",
    "print(q5_ll.q5_traverse())"
   ]
  },
  {
   "cell_type": "markdown",
   "metadata": {},
   "source": [
    "#### Question 6&nbsp;&nbsp;&nbsp;&nbsp;&nbsp;&nbsp;(10 Points)\n",
    "Write a Python program to delete the first element from the following singly linked list using the method `q6_delete()`.\n",
    "```\n",
    "q6_ll = [12, 'John', 19, True, 'Purple', False]\n",
    "```\n",
    "Use `q6_traverse()` to return the updated linked list as a list."
   ]
  },
  {
   "cell_type": "code",
   "execution_count": 24,
   "metadata": {
    "ExecuteTime": {
     "end_time": "2022-03-28T23:48:06.994956Z",
     "start_time": "2022-03-28T23:48:06.983971Z"
    },
    "tags": []
   },
   "outputs": [
    {
     "name": "stdout",
     "output_type": "stream",
     "text": [
      "['John', 19, True, 'Purple', False]\n"
     ]
    }
   ],
   "source": [
    "# Write your solution here\n",
    "q6_ll = LinkedList([12, 'John', 19, True, 'Purple', False])\n",
    "q6_ll.q6_delete()\n",
    "print(q6_ll.q6_traverse())\n"
   ]
  },
  {
   "cell_type": "markdown",
   "metadata": {},
   "source": [
    "#### Question 7&nbsp;&nbsp;&nbsp;&nbsp;&nbsp;&nbsp;(10 Points) \n",
    "Write a Python program to delete the last item from the following singly linked list using the method `q7_delete()`.\n",
    "```\n",
    "q7_ll = [12, 'John', 19, True, 'Purple', False]\n",
    "```\n",
    "Use `q7_traverse()` to return the updated linked list as a list."
   ]
  },
  {
   "cell_type": "code",
   "execution_count": 50,
   "metadata": {
    "ExecuteTime": {
     "end_time": "2022-03-29T00:40:03.117011Z",
     "start_time": "2022-03-29T00:40:03.102599Z"
    },
    "tags": []
   },
   "outputs": [
    {
     "name": "stdout",
     "output_type": "stream",
     "text": [
      "[12, 'John', 19, True, 'Purple']\n"
     ]
    }
   ],
   "source": [
    "# Write your solution here\n",
    "q7_ll = LinkedList([12, 'John', 19, True, 'Purple', False])\n",
    "q7_ll.q7_delete()\n",
    "print(q7_ll.q7_traverse())"
   ]
  },
  {
   "cell_type": "markdown",
   "metadata": {},
   "source": [
    "#### Question 8&nbsp;&nbsp;&nbsp;&nbsp;&nbsp;&nbsp;(5 Points) \n",
    "Write a Python program to create the doubly linked list `q8_llist` and append the following items.\n",
    "- 12\n",
    "- 'John'\n",
    "- 19\n",
    "- True\n",
    "- 'Purple'\n",
    "- False\n",
    "\n",
    "Iterate through the doubly linked list (forward) using the `q8_traverse` method, which returns the items in a list."
   ]
  },
  {
   "cell_type": "code",
   "execution_count": 87,
   "metadata": {
    "ExecuteTime": {
     "end_time": "2022-03-29T00:51:11.957562Z",
     "start_time": "2022-03-29T00:51:11.942572Z"
    },
    "tags": []
   },
   "outputs": [
    {
     "name": "stdout",
     "output_type": "stream",
     "text": [
      "[12, 'John', 19, True, 'Purple', False]\n"
     ]
    }
   ],
   "source": [
    "# Write your solution here\n",
    "class DoubleLinkedList:\n",
    "    def __init__(self, list_init = []):\n",
    "        self.head = None\n",
    "        \n",
    "        current_node = None\n",
    "        for item in list_init:\n",
    "            new_node = NodeDouble(item)\n",
    "            \n",
    "            if self.head == None:\n",
    "                self.head = new_node\n",
    "            else:\n",
    "                current_node.next = new_node\n",
    "                new_node.previous = current_node\n",
    "                \n",
    "            current_node = new_node\n",
    "    \n",
    "    def q8_traverse(self):\n",
    "        node = self.head\n",
    "        result = []\n",
    "        while node:\n",
    "            result.append(node.data)\n",
    "            node = node.next\n",
    "            \n",
    "            \n",
    "        return result\n",
    "    \n",
    "    def q9_traverse(self):\n",
    "        return self.q8_traverse()[::-1]\n",
    "    \n",
    "    def q10_count(self):\n",
    "        return len(self.q8_traverse())\n",
    "    \n",
    "    def q11_traverse(self):\n",
    "        return self.q8_traverse()\n",
    "    \n",
    "    def q11_reverse(self):\n",
    "        node = self.head\n",
    "        \n",
    "        while node != None:\n",
    "            next_node = node.next\n",
    "            previous_node = node.previous\n",
    "            node.previous = next_node\n",
    "            node.next = previous_node\n",
    "            \n",
    "            if node.previous == None:\n",
    "                self.head = node\n",
    "            \n",
    "            node = node.previous\n",
    "            \n",
    "    def q12_insert(self, item):\n",
    "        current_head = self.head\n",
    "        new_node = NodeDouble(item)\n",
    "        \n",
    "        self.head = new_node\n",
    "        new_node.next = current_head\n",
    "        current_head.previous = new_node\n",
    "        \n",
    "    def q12_traverse(self):\n",
    "        return self.q8_traverse()\n",
    "    \n",
    "    def q13_search(self, item):\n",
    "        node = self.head\n",
    "        while node:\n",
    "            if node.data == item:\n",
    "                return True\n",
    "            \n",
    "            node = node.next\n",
    "            \n",
    "        return False\n",
    "    \n",
    "    def q14_delete(self, item):\n",
    "        node = self.head\n",
    "        while node:\n",
    "            if node.data == item:\n",
    "                previos_node = node.previous\n",
    "                next_node = node.next\n",
    "                \n",
    "                next_node.previos = previos_node\n",
    "                previos_node.next = next_node\n",
    "                \n",
    "                del node\n",
    "                return\n",
    "            \n",
    "            node = node.next\n",
    "            \n",
    "        return False\n",
    "    \n",
    "    def q14_traverse(self):\n",
    "        return self.q8_traverse()\n",
    "    \n",
    "class NodeDouble:\n",
    "    def __init__(self, data):\n",
    "        self.data = data\n",
    "        self.next = None\n",
    "        self.previous = None\n",
    "\n",
    "q8_ll = DoubleLinkedList([12, 'John', 19, True, 'Purple', False])\n",
    "print(q8_ll.q8_traverse())"
   ]
  },
  {
   "cell_type": "markdown",
   "metadata": {},
   "source": [
    "#### Question 9&nbsp;&nbsp;&nbsp;&nbsp;&nbsp;&nbsp;(5 Points)\n",
    "Write a Python program to create the following doubly linked list. \n",
    "```\n",
    "q9_ll = [12, 'John', 19, True, 'Purple', False]\n",
    "```\n",
    "Use `q9_traverse()` method to return the nodes from the last position to first node (i.e., backwards) as a list."
   ]
  },
  {
   "cell_type": "code",
   "execution_count": 55,
   "metadata": {
    "ExecuteTime": {
     "end_time": "2022-03-29T00:54:49.136543Z",
     "start_time": "2022-03-29T00:54:49.117557Z"
    },
    "tags": []
   },
   "outputs": [
    {
     "name": "stdout",
     "output_type": "stream",
     "text": [
      "[False, 'Purple', True, 19, 'John', 12]\n"
     ]
    }
   ],
   "source": [
    "# Write your solution here\n",
    "q9_ll = DoubleLinkedList([12, 'John', 19, True, 'Purple', False])\n",
    "print(q9_ll.q9_traverse())"
   ]
  },
  {
   "cell_type": "markdown",
   "metadata": {},
   "source": [
    "#### Question 10&nbsp;&nbsp;&nbsp;&nbsp;&nbsp;&nbsp;(5 Points)\n",
    "Write a Python program to count the number of items in the following doubly linked list using the method `q10_count()`\n",
    "```\n",
    "q10_ll = [12, 'John', 19, True, 'Purple', False]\n",
    "```"
   ]
  },
  {
   "cell_type": "code",
   "execution_count": 57,
   "metadata": {
    "ExecuteTime": {
     "end_time": "2022-03-29T01:18:35.258063Z",
     "start_time": "2022-03-29T01:18:35.236899Z"
    },
    "tags": []
   },
   "outputs": [
    {
     "name": "stdout",
     "output_type": "stream",
     "text": [
      "6\n"
     ]
    }
   ],
   "source": [
    "# Write your solution here\n",
    "q10_ll = DoubleLinkedList([12, 'John', 19, True, 'Purple', False])\n",
    "print(q10_ll.q10_count())\n"
   ]
  },
  {
   "cell_type": "markdown",
   "metadata": {},
   "source": [
    "#### Question 11&nbsp;&nbsp;&nbsp;&nbsp;&nbsp;&nbsp;(5 Points)\n",
    "Write a Python program to display the following doubly linked list in reverse order using `q11_reverse()` method.\n",
    "```\n",
    "q11_ll = [12, 'John', 19, True, 'Purple', False]\n",
    "```\n",
    "Use `q11_traverse()` method, which return the linked list elements as a list to verify whether the reversing has been performed correctly."
   ]
  },
  {
   "cell_type": "code",
   "execution_count": 73,
   "metadata": {
    "ExecuteTime": {
     "end_time": "2022-03-29T01:30:13.295220Z",
     "start_time": "2022-03-29T01:30:13.267280Z"
    },
    "tags": []
   },
   "outputs": [
    {
     "name": "stdout",
     "output_type": "stream",
     "text": [
      "[False, 'Purple', True, 19, 'John', 12]\n"
     ]
    }
   ],
   "source": [
    "# Write your solution here\n",
    "q11_ll = DoubleLinkedList([12, 'John', 19, True, 'Purple', False])\n",
    "q11_ll.q11_reverse()\n",
    "print(q11_ll.q11_traverse())\n"
   ]
  },
  {
   "cell_type": "markdown",
   "metadata": {},
   "source": [
    "#### Question 12&nbsp;&nbsp;&nbsp;&nbsp;&nbsp;&nbsp;(10 Points)\n",
    "Write a Python program to insert 'Kelly' in front of the following doubly linked list using `q12_insert(item)` method.\n",
    "```\n",
    "q12_ll = [12, 'John', 19, True, 'Purple', False]\n",
    "```\n",
    "Use `q12_traverse()` method, which return the items in the inked lists as a list to check whether your progam is correct."
   ]
  },
  {
   "cell_type": "code",
   "execution_count": 75,
   "metadata": {
    "ExecuteTime": {
     "end_time": "2022-03-29T01:33:51.919445Z",
     "start_time": "2022-03-29T01:33:51.899471Z"
    },
    "tags": []
   },
   "outputs": [
    {
     "name": "stdout",
     "output_type": "stream",
     "text": [
      "['Kelly', 12, 'John', 19, True, 'Purple', False]\n"
     ]
    }
   ],
   "source": [
    "# Write your solution here\n",
    "q12_ll = DoubleLinkedList([12, 'John', 19, True, 'Purple', False])\n",
    "q12_ll.q12_insert('Kelly')\n",
    "print(q12_ll.q12_traverse())\n"
   ]
  },
  {
   "cell_type": "markdown",
   "metadata": {},
   "source": [
    "#### Question 13&nbsp;&nbsp;&nbsp;&nbsp;&nbsp;&nbsp;(10 Points)\n",
    "Write a Python program to search whether 'John' is in the following doubly linked list using the method `q13_search(item)`. If the item is in the linked list, it should return `True`, otherwise return `False`. \n",
    "```\n",
    "q13_ll = [12, 'John', 19, True, 'Purple', False]\n",
    "```"
   ]
  },
  {
   "cell_type": "code",
   "execution_count": 77,
   "metadata": {
    "ExecuteTime": {
     "end_time": "2022-03-29T01:52:08.766606Z",
     "start_time": "2022-03-29T01:52:08.747659Z"
    },
    "tags": []
   },
   "outputs": [
    {
     "name": "stdout",
     "output_type": "stream",
     "text": [
      "True\n"
     ]
    }
   ],
   "source": [
    "# Write your solution here\n",
    "q13_ll = DoubleLinkedList([12, 'John', 19, True, 'Purple', False])\n",
    "print(q13_ll.q13_search('John'))\n"
   ]
  },
  {
   "cell_type": "markdown",
   "metadata": {},
   "source": [
    "#### Question 14&nbsp;&nbsp;&nbsp;&nbsp;&nbsp;&nbsp;(10 Points)\n",
    "Write a Python program to delete `19` from the following doubly linked list using `q14_delete(item)` method.\n",
    "```\n",
    "q14_ll = [12, 'John', 19, True, 'Purple', False]\n",
    "```\n",
    "Use the method `q14_traverse()` which returns the elements in the linked list as a list to check whether you have performed the opeartaions correctly."
   ]
  },
  {
   "cell_type": "code",
   "execution_count": 82,
   "metadata": {
    "ExecuteTime": {
     "end_time": "2022-03-29T02:00:50.776702Z",
     "start_time": "2022-03-29T02:00:50.762709Z"
    },
    "tags": []
   },
   "outputs": [
    {
     "name": "stdout",
     "output_type": "stream",
     "text": [
      "[12, 'John', True, 'Purple', False]\n"
     ]
    }
   ],
   "source": [
    "# Write your solution here\n",
    "q14_ll = DoubleLinkedList([12, 'John', 19, True, 'Purple', False])\n",
    "q14_ll.q14_delete(19)\n",
    "\n",
    "print(q14_ll.q14_traverse())\n"
   ]
  }
 ],
 "metadata": {
  "celltoolbar": "Edit Metadata",
  "kernelspec": {
   "display_name": "Python 3 (ipykernel)",
   "language": "python",
   "name": "python3"
  },
  "language_info": {
   "codemirror_mode": {
    "name": "ipython",
    "version": 3
   },
   "file_extension": ".py",
   "mimetype": "text/x-python",
   "name": "python",
   "nbconvert_exporter": "python",
   "pygments_lexer": "ipython3",
   "version": "3.9.7"
  },
  "otter": {
   "tests": {
    "Question 01": {
     "name": "Question 01",
     "points": 5,
     "suites": [
      {
       "cases": [],
       "scored": true,
       "setup": "",
       "teardown": "",
       "type": "doctest"
      }
     ]
    },
    "Question 02": {
     "name": "Question 02",
     "points": 5,
     "suites": [
      {
       "cases": [],
       "scored": true,
       "setup": "",
       "teardown": "",
       "type": "doctest"
      }
     ]
    },
    "Question 03": {
     "name": "Question 03",
     "points": 5,
     "suites": [
      {
       "cases": [],
       "scored": true,
       "setup": "",
       "teardown": "",
       "type": "doctest"
      }
     ]
    },
    "Question 04": {
     "name": "Question 04",
     "points": 5,
     "suites": [
      {
       "cases": [],
       "scored": true,
       "setup": "",
       "teardown": "",
       "type": "doctest"
      }
     ]
    },
    "Question 05": {
     "name": "Question 05",
     "points": 10,
     "suites": [
      {
       "cases": [],
       "scored": true,
       "setup": "",
       "teardown": "",
       "type": "doctest"
      }
     ]
    },
    "Question 06": {
     "name": "Question 06",
     "points": 10,
     "suites": [
      {
       "cases": [],
       "scored": true,
       "setup": "",
       "teardown": "",
       "type": "doctest"
      }
     ]
    },
    "Question 07": {
     "name": "Question 07",
     "points": 10,
     "suites": [
      {
       "cases": [],
       "scored": true,
       "setup": "",
       "teardown": "",
       "type": "doctest"
      }
     ]
    },
    "Question 08": {
     "name": "Question 08",
     "points": 5,
     "suites": [
      {
       "cases": [],
       "scored": true,
       "setup": "",
       "teardown": "",
       "type": "doctest"
      }
     ]
    },
    "Question 09": {
     "name": "Question 09",
     "points": 5,
     "suites": [
      {
       "cases": [],
       "scored": true,
       "setup": "",
       "teardown": "",
       "type": "doctest"
      }
     ]
    },
    "Question 10": {
     "name": "Question 10",
     "points": 5,
     "suites": [
      {
       "cases": [],
       "scored": true,
       "setup": "",
       "teardown": "",
       "type": "doctest"
      }
     ]
    },
    "Question 11": {
     "name": "Question 11",
     "points": 5,
     "suites": [
      {
       "cases": [],
       "scored": true,
       "setup": "",
       "teardown": "",
       "type": "doctest"
      }
     ]
    },
    "Question 12": {
     "name": "Question 12",
     "points": 10,
     "suites": [
      {
       "cases": [],
       "scored": true,
       "setup": "",
       "teardown": "",
       "type": "doctest"
      }
     ]
    },
    "Question 13": {
     "name": "Question 13",
     "points": 10,
     "suites": [
      {
       "cases": [],
       "scored": true,
       "setup": "",
       "teardown": "",
       "type": "doctest"
      }
     ]
    },
    "Question 14": {
     "name": "Question 14",
     "points": 10,
     "suites": [
      {
       "cases": [],
       "scored": true,
       "setup": "",
       "teardown": "",
       "type": "doctest"
      }
     ]
    }
   }
  },
  "varInspector": {
   "cols": {
    "lenName": 16,
    "lenType": 16,
    "lenVar": 40
   },
   "kernels_config": {
    "python": {
     "delete_cmd_postfix": "",
     "delete_cmd_prefix": "del ",
     "library": "var_list.py",
     "varRefreshCmd": "print(var_dic_list())"
    },
    "r": {
     "delete_cmd_postfix": ") ",
     "delete_cmd_prefix": "rm(",
     "library": "var_list.r",
     "varRefreshCmd": "cat(var_dic_list()) "
    }
   },
   "types_to_exclude": [
    "module",
    "function",
    "builtin_function_or_method",
    "instance",
    "_Feature"
   ],
   "window_display": false
  }
 },
 "nbformat": 4,
 "nbformat_minor": 4
}
