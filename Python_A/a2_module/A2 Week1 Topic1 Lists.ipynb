{
 "cells": [
  {
   "cell_type": "code",
   "execution_count": null,
   "metadata": {},
   "outputs": [],
   "source": [
    "import pandas as pd\n",
    "import numpy as np\n",
    "%matplotlib inline\n",
    "import otter\n",
    "grader = otter.Notebook()"
   ]
  },
  {
   "cell_type": "markdown",
   "metadata": {},
   "source": [
    "# A2 | Week 1: Practice Lists\n",
    "\n",
    "------\n",
    "\n",
    "### Instructions:\n",
    "\n",
    "- Complete 50 points worth of questions to pass the assessment\n",
    "  - You can attempt any number of questions and in any order provided you pass at least 50 points.\n",
    "- Develop and check your answers in the spaces provided.\n",
    "  - Do not remove any variables other provided markings already present in the answer spaces.\n",
    "  - Do not make any changes to this notebook outside of the answer spaces provided.\n",
    "  \n",
    "#### Submitting\n",
    "\n",
    "- Upload your .ipynb file to Gradescope (Make sure to restart the kernel and run all before you submit)\n",
    "- You can submit as many times as needed\n",
    "- When reviewing results, ignore any results listed under \"Public Tests\"\n",
    "\n",
    "For more information, see the assessment page. We have also provided an example question below for clarity. "
   ]
  },
  {
   "cell_type": "markdown",
   "metadata": {},
   "source": [
    "#### Question 1&nbsp;&nbsp;&nbsp;&nbsp;&nbsp;&nbsp;(3 Points)\n",
    "Write a Python program to build a list of following numbers.\n",
    "\n",
    "    0, 1, 1, 2, 3, 5, 8, 13, 21, 34\n",
    "\n",
    "Create a variable `output1_i` and assign the solution to it. Create a variable `output1_ii` and assign the length of this list."
   ]
  },
  {
   "cell_type": "code",
   "execution_count": 1,
   "metadata": {
    "tags": []
   },
   "outputs": [
    {
     "name": "stdout",
     "output_type": "stream",
     "text": [
      "[0, 1, 1, 2, 3, 5, 8, 13, 21, 34]\n",
      "10\n"
     ]
    }
   ],
   "source": [
    "# Write your solution here\n",
    "output1_i = [0, 1, 1, 2, 3, 5, 8, 13, 21, 34]\n",
    "print(output1_i)\n",
    "\n",
    "output1_ii = len(output1_i)\n",
    "print(output1_ii)"
   ]
  },
  {
   "cell_type": "markdown",
   "metadata": {},
   "source": [
    "#### Question 2&nbsp;&nbsp;&nbsp;&nbsp;&nbsp;&nbsp;(3 Points)\n",
    "Write a Python program to sort the following list of numbers in ascending order.\n",
    "\n",
    "    1, 2, 3, 4, 5, 5, 4, 3, 2, 1\n",
    "\n",
    "Create a variable `output2` and assign the solution to it."
   ]
  },
  {
   "cell_type": "code",
   "execution_count": 2,
   "metadata": {
    "tags": []
   },
   "outputs": [
    {
     "name": "stdout",
     "output_type": "stream",
     "text": [
      "[1, 1, 2, 2, 3, 3, 4, 4, 5, 5]\n"
     ]
    }
   ],
   "source": [
    "# Write your solution here\n",
    "output2 = [1, 2, 3, 4, 5, 5, 4, 3, 2, 1]\n",
    "output2.sort()\n",
    "\n",
    "print(output2)\n"
   ]
  },
  {
   "cell_type": "markdown",
   "metadata": {},
   "source": [
    "#### Question 3&nbsp;&nbsp;&nbsp;&nbsp;&nbsp;&nbsp;(3 Points)\n",
    "Write a Python program to count all the instances of 1 in the following list.\n",
    "\n",
    "    1, 1, 3, 1, 1, 1, 1, 9, 1, 1\n",
    "\n",
    "Create a variable `output3` and assign the solution to it."
   ]
  },
  {
   "cell_type": "code",
   "execution_count": 3,
   "metadata": {
    "tags": []
   },
   "outputs": [
    {
     "name": "stdout",
     "output_type": "stream",
     "text": [
      "8\n"
     ]
    }
   ],
   "source": [
    "# Write your solution here\n",
    "temp = [1, 1, 3, 1, 1, 1, 1, 9, 1, 1]\n",
    "output3 = temp.count(1)\n",
    "\n",
    "print(output3)"
   ]
  },
  {
   "cell_type": "markdown",
   "metadata": {},
   "source": [
    "#### Question 4&nbsp;&nbsp;&nbsp;&nbsp;&nbsp;&nbsp;(3 Points)\n",
    "Write a Python program that copies the following list into the new variable `output4`. \n",
    "\n",
    "    'James', 'Male', 37"
   ]
  },
  {
   "cell_type": "code",
   "execution_count": 8,
   "metadata": {
    "tags": []
   },
   "outputs": [
    {
     "name": "stdout",
     "output_type": "stream",
     "text": [
      "['James', 'Male', 37]\n"
     ]
    }
   ],
   "source": [
    "q4_list = ['James', 'Male', 37]\n",
    "\n",
    "# Write your solution here\n",
    "\n",
    "output4 = list(q4_list)\n",
    "print(output4)"
   ]
  },
  {
   "cell_type": "markdown",
   "metadata": {},
   "source": [
    "#### Question 5&nbsp;&nbsp;&nbsp;&nbsp;&nbsp;&nbsp;(3 Points)\n",
    "Write a Python program that concatenates the following two lists (in the order listed below). Create the variable `output5` and assign the solution to it.\n",
    "\n",
    "    'January', 'February', 'March', 'April', 'May, 'June'\n",
    "    'July', 'August', 'September', 'October', 'November', 'December'"
   ]
  },
  {
   "cell_type": "code",
   "execution_count": 9,
   "metadata": {
    "tags": []
   },
   "outputs": [
    {
     "name": "stdout",
     "output_type": "stream",
     "text": [
      "['January', 'February', 'March', 'April', 'May', 'June', 'July', 'August', 'September', 'October', 'November', 'December']\n"
     ]
    }
   ],
   "source": [
    "# Write your solution here\n",
    "q5_lst1 = ['January', 'February', 'March', 'April', 'May', 'June']\n",
    "q5_lst2 = ['July', 'August', 'September', 'October', 'November', 'December']\n",
    "\n",
    "output5 = []\n",
    "output5.extend(q5_lst1)\n",
    "output5.extend(q5_lst2)\n",
    "\n",
    "print(output5)\n"
   ]
  },
  {
   "cell_type": "markdown",
   "metadata": {},
   "source": [
    "#### Question 6&nbsp;&nbsp;&nbsp;&nbsp;&nbsp;&nbsp;(5 Points)\n",
    "Starting with the following list.\n",
    "\n",
    "    9, 8, 7, 5, 6, 4, 3, 2, 1\n",
    "\n",
    "Write a Python program to transform the list to the following without changing the original list and exclusively using list methods. Create a variable `output6` and assign the solution to it.\n",
    "\n",
    "    1, 2, 3, 4, 5, 6, 7, 8, 9, 10"
   ]
  },
  {
   "cell_type": "code",
   "execution_count": 16,
   "metadata": {
    "tags": []
   },
   "outputs": [
    {
     "name": "stdout",
     "output_type": "stream",
     "text": [
      "[1, 2, 3, 4, 5, 6, 7, 8, 9, 10]\n",
      "[1, 2, 3, 4, 5, 6, 7, 8, 9, 10]\n"
     ]
    }
   ],
   "source": [
    "q6_list = [9, 8, 7, 5, 6, 4, 3, 2, 1]\n",
    "\n",
    "# Write your solution here\n",
    "output6 = q6_list.copy()\n",
    "output6.sort()\n",
    "output6.append(10)\n",
    "\n",
    "print(output6)"
   ]
  },
  {
   "cell_type": "markdown",
   "metadata": {},
   "source": [
    "#### Question 7&nbsp;&nbsp;&nbsp;&nbsp;&nbsp;&nbsp;(5 Points) \n",
    "Starting with the following list.\n",
    "\n",
    "    3, 2, 1, 3, 2, 1, 3, 2, 1\n",
    "\n",
    "Write a Python program transform the list to the following without changing the original list and exclusively using list methods. Create a variable `output7` and assign the solution to it.\n",
    "\n",
    "    1, 2, 3, 1, 2, 3, 2, 3"
   ]
  },
  {
   "cell_type": "code",
   "execution_count": 18,
   "metadata": {
    "tags": []
   },
   "outputs": [
    {
     "name": "stdout",
     "output_type": "stream",
     "text": [
      "[1, 2, 3, 1, 2, 3, 2, 3]\n"
     ]
    }
   ],
   "source": [
    "q7_list = [3, 2, 1, 3, 2, 1, 3, 2, 1]\n",
    "\n",
    "# Write your solution here\n",
    "\n",
    "temp7 = []\n",
    "temp7.append(q7_list[0:3])\n",
    "temp7.append(q7_list[3:6])\n",
    "temp7.append(q7_list[6:9])\n",
    "\n",
    "output7 = []\n",
    "for item in temp7:\n",
    "    item.reverse()\n",
    "    output7.extend(item)\n",
    "\n",
    "output7.pop(6)\n",
    "\n",
    "print(output7)\n",
    "\n"
   ]
  },
  {
   "cell_type": "markdown",
   "metadata": {},
   "source": [
    "#### Question 8&nbsp;&nbsp;&nbsp;&nbsp;&nbsp;&nbsp;(5 Points) \n",
    "Write a Python program to check if the number 5 is in the following sequence using an if statement. Create a string `output8`, if the number 5 is in the list, the string should contain \"The number 5 is in the list.\", otherwise it should contain \"The number 5 is not in the list.\"\n",
    "\n",
    "    1, 7, 6, 55, 3, 3, 80, 0.5, 5.1, 555, 678, 1001, 4, 68, 41, 901, 4.999, 450, 10, 0"
   ]
  },
  {
   "cell_type": "code",
   "execution_count": 21,
   "metadata": {
    "tags": []
   },
   "outputs": [
    {
     "name": "stdout",
     "output_type": "stream",
     "text": [
      "The number 5 is not in the list.\n"
     ]
    }
   ],
   "source": [
    "q8_list = [1, 7, 6, 55, 3, 3, 80, 0.5, 5.1, 555, 678, 1001, 4, 68, 41, 901, 4.999, 450, 10, 0]\n",
    "\n",
    "# Write your solution here\n",
    "if 5 in q8_list:\n",
    "    output8 = \"The number 5 is in the list.\"\n",
    "else:\n",
    "    output8 = \"The number 5 is not in the list.\"\n",
    "\n",
    "print(output8)\n"
   ]
  },
  {
   "cell_type": "markdown",
   "metadata": {},
   "source": [
    "#### Question 9&nbsp;&nbsp;&nbsp;&nbsp;&nbsp;&nbsp;(5 Points)\n",
    "Starting with the following two lists.\n",
    "\n",
    "    'Jenny', 'Female'\n",
    "    \n",
    "    5, 2\n",
    "    \n",
    "Write a Python program to created a *nested list* by appending the entire second list to be a single element of the first list. Create a variable `output9_i` and assign the solution to it. Afterwards, create a variable `output9_ii` and assign the length of `output9_i` to it."
   ]
  },
  {
   "cell_type": "code",
   "execution_count": 22,
   "metadata": {
    "tags": []
   },
   "outputs": [
    {
     "name": "stdout",
     "output_type": "stream",
     "text": [
      "['Jenny', 'Female', [5, 2]]\n",
      "3\n"
     ]
    }
   ],
   "source": [
    "q9_list1 = ['Jenny', 'Female']\n",
    "q9_list2 = [5,2]\n",
    "\n",
    "# Write your solution here\n",
    "output9_i = q9_list1.copy()\n",
    "output9_i.append(q9_list2)\n",
    "\n",
    "output9_ii = len(output9_i)\n",
    "\n",
    "print(output9_i)\n",
    "print(output9_ii)"
   ]
  },
  {
   "cell_type": "markdown",
   "metadata": {},
   "source": [
    "#### Question 10&nbsp;&nbsp;&nbsp;&nbsp;&nbsp;&nbsp;(5 Points)\n",
    "Starting with the following list.\n",
    "\n",
    "    2, 4, 6, 8, 10\n",
    "    \n",
    "Write a Python remove the last element of the list.\n",
    "1. Create a variable `output10_i` and assign the value that was removed from the list to it.\n",
    "2. Create a variable `output10_ii` and assign the list to it."
   ]
  },
  {
   "cell_type": "code",
   "execution_count": 23,
   "metadata": {
    "tags": []
   },
   "outputs": [
    {
     "name": "stdout",
     "output_type": "stream",
     "text": [
      "10\n",
      "[2, 4, 6, 8]\n"
     ]
    }
   ],
   "source": [
    "q10_list = [2, 4, 6, 8, 10]\n",
    "\n",
    "# Write your solution here\n",
    "output10_i = q10_list.pop()\n",
    "output10_ii = q10_list\n",
    "\n",
    "print(output10_i)\n",
    "print(output10_ii)\n"
   ]
  },
  {
   "cell_type": "markdown",
   "metadata": {},
   "source": [
    "#### Question 11&nbsp;&nbsp;&nbsp;&nbsp;&nbsp;&nbsp;(10 Points)\n",
    "Starting with the following list.\n",
    "\n",
    "    -1, -2, -3, -4, -5, 6, -7, -8, -9, -10\n",
    "\n",
    "Write a Python program to transform the list above a list with two elements, each containing a list. The first element, should contain all numbers less than 0 in ascendeding order, while the second should contain all elements greater than 0 in ascending order. You must do this exclusively using list methods. Create a variable `output11` and assign the solution to it.\n",
    "\n",
    "***\n",
    "<details>\n",
    "  <summary><span style=\"color:blue\">Click to see Hints</span></summary>\n",
    "    \n",
    "* Use the list operations `sort()`, `pop()` and `append()` to perform this.\n",
    "</details>\n"
   ]
  },
  {
   "cell_type": "code",
   "execution_count": 6,
   "metadata": {
    "tags": []
   },
   "outputs": [
    {
     "name": "stdout",
     "output_type": "stream",
     "text": [
      "[[-10, -9, -8, -7, -5, -4, -3, -2, -1], [6]]\n"
     ]
    }
   ],
   "source": [
    "q11_list = [-1, -2, -3, -4, -5, 6, -7, -8, -9, -10]\n",
    "\n",
    "# Write your solution here\n",
    "q11_list.sort()\n",
    "q11_temp = list()\n",
    "q11_temp.append(q11_list.pop())\n",
    "\n",
    "output11 = []\n",
    "output11.append(q11_list)\n",
    "output11.append(q11_temp)\n",
    "\n",
    "print(output11)\n"
   ]
  },
  {
   "cell_type": "markdown",
   "metadata": {},
   "source": [
    "#### Question 12&nbsp;&nbsp;&nbsp;&nbsp;&nbsp;&nbsp;(10 Points)\n",
    "Starting with the following list.\n",
    "\n",
    "    'a', 'b', 'c', 'd', 'e'\n",
    "\n",
    "Write a Python program to transform the list to the following without changing the original list and exclusively using list methods. Create a variable `output12` and assign the solution to it.\n",
    "\n",
    "    'a', 'a', 'b', 'b', 'c', 'c', 'd', 'd', 'e', 'e'"
   ]
  },
  {
   "cell_type": "code",
   "execution_count": 26,
   "metadata": {
    "tags": []
   },
   "outputs": [
    {
     "name": "stdout",
     "output_type": "stream",
     "text": [
      "['a', 'a', 'b', 'b', 'c', 'c', 'd', 'd', 'e', 'e']\n"
     ]
    }
   ],
   "source": [
    "q12_list = ['a', 'b', 'c', 'd', 'e']\n",
    "\n",
    "# Write your solution here\n",
    "q12_temp = q12_list.copy()\n",
    "output12 = []\n",
    "\n",
    "while (len(q12_temp) > 0):\n",
    "    temp = q12_temp.pop()\n",
    "    output12.append(temp)\n",
    "    output12.append(temp)\n",
    "    \n",
    "output12.reverse()\n",
    "print(output12)\n"
   ]
  },
  {
   "cell_type": "markdown",
   "metadata": {},
   "source": [
    "#### Question 13&nbsp;&nbsp;&nbsp;&nbsp;&nbsp;&nbsp;(10 Points)\n",
    "Starting with the following list.\n",
    "\n",
    "    37, 60, 41, 30, \"\", 15, 59, \"\", \"\", 76, 79, 91\n",
    "    \n",
    "Write a Python program to remove all empty elements (i.e., `\"\"`) from this list (i.e., `q13_list`) exclusively using list methods that you have learnt, with a while loop. \n",
    "\n",
    "Make a copy of this list and assign it to the variable `output13`. Sort this list in descending order and remove the last element of it.\n",
    "\n",
    "***\n",
    "<details>\n",
    "  <summary><span style=\"color:blue\">Click to see Hints</span></summary>\n",
    "    \n",
    "* To remove empty elements (i.e., `\"\"`) from `q13_list` list, you will need to use `in` and `remove` list operations along with a while loop.\n",
    "</details>"
   ]
  },
  {
   "cell_type": "code",
   "execution_count": 30,
   "metadata": {
    "tags": []
   },
   "outputs": [
    {
     "name": "stdout",
     "output_type": "stream",
     "text": [
      "[91, 79, 76, 60, 59, 41, 37, 30, 15]\n"
     ]
    }
   ],
   "source": [
    "q13_list = [37, 60, 41, 30, \"\", 15, 59, \"\", \"\", 76, 79, 91]\n",
    "\n",
    "# Write your solution here\n",
    "while (\"\" in q13_list):\n",
    "    q13_list.remove(\"\")\n",
    "output13 = q13_list.copy()\n",
    "output13.sort(reverse=True)\n",
    "output13.pop()\n",
    "print(output13)"
   ]
  },
  {
   "cell_type": "markdown",
   "metadata": {},
   "source": [
    "#### Question 14&nbsp;&nbsp;&nbsp;&nbsp;&nbsp;&nbsp;(10 Points)\n",
    "Suppose you are given the following two lists: `q14_list1 = [1,2,3,4]` and `q14_list2 = [5,6,7,8,9,10]`.\n",
    "\n",
    "Write a Python program to transform `q14_list1` to the following using the list elements in `q14_list2` and exclusively using list methods. \n",
    "```\n",
    "[1, 2, 3, 4, [10], [5], [9], [6], [8], [7]]\n",
    "```\n",
    "\n",
    "Create a variable `output14` and assign a copy of `q14_list1` to it.\n",
    "\n",
    "***\n",
    "<details>\n",
    "  <summary><span style=\"color:blue\">Click to see Hints</span></summary>\n",
    "    \n",
    "* You will need to use `sort` and `pop` list operations to do this.\n",
    "</details>\n"
   ]
  },
  {
   "cell_type": "code",
   "execution_count": 7,
   "metadata": {
    "tags": []
   },
   "outputs": [
    {
     "name": "stdout",
     "output_type": "stream",
     "text": [
      "[1, 2, 3, 4, [10], [5], [9], [6], [8], [7]]\n"
     ]
    }
   ],
   "source": [
    "q14_list1 = [1,2,3,4]\n",
    "q14_list2 = [5,6,7,8,9,10]\n",
    "\n",
    "# Write your solution here\n",
    "index = 1\n",
    "\n",
    "while (len(q14_list2) > 0):\n",
    "    if (index % 2 == 0):\n",
    "        q14_list2.sort(reverse=True)\n",
    "    else:\n",
    "        q14_list2.sort()\n",
    "    \n",
    "    q14_temp_list = []\n",
    "    q14_temp_list.append(q14_list2.pop())\n",
    "    q14_list1.append(q14_temp_list)\n",
    "    index += 1\n",
    "    \n",
    "output14 = q14_list1.copy()\n",
    "print(output14)\n"
   ]
  },
  {
   "cell_type": "markdown",
   "metadata": {},
   "source": [
    "#### Question 15 &nbsp;&nbsp;&nbsp;&nbsp;&nbsp;&nbsp;(10 Points) \n",
    "Suppose you are given the following list.\n",
    "```\n",
    "q15_list = ['john', 'Danise', 'david', 'Kelly', 'william', 'Noah', 'jack', 'charlotte', 'mia', 'olivia']\n",
    "```\n",
    "Use the elements in this list (i.e., `q15_list`) to create the following list using list operations. Create the variable `output15` and assign the solution to it.\n",
    "\n",
    "`[['charlotte', 'DANISE', 'david'], ['jack', 'john', 'kelly', 'mia'], ['NOAH', 'olivia', 'william']]`"
   ]
  },
  {
   "cell_type": "code",
   "execution_count": 14,
   "metadata": {
    "tags": []
   },
   "outputs": [
    {
     "name": "stdout",
     "output_type": "stream",
     "text": [
      "[['charlotte', 'DANISE', 'david'], ['jack', 'john', 'kelly', 'mia'], ['NOAH', 'olivia', 'william']]\n"
     ]
    }
   ],
   "source": [
    "q15_list = ['john', 'Danise', 'david', 'Kelly', 'william', 'Noah', 'jack', 'charlotte', 'mia', 'olivia']\n",
    "\n",
    "# Write your solution here\n",
    "q15_temp = q15_list.copy()\n",
    "\n",
    "q15_temp.sort(key=str.lower)\n",
    "\n",
    "output15 = []\n",
    "\n",
    "output15.append(q15_temp[0:3])\n",
    "output15.append(q15_temp[3:7])\n",
    "output15.append(q15_temp[7:10])\n",
    "\n",
    "output15[0][1] = output15[0][1].upper()\n",
    "output15[2][0] = output15[2][0].upper()\n",
    "output15[1][2] = output15[1][2].lower()\n",
    "print(output15)"
   ]
  },
  {
   "cell_type": "markdown",
   "metadata": {},
   "source": [
    "#### Question 16 &nbsp;&nbsp;&nbsp;&nbsp;&nbsp;&nbsp;(10 Points)\n",
    "Suppose you are given the following list.\n",
    "```\n",
    "q16_list = [9, 10.1, \"John\", True, [20, \"Danise\", False, 19.1], \"David\"]\n",
    "```\n",
    "1. Check if `Danise` is in `q16_list`. Create the variable `output16_i` and assign the solution to it.\n",
    "\n",
    "2. Make a copy of `q16_list` and assign it to `output16_ii`. Clear the elements in `output16_ii` using list operations.\n",
    "\n",
    "3. Make a copy of `q16_list` and assign it to `output16_iii`. Concatenate the following list `[[1,2,3,4,5,6]]` to `output16_iii`.\n",
    "\n",
    "4. Count the number of times \"john\" appears in `q16_list`. Create the variable `output16_iv` and assign the solution to it.\n",
    "\n",
    "5. Make a copy of `q16_list` and assign it to `output16_v`. Use `output16_v` and list operations to  obtain the following list: `[9, 9 , 10.1, 10.1]`\n",
    "\n",
    "6. Make a copy of `q16_list` and assign it to `output16_vi`. Use `output16_vi` and list operations to  obtain the following list: `[[20, \"Danise\", False, 19.1], [20, \"Danise\", False, 19.1], [20, \"Danise\", False, 19.1]]`"
   ]
  },
  {
   "cell_type": "code",
   "execution_count": 55,
   "metadata": {
    "tags": []
   },
   "outputs": [
    {
     "name": "stdout",
     "output_type": "stream",
     "text": [
      "False\n",
      "[]\n",
      "[9, 10.1, 'John', True, [20, 'Danise', False, 19.1], 'David', [1, 2, 3, 4, 5, 6]]\n",
      "0\n",
      "[9, 9, 10.1, 10.1]\n",
      "[[20, 'Danise', False, 19.1], [20, 'Danise', False, 19.1], [20, 'Danise', False, 19.1]]\n"
     ]
    }
   ],
   "source": [
    "q16_list = [9, 10.1, \"John\", True, [20, \"Danise\", False, 19.1], \"David\"]\n",
    "\n",
    "# Write your solution here\n",
    "output16_i = \"Danise\" in q16_list\n",
    "print(output16_i)\n",
    "\n",
    "output16_ii = q16_list.copy()\n",
    "output16_ii.clear()\n",
    "print(output16_ii)\n",
    "\n",
    "output16_iii = q16_list.copy()\n",
    "output16_iii.append([1,2,3,4,5,6])\n",
    "print(output16_iii)\n",
    "\n",
    "output16_iv = q16_list.count(\"john\")\n",
    "print(output16_iv)\n",
    "\n",
    "output16_v = q16_list.copy()\n",
    "while(len(output16_v) >= 3):\n",
    "    output16_v.pop(2)\n",
    "    \n",
    "output16_v.extend(output16_v.copy())\n",
    "output16_v.sort()\n",
    "\n",
    "print(output16_v)\n",
    "\n",
    "output16_vi = q16_list.copy()\n",
    "output16_vi.pop()\n",
    "while(len(output16_vi) > 1):\n",
    "    output16_vi.pop(0)\n",
    "\n",
    "\n",
    "output16_vi.append(output16_vi[0])\n",
    "output16_vi.append(output16_vi[0])\n",
    "print(output16_vi)"
   ]
  }
 ],
 "metadata": {
  "celltoolbar": "Edit Metadata",
  "kernelspec": {
   "display_name": "Python 3 (ipykernel)",
   "language": "python",
   "name": "python3"
  },
  "language_info": {
   "codemirror_mode": {
    "name": "ipython",
    "version": 3
   },
   "file_extension": ".py",
   "mimetype": "text/x-python",
   "name": "python",
   "nbconvert_exporter": "python",
   "pygments_lexer": "ipython3",
   "version": "3.9.7"
  },
  "otter": {
   "tests": {
    "Question 01": {
     "name": "Question 01",
     "points": 3,
     "suites": [
      {
       "cases": [],
       "scored": true,
       "setup": "",
       "teardown": "",
       "type": "doctest"
      }
     ]
    },
    "Question 02": {
     "name": "Question 02",
     "points": 3,
     "suites": [
      {
       "cases": [],
       "scored": true,
       "setup": "",
       "teardown": "",
       "type": "doctest"
      }
     ]
    },
    "Question 03": {
     "name": "Question 03",
     "points": 3,
     "suites": [
      {
       "cases": [],
       "scored": true,
       "setup": "",
       "teardown": "",
       "type": "doctest"
      }
     ]
    },
    "Question 04": {
     "name": "Question 04",
     "points": 3,
     "suites": [
      {
       "cases": [],
       "scored": true,
       "setup": "",
       "teardown": "",
       "type": "doctest"
      }
     ]
    },
    "Question 05": {
     "name": "Question 05",
     "points": 3,
     "suites": [
      {
       "cases": [],
       "scored": true,
       "setup": "",
       "teardown": "",
       "type": "doctest"
      }
     ]
    },
    "Question 06": {
     "name": "Question 06",
     "points": 5,
     "suites": [
      {
       "cases": [],
       "scored": true,
       "setup": "",
       "teardown": "",
       "type": "doctest"
      }
     ]
    },
    "Question 07": {
     "name": "Question 07",
     "points": 5,
     "suites": [
      {
       "cases": [],
       "scored": true,
       "setup": "",
       "teardown": "",
       "type": "doctest"
      }
     ]
    },
    "Question 08": {
     "name": "Question 08",
     "points": 5,
     "suites": [
      {
       "cases": [],
       "scored": true,
       "setup": "",
       "teardown": "",
       "type": "doctest"
      }
     ]
    },
    "Question 09": {
     "name": "Question 09",
     "points": 5,
     "suites": [
      {
       "cases": [],
       "scored": true,
       "setup": "",
       "teardown": "",
       "type": "doctest"
      }
     ]
    },
    "Question 10": {
     "name": "Question 10",
     "points": 5,
     "suites": [
      {
       "cases": [],
       "scored": true,
       "setup": "",
       "teardown": "",
       "type": "doctest"
      }
     ]
    },
    "Question 11": {
     "name": "Question 11",
     "points": 10,
     "suites": [
      {
       "cases": [],
       "scored": true,
       "setup": "",
       "teardown": "",
       "type": "doctest"
      }
     ]
    },
    "Question 12": {
     "name": "Question 12",
     "points": 10,
     "suites": [
      {
       "cases": [],
       "scored": true,
       "setup": "",
       "teardown": "",
       "type": "doctest"
      }
     ]
    },
    "Question 13": {
     "name": "Question 13",
     "points": 10,
     "suites": [
      {
       "cases": [],
       "scored": true,
       "setup": "",
       "teardown": "",
       "type": "doctest"
      }
     ]
    },
    "Question 14": {
     "name": "Question 14",
     "points": 10,
     "suites": [
      {
       "cases": [],
       "scored": true,
       "setup": "",
       "teardown": "",
       "type": "doctest"
      }
     ]
    },
    "Question 15": {
     "name": "Question 15",
     "points": 10,
     "suites": [
      {
       "cases": [],
       "scored": true,
       "setup": "",
       "teardown": "",
       "type": "doctest"
      }
     ]
    },
    "Question 16": {
     "name": "Question 16",
     "points": 10,
     "suites": [
      {
       "cases": [],
       "scored": true,
       "setup": "",
       "teardown": "",
       "type": "doctest"
      }
     ]
    }
   }
  },
  "varInspector": {
   "cols": {
    "lenName": 16,
    "lenType": 16,
    "lenVar": 40
   },
   "kernels_config": {
    "python": {
     "delete_cmd_postfix": "",
     "delete_cmd_prefix": "del ",
     "library": "var_list.py",
     "varRefreshCmd": "print(var_dic_list())"
    },
    "r": {
     "delete_cmd_postfix": ") ",
     "delete_cmd_prefix": "rm(",
     "library": "var_list.r",
     "varRefreshCmd": "cat(var_dic_list()) "
    }
   },
   "types_to_exclude": [
    "module",
    "function",
    "builtin_function_or_method",
    "instance",
    "_Feature"
   ],
   "window_display": false
  }
 },
 "nbformat": 4,
 "nbformat_minor": 4
}
