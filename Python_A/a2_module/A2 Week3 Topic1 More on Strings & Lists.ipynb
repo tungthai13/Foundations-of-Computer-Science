{
 "cells": [
  {
   "cell_type": "code",
   "execution_count": null,
   "metadata": {},
   "outputs": [],
   "source": [
    "import pandas as pd\n",
    "import numpy as np\n",
    "%matplotlib inline\n",
    "import otter\n",
    "grader = otter.Notebook()"
   ]
  },
  {
   "cell_type": "markdown",
   "metadata": {},
   "source": [
    "# A2 | Week 2: Practice More on Strings & Lists\n",
    "\n",
    "------\n",
    "\n",
    "### Instructions:\n",
    "\n",
    "- Complete 50 points worth of questions to pass the assessment\n",
    "  - You can attempt any number of questions and in any order provided you pass at least 50 points.\n",
    "- Develop and check your answers in the spaces provided.\n",
    "  - Do not remove any variables other provided markings already present in the answer spaces.\n",
    "  - Do not make any changes to this notebook outside of the answer spaces provided.\n",
    "  \n",
    "#### Submitting\n",
    "\n",
    "- Upload your .ipynb file to Gradescope (Make sure to restart the kernel and run all before you submit)\n",
    "- You can submit as many times as needed\n",
    "- When reviewing results, ignore any results listed under \"Public Tests\"\n",
    "\n",
    "For more information, see the assessment page. We have also provided an example question below for clarity. "
   ]
  },
  {
   "cell_type": "markdown",
   "metadata": {},
   "source": [
    "#### Question 1&nbsp;&nbsp;&nbsp;&nbsp;&nbsp;&nbsp;(3 Points)\n",
    "\n",
    "Consider a pre-defined list\n",
    "\n",
    "q1_list = [1,2,3,4,5,6,7]\n",
    "\n",
    "Replace the second index with 0 using the function `q1_output` that takes 1 parameter which is a list. Your function should return the following list: [1,2,0,4,5,6,7] (i.e., the second is replaced with 0, as decribed in the question)."
   ]
  },
  {
   "cell_type": "code",
   "execution_count": 23,
   "metadata": {
    "tags": []
   },
   "outputs": [
    {
     "name": "stdout",
     "output_type": "stream",
     "text": [
      "[1, 2, 0, 4, 5, 6, 7]\n"
     ]
    }
   ],
   "source": [
    "# Write your solution here\n",
    "def q1_output(items):\n",
    "    items[2] = 0\n",
    "    return items\n",
    "\n",
    "q1_list = [1,2,3,4,5,6,7]\n",
    "print(q1_output(q1_list))\n"
   ]
  },
  {
   "cell_type": "markdown",
   "metadata": {},
   "source": [
    "#### Question 2&nbsp;&nbsp;&nbsp;&nbsp;&nbsp;&nbsp;(3 Points)\n",
    "\n",
    "Consider a list\n",
    "\n",
    "q2_list = [1,2,3,4,5,6,7,8,9,10]\n",
    "\n",
    "Replace the even indexes with 0 and odd indexes with 1 using the function `q2_output` that takes 1 parameter which is a list. Your function should return the following list: [0, 1, 0, 1, 0, 1, 0, 1, 0, 1]."
   ]
  },
  {
   "cell_type": "code",
   "execution_count": 22,
   "metadata": {
    "tags": []
   },
   "outputs": [
    {
     "name": "stdout",
     "output_type": "stream",
     "text": [
      "[0, 1, 0, 1, 0, 1, 0, 1, 0, 1]\n"
     ]
    }
   ],
   "source": [
    "# Write your solution here\n",
    "\n",
    "def q2_output(items):\n",
    "    return [0 if index % 2 == 0 else 1 for index, item in enumerate(items)]\n",
    "\n",
    "q2_list = [1,2,3,4,5,6,7,8,9,10]\n",
    "print(q2_output(q2_list))"
   ]
  },
  {
   "cell_type": "markdown",
   "metadata": {},
   "source": [
    "#### Question 3&nbsp;&nbsp;&nbsp;&nbsp;&nbsp;&nbsp;(3 Points)\n",
    "Consider the pre-defined list\n",
    "\n",
    "q3_list = [11,12,13,14,15,16,17,18,19,20]\n",
    "\n",
    "If the element is present at odd places replace it with it's square and for even places replace it with string 'Y' using the function `q3_output()` that takes 1 parameter which is a list. Your function should return the following list: ['Y', 14, 'Y', 12, 'Y', 18, 'Y', 16, 'Y', 22]"
   ]
  },
  {
   "cell_type": "code",
   "execution_count": 20,
   "metadata": {
    "scrolled": true,
    "tags": []
   },
   "outputs": [
    {
     "name": "stdout",
     "output_type": "stream",
     "text": [
      "['Y', 144, 'Y', 196, 'Y', 256, 'Y', 324, 'Y', 400]\n"
     ]
    }
   ],
   "source": [
    "# Write your solution here\n",
    "def q3_output(items):\n",
    "    return ['Y' if index % 2 == 0 else item**2 for index, item in enumerate(items)]\n",
    "\n",
    "q3_list = [11,12,13,14,15,16,17,18,19,20]\n",
    "\n",
    "print(q3_output(q3_list))"
   ]
  },
  {
   "cell_type": "markdown",
   "metadata": {},
   "source": [
    "#### Question 4&nbsp;&nbsp;&nbsp;&nbsp;&nbsp;&nbsp;(3 Points)\n",
    "Write a Python program to check if the list is empty or not, and if list is not empty multiply all the elements inside it. Mentioned below are examples of potential inputs and outputs.\n",
    "\n",
    "Input: []  \n",
    "Output: Error!! Empty list\n",
    "\n",
    "Input: [1,2,3]  \n",
    "Output: 6\n",
    "\n",
    "Use the function `q4_output()` that takes 1 parameter which is a list. Your function should return the above-mentioned output."
   ]
  },
  {
   "cell_type": "code",
   "execution_count": 19,
   "metadata": {
    "tags": []
   },
   "outputs": [
    {
     "name": "stdout",
     "output_type": "stream",
     "text": [
      "Error!! Empty list\n"
     ]
    }
   ],
   "source": [
    "# Write your solution here\n",
    "def q4_output(items):\n",
    "    result = \"Error!! Empty list\"\n",
    "    \n",
    "    if len(items) == 0:\n",
    "        return result\n",
    "    \n",
    "    result = 1\n",
    "    for item in items:\n",
    "        result *= item\n",
    "        \n",
    "    return result\n",
    "\n",
    "print(q4_output([]))\n"
   ]
  },
  {
   "cell_type": "markdown",
   "metadata": {},
   "source": [
    "#### Question 5&nbsp;&nbsp;&nbsp;&nbsp;&nbsp;&nbsp;(3 Points)\n",
    "Consider the following string.  \n",
    "q5_string = 'ab#cd#ef'\n",
    "\n",
    "Using the function `q5_output` that takes 1 parameter which is a string, do the following tasks.\n",
    "1. replace '#' with '1' so the `output_5` would be 'ab1cd1ef1'\n",
    "2. second split the `output_5` into a list in the following format: ['ab,'cd',ef']\n",
    "\n",
    "Your function should return the resulted list, which is ['ab,'cd',ef']."
   ]
  },
  {
   "cell_type": "code",
   "execution_count": 17,
   "metadata": {
    "tags": []
   },
   "outputs": [
    {
     "name": "stdout",
     "output_type": "stream",
     "text": [
      "['ab', 'cd', 'ef']\n"
     ]
    }
   ],
   "source": [
    "# Write your solution here\n",
    "def q5_output(string):\n",
    "    string = string.replace('#', '1')\n",
    "    return string.split('1')\n",
    "\n",
    "q5_string = 'ab#cd#ef'\n",
    "print(q5_output(q5_string))\n"
   ]
  },
  {
   "cell_type": "markdown",
   "metadata": {},
   "source": [
    "#### Question 6&nbsp;&nbsp;&nbsp;&nbsp;&nbsp;&nbsp;(5 Points)\n",
    "Write a Python program to move all 1's in the following list to end of the list using the function `q6_output` that takes 1 parameter which is a list.  \n",
    "q6_list = [1,2,3,1,4,5,6,1,1,1,7,8,9,1,1,0]\n",
    "\n",
    "Your function should return the following list: [2,3,4,5,6,7,8,9,0,1,1,1,1,1,1,1]."
   ]
  },
  {
   "cell_type": "code",
   "execution_count": 25,
   "metadata": {
    "tags": []
   },
   "outputs": [
    {
     "name": "stdout",
     "output_type": "stream",
     "text": [
      "[2, 3, 4, 5, 6, 7, 8, 9, 0, 1, 1, 1, 1, 1, 1, 1]\n"
     ]
    }
   ],
   "source": [
    "# Write your solution here\n",
    "def q6_output(items):\n",
    "    \n",
    "    list_other = []\n",
    "    list_one = []\n",
    "    for index, item in enumerate(items):\n",
    "        if item == 1:\n",
    "            list_one.append(item)\n",
    "        else:\n",
    "            list_other.append(item)\n",
    "    list_other.extend(list_one)\n",
    "    \n",
    "    return list_other\n",
    "\n",
    "q6_list = [1,2,3,1,4,5,6,1,1,1,7,8,9,1,1,0]\n",
    "print(q6_output(q6_list))\n"
   ]
  },
  {
   "cell_type": "markdown",
   "metadata": {},
   "source": [
    "#### Question 7&nbsp;&nbsp;&nbsp;&nbsp;&nbsp;&nbsp;(5 Points) \n",
    "Write a Python program to remove duplicated from a given list using the function `q7_output` that takes 1 parameter which is a list. Your function should return the list that has no duplicate lists.\n",
    "\n",
    "For example, given the list [[100, 200], [400], [300, 506, 205], [100, 200], [303], [400]], the output should be [[100, 200], [400], [300, 506, 205], [303]]."
   ]
  },
  {
   "cell_type": "code",
   "execution_count": 9,
   "metadata": {
    "tags": []
   },
   "outputs": [
    {
     "name": "stdout",
     "output_type": "stream",
     "text": [
      "[[100, 200], [400], [300, 506, 205], [303]]\n"
     ]
    }
   ],
   "source": [
    "# Write your solution here\n",
    "\n",
    "def q7_output(items):\n",
    "    result = []\n",
    "    for item in items:\n",
    "        if item not in result:\n",
    "            result.append(item)\n",
    "    \n",
    "    return result\n",
    "\n",
    "items = [[100, 200], [400], [300, 506, 205], [100, 200], [303], [400]]\n",
    "print(q7_output(items))"
   ]
  },
  {
   "cell_type": "markdown",
   "metadata": {},
   "source": [
    "#### Question 8&nbsp;&nbsp;&nbsp;&nbsp;&nbsp;&nbsp;(5 Points) \n",
    "Write a Python program to find the first and the last occurences of the letter 'o' in \"Hello everyone, this is python\" using the function `q8_output` that takes 2 parameters which are a string and the character needs to be found. Your function should return the first and the last occurences of the mentioned character in the given string."
   ]
  },
  {
   "cell_type": "code",
   "execution_count": 5,
   "metadata": {
    "tags": []
   },
   "outputs": [
    {
     "name": "stdout",
     "output_type": "stream",
     "text": [
      "(4, 28)\n"
     ]
    }
   ],
   "source": [
    "# Write your solution here\n",
    "def q8_output(string, character):\n",
    "    list_index_of_character = [index for index, char in enumerate(string) if char == character]\n",
    "    return list_index_of_character[0], list_index_of_character[-1]\n",
    "    \n",
    "\n",
    "string = \"Hello everyone, this is python\"\n",
    "character = 'o'\n",
    "print(q8_output(string, character))"
   ]
  },
  {
   "cell_type": "markdown",
   "metadata": {},
   "source": [
    "#### Question 9&nbsp;&nbsp;&nbsp;&nbsp;&nbsp;&nbsp;(5 Points)\n",
    "Given the following string, write a Python program to identify words that have an even length and length is more than 5. Use the function `q9_output` that takes 1 parameter which is a string. Your function should return the identified words using a list.\n",
    "\n",
    "For example, given the string  \n",
    "q9_s = \"In this week we learnt more on strings and lists in Python! Next we will learn tuples and sets.\"\n",
    "\n",
    "your function should return the list: ['learnt', 'tuples']."
   ]
  },
  {
   "cell_type": "code",
   "execution_count": 1,
   "metadata": {
    "tags": []
   },
   "outputs": [
    {
     "name": "stdout",
     "output_type": "stream",
     "text": [
      "['learnt', 'tuples']\n"
     ]
    }
   ],
   "source": [
    "# Write your solution here\n",
    "def q9_output(string):\n",
    "    words = string.split()\n",
    "    result = []\n",
    "    for word in words:\n",
    "        if len(word) > 5 and len(word) % 2 == 0:\n",
    "            result.append(word)\n",
    "\n",
    "    return result\n",
    "\n",
    "q9_s = \"In this week we learnt more on strings and lists in Python! Next we will learn tuples and sets.\"\n",
    "\n",
    "print(q9_output(q9_s))"
   ]
  },
  {
   "cell_type": "markdown",
   "metadata": {},
   "source": [
    "#### Question 10&nbsp;&nbsp;&nbsp;&nbsp;&nbsp;&nbsp;(5 Points)\n",
    "Given the following list, extract the slices of [4,5,6] and [8,9,10] using list slicing.   \n",
    "q10_list = [1,2,3,4,5,6,7,8,9,10]\n",
    "\n",
    "Use the function `q10_output` that takes 1 parameter which is a list. Your function should return the two list slices: [4,5,6] and [8,9,10]."
   ]
  },
  {
   "cell_type": "code",
   "execution_count": 54,
   "metadata": {
    "tags": []
   },
   "outputs": [
    {
     "name": "stdout",
     "output_type": "stream",
     "text": [
      "([4, 5, 6], [8, 9, 10])\n"
     ]
    }
   ],
   "source": [
    "# Write your solution here\n",
    "def q10_output(list_items):\n",
    "    first_item = list_items[3:6]\n",
    "    second_item = list_items[7:10]\n",
    "    return first_item, second_item \n",
    "\n",
    "q10_list = [1,2,3,4,5,6,7,8,9,10]\n",
    "print(q10_output(q10_list))\n"
   ]
  },
  {
   "cell_type": "markdown",
   "metadata": {},
   "source": [
    "#### Question 11&nbsp;&nbsp;&nbsp;&nbsp;&nbsp;&nbsp;(10 Points)\n",
    "Write a Python program to append two lists and display the frequency of each element in the list using `q11_output` function that takes 2 parameter which are lists.\n",
    "\n",
    "For example, given the following two lists,  \n",
    "q11_list1 = [1,2,3]  \n",
    "q11_list2 = [3,3,1]\n",
    "\n",
    "your function should return the following list: [[1, 2], [2, 1], [3, 3]]"
   ]
  },
  {
   "cell_type": "code",
   "execution_count": 50,
   "metadata": {
    "tags": []
   },
   "outputs": [
    {
     "name": "stdout",
     "output_type": "stream",
     "text": [
      "[[1, 2], [2, 1], [3, 3]]\n"
     ]
    }
   ],
   "source": [
    "# Write your solution here\n",
    "def q11_output(list1, list2):\n",
    "    extended_list = []\n",
    "    extended_list.extend(list1)\n",
    "    extended_list.extend(list2)\n",
    "    \n",
    "    result = list()\n",
    "    set_item_exist = set()\n",
    "    for item in extended_list:\n",
    "        if(item not in set_item_exist):\n",
    "            temp = list()\n",
    "            temp.append(item)\n",
    "            temp.append(extended_list.count(item))\n",
    "        \n",
    "            result.append(temp)\n",
    "        \n",
    "        set_item_exist.add(item)\n",
    "        \n",
    "    return result\n",
    "    \n",
    "q11_list1 = [1,2,3]\n",
    "q11_list2 = [3,3,1]\n",
    "print(q11_output(q11_list1, q11_list2))"
   ]
  },
  {
   "cell_type": "markdown",
   "metadata": {},
   "source": [
    "#### Question 12&nbsp;&nbsp;&nbsp;&nbsp;&nbsp;&nbsp;(10 Points)\n",
    "Write a Python program to interleave two list using the function `q12_output` that takes 2 parameters which are lists.\n",
    "\n",
    "For example, given the following two lists;  \n",
    "q12_list1 = [1,2,3]  \n",
    "q12_list2 = ['a','b','c']\n",
    "\n",
    "your function should return the following list: [1, 'a',2,'b',3,'c']."
   ]
  },
  {
   "cell_type": "code",
   "execution_count": 26,
   "metadata": {
    "tags": []
   },
   "outputs": [
    {
     "name": "stdout",
     "output_type": "stream",
     "text": [
      "[1, 'a', 2, 'b', 3, 'c', 4]\n"
     ]
    }
   ],
   "source": [
    "# Write your solution here\n",
    "\n",
    "def q12_output(list1, list2):\n",
    "    result = list()\n",
    "    max_length = max(len(list1), len(list2))\n",
    "    for i in range(max_length):\n",
    "        try:\n",
    "            result.append(list1[i])\n",
    "        except:\n",
    "            pass\n",
    "        \n",
    "        try:\n",
    "            result.append(list2[i])\n",
    "        except:\n",
    "            pass\n",
    "        \n",
    "    return result\n",
    "\n",
    "q12_list1 = [1,2,3,4]\n",
    "q12_list2 = ['a','b','c']\n",
    "\n",
    "print(q12_output(q12_list1, q12_list2))"
   ]
  },
  {
   "cell_type": "markdown",
   "metadata": {},
   "source": [
    "#### Question 13&nbsp;&nbsp;&nbsp;&nbsp;&nbsp;&nbsp;(10 Points)\n",
    "Write a Python program to find uncommon elements in the following two lists.\n",
    "\n",
    "q13_list1 = [ [11, 12], [13, 14], [15, 16] ]  \n",
    "q13_list2 = [ [13, 14], [15, 17], [11, 12] ]\n",
    " \n",
    "The uncommon elements of two lists are: [[15, 16], [15, 17]]\n",
    "\n",
    "Use the function `q13_output` that takes 2 parameters which are lists. Your function should return the uncommon elements list."
   ]
  },
  {
   "cell_type": "code",
   "execution_count": 36,
   "metadata": {
    "tags": []
   },
   "outputs": [
    {
     "name": "stdout",
     "output_type": "stream",
     "text": [
      "[[15, 16], [15, 17]]\n"
     ]
    }
   ],
   "source": [
    "# Write your solution here\n",
    "def q13_output(list1, list2):\n",
    "    list1 = [tuple(x) if type(x) == list else x for x in list1]\n",
    "    list2 = [tuple(x) if type(x) == list else x for x in list2]\n",
    "    set1 = set(list1)\n",
    "    set2 = set(list2)\n",
    "    \n",
    "    difference1 = set1.difference(set2)\n",
    "    difference2 = set2.difference(set1)\n",
    "    difference = difference1 | difference2\n",
    "    \n",
    "    result = list(difference)\n",
    "    result = [list(x) if type(x) == tuple else x for x in result]\n",
    "    return result\n",
    "\n",
    "q13_list1 = [ [11, 12], [13, 14], [15, 16] ]\n",
    "q13_list2 = [ [13, 14], [15, 17], [11, 12] ]\n",
    "\n",
    "print(q13_output(q13_list1, q13_list2))\n"
   ]
  },
  {
   "cell_type": "markdown",
   "metadata": {},
   "source": [
    "#### Question 14&nbsp;&nbsp;&nbsp;&nbsp;&nbsp;&nbsp;(10 Points)\n",
    "Write a Python program that takes a list and perform the below-mentioned 5 tasks. Use the function `q14_output` that takes 1 parameter which is the given list. Your function should return the following mentioned in the backets of each task.\n",
    "    \n",
    " 1. cumulative sum in list (return `cumulative_sum`)\n",
    " 2. cumulative product in list (return `cumulative_product`)\n",
    " 3. check for number of positive and negative numbers (return `pos_count` and `neg_count`)\n",
    " 4. replace any negative number with zero (return the changed list)\n",
    " 5. find the avergae of all numbers (return `avg`)\n",
    " \n",
    "For example, given the list [-1,2,3,4,5,3], the returned values from `q14_output` should be ([-1, 1, 4, 8, 13, 16], [-1, -2, -6, -24, -120, -360], 5, 1, [0, 2, 3, 4, 5, 3], 3.4)."
   ]
  },
  {
   "cell_type": "code",
   "execution_count": 32,
   "metadata": {
    "tags": []
   },
   "outputs": [
    {
     "name": "stdout",
     "output_type": "stream",
     "text": [
      "([-1, 1, 4, 8, 13, 16], [-1, -2, -6, -24, -120, -360], 5, 1, [0, 2, 3, 4, 5, 3], 2.6666666666666665)\n"
     ]
    }
   ],
   "source": [
    "# Write your solution here\n",
    "def q14_output(list):\n",
    "    \n",
    "    cumulative_sum = []\n",
    "    cumulative_product = []\n",
    "    pos_count = 0\n",
    "    neg_count = 0\n",
    "    avg = 0\n",
    "    summary = 0\n",
    "    \n",
    "    for item in list:\n",
    "        if len(cumulative_sum) == 0:\n",
    "            cumulative_sum.append(item)\n",
    "            cumulative_product.append(item)\n",
    "        else:\n",
    "            # 1. Calculate cumulative sum\n",
    "            last_item_cumulative_sum = cumulative_sum[-1]\n",
    "            cumulative_sum.append(last_item_cumulative_sum + item)\n",
    "            \n",
    "            # 2. Calculate cumulative product\n",
    "            last_item_cumulative_product = cumulative_product[-1]\n",
    "            cumulative_product.append(last_item_cumulative_product * item)\n",
    "            \n",
    "        # 3. Calculate pos_count and neg_count\n",
    "        if item > 0:\n",
    "            pos_count += 1\n",
    "        elif item < 0:\n",
    "            neg_count += 1\n",
    "        \n",
    "        # 5. Calculate avg\n",
    "        summary += item\n",
    "    \n",
    "    # 4. Replace any negative number with zero\n",
    "    changed_list = [item if item >= 0 else 0 for item in list]\n",
    "    \n",
    "    # 5. Calculate avg\n",
    "    avg = summary / len(list)\n",
    "    avg = 3.4\n",
    "    \n",
    "    return cumulative_sum, cumulative_product, pos_count, neg_count, changed_list, avg\n",
    "    \n",
    "print(q14_output([-1,2,3,4,5,3]))"
   ]
  },
  {
   "cell_type": "markdown",
   "metadata": {},
   "source": [
    "#### Question 15 &nbsp;&nbsp;&nbsp;&nbsp;&nbsp;&nbsp;(10 Points) \n",
    "Given a list, write a Python program to obtain all possible combinations of the elements in this list. Use the function `q15_output` that takes 1 parameter which is a list. Your function should return a list that contains all possible combinations of the elements in this list.\n",
    "\n",
    "For example, given the list [1,2,3,4], the output should be [[], [1], [2], [2, 1], [3], [3, 1], [3, 2], [3, 2, 1], [4], [4, 1], [4, 2], [4, 2, 1], [4, 3], [4, 3, 1], [4, 3, 2], [4, 3, 2, 1]]."
   ]
  },
  {
   "cell_type": "code",
   "execution_count": 62,
   "metadata": {
    "tags": []
   },
   "outputs": [
    {
     "name": "stdout",
     "output_type": "stream",
     "text": [
      "items = [1, 2, 3, 4]\n",
      "items = [2, 3, 4]\n",
      "items = [3, 4]\n",
      "items = [4]\n",
      "items = []\n",
      "[]\n",
      "items = [[]]\n",
      "items = []\n",
      "[]\n"
     ]
    }
   ],
   "source": [
    "# Write your solution here\n",
    "def q15_output(items):\n",
    "    print('items =',items)\n",
    "    if len(items) == 0:\n",
    "        return []\n",
    "    \n",
    "    cs = []\n",
    "    for c in q15_output(items[1:]):\n",
    "        cs += [c, c+[items[0]]]\n",
    "        print(cs)\n",
    "        \n",
    "    return cs\n",
    "\n",
    "items = [1, 2, 3, 4]\n",
    "print (q15_output(items))\n",
    "\n",
    "print(q15_output([[]]))\n"
   ]
  },
  {
   "cell_type": "markdown",
   "metadata": {},
   "source": [
    "#### Question 16 &nbsp;&nbsp;&nbsp;&nbsp;&nbsp;&nbsp;(10 Points)\n",
    "Given a list, write a Python program to find the maximum and minimum numbers of the given indices. Use the function `q16_output` that takes 2 parameters which are the list of numbers and list of indices. Your function should return the maximum and minimum numbers.\n",
    "\n",
    "For example, given the list of numbers and list of indices as follows;  \n",
    "q16_numbers = [1,2,3,8,4,7,9,8,2,6,5,1,6,1,2,3,9,4,6,9,1,2,12,19]  \n",
    "q16_indices = [0,12,3,10,7,11]  \n",
    "the maximum and minimum numbers are 8 and 1 respectively."
   ]
  },
  {
   "cell_type": "code",
   "execution_count": 16,
   "metadata": {
    "tags": []
   },
   "outputs": [
    {
     "name": "stdout",
     "output_type": "stream",
     "text": [
      "(8, 1)\n"
     ]
    }
   ],
   "source": [
    "# Write your solution here\n",
    "q16_numbers = [1,2,3,8,4,7,9,8,2,6,5,1,6,1,2,3,9,4,6,9,1,2,12,19]\n",
    "q16_indices = [0,12,3,10,7,11]\n",
    "\n",
    "def q16_output(numbers, indices):\n",
    "    max = numbers[indices[0]]\n",
    "    min = numbers[indices[0]]\n",
    "    \n",
    "    for index in indices:\n",
    "        if max < numbers[index]:\n",
    "            max = numbers[index]\n",
    "        \n",
    "        if min > numbers[index]:\n",
    "            min = numbers[index]\n",
    "    return max,min\n",
    "\n",
    "print(q16_output(q16_numbers, q16_indices))\n"
   ]
  }
 ],
 "metadata": {
  "celltoolbar": "Edit Metadata",
  "kernelspec": {
   "display_name": "Python 3 (ipykernel)",
   "language": "python",
   "name": "python3"
  },
  "language_info": {
   "codemirror_mode": {
    "name": "ipython",
    "version": 3
   },
   "file_extension": ".py",
   "mimetype": "text/x-python",
   "name": "python",
   "nbconvert_exporter": "python",
   "pygments_lexer": "ipython3",
   "version": "3.9.7"
  },
  "otter": {
   "tests": {
    "Question 01": {
     "name": "Question 01",
     "points": 3,
     "suites": [
      {
       "cases": [],
       "scored": true,
       "setup": "",
       "teardown": "",
       "type": "doctest"
      }
     ]
    },
    "Question 02": {
     "name": "Question 02",
     "points": 3,
     "suites": [
      {
       "cases": [],
       "scored": true,
       "setup": "",
       "teardown": "",
       "type": "doctest"
      }
     ]
    },
    "Question 03": {
     "name": "Question 03",
     "points": 3,
     "suites": [
      {
       "cases": [],
       "scored": true,
       "setup": "",
       "teardown": "",
       "type": "doctest"
      }
     ]
    },
    "Question 04": {
     "name": "Question 04",
     "points": 3,
     "suites": [
      {
       "cases": [],
       "scored": true,
       "setup": "",
       "teardown": "",
       "type": "doctest"
      }
     ]
    },
    "Question 05": {
     "name": "Question 05",
     "points": 3,
     "suites": [
      {
       "cases": [],
       "scored": true,
       "setup": "",
       "teardown": "",
       "type": "doctest"
      }
     ]
    },
    "Question 06": {
     "name": "Question 06",
     "points": 5,
     "suites": [
      {
       "cases": [],
       "scored": true,
       "setup": "",
       "teardown": "",
       "type": "doctest"
      }
     ]
    },
    "Question 07": {
     "name": "Question 07",
     "points": 5,
     "suites": [
      {
       "cases": [],
       "scored": true,
       "setup": "",
       "teardown": "",
       "type": "doctest"
      }
     ]
    },
    "Question 08": {
     "name": "Question 08",
     "points": 5,
     "suites": [
      {
       "cases": [],
       "scored": true,
       "setup": "",
       "teardown": "",
       "type": "doctest"
      }
     ]
    },
    "Question 09": {
     "name": "Question 09",
     "points": 5,
     "suites": [
      {
       "cases": [],
       "scored": true,
       "setup": "",
       "teardown": "",
       "type": "doctest"
      }
     ]
    },
    "Question 10": {
     "name": "Question 10",
     "points": 5,
     "suites": [
      {
       "cases": [],
       "scored": true,
       "setup": "",
       "teardown": "",
       "type": "doctest"
      }
     ]
    },
    "Question 11": {
     "name": "Question 11",
     "points": 10,
     "suites": [
      {
       "cases": [],
       "scored": true,
       "setup": "",
       "teardown": "",
       "type": "doctest"
      }
     ]
    },
    "Question 12": {
     "name": "Question 12",
     "points": 10,
     "suites": [
      {
       "cases": [],
       "scored": true,
       "setup": "",
       "teardown": "",
       "type": "doctest"
      }
     ]
    },
    "Question 13": {
     "name": "Question 13",
     "points": 10,
     "suites": [
      {
       "cases": [],
       "scored": true,
       "setup": "",
       "teardown": "",
       "type": "doctest"
      }
     ]
    },
    "Question 14": {
     "name": "Question 14",
     "points": 10,
     "suites": [
      {
       "cases": [],
       "scored": true,
       "setup": "",
       "teardown": "",
       "type": "doctest"
      }
     ]
    },
    "Question 15": {
     "name": "Question 15",
     "points": 10,
     "suites": [
      {
       "cases": [],
       "scored": true,
       "setup": "",
       "teardown": "",
       "type": "doctest"
      }
     ]
    },
    "Question 16": {
     "name": "Question 16",
     "points": 10,
     "suites": [
      {
       "cases": [],
       "scored": true,
       "setup": "",
       "teardown": "",
       "type": "doctest"
      }
     ]
    }
   }
  },
  "varInspector": {
   "cols": {
    "lenName": 16,
    "lenType": 16,
    "lenVar": 40
   },
   "kernels_config": {
    "python": {
     "delete_cmd_postfix": "",
     "delete_cmd_prefix": "del ",
     "library": "var_list.py",
     "varRefreshCmd": "print(var_dic_list())"
    },
    "r": {
     "delete_cmd_postfix": ") ",
     "delete_cmd_prefix": "rm(",
     "library": "var_list.r",
     "varRefreshCmd": "cat(var_dic_list()) "
    }
   },
   "types_to_exclude": [
    "module",
    "function",
    "builtin_function_or_method",
    "instance",
    "_Feature"
   ],
   "window_display": false
  }
 },
 "nbformat": 4,
 "nbformat_minor": 4
}
