{
 "cells": [
  {
   "cell_type": "code",
   "execution_count": null,
   "metadata": {},
   "outputs": [],
   "source": [
    "import pandas as pd\n",
    "import numpy as np\n",
    "%matplotlib inline\n",
    "import otter\n",
    "grader = otter.Notebook()"
   ]
  },
  {
   "cell_type": "markdown",
   "metadata": {},
   "source": [
    "# A2 | Week 1: Practice For Loops & Dictionary\n",
    "\n",
    "------\n",
    "\n",
    "### Instructions:\n",
    "\n",
    "- Complete 50 points worth of questions to pass the assessment\n",
    "  - You can attempt any number of questions and in any order provided you pass at least 50 points.\n",
    "- Develop and check your answers in the spaces provided.\n",
    "  - Do not remove any variables other provided markings already present in the answer spaces.\n",
    "  - Do not make any changes to this notebook outside of the answer spaces provided.\n",
    "  \n",
    "#### Submitting\n",
    "\n",
    "- Upload your .ipynb file to Gradescope (Make sure to restart the kernel and run all before you submit)\n",
    "- You can submit as many times as needed\n",
    "- When reviewing results, ignore any results listed under \"Public Tests\"\n",
    "\n",
    "For more information, see the assessment page. We have also provided an example question below for clarity. "
   ]
  },
  {
   "cell_type": "markdown",
   "metadata": {},
   "source": [
    "#### Example Question\n",
    "Write a Python program to display the elements in the list `[1, 2, 3, 4, 5, 6, 7, 8, 9, 10]` using for loops. Create the variable `example_output` and use it inside the for loop to construct the string that you want to display at the end of the program.\n",
    "\n",
    "```\n",
    "#This solution is for demonstration purposes ONLY. \n",
    "#There may be other ways of doing this task using for loops that produce the same output.\n",
    "#You have the freedom to use a solution that you prefer as long as it uses for loop and \n",
    "#produces the expected output using the example_output variable.\n",
    "example_output = \"\"\n",
    "example_list = [1, 2, 3, 4, 5, 6, 7, 8, 9, 10]\n",
    "for i in example_list:\n",
    "    example_output += str(i)\n",
    "    example_output += \"\\n\"\n",
    "example_output = example_output.strip() #this is to remove the extra new line in 10\n",
    "print(example_output)\n",
    "```"
   ]
  },
  {
   "cell_type": "markdown",
   "metadata": {},
   "source": [
    "#### Question 1&nbsp;&nbsp;&nbsp;&nbsp;&nbsp;&nbsp;(1 Point)\n",
    "Create a list `q1_list` and add the following names to it: *Lisa, Dave, Sage, Emma, John, David*. Write a Python program to display names using a for loop in the following format: `Hello! \"NAME\"` (*Note: NAME should be replaced with the name in the list in each iteration*). Create the variable `output1` and use it inside the while loop to construct the string that you want to display at the end of the program.\n",
    "\n",
    "Expected Output:  \n",
    "\n",
    "Hello! \"Lisa\"  \n",
    "Hello! \"Dave\"  \n",
    "Hello! \"Sage\"  \n",
    "Hello! \"Emma\"  \n",
    "Hello! \"John\"  \n",
    "Hello! \"David\""
   ]
  },
  {
   "cell_type": "code",
   "execution_count": 126,
   "metadata": {
    "tags": []
   },
   "outputs": [
    {
     "name": "stdout",
     "output_type": "stream",
     "text": [
      "Hello! \"Lisa\"\n",
      "Hello! \"Dave\"\n",
      "Hello! \"Sage\"\n",
      "Hello! \"Emma\"\n",
      "Hello! \"John\"\n",
      "Hello! \"David\"\n"
     ]
    }
   ],
   "source": [
    "output1 = \"\"\n",
    "\n",
    "# Write your solution here\n",
    "q1_list = ['Lisa', 'Dave', 'Sage', 'Emma', 'John', 'David']\n",
    "for item in q1_list:\n",
    "    output1 += f'Hello! \"{item}\"\\n'\n",
    "    \n",
    "output1 = output1.rstrip()\n",
    "print(output1)"
   ]
  },
  {
   "cell_type": "markdown",
   "metadata": {},
   "source": [
    "#### Question 2&nbsp;&nbsp;&nbsp;&nbsp;&nbsp;&nbsp;(1 Point)\n",
    "Create a list `q2_list` and add the following numbers to it: *1, 2, 6, 10, 19, 21*. Write a Python program to display the square of each number using a for loop in the following format: `The square of NUMBER is SQUARENUM!` (*Note: NUMBER and SQUARENUM should be replaced with the number in the list in each iteration and the square of it*). Create the variable `output2` and use it inside the for loop to construct the string that you want to display at the end of the program.\n",
    "\n",
    "*Note: The displayed string should be in the same format as in Q1. For clarity, the expected output is shown below.*\n",
    "\n",
    "Expected Output:\n",
    "<p>\n",
    "The square of 1 is 1!<br>\n",
    "The square of 2 is 4!<br>\n",
    "The square of 6 is 36!<br>\n",
    "The square of 10 is 100!<br> \n",
    "The square of 19 is 361!<br>\n",
    "The square of 21 is 441!\n",
    "</p>"
   ]
  },
  {
   "cell_type": "code",
   "execution_count": 125,
   "metadata": {
    "tags": []
   },
   "outputs": [
    {
     "name": "stdout",
     "output_type": "stream",
     "text": [
      "The square of 1 is 1!\n",
      "The square of 2 is 4!\n",
      "The square of 6 is 36!\n",
      "The square of 10 is 100!\n",
      "The square of 19 is 361!\n",
      "The square of 21 is 441!\n"
     ]
    }
   ],
   "source": [
    "output2 = \"\"\n",
    "\n",
    "# Write your solution here\n",
    "q2_list = [1, 2, 6, 10, 19, 21]\n",
    "for item in q2_list:\n",
    "    squarenum = item**2\n",
    "    output2 += f'The square of {item} is {squarenum}!\\n'\n",
    "    \n",
    "output2 = output2.rstrip()\n",
    "print(output2)\n"
   ]
  },
  {
   "cell_type": "markdown",
   "metadata": {},
   "source": [
    "#### Question 3&nbsp;&nbsp;&nbsp;&nbsp;&nbsp;&nbsp;(1 Point)\n",
    "Write a Python program to iterate through the string `q3_txt = \"PyThoN\"` and displays every letter in upper-case using a for loop. Create the variable `output3` and use  it inside the for loop to construct the string that you want to display at the end of the program.\n",
    "\n",
    "*Note: The displayed string should be in the same format as in Q1. For clarity, the expected output is shown below.*\n",
    "\n",
    "Expected Output:\n",
    "<p>\n",
    "P<br>\n",
    "Y<br>\n",
    "T<br>\n",
    "H<br>\n",
    "O<br>\n",
    "N\n",
    "</p>"
   ]
  },
  {
   "cell_type": "code",
   "execution_count": 120,
   "metadata": {
    "tags": []
   },
   "outputs": [
    {
     "name": "stdout",
     "output_type": "stream",
     "text": [
      "P\n",
      "Y\n",
      "T\n",
      "H\n",
      "O\n",
      "N\n"
     ]
    }
   ],
   "source": [
    "output3 = \"\"\n",
    "\n",
    "# Write your solution here\n",
    "q3_txt = \"PyThoN\"\n",
    "for item in q3_txt:\n",
    "    output3 += item.upper() + \"\\n\"\n",
    "    \n",
    "output3 = output3.rstrip()\n",
    "print(output3)\n"
   ]
  },
  {
   "cell_type": "markdown",
   "metadata": {},
   "source": [
    "#### Question 4&nbsp;&nbsp;&nbsp;&nbsp;&nbsp;&nbsp;(1 Point)\n",
    "Write a Python program to iterate through the string `q4_txt = \"Python is My favorite programming language. It is also famous for its simple programming syntax, code readability and English-like commands that make coding in Python lot easier and efficient.\"` and find the count of letter `m` using a for loop (make sure that you lower-case the string to calculate all `m`s in it). Use the counter variable `output4` for the calculations needed."
   ]
  },
  {
   "cell_type": "code",
   "execution_count": 117,
   "metadata": {
    "tags": []
   },
   "outputs": [
    {
     "name": "stdout",
     "output_type": "stream",
     "text": [
      "10\n"
     ]
    }
   ],
   "source": [
    "output4 = \"\"\n",
    "\n",
    "# Write your solution here\n",
    "output4 = 0\n",
    "q4_txt = \"Python is My favorite programming language. It is also famous for its simple programming syntax, code readability and English-like commands that make coding in Python lot easier and efficient.\"\n",
    "for item in q4_txt:\n",
    "    if (item.lower() == \"m\"):\n",
    "        output4 += 1\n",
    "        \n",
    "print(output4)"
   ]
  },
  {
   "cell_type": "markdown",
   "metadata": {},
   "source": [
    "#### Question 5&nbsp;&nbsp;&nbsp;&nbsp;&nbsp;&nbsp;(1 Point)\n",
    "Create a list `q5_list` and add the following numbers to it: *-12, 20, -91, 90, -19, 39*. Write a Python program to display numbers in the list that are both postive and even using a for loop. Create the variable `output5` and use it inside the for loop to construct the string that you want to display at the end of the program.\n",
    "\n",
    "*Note: The displayed string should be in the same format as in Q1.*"
   ]
  },
  {
   "cell_type": "code",
   "execution_count": 116,
   "metadata": {
    "tags": []
   },
   "outputs": [
    {
     "name": "stdout",
     "output_type": "stream",
     "text": [
      "20\n",
      "90\n"
     ]
    }
   ],
   "source": [
    "output5 = \"\"\n",
    "\n",
    "# Write your solution here\n",
    "q5_list = [-12, 20, -91, 90, -19, 39]\n",
    "for item in q5_list:\n",
    "    if (item > 0 and item % 2 == 0):\n",
    "        output5 += str(item) + \"\\n\"\n",
    "        \n",
    "output5 = output5.rstrip()\n",
    "print(output5)\n"
   ]
  },
  {
   "cell_type": "markdown",
   "metadata": {},
   "source": [
    "#### Question 6&nbsp;&nbsp;&nbsp;&nbsp;&nbsp;&nbsp;(3 Points)\n",
    "Create a list `q6_list` with the following items to it: *1, Emma, 6, John, David, 21, 19, Dave*. Create two empty lists `output6_numbers` and `output6_names`. Write a Python program that loops through `q6_list` and perform the folowing:\n",
    "* if a number is encountered, add it to `output6_numbers`\n",
    "* if a name (i.e., a string) is encountered add it to `output6_names`\n",
    "\n",
    "***\n",
    "<details>\n",
    "  <summary><span style=\"color:blue\">Click to see Hints</span></summary>\n",
    "    \n",
    "* You will need to use string methods such as isdigit() and isalpha() to identify whether it is a number or a name.\n",
    "</details>"
   ]
  },
  {
   "cell_type": "code",
   "execution_count": 115,
   "metadata": {
    "tags": []
   },
   "outputs": [
    {
     "name": "stdout",
     "output_type": "stream",
     "text": [
      "[1, 6, 21, 19]\n",
      "['Emma', 'John', 'David', 'Dave']\n"
     ]
    }
   ],
   "source": [
    "# Write your solution here\n",
    "q6_list = [1, 'Emma', 6, 'John', 'David', 21, 19, 'Dave']\n",
    "output6_names = []\n",
    "output6_numbers = []\n",
    "for item in q6_list:\n",
    "    if (type(item) == int):\n",
    "        output6_numbers.append(item)\n",
    "    else:\n",
    "        output6_names.append(item)\n",
    "        \n",
    "print(output6_numbers)\n",
    "print(output6_names)\n"
   ]
  },
  {
   "cell_type": "markdown",
   "metadata": {},
   "source": [
    "#### Question 7&nbsp;&nbsp;&nbsp;&nbsp;&nbsp;&nbsp;(3 Points) \n",
    "Write a Python program to display the following pattern using for loops. Create the variable `output7` and use it inside the while loop to construct the string that you want to display at the end of the program.\n",
    "\n",
    "<p>\n",
    "1<br> \n",
    "1 2<br>\n",
    "1 2 3<br> \n",
    "1 2 3 4<br>\n",
    "1 2 3 4 5<br>\n",
    "</p>"
   ]
  },
  {
   "cell_type": "code",
   "execution_count": 127,
   "metadata": {
    "tags": []
   },
   "outputs": [
    {
     "name": "stdout",
     "output_type": "stream",
     "text": [
      "1\n",
      "1 2\n",
      "1 2 3\n",
      "1 2 3 4\n",
      "1 2 3 4 5\n"
     ]
    }
   ],
   "source": [
    "output7 = \"\"\n",
    "\n",
    "# Write your solution here\n",
    "i = 1\n",
    "while (i <= 5):\n",
    "    j = 1\n",
    "    while (j <= i):\n",
    "        output7 += str(j) + \" \"\n",
    "        j += 1\n",
    "    output7 = output7.rstrip()\n",
    "    output7 += \"\\n\"    \n",
    "    i += 1\n",
    "output7 = output7.rstrip()\n",
    "\n",
    "print(output7)\n"
   ]
  },
  {
   "cell_type": "markdown",
   "metadata": {},
   "source": [
    "#### Question 8&nbsp;&nbsp;&nbsp;&nbsp;&nbsp;&nbsp;(3 Points) \n",
    "Create a list `q8_list = [1, 3.1, [\"John\", \"David\"], 19, 30, \"Python\", 9.1, \"Java\", 12.1212, \"Go\", -1.2, \".NET\", 9, [-1.2, 1.0], -9, [1, 2]]`. Create an empty list `output8_ints`. Write a Python program that loops through `q8_list` and append only integer numbers to `output8_ints`."
   ]
  },
  {
   "cell_type": "code",
   "execution_count": 110,
   "metadata": {
    "tags": []
   },
   "outputs": [
    {
     "name": "stdout",
     "output_type": "stream",
     "text": [
      "[1, 19, 30, 9, -9]\n"
     ]
    }
   ],
   "source": [
    "# Write your solution here\n",
    "q8_list = [1, 3.1, [\"John\", \"David\"], 19, 30, \"Python\", 9.1, \"Java\", 12.1212, \"Go\", -1.2, \".NET\", 9, [-1.2, 1.0], -9, [1, 2]]\n",
    "output8_ints = []\n",
    "\n",
    "for item in q8_list:\n",
    "    if (type(item) == int):\n",
    "        output8_ints.append(item)\n",
    "        \n",
    "print(output8_ints)"
   ]
  },
  {
   "cell_type": "markdown",
   "metadata": {},
   "source": [
    "#### Question 9&nbsp;&nbsp;&nbsp;&nbsp;&nbsp;&nbsp;(3 Points)\n",
    "Write a Python program to display the Fibonacci series up to 10 terms. The next number in Fibonacci series is found by adding up the two numbers before it. The first two numbers are 0 and 1. For example, in the Fibonacci series: 0, 1, 1, 2, 3, 5, 8, the next number is calculated as 5+8 = 13. Use a for loop with variables `q9_num1` and `q9_num2` to store first and second numbers of the series. Create the variable `output9` and use it inside the for loop to construct the string that you want to display at the end of the program.\n",
    "\n",
    "*Note: The displayed string should be in the same format as in Q1.*"
   ]
  },
  {
   "cell_type": "code",
   "execution_count": 109,
   "metadata": {
    "tags": []
   },
   "outputs": [
    {
     "name": "stdout",
     "output_type": "stream",
     "text": [
      "0\n",
      "1\n",
      "1\n",
      "2\n",
      "3\n",
      "5\n",
      "8\n",
      "13\n",
      "21\n",
      "34\n"
     ]
    }
   ],
   "source": [
    "output9 = \"\"\n",
    "\n",
    "# Write your solution here\n",
    "q9_temp = ['0', '1']\n",
    "for i in range(2, 10):\n",
    "    number = int(q9_temp[i-1]) + int(q9_temp[i-2])\n",
    "    q9_temp.append(str(number))\n",
    "\n",
    "output9 = \"\\n\".join(q9_temp)\n",
    "print(output9)"
   ]
  },
  {
   "cell_type": "markdown",
   "metadata": {},
   "source": [
    "#### Question 10&nbsp;&nbsp;&nbsp;&nbsp;&nbsp;&nbsp;(3 Points)\n",
    "Write a Python program to convert the following two lists into a dictionary called `output10`.\n",
    "```\n",
    "q10_keys = [\"John\", \"Danise\", \"David\", \"Kelly\", \"Emma\", \"Olivia\"]\n",
    "q10_values = [12, 10, 9, 19, 30, 33]\n",
    "```"
   ]
  },
  {
   "cell_type": "code",
   "execution_count": 103,
   "metadata": {
    "tags": []
   },
   "outputs": [
    {
     "name": "stdout",
     "output_type": "stream",
     "text": [
      "{'John': 12, 'Danise': 10, 'David': 9, 'Kelly': 19, 'Emma': 30, 'Olivia': 33}\n"
     ]
    }
   ],
   "source": [
    "output10 = {}\n",
    "\n",
    "# Write your solution here\n",
    "q10_keys = [\"John\", \"Danise\", \"David\", \"Kelly\", \"Emma\", \"Olivia\"]\n",
    "q10_values = [12, 10, 9, 19, 30, 33]\n",
    "for i in range(len(q10_keys)):\n",
    "    output10[q10_keys[i]] = q10_values[i]\n",
    "    \n",
    "print(output10)\n"
   ]
  },
  {
   "cell_type": "markdown",
   "metadata": {},
   "source": [
    "#### Question 11&nbsp;&nbsp;&nbsp;&nbsp;&nbsp;&nbsp;(4 Points)\n",
    "Write a Python program to display the following pattern using for loops. Create the variable `output11` and use it inside the while loop to construct the string that you want to display at the end of the program.\n",
    "<p>\n",
    "5 4 3 2 1<br> \n",
    "4 3 2 1<br> \n",
    "3 2 1<br> \n",
    "2 1<br>\n",
    "1<br>\n",
    "</p>"
   ]
  },
  {
   "cell_type": "code",
   "execution_count": 128,
   "metadata": {
    "tags": []
   },
   "outputs": [
    {
     "name": "stdout",
     "output_type": "stream",
     "text": [
      "5 4 3 2 1\n",
      "4 3 2 1\n",
      "3 2 1\n",
      "2 1\n",
      "1\n"
     ]
    }
   ],
   "source": [
    "output11 = \"\"\n",
    "\n",
    "# Write your solution here\n",
    "for i in range(5, 0, -1):\n",
    "    for j in range(i, 0, -1):\n",
    "        output11 += str(j) + \" \"\n",
    "    output11 = output11.rstrip()\n",
    "    output11 += \"\\n\"\n",
    "\n",
    "output11 = output11.rstrip()\n",
    "print(output11)"
   ]
  },
  {
   "cell_type": "markdown",
   "metadata": {},
   "source": [
    "#### Question 12&nbsp;&nbsp;&nbsp;&nbsp;&nbsp;&nbsp;(4 Points)\n",
    "Write a Python program to display the following pattern using for loops. Create the variable `output12` and use it inside the while loop to construct the string that you want to display at the end of the program.\n",
    "<p>\n",
    "* <br>\n",
    "* * <br>\n",
    "* * * <br>\n",
    "* * * * <br>\n",
    "* * * * * <br>\n",
    "* * * * <br>\n",
    "* * * <br>\n",
    "* * <br>\n",
    "*\n",
    "</p>"
   ]
  },
  {
   "cell_type": "code",
   "execution_count": 129,
   "metadata": {
    "scrolled": true,
    "tags": []
   },
   "outputs": [
    {
     "name": "stdout",
     "output_type": "stream",
     "text": [
      "*\n",
      "* *\n",
      "* * *\n",
      "* * * *\n",
      "* * * * *\n",
      "* * * *\n",
      "* * *\n",
      "* *\n",
      "*\n"
     ]
    }
   ],
   "source": [
    "output12 = \"\"\n",
    "\n",
    "# Write your solution here\n",
    "q12_temp = []\n",
    "for i in range(1, 6):\n",
    "    q12_temp_line = \"* \"*i\n",
    "    q12_temp_line = q12_temp_line.rstrip()\n",
    "    q12_temp.append(q12_temp_line + \"\\n\")\n",
    "\n",
    "output12 += \"\".join(q12_temp)\n",
    "\n",
    "q12_temp.pop()\n",
    "q12_temp.reverse()\n",
    "output12 += \"\".join(q12_temp)\n",
    "output12 = output12.rstrip()\n",
    "\n",
    "print(output12)\n"
   ]
  },
  {
   "cell_type": "markdown",
   "metadata": {},
   "source": [
    "#### Question 13&nbsp;&nbsp;&nbsp;&nbsp;&nbsp;&nbsp;(4 Points)\n",
    "Write a Python program to concatenate following dictionaries to create a new dictionary called `output13`.\n",
    "```\n",
    "q13_1 = {1:10, 2:20, 3:30}\n",
    "q13_2 = {4:40, 5:50}\n",
    "q13_3 = {6:60, 7:70, 8:80}\n",
    "q13_4 = {9:90}\n",
    "```"
   ]
  },
  {
   "cell_type": "code",
   "execution_count": 93,
   "metadata": {
    "tags": []
   },
   "outputs": [
    {
     "name": "stdout",
     "output_type": "stream",
     "text": [
      "{1: 10, 2: 20, 3: 30, 4: 40, 5: 50, 6: 60, 7: 70, 8: 80, 9: 90}\n"
     ]
    }
   ],
   "source": [
    "output13 = {}\n",
    "\n",
    "# Write your solution here\n",
    "q13_1 = {1:10, 2:20, 3:30}\n",
    "q13_2 = {4:40, 5:50}\n",
    "q13_3 = {6:60, 7:70, 8:80}\n",
    "q13_4 = {9:90}\n",
    "\n",
    "q13_temp = [q13_1, q13_2, q13_3, q13_4]\n",
    "for item in q13_temp:\n",
    "    output13.update(item)\n",
    "print(output13)"
   ]
  },
  {
   "cell_type": "markdown",
   "metadata": {},
   "source": [
    "#### Question 14&nbsp;&nbsp;&nbsp;&nbsp;&nbsp;&nbsp;(4 Points)\n",
    "Write a Python program that filters odd and even numbers from the following list: `q14_list = [19, 21, 2, 6, 26, 26, 39, 91, 93, 33, 12, 19, 31, 30]`. Create two empty lists: `output14_odd` and `output14_even` and append odd and even numbers respectively from the elements in `q14_list`."
   ]
  },
  {
   "cell_type": "code",
   "execution_count": 91,
   "metadata": {
    "tags": []
   },
   "outputs": [
    {
     "name": "stdout",
     "output_type": "stream",
     "text": [
      "[19, 21, 39, 91, 93, 33, 19, 31]\n",
      "[2, 6, 26, 26, 12, 30]\n"
     ]
    }
   ],
   "source": [
    "# Write your solution here\n",
    "q14_list = [19, 21, 2, 6, 26, 26, 39, 91, 93, 33, 12, 19, 31, 30]\n",
    "output14_odd = []\n",
    "output14_even = []\n",
    "for item in q14_list:\n",
    "    if (item % 2 == 0):\n",
    "        output14_even.append(item)\n",
    "    else:\n",
    "        output14_odd.append(item)\n",
    "        \n",
    "print(output14_odd)\n",
    "print(output14_even)\n"
   ]
  },
  {
   "cell_type": "markdown",
   "metadata": {},
   "source": [
    "#### Question 15 &nbsp;&nbsp;&nbsp;&nbsp;&nbsp;&nbsp;(4 Points) \n",
    "Write a Python program to display the following pattern using for loops. Create the variable `output15` and use it inside the while loop to construct the string that you want to display at the end of the program.\n",
    "<p>\n",
    "1 2 3 4 5<br>\n",
    "2 2 3 4 5<br> \n",
    "3 3 3 4 5<br> \n",
    "4 4 4 4 5<br> \n",
    "5 5 5 5 5<br>\n",
    "</p>"
   ]
  },
  {
   "cell_type": "code",
   "execution_count": 133,
   "metadata": {
    "tags": []
   },
   "outputs": [
    {
     "name": "stdout",
     "output_type": "stream",
     "text": [
      "1 2 3 4 5\n",
      "2 2 3 4 5\n",
      "3 3 3 4 5\n",
      "4 4 4 4 5\n",
      "5 5 5 5 5\n"
     ]
    }
   ],
   "source": [
    "output15 = \"\"\n",
    "\n",
    "# Write your solution here\n",
    "for i in range(1, 6):\n",
    "    line = \"\"\n",
    "    for j in range(1, 6):\n",
    "        if (j <= i):\n",
    "            line += str(i) + \" \"\n",
    "        else:\n",
    "            line += str(j) + \" \"\n",
    "    line = line.rstrip()\n",
    "    line = line + \"\\n\"\n",
    "    output15 += line\n",
    "\n",
    "output15 = output15.rstrip()\n",
    "print(output15)\n"
   ]
  },
  {
   "cell_type": "markdown",
   "metadata": {},
   "source": [
    "#### Question 16 &nbsp;&nbsp;&nbsp;&nbsp;&nbsp;&nbsp;(4 Points)\n",
    "Write a Python program to multiply all the items in the following dictionary using for loops (i.e., $12*10*9*19*30*33$). Create the variable `output16` and assign the solution to it.\n",
    "```\n",
    "q16_d = {'John': 12, 'Danise': 10, 'David': 9, 'Kelly': 19, 'Emma': 30, 'Olivia': 33}\n",
    "```"
   ]
  },
  {
   "cell_type": "code",
   "execution_count": 83,
   "metadata": {
    "tags": []
   },
   "outputs": [
    {
     "name": "stdout",
     "output_type": "stream",
     "text": [
      "20314800\n"
     ]
    }
   ],
   "source": [
    "# Write your solution here\n",
    "q16_d = {'John': 12, 'Danise': 10, 'David': 9, 'Kelly': 19, 'Emma': 30, 'Olivia': 33}\n",
    "output16 = 1\n",
    "for v in q16_d.values():\n",
    "    output16 *= v\n",
    "    \n",
    "print(output16)\n"
   ]
  },
  {
   "cell_type": "markdown",
   "metadata": {},
   "source": [
    "#### Question 17 &nbsp;&nbsp;&nbsp;&nbsp;&nbsp;&nbsp;(6 Points)\n",
    " Write a Python program to calculate factorial of an integer number using a for loop. Create a variable `q17_input` and assign the number 131 to it. To calculate the factorial use the following guidelines. Create a variable `output17` and assign the factorial of it.\n",
    "\n",
    "* Factorial of number n is represented by `n!` and it is equal to `1*2*3*....*(n-1)*n`. For example, `4!` = `1*2*3*4` = 24\n",
    "* Note that 1! = 1 and 0! = 1"
   ]
  },
  {
   "cell_type": "code",
   "execution_count": 81,
   "metadata": {
    "tags": []
   },
   "outputs": [
    {
     "name": "stdout",
     "output_type": "stream",
     "text": [
      "847158069087882051098456875815279568163352087665474498775849754305766436915303927682164623187034167333264599970492141556534816949699515865660644961729169613882287309922474300878212776434073600000000000000000000000000000000\n"
     ]
    }
   ],
   "source": [
    "q17_input = 131\n",
    "\n",
    "# Write your solution here\n",
    "output17 = 1\n",
    "\n",
    "if (q17_input != 0):\n",
    "    for i in range(1,q17_input + 1):\n",
    "        output17 *= i\n",
    "        \n",
    "print(output17)"
   ]
  },
  {
   "cell_type": "markdown",
   "metadata": {},
   "source": [
    "#### Question 18 &nbsp;&nbsp;&nbsp;&nbsp;&nbsp;&nbsp;(6 Points)\n",
    "Given the following two dictionaries, write a Python program to combine two dictionary adding values for common keys. Create an empty list `output18` and assign the new dictionary to it.\n",
    "```\n",
    "q18_d1 = {'x': 120, 'y': 200, 'z':300, 'w': 30}\n",
    "q18_d2 = {'x': 90, 'y': 120, 'z':300, 'm': 120}\n",
    "```"
   ]
  },
  {
   "cell_type": "code",
   "execution_count": 77,
   "metadata": {
    "tags": []
   },
   "outputs": [
    {
     "name": "stdout",
     "output_type": "stream",
     "text": [
      "{'x': 210, 'y': 320, 'z': 600, 'w': 30, 'm': 120}\n"
     ]
    }
   ],
   "source": [
    "# Write your solution here\n",
    "q18_d1 = {'x': 120, 'y': 200, 'z':300, 'w': 30}\n",
    "q18_d2 = {'x': 90, 'y': 120, 'z':300, 'm': 120}\n",
    "output18 = {}\n",
    "\n",
    "for k, v in q18_d1.items():\n",
    "    if (k in q18_d2):\n",
    "        output18[k] = v + q18_d2[k]\n",
    "    else:\n",
    "        output18[k] = v\n",
    "        \n",
    "for k, v in q18_d2.items():\n",
    "    if (k not in q18_d1):\n",
    "        output18[k] = v\n",
    "print(output18)"
   ]
  },
  {
   "cell_type": "markdown",
   "metadata": {},
   "source": [
    "#### Question 19 &nbsp;&nbsp;&nbsp;&nbsp;&nbsp;&nbsp;(6 Points)\n",
    "Given the following dictionary, write a Python program to identify all unique values in it and append them in to a list called `output19`.\n",
    "```\n",
    "q19_d = {112:'dog', 113:'cat', 119:'dog', 120:'dog', 126:'parrot', 130:'duck', 131:'dog', 133:'cat', 136:'duck', 139:'parrot'}\n",
    "```"
   ]
  },
  {
   "cell_type": "code",
   "execution_count": 75,
   "metadata": {
    "tags": []
   },
   "outputs": [
    {
     "name": "stdout",
     "output_type": "stream",
     "text": [
      "['dog', 'cat', 'parrot', 'duck']\n"
     ]
    }
   ],
   "source": [
    "output19 = []\n",
    "\n",
    "# Write your solution here\n",
    "q19_d = {112:'dog', 113:'cat', 119:'dog', 120:'dog', 126:'parrot', 130:'duck', 131:'dog', 133:'cat', 136:'duck', 139:'parrot'}\n",
    "for v in q19_d.values():\n",
    "    if v not in output19:\n",
    "        output19.append(v)\n",
    "        \n",
    "print(output19)"
   ]
  },
  {
   "cell_type": "markdown",
   "metadata": {},
   "source": [
    "#### Question 20 &nbsp;&nbsp;&nbsp;&nbsp;&nbsp;&nbsp;(6 Points)\n",
    "Given the following list, write a Python program to convert it into a nested dictionary of keys called `output20`.\n",
    "```\n",
    "q20_list = ['John', 'Danise', 'David', 'Kelly']\n",
    "```\n",
    "The expected output of `output20` is `{'John': {'Danise': {'David': {'Kelly': {}}}}}`"
   ]
  },
  {
   "cell_type": "code",
   "execution_count": 74,
   "metadata": {
    "tags": []
   },
   "outputs": [
    {
     "name": "stdout",
     "output_type": "stream",
     "text": [
      "{'John': {'Danise': {'David': {'Kelly': {}}}}}\n"
     ]
    }
   ],
   "source": [
    "# Write your solution here\n",
    "q20_list = ['John', 'Danise', 'David', 'Kelly']\n",
    "output20 = {}\n",
    "q20_temp = []\n",
    "\n",
    "for i in range(len(q20_list)):\n",
    "    q20_temp.append(dict())\n",
    "\n",
    "for i in range(len(q20_list)-1, -1, -1):\n",
    "    value = q20_list[i]\n",
    "    if (i == len(q20_list)-1):\n",
    "        q20_temp[i][value] = {}\n",
    "    else:\n",
    "        q20_temp[i][value] = q20_temp[i+1]\n",
    "    \n",
    "output20 = q20_temp[0].copy()\n",
    "\n",
    "print(output20)\n"
   ]
  },
  {
   "cell_type": "markdown",
   "metadata": {},
   "source": [
    "#### Question 21 &nbsp;&nbsp;&nbsp;&nbsp;&nbsp;&nbsp;(6 Points)\n",
    "Given the disctionary `output21 = {'x': 120, 'y': 200, 'z':300, 'w': 30}`, write a Python program to replace its values with their average using the below dis=ctionary.\n",
    "```\n",
    "q21_d = {'x': 90, 'y': 140, 'z':120, 'm': 120}\n",
    "```\n",
    "The expected output of `output21` will be in the following format: `{'x': 105, 'y': 170, 'z': 210, 'w': 30}`"
   ]
  },
  {
   "cell_type": "code",
   "execution_count": 44,
   "metadata": {
    "tags": []
   },
   "outputs": [
    {
     "name": "stdout",
     "output_type": "stream",
     "text": [
      "{'x': 105, 'y': 170, 'z': 210, 'w': 30}\n"
     ]
    }
   ],
   "source": [
    "output21 = {'x': 120, 'y': 200, 'z':300, 'w': 30}\n",
    "\n",
    "# Write your solution here\n",
    "\n",
    "q21_d = {'x': 90, 'y': 140, 'z':120, 'm': 120}\n",
    "\n",
    "for k in output21.keys():\n",
    "    if (k in q21_d):\n",
    "        output21[k] = (output21[k] + q21_d[k]) // 2\n",
    "print(output21)"
   ]
  },
  {
   "cell_type": "markdown",
   "metadata": {},
   "source": [
    "#### Question 22 &nbsp;&nbsp;&nbsp;&nbsp;&nbsp;&nbsp;(6 Points)\n",
    "Given the following list of dictionaries in `output22`, change the values of the dictionaries based on the length of its corresponding key.\n",
    "```\n",
    "output22 = {{\"John\": 0, \"Danise\": 0, \"Kelly\": 0}, {\"Python\": 0, \"Java\": 0}, {\"Toy\": 0}, {\"Apple\": 0, \"Grapes\": 0}}\n",
    "```\n",
    "The expected output of `output22` will be in the following format: `[{'John': 4, 'Danise': 6, 'Kelly': 5}, {'Python': 6, 'Java': 4}, {'Toy': 3}, {'Apple': 5, 'Grapes': 6}]`"
   ]
  },
  {
   "cell_type": "code",
   "execution_count": 42,
   "metadata": {
    "tags": []
   },
   "outputs": [
    {
     "name": "stdout",
     "output_type": "stream",
     "text": [
      "[{'John': 4, 'Danise': 6, 'Kelly': 5}, {'Python': 6, 'Java': 4}, {'Toy': 3}, {'Apple': 5, 'Grapes': 6}]\n"
     ]
    }
   ],
   "source": [
    "# Write your solution here\n",
    "output22 = [{\"John\": 0, \"Danise\": 0, \"Kelly\": 0}, {\"Python\": 0, \"Java\": 0}, {\"Toy\": 0}, {\"Apple\": 0, \"Grapes\": 0}]\n",
    "for item in output22:\n",
    "    for k in item.keys():\n",
    "        item[k] = len(k)\n",
    "        \n",
    "print(output22)"
   ]
  },
  {
   "cell_type": "markdown",
   "metadata": {},
   "source": [
    "#### Question 23 &nbsp;&nbsp;&nbsp;&nbsp;&nbsp;&nbsp;(10 Points)\n",
    "Write a Python program to display the following pattern (letter `M`) using for loops. Create the variable `output23` and use it inside the while loop to construct the string that you want to display at the end of the program.\n",
    "```\n",
    "        * \n",
    "       * * \n",
    "      * * * \n",
    "     * * * * \n",
    "    * * * * * \n",
    "   * * * * * * \n",
    "    * * * * * \n",
    "     * * * * \n",
    "      * * * \n",
    "       * * \n",
    "        *\n",
    "```"
   ]
  },
  {
   "cell_type": "code",
   "execution_count": 131,
   "metadata": {
    "tags": []
   },
   "outputs": [
    {
     "name": "stdout",
     "output_type": "stream",
     "text": [
      "        *\n",
      "       * *\n",
      "      * * *\n",
      "     * * * *\n",
      "    * * * * *\n",
      "   * * * * * *\n",
      "    * * * * *\n",
      "     * * * *\n",
      "      * * *\n",
      "       * *\n",
      "        *\n"
     ]
    }
   ],
   "source": [
    "output23 = \"\" \n",
    "\n",
    "# Write your solution here\n",
    "q23_max_wildcards = 6\n",
    "q23_base_length = q23_max_wildcards\n",
    "temp = []\n",
    "line = 1\n",
    "while (line <= 6):\n",
    "    max_length = line + q23_base_length \n",
    "    temp_line = \"   \" + \" \" * (max_length - line*2) + (\"* \" * line)\n",
    "    temp_line = temp_line.rstrip()\n",
    "    temp.append(temp_line + \"\\n\")\n",
    "    line += 1\n",
    "    \n",
    "output23 += \"\".join(temp)\n",
    "temp.pop()\n",
    "temp.reverse()\n",
    "output23 += \"\".join(temp)\n",
    "\n",
    "output23 = output23.rstrip()\n",
    "print(output23)\n"
   ]
  },
  {
   "cell_type": "markdown",
   "metadata": {},
   "source": [
    "#### Question 24 &nbsp;&nbsp;&nbsp;&nbsp;&nbsp;&nbsp;(10 Points)\n",
    "Write a Python program to display the following pattern using while loops. Create the variable `output24` and use it inside the while loop to construct the string that you want to display at the end of the program.\n",
    "```\n",
    "5*4*3*2*1*1*2*3*4*5*\n",
    "\n",
    "5*4*3*2*****2*3*4*5*\n",
    "\n",
    "5*4*3*********3*4*5*\n",
    "\n",
    "5*4*************4*5*\n",
    "\n",
    "5*****************5*\n",
    "\n",
    "********************\n",
    "```"
   ]
  },
  {
   "cell_type": "code",
   "execution_count": 134,
   "metadata": {
    "tags": []
   },
   "outputs": [
    {
     "name": "stdout",
     "output_type": "stream",
     "text": [
      "5*4*3*2*1*1*2*3*4*5*\n",
      "\n",
      "5*4*3*2*****2*3*4*5*\n",
      "\n",
      "5*4*3*********3*4*5*\n",
      "\n",
      "5*4*************4*5*\n",
      "\n",
      "5*****************5*\n",
      "\n",
      "********************\n"
     ]
    }
   ],
   "source": [
    "output24 = \"\"\n",
    "\n",
    "# Write your solution here\n",
    "q24_max = 5\n",
    "q24_count = q24_max\n",
    "q24_line = 1\n",
    "\n",
    "while(q24_line <= q24_max + 1):\n",
    "    temp = \"\"\n",
    "    q24_count = q24_max\n",
    "    while(q24_count > 0):\n",
    "        if (q24_count >= q24_line):\n",
    "            temp += f'{q24_count}*'\n",
    "        else:\n",
    "            temp += '**'\n",
    "        q24_count -= 1\n",
    "    \n",
    "    temp += temp[len(temp)-2::-1]\n",
    "    output24 += temp + \"*\\n\\n\"\n",
    "    \n",
    "    q24_line += 1\n",
    "\n",
    "output24 = output24.rstrip()\n",
    "print(output24)"
   ]
  }
 ],
 "metadata": {
  "celltoolbar": "Edit Metadata",
  "kernelspec": {
   "display_name": "Python 3 (ipykernel)",
   "language": "python",
   "name": "python3"
  },
  "language_info": {
   "codemirror_mode": {
    "name": "ipython",
    "version": 3
   },
   "file_extension": ".py",
   "mimetype": "text/x-python",
   "name": "python",
   "nbconvert_exporter": "python",
   "pygments_lexer": "ipython3",
   "version": "3.9.7"
  },
  "otter": {
   "tests": {
    "Question 01": {
     "name": "Question 01",
     "points": 1,
     "suites": [
      {
       "cases": [],
       "scored": true,
       "setup": "",
       "teardown": "",
       "type": "doctest"
      }
     ]
    },
    "Question 02": {
     "name": "Question 02",
     "points": 1,
     "suites": [
      {
       "cases": [],
       "scored": true,
       "setup": "",
       "teardown": "",
       "type": "doctest"
      }
     ]
    },
    "Question 03": {
     "name": "Question 03",
     "points": 1,
     "suites": [
      {
       "cases": [],
       "scored": true,
       "setup": "",
       "teardown": "",
       "type": "doctest"
      }
     ]
    },
    "Question 04": {
     "name": "Question 04",
     "points": 1,
     "suites": [
      {
       "cases": [],
       "scored": true,
       "setup": "",
       "teardown": "",
       "type": "doctest"
      }
     ]
    },
    "Question 05": {
     "name": "Question 05",
     "points": 1,
     "suites": [
      {
       "cases": [],
       "scored": true,
       "setup": "",
       "teardown": "",
       "type": "doctest"
      }
     ]
    },
    "Question 06": {
     "name": "Question 06",
     "points": 3,
     "suites": [
      {
       "cases": [],
       "scored": true,
       "setup": "",
       "teardown": "",
       "type": "doctest"
      }
     ]
    },
    "Question 07": {
     "name": "Question 07",
     "points": 3,
     "suites": [
      {
       "cases": [],
       "scored": true,
       "setup": "",
       "teardown": "",
       "type": "doctest"
      }
     ]
    },
    "Question 08": {
     "name": "Question 08",
     "points": 3,
     "suites": [
      {
       "cases": [],
       "scored": true,
       "setup": "",
       "teardown": "",
       "type": "doctest"
      }
     ]
    },
    "Question 09": {
     "name": "Question 09",
     "points": 3,
     "suites": [
      {
       "cases": [],
       "scored": true,
       "setup": "",
       "teardown": "",
       "type": "doctest"
      }
     ]
    },
    "Question 10": {
     "name": "Question 10",
     "points": 3,
     "suites": [
      {
       "cases": [],
       "scored": true,
       "setup": "",
       "teardown": "",
       "type": "doctest"
      }
     ]
    },
    "Question 11": {
     "name": "Question 11",
     "points": 4,
     "suites": [
      {
       "cases": [],
       "scored": true,
       "setup": "",
       "teardown": "",
       "type": "doctest"
      }
     ]
    },
    "Question 12": {
     "name": "Question 12",
     "points": 4,
     "suites": [
      {
       "cases": [],
       "scored": true,
       "setup": "",
       "teardown": "",
       "type": "doctest"
      }
     ]
    },
    "Question 13": {
     "name": "Question 13",
     "points": 4,
     "suites": [
      {
       "cases": [],
       "scored": true,
       "setup": "",
       "teardown": "",
       "type": "doctest"
      }
     ]
    },
    "Question 14": {
     "name": "Question 14",
     "points": 4,
     "suites": [
      {
       "cases": [],
       "scored": true,
       "setup": "",
       "teardown": "",
       "type": "doctest"
      }
     ]
    },
    "Question 15": {
     "name": "Question 15",
     "points": 4,
     "suites": [
      {
       "cases": [],
       "scored": true,
       "setup": "",
       "teardown": "",
       "type": "doctest"
      }
     ]
    },
    "Question 16": {
     "name": "Question 16",
     "points": 4,
     "suites": [
      {
       "cases": [],
       "scored": true,
       "setup": "",
       "teardown": "",
       "type": "doctest"
      }
     ]
    },
    "Question 17": {
     "name": "Question 17",
     "points": 6,
     "suites": [
      {
       "cases": [],
       "scored": true,
       "setup": "",
       "teardown": "",
       "type": "doctest"
      }
     ]
    },
    "Question 18": {
     "name": "Question 18",
     "points": 6,
     "suites": [
      {
       "cases": [],
       "scored": true,
       "setup": "",
       "teardown": "",
       "type": "doctest"
      }
     ]
    },
    "Question 19": {
     "name": "Question 19",
     "points": 6,
     "suites": [
      {
       "cases": [],
       "scored": true,
       "setup": "",
       "teardown": "",
       "type": "doctest"
      }
     ]
    },
    "Question 20": {
     "name": "Question 20",
     "points": 6,
     "suites": [
      {
       "cases": [],
       "scored": true,
       "setup": "",
       "teardown": "",
       "type": "doctest"
      }
     ]
    },
    "Question 21": {
     "name": "Question 21",
     "points": 6,
     "suites": [
      {
       "cases": [],
       "scored": true,
       "setup": "",
       "teardown": "",
       "type": "doctest"
      }
     ]
    },
    "Question 22": {
     "name": "Question 22",
     "points": 6,
     "suites": [
      {
       "cases": [],
       "scored": true,
       "setup": "",
       "teardown": "",
       "type": "doctest"
      }
     ]
    },
    "Question 23": {
     "name": "Question 23",
     "points": 10,
     "suites": [
      {
       "cases": [],
       "scored": true,
       "setup": "",
       "teardown": "",
       "type": "doctest"
      }
     ]
    },
    "Question 24": {
     "name": "Question 24",
     "points": 10,
     "suites": [
      {
       "cases": [],
       "scored": true,
       "setup": "",
       "teardown": "",
       "type": "doctest"
      }
     ]
    }
   }
  },
  "varInspector": {
   "cols": {
    "lenName": 16,
    "lenType": 16,
    "lenVar": 40
   },
   "kernels_config": {
    "python": {
     "delete_cmd_postfix": "",
     "delete_cmd_prefix": "del ",
     "library": "var_list.py",
     "varRefreshCmd": "print(var_dic_list())"
    },
    "r": {
     "delete_cmd_postfix": ") ",
     "delete_cmd_prefix": "rm(",
     "library": "var_list.r",
     "varRefreshCmd": "cat(var_dic_list()) "
    }
   },
   "types_to_exclude": [
    "module",
    "function",
    "builtin_function_or_method",
    "instance",
    "_Feature"
   ],
   "window_display": false
  }
 },
 "nbformat": 4,
 "nbformat_minor": 4
}
