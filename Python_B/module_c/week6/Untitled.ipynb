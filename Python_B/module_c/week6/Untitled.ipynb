{
 "cells": [
  {
   "cell_type": "code",
   "execution_count": 71,
   "id": "b2696e36",
   "metadata": {
    "scrolled": true
   },
   "outputs": [
    {
     "name": "stdout",
     "output_type": "stream",
     "text": [
      "1 => 6 , 2 => 10 , 3 => 13\n",
      "both conditions are False\n"
     ]
    }
   ],
   "source": [
    "import random\n",
    "\n",
    "# Given some numbers\n",
    "num_1 = random.randint(6,10)\n",
    "num_2 = random.randint(7,10)\n",
    "num_3 = random.randint(11,20)\n",
    "\n",
    "print ('1 =>', num_1, ', 2 =>', num_2, ', 3 =>', num_3)\n",
    "check_condition = False\n",
    "if num_1 > num_2 and num_3 > num_1:\n",
    "    check_condition = True\n",
    "    \n",
    "print(\"both conditions are\", check_condition)"
   ]
  },
  {
   "cell_type": "code",
   "execution_count": 72,
   "id": "ff45e9be",
   "metadata": {
    "scrolled": true
   },
   "outputs": [
    {
     "name": "stdout",
     "output_type": "stream",
     "text": [
      "Final Total: 2025\n"
     ]
    }
   ],
   "source": [
    "# Given some values to computer a discount price when a minimum amount of an item are sold\n",
    "MINIMUM_AMOUNT_FOR_DISCOUNT = 100\n",
    "NORMAL_PRICE = 25\n",
    "DISCOUNT_PRICE = 20\n",
    "\n",
    "number_sold = random.randint(50,150)\n",
    "\n",
    "if number_sold > MINIMUM_AMOUNT_FOR_DISCOUNT: \n",
    "    total = number_sold * DISCOUNT_PRICE \n",
    "else: \n",
    "    total = number_sold * NORMAL_PRICE \n",
    "    \n",
    "label = f'Final Total: {total}' \n",
    "print (label)"
   ]
  },
  {
   "cell_type": "code",
   "execution_count": 102,
   "id": "1312003f",
   "metadata": {
    "scrolled": true
   },
   "outputs": [
    {
     "name": "stdout",
     "output_type": "stream",
     "text": [
      "Planet jupiter is a gas giant which is the number 5 planet from the sun.\n",
      "Planet saturn is a gas giant which is the number 6 planet from the sun.\n",
      "Planet uranus is a gas giant which is the number 7 planet from the sun.\n",
      "Planet neptune is a gas giant which is the number 8 planet from the sun.\n",
      "-------\n",
      "Planet jupiter is a gas giant which is the number 5 planet from the sun.\n",
      "Planet saturn is a gas giant which is the number 6 planet from the sun.\n",
      "Planet uranus is a gas giant which is the number 7 planet from the sun.\n",
      "Planet neptune is a gas giant which is the number 8 planet from the sun.\n"
     ]
    }
   ],
   "source": [
    "planets = [\"mercury\", \"venus\", \"earth\", \"mars\", \"jupiter\", \"saturn\", \"uranus\", \"neptune\"]\n",
    "gas_giants = [\"neptune\", \"uranus\", \"saturn\", \"jupiter\"]\n",
    "\n",
    "distance_from_sun = 0\n",
    "\n",
    "for p in planets:\n",
    "    \n",
    "    distance_from_sun += 1\n",
    "\n",
    "    if p in gas_giants:\n",
    "        print (\"Planet\", p, \"is a gas giant which is the number\", distance_from_sun, \"planet from the sun.\")\n",
    "        \n",
    "\n",
    "print('-------')\n",
    "message = lambda p, distance_from_sun: print (\"Planet\", p, \"is a gas giant which is the number\", distance_from_sun, \"planet from the sun.\")\n",
    "list = [message(planet, index + 1) for index, planet in enumerate(planets) if planet in gas_giants]"
   ]
  },
  {
   "cell_type": "code",
   "execution_count": 103,
   "id": "9f87c8a4",
   "metadata": {},
   "outputs": [
    {
     "name": "stdout",
     "output_type": "stream",
     "text": [
      "Sale with # 0 with margin added and GST applied: $ None\n",
      "Sale with # 1 with margin added and GST applied: $ None\n",
      "Sale with # 4 with margin added and GST applied: $ None\n",
      "All our sales with margin plus GST: [195.8, 192.61, 680.35]\n"
     ]
    }
   ],
   "source": [
    "# The dollar value of sales our company has made this quarter\n",
    "quarterly_sales = [123.00, 120.10, 100.00, 55.90, 563.50]\n",
    "\n",
    "# Minimum sale price for GST. Sales above this price add 10% GST\n",
    "MIN_GST_SALE_IN_DOLLARS = 110.00\n",
    "\n",
    "# All of the sales above MIN_GST_SALE_IN_DOLLARS to which we will add GST# \n",
    "all_gst_sales = []\n",
    "\n",
    "# The margin of profit added to each sale before GST is calculated\n",
    "MARGIN_IN_DOLLARS = 55.00\n",
    "\n",
    "GST = 1.1\n",
    "\n",
    "def is_gst_added (price):\n",
    "    return price > MIN_GST_SALE_IN_DOLLARS\n",
    "\n",
    "def calculate_gst(price):\n",
    "    return price*GST\n",
    "\n",
    "for i, sale in enumerate(quarterly_sales):\n",
    "\n",
    "    if is_gst_added(sale): \n",
    "\n",
    "        base_value = sale + MARGIN_IN_DOLLARS  \n",
    "        gst_value = (sale + MARGIN_IN_DOLLARS) * GST\n",
    "        gst_sale_value = all_gst_sales.append(calculate_gst(base_value))    \n",
    "        print (\"Sale with #\", i, \"with margin added and GST applied: $\", gst_sale_value)\n",
    "\n",
    "print (\"All our sales with margin plus GST:\", all_gst_sales)"
   ]
  }
 ],
 "metadata": {
  "kernelspec": {
   "display_name": "Python 3 (ipykernel)",
   "language": "python",
   "name": "python3"
  },
  "language_info": {
   "codemirror_mode": {
    "name": "ipython",
    "version": 3
   },
   "file_extension": ".py",
   "mimetype": "text/x-python",
   "name": "python",
   "nbconvert_exporter": "python",
   "pygments_lexer": "ipython3",
   "version": "3.9.7"
  }
 },
 "nbformat": 4,
 "nbformat_minor": 5
}
