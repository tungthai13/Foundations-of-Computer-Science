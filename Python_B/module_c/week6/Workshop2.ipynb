{
 "cells": [
  {
   "cell_type": "code",
   "execution_count": 2,
   "id": "34ed6426",
   "metadata": {},
   "outputs": [
    {
     "name": "stdout",
     "output_type": "stream",
     "text": [
      "test data: [2, 3, 9, 8, 7, 7, 7, 5, 7, 4, 1, 10]\n",
      "expected result: 70\n",
      "actual result: 70\n"
     ]
    }
   ],
   "source": [
    "import random\n",
    "\n",
    "def sum_array (list):\n",
    "    return sum(list)\n",
    "\n",
    "def test_list_sum ():\n",
    "    \n",
    "    test_data = []\n",
    "    expected_result = 0\n",
    "    \n",
    "    for n in range(0,12):\n",
    "        num = random.randint(1,10)\n",
    "        expected_result += num\n",
    "        test_data.append (num)\n",
    "    \n",
    "    actual_result = sum_array(test_data)\n",
    "    \n",
    "    print (f\"test data: {test_data}\")\n",
    "    print (f\"expected result: {expected_result}\")\n",
    "    print (f\"actual result: {actual_result}\")\n",
    "    \n",
    "    assert actual_result == expected_result, \"test_list_sum() failed\"\n",
    "    \n",
    "test_list_sum()"
   ]
  }
 ],
 "metadata": {
  "kernelspec": {
   "display_name": "Python 3 (ipykernel)",
   "language": "python",
   "name": "python3"
  },
  "language_info": {
   "codemirror_mode": {
    "name": "ipython",
    "version": 3
   },
   "file_extension": ".py",
   "mimetype": "text/x-python",
   "name": "python",
   "nbconvert_exporter": "python",
   "pygments_lexer": "ipython3",
   "version": "3.9.7"
  }
 },
 "nbformat": 4,
 "nbformat_minor": 5
}
