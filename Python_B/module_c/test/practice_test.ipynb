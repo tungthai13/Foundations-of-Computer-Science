{
 "cells": [
  {
   "cell_type": "markdown",
   "id": "c91dce4d",
   "metadata": {},
   "source": [
    "# Week 1: File"
   ]
  },
  {
   "cell_type": "code",
   "execution_count": 35,
   "id": "5929f6aa",
   "metadata": {},
   "outputs": [],
   "source": [
    "with open('test3.txt', 'w+') as file:\n",
    "    file.writelines(['Hello','World','!'])"
   ]
  },
  {
   "cell_type": "code",
   "execution_count": 39,
   "id": "a5b05c3a",
   "metadata": {
    "scrolled": false
   },
   "outputs": [
    {
     "name": "stdout",
     "output_type": "stream",
     "text": [
      "[Errno 2] No such file or directory: 'test4.txt'\n"
     ]
    }
   ],
   "source": [
    "try:\n",
    "    with open('test4.txt', 'r') as file:\n",
    "        pass\n",
    "except Exception as e:\n",
    "    print(e)"
   ]
  },
  {
   "cell_type": "code",
   "execution_count": 42,
   "id": "e4b8b54f",
   "metadata": {
    "scrolled": true
   },
   "outputs": [
    {
     "name": "stdout",
     "output_type": "stream",
     "text": [
      "9\n",
      "8\n",
      "7\n",
      "6\n",
      "5\n",
      "4\n",
      "3\n",
      "2\n",
      "1\n",
      "\n"
     ]
    }
   ],
   "source": [
    "with open('test3.txt', 'r+') as file:\n",
    "    lines = reversed(file.readlines())\n",
    "    file.seek(0)\n",
    "    file.writelines(lines)\n",
    "    file.seek(0)\n",
    "    print(file.read())\n",
    "    "
   ]
  },
  {
   "cell_type": "code",
   "execution_count": 50,
   "id": "7e0c39ec",
   "metadata": {},
   "outputs": [
    {
     "name": "stdout",
     "output_type": "stream",
     "text": [
      "78901234\n",
      "\n"
     ]
    }
   ],
   "source": [
    "with open('test3.txt','r+') as file:\n",
    "    for i in range(2):\n",
    "        next(file)\n",
    "        \n",
    "    print(file.readline(10))"
   ]
  },
  {
   "cell_type": "markdown",
   "id": "96a8daa8",
   "metadata": {},
   "source": [
    "# Week 2: csv, json"
   ]
  },
  {
   "cell_type": "code",
   "execution_count": 133,
   "id": "c0b14caf",
   "metadata": {},
   "outputs": [
    {
     "name": "stdout",
     "output_type": "stream",
     "text": [
      "['Date', 'Location', 'MinTemp', 'MaxTemp', 'Rainfall', 'Evaporation', 'Sunshine', 'WindGustDir', 'WindGustSpeed', 'WindDir9am', 'WindDir3pm', 'WindSpeed9am', 'WindSpeed3pm', 'Humidity9am', 'Humidity3pm', 'Pressure9am', 'Pressure3pm', 'Cloud9am', 'Cloud3pm', 'Temp9am', 'Temp3pm', 'RainToday', 'RISK_MM', 'RainTomorrow']\n",
      "['1/12/08', 'Albury', '13.4', '22.9', '0.6', 'NA', 'NA', 'W', '44', 'W', 'WNW', '20', '24', '71', '22', '1007.7', '1007.1', '8', 'NA', '16.9', '21.8', 'No', '0', 'No']\n",
      "['2/12/08', 'Albury', '7.4', '25.1', '0', 'NA', 'NA', 'WNW', '44', 'NNW', 'WSW', '4', '22', '44', '25', '1010.6', '1007.8', 'NA', 'NA', '17.2', '24.3', 'No', '0', 'No']\n",
      "\n"
     ]
    }
   ],
   "source": [
    "import csv\n",
    "\n",
    "# Read file csv\n",
    "with open('weatherAUS.csv') as file:\n",
    "    reader = csv.reader(file)\n",
    "    for index, line in enumerate(reader):\n",
    "        if index == 3:\n",
    "            break\n",
    "            \n",
    "        print(line)\n",
    "        \n",
    "print()"
   ]
  },
  {
   "cell_type": "code",
   "execution_count": 87,
   "id": "408a0bba",
   "metadata": {
    "scrolled": false
   },
   "outputs": [
    {
     "name": "stdout",
     "output_type": "stream",
     "text": [
      "\n",
      "{'Date': '1/12/08', 'Location': 'Albury', 'MinTemp': '13.4', None: ['22.9', '0.6', 'NA', 'NA', 'W', '44', 'W', 'WNW', '20', '24', '71', '22', '1007.7', '1007.1', '8', 'NA', '16.9', '21.8', 'No', '0', 'No']}\n",
      "{'Date': '2/12/08', 'Location': 'Albury', 'MinTemp': '7.4', None: ['25.1', '0', 'NA', 'NA', 'WNW', '44', 'NNW', 'WSW', '4', '22', '44', '25', '1010.6', '1007.8', 'NA', 'NA', '17.2', '24.3', 'No', '0', 'No']}\n",
      "{'Date': '3/12/08', 'Location': 'Albury', 'MinTemp': '12.9', None: ['25.7', '0', 'NA', 'NA', 'WSW', '46', 'W', 'WSW', '19', '26', '38', '30', '1007.6', '1008.7', 'NA', '2', '21', '23.2', 'No', '0', 'No']}\n",
      "4\n"
     ]
    }
   ],
   "source": [
    "with open('weatherAUS.csv') as file:\n",
    "    reader = csv.DictReader(file, fieldnames=('Date', 'Location', 'MinTemp'))\n",
    "    for index, row in enumerate(reader):\n",
    "        if index == 0:\n",
    "            continue\n",
    "        if index == 4:\n",
    "            break\n",
    "            \n",
    "        print(row)\n",
    "        \n",
    "    print(index)\n",
    "    \n",
    "# Write file csv\n",
    "\n",
    "with open('test.csv', 'w') as file:\n",
    "    writer = csv.writer(file)\n",
    "    writer.writerow(['name', 'age', 'postcode'])\n",
    "    writer.writerows([\n",
    "        ['Tung', 25, 5000],\n",
    "        ['Mai', 26, 5001],\n",
    "        ['Thao', 22, 100000]\n",
    "    ])\n"
   ]
  },
  {
   "cell_type": "code",
   "execution_count": 104,
   "id": "7be0e54e",
   "metadata": {},
   "outputs": [],
   "source": [
    "import json\n",
    "import pprint\n",
    "\n",
    "data = {'name':'Tung', 'age':25, 'postcode':5000}\n",
    "\n",
    "with open('newFile.json','r+') as file:\n",
    "    jstr = file.read()\n",
    "    jdata = json.loads(jstr)\n",
    "    \n",
    "    file.seek(0)\n",
    "    \n",
    "    jdata.append(data)\n",
    "    json.dump(jdata,file)\n",
    "    "
   ]
  },
  {
   "cell_type": "code",
   "execution_count": 119,
   "id": "4b948080",
   "metadata": {},
   "outputs": [
    {
     "name": "stdout",
     "output_type": "stream",
     "text": [
      "[{'batters': {'batter': [{'id': '1001', 'type': 'Regular'},\n",
      "                         {'id': '1002', 'type': 'Chocolate'},\n",
      "                         {'id': '1003', 'type': 'Blueberry'},\n",
      "                         {'id': '1004', 'type': \"Devil's Food\"}]},\n",
      "  'id': '0001',\n",
      "  'name': 'Cake',\n",
      "  'ppu': 0.55,\n",
      "  'topping': [{'id': '5001', 'type': 'None'},\n",
      "              {'id': '5002', 'type': 'Glazed'},\n",
      "              {'id': '5005', 'type': 'Sugar'},\n",
      "              {'id': '5007', 'type': 'Powdered Sugar'},\n",
      "              {'id': '5006', 'type': 'Chocolate with Sprinkles'},\n",
      "              {'id': '5003', 'type': 'Chocolate'},\n",
      "              {'id': '5004', 'type': 'Maple'}],\n",
      "  'type': 'donut'},\n",
      " {'batters': {'batter': [{'id': '1001', 'type': 'Regular'}]},\n",
      "  'id': '0002',\n",
      "  'name': 'Raised',\n",
      "  'ppu': 0.55,\n",
      "  'topping': [{'id': '5001', 'type': 'None'},\n",
      "              {'id': '5002', 'type': 'Glazed'},\n",
      "              {'id': '5005', 'type': 'Sugar'},\n",
      "              {'id': '5003', 'type': 'Chocolate'},\n",
      "              {'id': '5004', 'type': 'Maple'}],\n",
      "  'type': 'donut'},\n",
      " {'batters': {'batter': [{'id': '1001', 'type': 'Regular'},\n",
      "                         {'id': '1002', 'type': 'Chocolate'}]},\n",
      "  'id': '0003',\n",
      "  'name': 'Old Fashioned',\n",
      "  'ppu': 0.55,\n",
      "  'topping': [{'id': '5001', 'type': 'None'},\n",
      "              {'id': '5002', 'type': 'Glazed'},\n",
      "              {'id': '5003', 'type': 'Chocolate'},\n",
      "              {'id': '5004', 'type': 'Maple'}],\n",
      "  'type': 'donut'}]\n",
      "[{'id': '5001', 'type': 'None'}, {'id': '5002', 'type': 'Glazed'}, {'id': '5005', 'type': 'Sugar'}, {'id': '5007', 'type': 'Powdered Sugar'}, {'id': '5006', 'type': 'Chocolate with Sprinkles'}, {'id': '5003', 'type': 'Chocolate'}, {'id': '5004', 'type': 'Maple'}]\n",
      "[{'id': '5001', 'type': 'None'}, {'id': '5002', 'type': 'Glazed'}, {'id': '5005', 'type': 'Sugar'}, {'id': '5003', 'type': 'Chocolate'}, {'id': '5004', 'type': 'Maple'}]\n",
      "[{'id': '5001', 'type': 'None'}, {'id': '5002', 'type': 'Glazed'}, {'id': '5003', 'type': 'Chocolate'}, {'id': '5004', 'type': 'Maple'}]\n"
     ]
    }
   ],
   "source": [
    "with open('donuts.json', 'r') as file:\n",
    "    string = file.read()\n",
    "    jsondata = json.loads(string)\n",
    "    \n",
    "    pprint.pprint(jsondata)\n",
    "    \n",
    "    for donut in jsondata:\n",
    "        topping = donut['topping']\n",
    "        print(topping)"
   ]
  },
  {
   "cell_type": "code",
   "execution_count": null,
   "id": "f4d42bc1",
   "metadata": {},
   "outputs": [],
   "source": []
  },
  {
   "cell_type": "code",
   "execution_count": 120,
   "id": "35c36555",
   "metadata": {},
   "outputs": [],
   "source": [
    "with open('test.csv', 'w') as outfile:\n",
    "    writer = csv.writer(outfile, delimiter=',', quoting=csv.QUOTE_MINIMAL)\n",
    "    writer.writerow(['hi', 'dude'])\n",
    "    writer.writerow(['hi2', 'dude2'])"
   ]
  },
  {
   "cell_type": "code",
   "execution_count": 132,
   "id": "511ce697",
   "metadata": {},
   "outputs": [
    {
     "name": "stdout",
     "output_type": "stream",
     "text": [
      "[[8.55110242 5.01612965 7.52050344 7.35273203]\n",
      " [4.63341805 6.25192325 3.10737915 8.66914605]\n",
      " [3.0691787  5.34324297 9.18993609 6.12670053]]\n",
      "[[1 1 8 1]\n",
      " [9 9 4 4]\n",
      " [6 6 3 7]]\n"
     ]
    }
   ],
   "source": [
    "import numpy as np\n",
    "\n",
    "uniform = np.random.uniform(low = 1, high = 10, size = (3,4))\n",
    "integer = np.random.randint(low = 1, high = 10, size = (3,4))\n",
    "\n",
    "print(uniform)\n",
    "print(integer)"
   ]
  },
  {
   "cell_type": "code",
   "execution_count": 137,
   "id": "9e297e44",
   "metadata": {
    "scrolled": true
   },
   "outputs": [
    {
     "name": "stdout",
     "output_type": "stream",
     "text": [
      "[[0. 0. 0.]\n",
      " [0. 0. 0.]\n",
      " [0. 0. 0.]]\n"
     ]
    }
   ],
   "source": [
    "a = np.zeros((3,3))\n",
    "print(a)"
   ]
  },
  {
   "cell_type": "code",
   "execution_count": 141,
   "id": "46bdb1fa",
   "metadata": {},
   "outputs": [
    {
     "name": "stdout",
     "output_type": "stream",
     "text": [
      "[[79  1]\n",
      " [90  2]\n",
      " [12  5]]\n"
     ]
    }
   ],
   "source": [
    "b = np.array([[ 3, 12,  5, 65],\n",
    "       [13, 90,  2, 49],\n",
    "       [35, 79,  1,  8]])\n",
    "\n",
    "c = b[::-1, 1:3]\n",
    "print(c)"
   ]
  },
  {
   "cell_type": "code",
   "execution_count": 143,
   "id": "ac8b7a53",
   "metadata": {
    "scrolled": true
   },
   "outputs": [
    {
     "name": "stdout",
     "output_type": "stream",
     "text": [
      "m1 =\n",
      " [[ 0  1  2  3]\n",
      " [ 4  5  6  7]\n",
      " [ 8  9 10 11]\n",
      " [12 13 14 15]\n",
      " [16 17 18 19]\n",
      " [20 21 22 23]]\n",
      "mS1 =\n",
      " [[ 0  1]\n",
      " [ 4  5]\n",
      " [ 8  9]\n",
      " [12 13]\n",
      " [16 17]\n",
      " [20 21]]\n",
      "mS2 =\n",
      " [[ 2  3]\n",
      " [ 6  7]\n",
      " [10 11]\n",
      " [14 15]\n",
      " [18 19]\n",
      " [22 23]]\n"
     ]
    }
   ],
   "source": [
    "# Example with two-dimensional array\n",
    "\n",
    "#Create a two-dimensional array\n",
    "m1 = np.arange(24).reshape((6, 4))\n",
    "print(\"m1 =\\n\", m1)\n",
    "\n",
    "#Split into two equal arrays \n",
    "mS1,mS2 = np.split(m1,2,axis = 1);#[2]index for rows, the two first  \n",
    "print(\"mS1 =\\n\", mS1)\n",
    "print(\"mS2 =\\n\", mS2)"
   ]
  },
  {
   "cell_type": "code",
   "execution_count": 162,
   "id": "c82c338c",
   "metadata": {},
   "outputs": [
    {
     "name": "stdout",
     "output_type": "stream",
     "text": [
      "apple\n",
      "Index(['ba', 'bon'], dtype='object')\n",
      "[list([3, 4, 5]) list([6, 7, 8])]\n"
     ]
    }
   ],
   "source": [
    "import pandas as pd\n",
    "\n",
    "#Construct a series from a dictionary\n",
    "a = pd.Series({2:'orange', 3:'apple', 1:'nectarin', 4:'strawberry'})\n",
    "print(a[3])\n",
    "\n",
    "b = pd.Series([[3,4,5],[6,7,8]], index=['mot', 'hai'])\n",
    "b = b.set_axis(['ba', 'bon'])\n",
    "print(b.index)\n",
    "print(b.values)"
   ]
  },
  {
   "cell_type": "code",
   "execution_count": 163,
   "id": "71f5ede0",
   "metadata": {
    "scrolled": true
   },
   "outputs": [
    {
     "data": {
      "text/html": [
       "<div>\n",
       "<style scoped>\n",
       "    .dataframe tbody tr th:only-of-type {\n",
       "        vertical-align: middle;\n",
       "    }\n",
       "\n",
       "    .dataframe tbody tr th {\n",
       "        vertical-align: top;\n",
       "    }\n",
       "\n",
       "    .dataframe thead th {\n",
       "        text-align: right;\n",
       "    }\n",
       "</style>\n",
       "<table border=\"1\" class=\"dataframe\">\n",
       "  <thead>\n",
       "    <tr style=\"text-align: right;\">\n",
       "      <th></th>\n",
       "      <th>0</th>\n",
       "      <th>1</th>\n",
       "    </tr>\n",
       "  </thead>\n",
       "  <tbody>\n",
       "    <tr>\n",
       "      <th>0</th>\n",
       "      <td>6.5</td>\n",
       "      <td>90.3</td>\n",
       "    </tr>\n",
       "    <tr>\n",
       "      <th>1</th>\n",
       "      <td>3.6</td>\n",
       "      <td>3.2</td>\n",
       "    </tr>\n",
       "  </tbody>\n",
       "</table>\n",
       "</div>"
      ],
      "text/plain": [
       "     0     1\n",
       "0  6.5  90.3\n",
       "1  3.6   3.2"
      ]
     },
     "execution_count": 163,
     "metadata": {},
     "output_type": "execute_result"
    }
   ],
   "source": [
    "df1 = pd.DataFrame(np.array([[6.5, 90.3], [3.6, 3.2]]))\n",
    "df1"
   ]
  },
  {
   "cell_type": "code",
   "execution_count": 256,
   "id": "c6666b60",
   "metadata": {
    "scrolled": true
   },
   "outputs": [
    {
     "name": "stdout",
     "output_type": "stream",
     "text": [
      "   money  age  bla\n",
      "c    8.4  2.2    9\n",
      "d    9.8  1.1    0\n"
     ]
    }
   ],
   "source": [
    "df2 = pd.DataFrame([[6.5, 90.3,1], [3.6, 3.2,2], [8.4, 2.2,9], [9.8, 1.1,0]], columns=['money', 'age','bla'], index=['a','b','c','d'])\n",
    "df2.loc[['a', 'b'], ['age', 'money']]\n",
    "\n",
    "print(df2.iloc[-2:])"
   ]
  },
  {
   "cell_type": "code",
   "execution_count": 252,
   "id": "f03ff7d3",
   "metadata": {
    "scrolled": false
   },
   "outputs": [
    {
     "data": {
      "text/html": [
       "<div>\n",
       "<style scoped>\n",
       "    .dataframe tbody tr th:only-of-type {\n",
       "        vertical-align: middle;\n",
       "    }\n",
       "\n",
       "    .dataframe tbody tr th {\n",
       "        vertical-align: top;\n",
       "    }\n",
       "\n",
       "    .dataframe thead th {\n",
       "        text-align: right;\n",
       "    }\n",
       "</style>\n",
       "<table border=\"1\" class=\"dataframe\">\n",
       "  <thead>\n",
       "    <tr style=\"text-align: right;\">\n",
       "      <th></th>\n",
       "      <th>One</th>\n",
       "      <th>Two</th>\n",
       "      <th>Mot</th>\n",
       "      <th>Hai</th>\n",
       "    </tr>\n",
       "  </thead>\n",
       "  <tbody>\n",
       "    <tr>\n",
       "      <th>a</th>\n",
       "      <td>NaN</td>\n",
       "      <td>NaN</td>\n",
       "      <td>1</td>\n",
       "      <td>6</td>\n",
       "    </tr>\n",
       "    <tr>\n",
       "      <th>b</th>\n",
       "      <td>NaN</td>\n",
       "      <td>NaN</td>\n",
       "      <td>2</td>\n",
       "      <td>7</td>\n",
       "    </tr>\n",
       "  </tbody>\n",
       "</table>\n",
       "</div>"
      ],
      "text/plain": [
       "   One  Two  Mot  Hai\n",
       "a  NaN  NaN    1    6\n",
       "b  NaN  NaN    2    7"
      ]
     },
     "execution_count": 252,
     "metadata": {},
     "output_type": "execute_result"
    }
   ],
   "source": [
    "df3 = pd.DataFrame({\"Mot\":[1,2,3,4], \"Hai\": [6,7,8,9]}, index=['a', 'b', 'c', 'd'], columns=['One', 'Two', 'Mot', 'Hai'])\n",
    "df3.loc[df3.Mot <= 2]"
   ]
  },
  {
   "cell_type": "code",
   "execution_count": 175,
   "id": "6923060a",
   "metadata": {
    "scrolled": true
   },
   "outputs": [
    {
     "name": "stdout",
     "output_type": "stream",
     "text": [
      "yellowwhiteblackredpurple\n",
      "black     4\n",
      "red       3\n",
      "yellow    2\n",
      "white     2\n",
      "purple    1\n",
      "dtype: int64\n",
      "2\n"
     ]
    }
   ],
   "source": [
    "colors = pd.Series(['yellow', 'white', 'black', 'black', 'white', 'red', 'yellow', 'red', 'purple','black', 'black', 'red'])\n",
    "\n",
    "print(colors.unique().sum())\n",
    "print(colors.value_counts())\n",
    "print(colors.isin([\n",
    "    'yellow',\n",
    "    'Black'\n",
    "]).sum())"
   ]
  },
  {
   "cell_type": "code",
   "execution_count": 258,
   "id": "b75547af",
   "metadata": {
    "scrolled": true
   },
   "outputs": [
    {
     "data": {
      "text/html": [
       "<div>\n",
       "<style scoped>\n",
       "    .dataframe tbody tr th:only-of-type {\n",
       "        vertical-align: middle;\n",
       "    }\n",
       "\n",
       "    .dataframe tbody tr th {\n",
       "        vertical-align: top;\n",
       "    }\n",
       "\n",
       "    .dataframe thead th {\n",
       "        text-align: right;\n",
       "    }\n",
       "</style>\n",
       "<table border=\"1\" class=\"dataframe\">\n",
       "  <thead>\n",
       "    <tr style=\"text-align: right;\">\n",
       "      <th></th>\n",
       "      <th>cities</th>\n",
       "      <th>area</th>\n",
       "      <th>density</th>\n",
       "      <th>state</th>\n",
       "      <th>unemployed_rate</th>\n",
       "      <th>min_Temp</th>\n",
       "      <th>max_Temp</th>\n",
       "    </tr>\n",
       "  </thead>\n",
       "  <tbody>\n",
       "    <tr>\n",
       "      <th>0</th>\n",
       "      <td>Sydney</td>\n",
       "      <td>12368.00</td>\n",
       "      <td>4627345</td>\n",
       "      <td>New South Wales</td>\n",
       "      <td>4.3</td>\n",
       "      <td>-0.69</td>\n",
       "      <td>27.93</td>\n",
       "    </tr>\n",
       "    <tr>\n",
       "      <th>1</th>\n",
       "      <td>Melbourne</td>\n",
       "      <td>9990.00</td>\n",
       "      <td>4246375</td>\n",
       "      <td>Victoria</td>\n",
       "      <td>4.9</td>\n",
       "      <td>-1.72</td>\n",
       "      <td>22.73</td>\n",
       "    </tr>\n",
       "    <tr>\n",
       "      <th>2</th>\n",
       "      <td>Brisbane</td>\n",
       "      <td>15826.00</td>\n",
       "      <td>2189878</td>\n",
       "      <td>Queensland</td>\n",
       "      <td>NaN</td>\n",
       "      <td>-2.71</td>\n",
       "      <td>23.94</td>\n",
       "    </tr>\n",
       "    <tr>\n",
       "      <th>3</th>\n",
       "      <td>Perth</td>\n",
       "      <td>6418.00</td>\n",
       "      <td>1896548</td>\n",
       "      <td>Western Australia</td>\n",
       "      <td>NaN</td>\n",
       "      <td>-4.77</td>\n",
       "      <td>25.56</td>\n",
       "    </tr>\n",
       "    <tr>\n",
       "      <th>4</th>\n",
       "      <td>Adelaide</td>\n",
       "      <td>3258.00</td>\n",
       "      <td>1225235</td>\n",
       "      <td>South Australia</td>\n",
       "      <td>7.3</td>\n",
       "      <td>2.78</td>\n",
       "      <td>30.38</td>\n",
       "    </tr>\n",
       "    <tr>\n",
       "      <th>5</th>\n",
       "      <td>Gold Coast</td>\n",
       "      <td>414.13</td>\n",
       "      <td>591473</td>\n",
       "      <td>Queensland</td>\n",
       "      <td>6.4</td>\n",
       "      <td>13.58</td>\n",
       "      <td>27.95</td>\n",
       "    </tr>\n",
       "    <tr>\n",
       "      <th>6</th>\n",
       "      <td>Canberra</td>\n",
       "      <td>814.20</td>\n",
       "      <td>367752</td>\n",
       "      <td>Australian Capital Territory</td>\n",
       "      <td>3.5</td>\n",
       "      <td>-2.36</td>\n",
       "      <td>42.30</td>\n",
       "    </tr>\n",
       "    <tr>\n",
       "      <th>7</th>\n",
       "      <td>Newcastle</td>\n",
       "      <td>261.80</td>\n",
       "      <td>308308</td>\n",
       "      <td>New South Wales</td>\n",
       "      <td>4.3</td>\n",
       "      <td>18.44</td>\n",
       "      <td>20.49</td>\n",
       "    </tr>\n",
       "    <tr>\n",
       "      <th>8</th>\n",
       "      <td>Wollongong</td>\n",
       "      <td>714.00</td>\n",
       "      <td>292190</td>\n",
       "      <td>New South Wales</td>\n",
       "      <td>4.3</td>\n",
       "      <td>2.84</td>\n",
       "      <td>20.28</td>\n",
       "    </tr>\n",
       "    <tr>\n",
       "      <th>9</th>\n",
       "      <td>Logan City</td>\n",
       "      <td>957.00</td>\n",
       "      <td>282673</td>\n",
       "      <td>Queensland</td>\n",
       "      <td>6.4</td>\n",
       "      <td>8.39</td>\n",
       "      <td>32.23</td>\n",
       "    </tr>\n",
       "    <tr>\n",
       "      <th>10</th>\n",
       "      <td>Hobart</td>\n",
       "      <td>1696.00</td>\n",
       "      <td>218000</td>\n",
       "      <td>Tasmania</td>\n",
       "      <td>6.2</td>\n",
       "      <td>-1.96</td>\n",
       "      <td>22.18</td>\n",
       "    </tr>\n",
       "  </tbody>\n",
       "</table>\n",
       "</div>"
      ],
      "text/plain": [
       "        cities      area  density                         state  \\\n",
       "0       Sydney  12368.00  4627345               New South Wales   \n",
       "1    Melbourne   9990.00  4246375                      Victoria   \n",
       "2     Brisbane  15826.00  2189878                    Queensland   \n",
       "3        Perth   6418.00  1896548             Western Australia   \n",
       "4     Adelaide   3258.00  1225235               South Australia   \n",
       "5   Gold Coast    414.13   591473                    Queensland   \n",
       "6     Canberra    814.20   367752  Australian Capital Territory   \n",
       "7    Newcastle    261.80   308308               New South Wales   \n",
       "8   Wollongong    714.00   292190               New South Wales   \n",
       "9   Logan City    957.00   282673                    Queensland   \n",
       "10      Hobart   1696.00   218000                      Tasmania   \n",
       "\n",
       "    unemployed_rate  min_Temp  max_Temp  \n",
       "0               4.3     -0.69     27.93  \n",
       "1               4.9     -1.72     22.73  \n",
       "2               NaN     -2.71     23.94  \n",
       "3               NaN     -4.77     25.56  \n",
       "4               7.3      2.78     30.38  \n",
       "5               6.4     13.58     27.95  \n",
       "6               3.5     -2.36     42.30  \n",
       "7               4.3     18.44     20.49  \n",
       "8               4.3      2.84     20.28  \n",
       "9               6.4      8.39     32.23  \n",
       "10              6.2     -1.96     22.18  "
      ]
     },
     "execution_count": 258,
     "metadata": {},
     "output_type": "execute_result"
    }
   ],
   "source": [
    "s_maxTemp = pd.Series(np.round(np.random.uniform(20, 45,11),2))\n",
    "s_minTemp = pd.Series(np.round(np.random.uniform(-5, 19,11),2))\n",
    "s_area = pd.Series([12368, 9990, 15826, 6418, 3258, 414.13, 814.2, 261.8, 714, 957, 1696])\n",
    "s_cities = pd.Series(['Sydney','Melbourne','Brisbane','Perth','Adelaide','Gold Coast','Canberra','Newcastle',\n",
    "          'Wollongong','Logan City','Hobart'])\n",
    "s_density = pd.Series([4627345, 4246375, 2189878, 1896548,1225235, 591473, 367752, 308308, 292190, 282673, 218000])\n",
    "s_state = pd.Series(['New South Wales', 'Victoria','Queensland', 'Western Australia','South Australia',\n",
    "                     'Queensland','Australian Capital Territory','New South Wales','New South Wales', \n",
    "                     'Queensland', 'Tasmania'])\n",
    "                     \n",
    "s_unemployed_rate = pd.Series([4.3, 4.9, np.nan, np.nan, 7.3, 6.4, 3.5, 4.3, 4.3, 6.4, 6.2])\n",
    "df_pop = pd.DataFrame({'cities':s_cities,'area': s_area, 'density': s_density, 'state':s_state,\n",
    "                       'unemployed_rate':s_unemployed_rate, 'min_Temp':s_minTemp, 'max_Temp':s_maxTemp })\n",
    "df_pop"
   ]
  },
  {
   "cell_type": "code",
   "execution_count": 262,
   "id": "e2cfee40",
   "metadata": {
    "scrolled": true
   },
   "outputs": [
    {
     "data": {
      "text/html": [
       "<div>\n",
       "<style scoped>\n",
       "    .dataframe tbody tr th:only-of-type {\n",
       "        vertical-align: middle;\n",
       "    }\n",
       "\n",
       "    .dataframe tbody tr th {\n",
       "        vertical-align: top;\n",
       "    }\n",
       "\n",
       "    .dataframe thead th {\n",
       "        text-align: right;\n",
       "    }\n",
       "</style>\n",
       "<table border=\"1\" class=\"dataframe\">\n",
       "  <thead>\n",
       "    <tr style=\"text-align: right;\">\n",
       "      <th></th>\n",
       "      <th>cities</th>\n",
       "      <th>area</th>\n",
       "      <th>density</th>\n",
       "      <th>state</th>\n",
       "      <th>unemployed_rate</th>\n",
       "      <th>min_Temp</th>\n",
       "      <th>max_Temp</th>\n",
       "    </tr>\n",
       "  </thead>\n",
       "  <tbody>\n",
       "    <tr>\n",
       "      <th>9</th>\n",
       "      <td>Logan City</td>\n",
       "      <td>957.0</td>\n",
       "      <td>282673</td>\n",
       "      <td>Queensland</td>\n",
       "      <td>6.4</td>\n",
       "      <td>8.39</td>\n",
       "      <td>32.23</td>\n",
       "    </tr>\n",
       "    <tr>\n",
       "      <th>10</th>\n",
       "      <td>Hobart</td>\n",
       "      <td>1696.0</td>\n",
       "      <td>218000</td>\n",
       "      <td>Tasmania</td>\n",
       "      <td>6.2</td>\n",
       "      <td>-1.96</td>\n",
       "      <td>22.18</td>\n",
       "    </tr>\n",
       "  </tbody>\n",
       "</table>\n",
       "</div>"
      ],
      "text/plain": [
       "        cities    area  density       state  unemployed_rate  min_Temp  \\\n",
       "9   Logan City   957.0   282673  Queensland              6.4      8.39   \n",
       "10      Hobart  1696.0   218000    Tasmania              6.2     -1.96   \n",
       "\n",
       "    max_Temp  \n",
       "9      32.23  \n",
       "10     22.18  "
      ]
     },
     "execution_count": 262,
     "metadata": {},
     "output_type": "execute_result"
    }
   ],
   "source": [
    "df_pop.iloc[-2:]"
   ]
  },
  {
   "cell_type": "code",
   "execution_count": 263,
   "id": "a33c9010",
   "metadata": {
    "scrolled": true
   },
   "outputs": [
    {
     "data": {
      "text/html": [
       "<div>\n",
       "<style scoped>\n",
       "    .dataframe tbody tr th:only-of-type {\n",
       "        vertical-align: middle;\n",
       "    }\n",
       "\n",
       "    .dataframe tbody tr th {\n",
       "        vertical-align: top;\n",
       "    }\n",
       "\n",
       "    .dataframe thead th {\n",
       "        text-align: right;\n",
       "    }\n",
       "</style>\n",
       "<table border=\"1\" class=\"dataframe\">\n",
       "  <thead>\n",
       "    <tr style=\"text-align: right;\">\n",
       "      <th></th>\n",
       "      <th>cities</th>\n",
       "      <th>area</th>\n",
       "    </tr>\n",
       "  </thead>\n",
       "  <tbody>\n",
       "    <tr>\n",
       "      <th>0</th>\n",
       "      <td>Sydney</td>\n",
       "      <td>12368.0</td>\n",
       "    </tr>\n",
       "    <tr>\n",
       "      <th>1</th>\n",
       "      <td>Melbourne</td>\n",
       "      <td>9990.0</td>\n",
       "    </tr>\n",
       "    <tr>\n",
       "      <th>2</th>\n",
       "      <td>Brisbane</td>\n",
       "      <td>15826.0</td>\n",
       "    </tr>\n",
       "    <tr>\n",
       "      <th>3</th>\n",
       "      <td>Perth</td>\n",
       "      <td>6418.0</td>\n",
       "    </tr>\n",
       "    <tr>\n",
       "      <th>4</th>\n",
       "      <td>Adelaide</td>\n",
       "      <td>3258.0</td>\n",
       "    </tr>\n",
       "  </tbody>\n",
       "</table>\n",
       "</div>"
      ],
      "text/plain": [
       "      cities     area\n",
       "0     Sydney  12368.0\n",
       "1  Melbourne   9990.0\n",
       "2   Brisbane  15826.0\n",
       "3      Perth   6418.0\n",
       "4   Adelaide   3258.0"
      ]
     },
     "execution_count": 263,
     "metadata": {},
     "output_type": "execute_result"
    }
   ],
   "source": [
    "df_pop.iloc[:5, :2]"
   ]
  },
  {
   "cell_type": "code",
   "execution_count": 31,
   "id": "2ff31ceb",
   "metadata": {},
   "outputs": [
    {
     "name": "stdout",
     "output_type": "stream",
     "text": [
      "     cities     area    density              state  unemployed_rate  min_Temp  \\\n",
      "2  Brisbane  15826.0  2189878.0         Queensland              NaN      9.16   \n",
      "3     Perth   6418.0  1896548.0  Western Australia              NaN      6.95   \n",
      "\n",
      "   max_Temp  \n",
      "2     24.13  \n",
      "3     43.61  \n",
      "['New South Wales' 'Victoria' 'Queensland' 'Western Australia'\n",
      " 'South Australia' 'Australian Capital Territory' 'Tasmania']\n",
      "0        Sydney\n",
      "4      Adelaide\n",
      "8    Wollongong\n",
      "Name: cities, dtype: object\n",
      "\n",
      "0        Sydney\n",
      "4      Adelaide\n",
      "8    Wollongong\n",
      "Name: cities, dtype: object\n",
      "       cities     area    density            state  unemployed_rate  min_Temp  \\\n",
      "0      Sydney  12368.0  4627345.0  New South Wales              4.3     -4.96   \n",
      "4    Adelaide   3258.0  1225235.0  South Australia              7.3      8.77   \n",
      "8  Wollongong    714.0   292190.0  New South Wales              4.3     -1.76   \n",
      "\n",
      "   max_Temp  \n",
      "0     34.11  \n",
      "4     35.05  \n",
      "8     30.77  \n",
      "\n",
      "0         Sydney\n",
      "1      Melbourne\n",
      "2       Brisbane\n",
      "3          Perth\n",
      "4       Adelaide\n",
      "5     Gold Coast\n",
      "6       Canberra\n",
      "7      Newcastle\n",
      "8     Wollongong\n",
      "9     Logan City\n",
      "10        Hobart\n",
      "Name: cities, dtype: object\n",
      "\n"
     ]
    },
    {
     "ename": "KeyError",
     "evalue": "0",
     "output_type": "error",
     "traceback": [
      "\u001b[0;31m---------------------------------------------------------------------------\u001b[0m",
      "\u001b[0;31mKeyError\u001b[0m                                  Traceback (most recent call last)",
      "\u001b[0;32m~/opt/anaconda3/lib/python3.9/site-packages/pandas/core/indexes/base.py\u001b[0m in \u001b[0;36mget_loc\u001b[0;34m(self, key, method, tolerance)\u001b[0m\n\u001b[1;32m   3360\u001b[0m             \u001b[0;32mtry\u001b[0m\u001b[0;34m:\u001b[0m\u001b[0;34m\u001b[0m\u001b[0;34m\u001b[0m\u001b[0m\n\u001b[0;32m-> 3361\u001b[0;31m                 \u001b[0;32mreturn\u001b[0m \u001b[0mself\u001b[0m\u001b[0;34m.\u001b[0m\u001b[0m_engine\u001b[0m\u001b[0;34m.\u001b[0m\u001b[0mget_loc\u001b[0m\u001b[0;34m(\u001b[0m\u001b[0mcasted_key\u001b[0m\u001b[0;34m)\u001b[0m\u001b[0;34m\u001b[0m\u001b[0;34m\u001b[0m\u001b[0m\n\u001b[0m\u001b[1;32m   3362\u001b[0m             \u001b[0;32mexcept\u001b[0m \u001b[0mKeyError\u001b[0m \u001b[0;32mas\u001b[0m \u001b[0merr\u001b[0m\u001b[0;34m:\u001b[0m\u001b[0;34m\u001b[0m\u001b[0;34m\u001b[0m\u001b[0m\n",
      "\u001b[0;32m~/opt/anaconda3/lib/python3.9/site-packages/pandas/_libs/index.pyx\u001b[0m in \u001b[0;36mpandas._libs.index.IndexEngine.get_loc\u001b[0;34m()\u001b[0m\n",
      "\u001b[0;32m~/opt/anaconda3/lib/python3.9/site-packages/pandas/_libs/index.pyx\u001b[0m in \u001b[0;36mpandas._libs.index.IndexEngine.get_loc\u001b[0;34m()\u001b[0m\n",
      "\u001b[0;32mpandas/_libs/hashtable_class_helper.pxi\u001b[0m in \u001b[0;36mpandas._libs.hashtable.PyObjectHashTable.get_item\u001b[0;34m()\u001b[0m\n",
      "\u001b[0;32mpandas/_libs/hashtable_class_helper.pxi\u001b[0m in \u001b[0;36mpandas._libs.hashtable.PyObjectHashTable.get_item\u001b[0;34m()\u001b[0m\n",
      "\u001b[0;31mKeyError\u001b[0m: 0",
      "\nThe above exception was the direct cause of the following exception:\n",
      "\u001b[0;31mKeyError\u001b[0m                                  Traceback (most recent call last)",
      "\u001b[0;32m/var/folders/pw/s8535kh50y9b39g5wwk9_83h0000gn/T/ipykernel_5163/1741533588.py\u001b[0m in \u001b[0;36m<module>\u001b[0;34m\u001b[0m\n\u001b[1;32m     29\u001b[0m \u001b[0mprint\u001b[0m\u001b[0;34m(\u001b[0m\u001b[0;34m)\u001b[0m\u001b[0;34m\u001b[0m\u001b[0;34m\u001b[0m\u001b[0m\n\u001b[1;32m     30\u001b[0m \u001b[0;34m\u001b[0m\u001b[0m\n\u001b[0;32m---> 31\u001b[0;31m \u001b[0mprint\u001b[0m\u001b[0;34m(\u001b[0m\u001b[0mdf\u001b[0m\u001b[0;34m[\u001b[0m\u001b[0;36m0\u001b[0m\u001b[0;34m]\u001b[0m\u001b[0;34m)\u001b[0m\u001b[0;34m\u001b[0m\u001b[0;34m\u001b[0m\u001b[0m\n\u001b[0m",
      "\u001b[0;32m~/opt/anaconda3/lib/python3.9/site-packages/pandas/core/frame.py\u001b[0m in \u001b[0;36m__getitem__\u001b[0;34m(self, key)\u001b[0m\n\u001b[1;32m   3456\u001b[0m             \u001b[0;32mif\u001b[0m \u001b[0mself\u001b[0m\u001b[0;34m.\u001b[0m\u001b[0mcolumns\u001b[0m\u001b[0;34m.\u001b[0m\u001b[0mnlevels\u001b[0m \u001b[0;34m>\u001b[0m \u001b[0;36m1\u001b[0m\u001b[0;34m:\u001b[0m\u001b[0;34m\u001b[0m\u001b[0;34m\u001b[0m\u001b[0m\n\u001b[1;32m   3457\u001b[0m                 \u001b[0;32mreturn\u001b[0m \u001b[0mself\u001b[0m\u001b[0;34m.\u001b[0m\u001b[0m_getitem_multilevel\u001b[0m\u001b[0;34m(\u001b[0m\u001b[0mkey\u001b[0m\u001b[0;34m)\u001b[0m\u001b[0;34m\u001b[0m\u001b[0;34m\u001b[0m\u001b[0m\n\u001b[0;32m-> 3458\u001b[0;31m             \u001b[0mindexer\u001b[0m \u001b[0;34m=\u001b[0m \u001b[0mself\u001b[0m\u001b[0;34m.\u001b[0m\u001b[0mcolumns\u001b[0m\u001b[0;34m.\u001b[0m\u001b[0mget_loc\u001b[0m\u001b[0;34m(\u001b[0m\u001b[0mkey\u001b[0m\u001b[0;34m)\u001b[0m\u001b[0;34m\u001b[0m\u001b[0;34m\u001b[0m\u001b[0m\n\u001b[0m\u001b[1;32m   3459\u001b[0m             \u001b[0;32mif\u001b[0m \u001b[0mis_integer\u001b[0m\u001b[0;34m(\u001b[0m\u001b[0mindexer\u001b[0m\u001b[0;34m)\u001b[0m\u001b[0;34m:\u001b[0m\u001b[0;34m\u001b[0m\u001b[0;34m\u001b[0m\u001b[0m\n\u001b[1;32m   3460\u001b[0m                 \u001b[0mindexer\u001b[0m \u001b[0;34m=\u001b[0m \u001b[0;34m[\u001b[0m\u001b[0mindexer\u001b[0m\u001b[0;34m]\u001b[0m\u001b[0;34m\u001b[0m\u001b[0;34m\u001b[0m\u001b[0m\n",
      "\u001b[0;32m~/opt/anaconda3/lib/python3.9/site-packages/pandas/core/indexes/base.py\u001b[0m in \u001b[0;36mget_loc\u001b[0;34m(self, key, method, tolerance)\u001b[0m\n\u001b[1;32m   3361\u001b[0m                 \u001b[0;32mreturn\u001b[0m \u001b[0mself\u001b[0m\u001b[0;34m.\u001b[0m\u001b[0m_engine\u001b[0m\u001b[0;34m.\u001b[0m\u001b[0mget_loc\u001b[0m\u001b[0;34m(\u001b[0m\u001b[0mcasted_key\u001b[0m\u001b[0;34m)\u001b[0m\u001b[0;34m\u001b[0m\u001b[0;34m\u001b[0m\u001b[0m\n\u001b[1;32m   3362\u001b[0m             \u001b[0;32mexcept\u001b[0m \u001b[0mKeyError\u001b[0m \u001b[0;32mas\u001b[0m \u001b[0merr\u001b[0m\u001b[0;34m:\u001b[0m\u001b[0;34m\u001b[0m\u001b[0;34m\u001b[0m\u001b[0m\n\u001b[0;32m-> 3363\u001b[0;31m                 \u001b[0;32mraise\u001b[0m \u001b[0mKeyError\u001b[0m\u001b[0;34m(\u001b[0m\u001b[0mkey\u001b[0m\u001b[0;34m)\u001b[0m \u001b[0;32mfrom\u001b[0m \u001b[0merr\u001b[0m\u001b[0;34m\u001b[0m\u001b[0;34m\u001b[0m\u001b[0m\n\u001b[0m\u001b[1;32m   3364\u001b[0m \u001b[0;34m\u001b[0m\u001b[0m\n\u001b[1;32m   3365\u001b[0m         \u001b[0;32mif\u001b[0m \u001b[0mis_scalar\u001b[0m\u001b[0;34m(\u001b[0m\u001b[0mkey\u001b[0m\u001b[0;34m)\u001b[0m \u001b[0;32mand\u001b[0m \u001b[0misna\u001b[0m\u001b[0;34m(\u001b[0m\u001b[0mkey\u001b[0m\u001b[0;34m)\u001b[0m \u001b[0;32mand\u001b[0m \u001b[0;32mnot\u001b[0m \u001b[0mself\u001b[0m\u001b[0;34m.\u001b[0m\u001b[0mhasnans\u001b[0m\u001b[0;34m:\u001b[0m\u001b[0;34m\u001b[0m\u001b[0;34m\u001b[0m\u001b[0m\n",
      "\u001b[0;31mKeyError\u001b[0m: 0"
     ]
    }
   ],
   "source": [
    "import pandas as pd\n",
    "import numpy as np\n",
    "\n",
    "s_maxTemp = pd.Series(np.round(np.random.uniform(20, 45,11),2))\n",
    "s_minTemp = pd.Series(np.round(np.random.uniform(-5, 19,11),2))\n",
    "s_area = pd.Series([12368, 9990, 15826, 6418, 3258, 414.13, 814.2, 261.8, 714, 957, 1696])\n",
    "s_cities = pd.Series(['Sydney','Melbourne','Brisbane','Perth','Adelaide','Gold Coast','Canberra','Newcastle',\n",
    "          'Wollongong','Logan City','Hobart'])\n",
    "s_density = pd.Series([4627345, np.nan, 2189878, 1896548,1225235, 591473, 367752, 308308, 292190, 282673, 218000])\n",
    "s_state = pd.Series(['New South Wales', 'Victoria','Queensland', 'Western Australia','South Australia',\n",
    "                     'Queensland','Australian Capital Territory','New South Wales','New South Wales', \n",
    "                     'Queensland', 'Tasmania'])\n",
    "                     \n",
    "s_unemployed_rate = pd.Series([4.3, 4.9, np.nan, np.nan, 7.3, 6.4, 3.5, 4.3, 4.3, 6.4, 6.2])\n",
    "df = pd.DataFrame({'cities':s_cities,'area': s_area, 'density': s_density, 'state':s_state,\n",
    "                       'unemployed_rate':s_unemployed_rate, 'min_Temp':s_minTemp, 'max_Temp':s_maxTemp })\n",
    "\n",
    "df[df.isna().any(axis=1)]\n",
    "print(df[df['unemployed_rate'].isnull()])\n",
    "print(df['state'].unique())\n",
    "\n",
    "print(df.iloc[::4, 0])\n",
    "print()\n",
    "print(df.loc[::4, 'cities'])\n",
    "print(df.loc[::4])\n",
    "\n",
    "print()\n",
    "print(df['cities'])\n",
    "print()\n",
    "\n",
    "print(df[0])"
   ]
  }
 ],
 "metadata": {
  "kernelspec": {
   "display_name": "Python 3 (ipykernel)",
   "language": "python",
   "name": "python3"
  },
  "language_info": {
   "codemirror_mode": {
    "name": "ipython",
    "version": 3
   },
   "file_extension": ".py",
   "mimetype": "text/x-python",
   "name": "python",
   "nbconvert_exporter": "python",
   "pygments_lexer": "ipython3",
   "version": "3.9.7"
  }
 },
 "nbformat": 4,
 "nbformat_minor": 5
}
