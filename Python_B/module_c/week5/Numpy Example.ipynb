{
 "cells": [
  {
   "cell_type": "code",
   "execution_count": 63,
   "id": "2d3e9f61",
   "metadata": {},
   "outputs": [
    {
     "name": "stdout",
     "output_type": "stream",
     "text": [
      "a1=\n",
      " [[0 1 2]\n",
      " [3 4 5]\n",
      " [6 7 8]]\n",
      "a2=\n",
      " [0 1 2]\n",
      "Addition a1 + 5 =\n",
      " [[ 5  6  7]\n",
      " [ 8  9 10]\n",
      " [11 12 13]]\n",
      "np.add a1 + 5 =\n",
      " [[ 5  6  7]\n",
      " [ 8  9 10]\n",
      " [11 12 13]]\n",
      "np.add a1 + a2 =\n",
      " [[ 0  2  4]\n",
      " [ 3  5  7]\n",
      " [ 6  8 10]]\n"
     ]
    }
   ],
   "source": [
    "import numpy as np\n",
    "\n",
    "#Addition\n",
    "a1 = np.arange(9).reshape(3,3)\n",
    "a2 = np.arange(3)\n",
    "print('a1=\\n', a1)\n",
    "print('a2=\\n', a2)\n",
    "\n",
    "print('Addition a1 + 5 =\\n', a1+5)\n",
    "print ('np.add a1 + 5 =\\n', np.add(a1,5))\n",
    "#Addition two arrays \n",
    "print ('np.add a1 + a2 =\\n', np.add(a1,a2))"
   ]
  },
  {
   "cell_type": "code",
   "execution_count": 60,
   "id": "06c5496c",
   "metadata": {},
   "outputs": [
    {
     "name": "stdout",
     "output_type": "stream",
     "text": [
      "a1=\n",
      " [[0 1 2]\n",
      " [3 4 5]\n",
      " [6 7 8]]\n",
      "Subtraction a1 - 5 =\n",
      " [[-5 -4 -3]\n",
      " [-2 -1  0]\n",
      " [ 1  2  3]]\n",
      "np.subtract a1 - 5 =\n",
      " [[-5 -4 -3]\n",
      " [-2 -1  0]\n",
      " [ 1  2  3]]\n"
     ]
    }
   ],
   "source": [
    "#Subtraction\n",
    "print('a1=\\n', a1)\n",
    "\n",
    "print('Subtraction a1 - 5 =\\n', a1-5)\n",
    "print ('np.subtract a1 - 5 =\\n', np.subtract(a1,5))"
   ]
  },
  {
   "cell_type": "code",
   "execution_count": 61,
   "id": "5be19147",
   "metadata": {},
   "outputs": [
    {
     "name": "stdout",
     "output_type": "stream",
     "text": [
      "a1=\n",
      " [[0 1 2]\n",
      " [3 4 5]\n",
      " [6 7 8]]\n",
      "Negative -a1 =\n",
      " [[ 0 -1 -2]\n",
      " [-3 -4 -5]\n",
      " [-6 -7 -8]]\n",
      "np.negative a1  =\n",
      " [[ 0 -1 -2]\n",
      " [-3 -4 -5]\n",
      " [-6 -7 -8]]\n"
     ]
    }
   ],
   "source": [
    "#Negative\n",
    "print('a1=\\n', a1)\n",
    "\n",
    "print('Negative -a1 =\\n', -a1)\n",
    "print ('np.negative a1  =\\n', np.negative(a1))"
   ]
  },
  {
   "cell_type": "code",
   "execution_count": 64,
   "id": "f2553882",
   "metadata": {},
   "outputs": [
    {
     "name": "stdout",
     "output_type": "stream",
     "text": [
      "a1=\n",
      " [[0 1 2]\n",
      " [3 4 5]\n",
      " [6 7 8]]\n",
      "a2=\n",
      " [0 1 2]\n",
      "Multiplication a1*a2 =\n",
      " [[ 0  1  4]\n",
      " [ 0  4 10]\n",
      " [ 0  7 16]]\n",
      "np.multiply (a1,a2)  =\n",
      " [[ 0  1  4]\n",
      " [ 0  4 10]\n",
      " [ 0  7 16]]\n"
     ]
    }
   ],
   "source": [
    "#Multiplication\n",
    "a1 = np.arange(9).reshape(3,3)\n",
    "a2 = np.arange(3)\n",
    "print('a1=\\n', a1)\n",
    "print('a2=\\n', a2)\n",
    "\n",
    "print('Multiplication a1*a2 =\\n', a1*a2)\n",
    "print ('np.multiply (a1,a2)  =\\n', np.multiply(a1,a2))"
   ]
  },
  {
   "cell_type": "code",
   "execution_count": 65,
   "id": "8f54616c",
   "metadata": {
    "scrolled": true
   },
   "outputs": [
    {
     "name": "stdout",
     "output_type": "stream",
     "text": [
      "a1=\n",
      " [[0 1 2]\n",
      " [3 4 5]\n",
      " [6 7 8]]\n",
      "Division a1/2 =\n",
      " [[0.  0.5 1. ]\n",
      " [1.5 2.  2.5]\n",
      " [3.  3.5 4. ]]\n",
      "np.divide (a1,2)  =\n",
      " [[0.  0.5 1. ]\n",
      " [1.5 2.  2.5]\n",
      " [3.  3.5 4. ]]\n",
      "a2=\n",
      " [0 1 2]\n",
      "np.divide (a1,a2) =\n",
      " [[nan 1.  1. ]\n",
      " [inf 4.  2.5]\n",
      " [inf 7.  4. ]]\n"
     ]
    },
    {
     "name": "stderr",
     "output_type": "stream",
     "text": [
      "/var/folders/pw/s8535kh50y9b39g5wwk9_83h0000gn/T/ipykernel_29757/3363323915.py:9: RuntimeWarning: divide by zero encountered in true_divide\n",
      "  print('np.divide (a1,a2) =\\n', np.divide(a1,a2))\n",
      "/var/folders/pw/s8535kh50y9b39g5wwk9_83h0000gn/T/ipykernel_29757/3363323915.py:9: RuntimeWarning: invalid value encountered in true_divide\n",
      "  print('np.divide (a1,a2) =\\n', np.divide(a1,a2))\n"
     ]
    }
   ],
   "source": [
    "#Division\n",
    "a1 = np.arange(9).reshape(3,3)\n",
    "a2 = np.arange(3)\n",
    "print('a1=\\n', a1)\n",
    "\n",
    "print('Division a1/2 =\\n', a1/2)\n",
    "print ('np.divide (a1,2)  =\\n', np.divide(a1,2))\n",
    "print('a2=\\n', a2)\n",
    "print('np.divide (a1,a2) =\\n', np.divide(a1,a2))\n",
    "#NOTE: Be careful with the division by zero! Anaconda give you a warning and the result of dividing \n",
    "# a number by zero will be infinity or nan 0/0"
   ]
  },
  {
   "cell_type": "code",
   "execution_count": 68,
   "id": "dd6c6928",
   "metadata": {},
   "outputs": [
    {
     "name": "stdout",
     "output_type": "stream",
     "text": [
      "a1=\n",
      " [[0 1 2]\n",
      " [3 4 5]\n",
      " [6 7 8]]\n",
      "Integer division a1//2 =\n",
      " [[0 0 1]\n",
      " [1 2 2]\n",
      " [3 3 4]]\n",
      "np.divide (a1,2)  =\n",
      " [[0 0 1]\n",
      " [1 2 2]\n",
      " [3 3 4]]\n",
      "a2=\n",
      " [0 1 2]\n",
      "np.floor_divide (a1,a2)=\n",
      " [[0 1 1]\n",
      " [0 4 2]\n",
      " [0 7 4]]\n"
     ]
    },
    {
     "name": "stderr",
     "output_type": "stream",
     "text": [
      "/var/folders/pw/s8535kh50y9b39g5wwk9_83h0000gn/T/ipykernel_29757/3886769588.py:9: RuntimeWarning: divide by zero encountered in floor_divide\n",
      "  print('np.floor_divide (a1,a2)=\\n', np.floor_divide(a1,a2))\n"
     ]
    }
   ],
   "source": [
    "#Integer Division\n",
    "a1 = np.arange(9).reshape(3,3)\n",
    "a2 = np.arange(3)\n",
    "print('a1=\\n', a1)\n",
    "\n",
    "print('Integer division a1//2 =\\n', a1//2)\n",
    "print ('np.divide (a1,2)  =\\n', np.floor_divide(a1,2))\n",
    "print('a2=\\n', a2)\n",
    "print('np.floor_divide (a1,a2)=\\n', np.floor_divide(a1,a2))"
   ]
  },
  {
   "cell_type": "code",
   "execution_count": 69,
   "id": "606f5a87",
   "metadata": {},
   "outputs": [
    {
     "name": "stdout",
     "output_type": "stream",
     "text": [
      "a1=\n",
      " [[0 1 2]\n",
      " [3 4 5]\n",
      " [6 7 8]]\n",
      "Exponentiation a1**=\n",
      " [[ 0  1  4]\n",
      " [ 9 16 25]\n",
      " [36 49 64]]\n",
      "np.power (a1,2)=\n",
      " [[ 0  1  4]\n",
      " [ 9 16 25]\n",
      " [36 49 64]]\n"
     ]
    }
   ],
   "source": [
    "#Exponentiation\n",
    "a1 = np.arange(9).reshape(3,3)\n",
    "print('a1=\\n', a1)\n",
    "\n",
    "print('Exponentiation a1**=\\n', a1**2)\n",
    "print ('np.power (a1,2)=\\n', np.power(a1,2))"
   ]
  },
  {
   "cell_type": "code",
   "execution_count": 70,
   "id": "dde5a4de",
   "metadata": {},
   "outputs": [
    {
     "name": "stdout",
     "output_type": "stream",
     "text": [
      "a1=\n",
      " [[0 1 2]\n",
      " [3 4 5]\n",
      " [6 7 8]]\n",
      "Modulo a1/3=\n",
      " [[0 1 2]\n",
      " [0 1 2]\n",
      " [0 1 2]]\n",
      "np.mod (a1,3)=\n",
      " [[0 1 2]\n",
      " [0 1 2]\n",
      " [0 1 2]]\n"
     ]
    }
   ],
   "source": [
    "#Modulo (division remainder)\n",
    "a1 = np.arange(9).reshape(3,3)\n",
    "print('a1=\\n', a1)\n",
    "\n",
    "print('Modulo a1/3=\\n', a1%3)\n",
    "print ('np.mod (a1,3)=\\n', np.mod(a1,3))"
   ]
  },
  {
   "cell_type": "code",
   "execution_count": 57,
   "id": "f567fe27",
   "metadata": {},
   "outputs": [
    {
     "name": "stdout",
     "output_type": "stream",
     "text": [
      "a1= \n",
      " [[-480.70769348 -449.76501387 -345.03059813  -11.7362066 ]\n",
      " [-747.21066907 -195.05511892  662.21830222 -152.9759633 ]\n",
      " [-862.20776092 -725.28984769  832.70857124  792.16748152]]\n",
      "\n",
      "Minimum number in all a1:  -862.2077609165506\n",
      "Maximum number in all a1:  832.7085712446271\n",
      "\n",
      "Minimum number per column in a1:  [-862.20776092 -725.28984769 -345.03059813 -152.9759633 ]\n",
      "Maximum number per column in a1:  [-480.70769348 -195.05511892  832.70857124  792.16748152]\n",
      "\n",
      "Minimum number per row in a1:  [-480.70769348 -747.21066907 -862.20776092]\n",
      "Maximum number per row in a1:  [-11.7362066  662.21830222 832.70857124]\n"
     ]
    }
   ],
   "source": [
    "#Example: Find the minimum and maximum number in an array \n",
    "a1=np.random.uniform(-1000, 1000, size=(3, 4)) #generate randomly a number\n",
    "print(\"a1= \\n\",a1)\n",
    "print()\n",
    "\n",
    "#If you don't specify in the function max or min if you want the max/min of each row or column\n",
    "# it will find the max or min in the entire array\n",
    "print(\"Minimum number in all a1: \", np.min(a1))\n",
    "print(\"Maximum number in all a1: \", np.max(a1))\n",
    "print()\n",
    "\n",
    "#looking per column axis=0 \n",
    "print(\"Minimum number per column in a1: \", np.min(a1, axis=0))\n",
    "print(\"Maximum number per column in a1: \", np.max(a1, axis=0))\n",
    "print()\n",
    "\n",
    "#looking per row axis=1\n",
    "print(\"Minimum number per row in a1: \", np.min(a1, axis=1))\n",
    "print(\"Maximum number per row in a1: \", np.max(a1, axis=1))"
   ]
  },
  {
   "cell_type": "code",
   "execution_count": 58,
   "id": "77034020",
   "metadata": {
    "scrolled": true
   },
   "outputs": [
    {
     "name": "stdout",
     "output_type": "stream",
     "text": [
      "a2 =\n",
      " [[  8 -10   0]\n",
      " [ -6   3  -8]]\n",
      "Transpose of a2 =\n",
      " [[  8  -6]\n",
      " [-10   3]\n",
      " [  0  -8]]\n"
     ]
    }
   ],
   "source": [
    "#Transpose of an array \n",
    "a2= np.random.randint(low=-10, high=10, size=(2, 3))\n",
    "print('a2 =\\n', a2)\n",
    "\n",
    "print('Transpose of a2 =\\n', np.transpose(a2) )"
   ]
  },
  {
   "cell_type": "code",
   "execution_count": 72,
   "id": "23da0414",
   "metadata": {},
   "outputs": [
    {
     "name": "stdout",
     "output_type": "stream",
     "text": [
      "[ 5  7  9 11]\n"
     ]
    }
   ],
   "source": [
    "temp = np.arange(5,13,2)\n",
    "print(temp)"
   ]
  },
  {
   "cell_type": "code",
   "execution_count": 76,
   "id": "108332b3",
   "metadata": {
    "scrolled": true
   },
   "outputs": [
    {
     "name": "stdout",
     "output_type": "stream",
     "text": [
      "Help on built-in function zeros in module numpy:\n",
      "\n",
      "zeros(...)\n",
      "    zeros(shape, dtype=float, order='C', *, like=None)\n",
      "    \n",
      "    Return a new array of given shape and type, filled with zeros.\n",
      "    \n",
      "    Parameters\n",
      "    ----------\n",
      "    shape : int or tuple of ints\n",
      "        Shape of the new array, e.g., ``(2, 3)`` or ``2``.\n",
      "    dtype : data-type, optional\n",
      "        The desired data-type for the array, e.g., `numpy.int8`.  Default is\n",
      "        `numpy.float64`.\n",
      "    order : {'C', 'F'}, optional, default: 'C'\n",
      "        Whether to store multi-dimensional data in row-major\n",
      "        (C-style) or column-major (Fortran-style) order in\n",
      "        memory.\n",
      "    like : array_like\n",
      "        Reference object to allow the creation of arrays which are not\n",
      "        NumPy arrays. If an array-like passed in as ``like`` supports\n",
      "        the ``__array_function__`` protocol, the result will be defined\n",
      "        by it. In this case, it ensures the creation of an array object\n",
      "        compatible with that passed in via this argument.\n",
      "    \n",
      "        .. note::\n",
      "            The ``like`` keyword is an experimental feature pending on\n",
      "            acceptance of :ref:`NEP 35 <NEP35>`.\n",
      "    \n",
      "        .. versionadded:: 1.20.0\n",
      "    \n",
      "    Returns\n",
      "    -------\n",
      "    out : ndarray\n",
      "        Array of zeros with the given shape, dtype, and order.\n",
      "    \n",
      "    See Also\n",
      "    --------\n",
      "    zeros_like : Return an array of zeros with shape and type of input.\n",
      "    empty : Return a new uninitialized array.\n",
      "    ones : Return a new array setting values to one.\n",
      "    full : Return a new array of given shape filled with value.\n",
      "    \n",
      "    Examples\n",
      "    --------\n",
      "    >>> np.zeros(5)\n",
      "    array([ 0.,  0.,  0.,  0.,  0.])\n",
      "    \n",
      "    >>> np.zeros((5,), dtype=int)\n",
      "    array([0, 0, 0, 0, 0])\n",
      "    \n",
      "    >>> np.zeros((2, 1))\n",
      "    array([[ 0.],\n",
      "           [ 0.]])\n",
      "    \n",
      "    >>> s = (2,2)\n",
      "    >>> np.zeros(s)\n",
      "    array([[ 0.,  0.],\n",
      "           [ 0.,  0.]])\n",
      "    \n",
      "    >>> np.zeros((2,), dtype=[('x', 'i4'), ('y', 'i4')]) # custom dtype\n",
      "    array([(0, 0), (0, 0)],\n",
      "          dtype=[('x', '<i4'), ('y', '<i4')])\n",
      "\n"
     ]
    }
   ],
   "source": [
    "help(np.zeros)"
   ]
  },
  {
   "cell_type": "code",
   "execution_count": 83,
   "id": "c0ecbddc",
   "metadata": {},
   "outputs": [
    {
     "data": {
      "text/plain": [
       "array([[90,  2],\n",
       "       [79,  1]])"
      ]
     },
     "execution_count": 83,
     "metadata": {},
     "output_type": "execute_result"
    }
   ],
   "source": [
    "a2 = np.array([[3, 12, 5, 65],[13, 90, 2, 49], [35, 79, 1, 8]])\n",
    "\n",
    "a2[1:3, 1:3]"
   ]
  },
  {
   "cell_type": "code",
   "execution_count": 84,
   "id": "2f40a220",
   "metadata": {},
   "outputs": [
    {
     "ename": "ValueError",
     "evalue": "cannot reshape array of size 13 into shape (3,5)",
     "output_type": "error",
     "traceback": [
      "\u001b[0;31m---------------------------------------------------------------------------\u001b[0m",
      "\u001b[0;31mValueError\u001b[0m                                Traceback (most recent call last)",
      "\u001b[0;32m/var/folders/pw/s8535kh50y9b39g5wwk9_83h0000gn/T/ipykernel_29757/2033746670.py\u001b[0m in \u001b[0;36m<module>\u001b[0;34m\u001b[0m\n\u001b[0;32m----> 1\u001b[0;31m \u001b[0ma1d\u001b[0m \u001b[0;34m=\u001b[0m \u001b[0mnp\u001b[0m\u001b[0;34m.\u001b[0m\u001b[0marange\u001b[0m\u001b[0;34m(\u001b[0m\u001b[0;36m0\u001b[0m\u001b[0;34m,\u001b[0m\u001b[0;36m13\u001b[0m\u001b[0;34m)\u001b[0m\u001b[0;34m.\u001b[0m\u001b[0mreshape\u001b[0m\u001b[0;34m(\u001b[0m\u001b[0;36m3\u001b[0m\u001b[0;34m,\u001b[0m\u001b[0;36m5\u001b[0m\u001b[0;34m)\u001b[0m\u001b[0;34m\u001b[0m\u001b[0;34m\u001b[0m\u001b[0m\n\u001b[0m\u001b[1;32m      2\u001b[0m \u001b[0ma1d\u001b[0m\u001b[0;34m\u001b[0m\u001b[0;34m\u001b[0m\u001b[0m\n",
      "\u001b[0;31mValueError\u001b[0m: cannot reshape array of size 13 into shape (3,5)"
     ]
    }
   ],
   "source": [
    "a1d = np.arange(0,13).reshape(3,5)\n",
    "a1d"
   ]
  },
  {
   "cell_type": "code",
   "execution_count": 92,
   "id": "34e8154b",
   "metadata": {},
   "outputs": [
    {
     "name": "stdout",
     "output_type": "stream",
     "text": [
      "vec =  [0 1 2 3]\n",
      "[array([0]), array([1]), array([2]), array([3])]\n"
     ]
    }
   ],
   "source": [
    "vec = np.arange(4)\n",
    "print('vec = ', vec)\n",
    "\n",
    "print(np.split(vec,4))"
   ]
  },
  {
   "cell_type": "code",
   "execution_count": 93,
   "id": "32ea788c",
   "metadata": {},
   "outputs": [
    {
     "name": "stdout",
     "output_type": "stream",
     "text": [
      "[0. 1. 2. 3. 4. 5. 6. 7. 8. 9.]\n",
      "[array([0., 1., 2.]), array([3., 4.]), array([5.]), array([6., 7., 8., 9.]), array([], dtype=float64)]\n"
     ]
    }
   ],
   "source": [
    "# Example of np.split in one-dimensional array into 5 parts\n",
    "vec = np.arange(10.0)\n",
    "print(vec)\n",
    "\n",
    "(print(np.split(vec, [3, 5, 6, 10])))"
   ]
  },
  {
   "cell_type": "code",
   "execution_count": 104,
   "id": "2f6b52cb",
   "metadata": {},
   "outputs": [
    {
     "name": "stdout",
     "output_type": "stream",
     "text": [
      "m1 =\n",
      " [[ 0  1  2  3]\n",
      " [ 4  5  6  7]\n",
      " [ 8  9 10 11]\n",
      " [12 13 14 15]\n",
      " [16 17 18 19]\n",
      " [20 21 22 23]]\n",
      "[array([[0, 1, 2, 3]]), array([[4, 5, 6, 7]]), array([[ 8,  9, 10, 11]]), array([[12, 13, 14, 15]]), array([[16, 17, 18, 19]]), array([[20, 21, 22, 23]])]\n"
     ]
    }
   ],
   "source": [
    "# Example with two-dimensional array\n",
    "\n",
    "#Create a two-dimensional array\n",
    "m1 = np.arange(24).reshape((6, 4))\n",
    "print(\"m1 =\\n\", m1)\n",
    "\n",
    "#Split into two equal arrays \n",
    "print(np.split(m1,6)) # split into 2 equal array\n"
   ]
  },
  {
   "cell_type": "code",
   "execution_count": 110,
   "id": "253eeb60",
   "metadata": {
    "scrolled": true
   },
   "outputs": [
    {
     "name": "stdout",
     "output_type": "stream",
     "text": [
      "m1 =\n",
      " [[ 0  1  2  3]\n",
      " [ 4  5  6  7]\n",
      " [ 8  9 10 11]\n",
      " [12 13 14 15]\n",
      " [16 17 18 19]\n",
      " [20 21 22 23]]\n",
      "[array([[0, 1, 2, 3],\n",
      "       [4, 5, 6, 7]]), array([[ 8,  9, 10, 11]]), array([[12, 13, 14, 15],\n",
      "       [16, 17, 18, 19],\n",
      "       [20, 21, 22, 23]])]\n"
     ]
    }
   ],
   "source": [
    "# Example with two-dimensional array\n",
    "\n",
    "#Create a two-dimensional array\n",
    "m1 = np.arange(24).reshape((6, 4))\n",
    "print(\"m1 =\\n\", m1)\n",
    "\n",
    "#Split the first two rows from the rest \n",
    "print(np.split(m1,[2,3]));"
   ]
  },
  {
   "cell_type": "code",
   "execution_count": 144,
   "id": "9a17507d",
   "metadata": {
    "scrolled": true
   },
   "outputs": [
    {
     "name": "stdout",
     "output_type": "stream",
     "text": [
      "[[ 58 -87  46  94]\n",
      " [ 32 -89  67   2]\n",
      " [  4  -8   7   4]]\n",
      "---\n",
      "First way\n",
      "[ 32 -89  67   2]\n",
      "<class 'numpy.ndarray'>\n",
      "\n",
      "Second way\n",
      "[[ 32 -89  67   2]]\n",
      "<class 'numpy.ndarray'>\n",
      "---\n",
      "[[ 7]\n",
      " [67]\n",
      " [46]]\n",
      "---\n",
      "[[-89  67]\n",
      " [-87  46]]\n",
      "---\n",
      "[[ 7  4]\n",
      " [67  2]]\n",
      "a1 = \n",
      " [[  4  -8   7   4]\n",
      " [ 32 -89  67   2]\n",
      " [ 58 -87  46  94]]\n",
      "1. = \n",
      " [[ 58 -87  46  94]\n",
      " [ 32 -89  67   2]\n",
      " [  4  -8   7   4]]\n",
      "2. = \n",
      " [[ 32 -89  67   2]]\n",
      "3. = \n",
      " [[ 7]\n",
      " [67]\n",
      " [46]]\n",
      "4. = \n",
      " [[-89  67]\n",
      " [-87  46]]\n",
      "5. = \n",
      " [[ 7  4]\n",
      " [67  2]]\n"
     ]
    }
   ],
   "source": [
    "a1= np.array(\n",
    "    [[  4,  -8,   7,   4],\n",
    "    [ 32, -89,  67,   2],\n",
    "    [ 58, -87,  46,  94]])\n",
    "\n",
    "'''\n",
    " 1.[ 58, -87,  46,  94]  \n",
    "   [ 32, -89,  67,   2]  \n",
    "   [  4,  -8,   7,   4] \n",
    "\n",
    " 2. [ 32, -89,  67,   2]\n",
    "\n",
    " 3.[[ 7],\n",
    "    [67],\n",
    "    [46]]\n",
    "\n",
    " 4.[[-89,  67],\n",
    "    [-87,  46]]  \n",
    "\n",
    " 5.[[ 7,  4],\n",
    "   [67,  2]]\n",
    "'''\n",
    "\n",
    "#1\n",
    "a1_1 = a1[::-1]\n",
    "print(a1_1)\n",
    "print('---')\n",
    "\n",
    "#2 - First way\n",
    "a1_2 = a1[1]\n",
    "print(\"First way\")\n",
    "print(a1_2)\n",
    "print(type(a1_2))\n",
    "print()\n",
    "\n",
    "#2 - Second way\n",
    "a1_2_2 = a1[1:2]\n",
    "print(\"Second way\")\n",
    "print(a1_2_2)\n",
    "print(type(a1_2_2))\n",
    "print('---')\n",
    "\n",
    "#3\n",
    "a1_3 = a1[:,2:3]\n",
    "print(a1_3)\n",
    "print('---')\n",
    "\n",
    "#4\n",
    "a1_4 = a1[1:,1:3]\n",
    "print(a1_4)\n",
    "print('---')\n",
    "\n",
    "#5\n",
    "a1_5 = a1[:2, 2:]\n",
    "print(a1_5)\n",
    "\n",
    "\n",
    "a1= np.array([[  4,  -8,   7,   4],\n",
    "              [ 32, -89,  67,   2],\n",
    "              [ 58, -87,  46,  94]])\n",
    "print ('a1 = \\n',a1)\n",
    "print('1. = \\n', a1[::-1])\n",
    "print('2. = \\n', a1[1:2])\n",
    "print('3. = \\n', a1[:,2:3])\n",
    "print('4. = \\n', a1[1:3,1:3])\n",
    "print('5. = \\n', a1[0:2,2:4])"
   ]
  },
  {
   "cell_type": "code",
   "execution_count": 158,
   "id": "5a9fd885",
   "metadata": {},
   "outputs": [
    {
     "name": "stdout",
     "output_type": "stream",
     "text": [
      "First way\n",
      "[ 32 -89  67   2]\n",
      "<class 'numpy.ndarray'>\n",
      "\n",
      "Second way\n",
      "[[ 32 -89  67   2]]\n",
      "<class 'numpy.ndarray'>\n",
      "32\n",
      "32\n"
     ]
    }
   ],
   "source": [
    "a1= np.array(\n",
    "    [[  4,  -8,   7,   4],\n",
    "    [ 32, -89,  67,   2],\n",
    "    [ 58, -87,  46,  94]])\n",
    "\n",
    "#2 - First way\n",
    "a1_2 = a1[1]\n",
    "print(\"First way\")\n",
    "print(a1_2)\n",
    "print(type(a1_2))\n",
    "\n",
    "print()\n",
    "\n",
    "#2 - Second way\n",
    "a1_2_2 = a1[1:2]\n",
    "print(\"Second way\")\n",
    "print(a1_2_2)\n",
    "print(type(a1_2_2))\n",
    "\n",
    "print(a1_2[0])\n",
    "print(a1_2_2[0][0])\n"
   ]
  },
  {
   "cell_type": "code",
   "execution_count": null,
   "id": "b2bd0dfa",
   "metadata": {},
   "outputs": [],
   "source": []
  }
 ],
 "metadata": {
  "kernelspec": {
   "display_name": "Python 3 (ipykernel)",
   "language": "python",
   "name": "python3"
  },
  "language_info": {
   "codemirror_mode": {
    "name": "ipython",
    "version": 3
   },
   "file_extension": ".py",
   "mimetype": "text/x-python",
   "name": "python",
   "nbconvert_exporter": "python",
   "pygments_lexer": "ipython3",
   "version": "3.9.7"
  }
 },
 "nbformat": 4,
 "nbformat_minor": 5
}
