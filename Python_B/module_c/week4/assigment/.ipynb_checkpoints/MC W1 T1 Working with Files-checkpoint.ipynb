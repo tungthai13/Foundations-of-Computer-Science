{
 "cells": [
  {
   "cell_type": "code",
   "execution_count": null,
   "metadata": {},
   "outputs": [],
   "source": [
    "import pandas as pd\n",
    "import numpy as np\n",
    "import otter\n",
    "grader = otter.Notebook()"
   ]
  },
  {
   "cell_type": "markdown",
   "metadata": {
    "tags": []
   },
   "source": [
    "# <mark style=\"background: #801010; color: #ffffff;\" >C</mark> Week 1: Working with Files\n",
    "\n",
    "------\n",
    "\n",
    "### Instructions:\n",
    "\n",
    "- Complete 50 points worth of questions to pass the assessment\n",
    "  - You can attempt any number of questions and in any order provided you pass at least 50 points.\n",
    "- These questions should be attempted directly in this notebook.\n",
    "- Be sure to check your work before submitting.\n",
    "  - Do not remove any provided markings from the answer spaces.\n",
    "  - Do not make any changes to this notebook outside of the answer spaces provided.\n",
    "  \n",
    "#### Submitting\n",
    "\n",
    "- Reset your outputs before submitting\n",
    "  - Select the `Kernel` menu, then either `Restart & Run Clear Output` or `Restart & Run All`\n",
    "  - Don't forget to save your notebook after this step\n",
    "- Submit your .ipynb file to Gradescope using Git & GitHub\n",
    "- You can submit as many times as needed\n",
    "- When reviewing results, ignore any results listed under \"Public Tests\"  \n",
    "  (There are no \"Public Tests\" in this assignment)\n",
    "\n",
    "For more information, see the assessment page."
   ]
  },
  {
   "cell_type": "markdown",
   "metadata": {},
   "source": [
    "#### Question 01 &nbsp;&nbsp;&nbsp;&nbsp;&nbsp;&nbsp;(1 Point)\n",
    "\n",
    "Create a Python program to read the file `q1.txt`.\n",
    "\n",
    "Create a string variable `output1` and read the contents of the file to it."
   ]
  },
  {
   "cell_type": "code",
   "execution_count": null,
   "metadata": {
    "tags": []
   },
   "outputs": [],
   "source": [
    "# Write your solution here\n",
    "q1_data = open(\"q1.txt\", \"r\")\n",
    "output1 = q1_data.read()\n",
    "q1_data.close()\n",
    "\n",
    "print(output1)"
   ]
  },
  {
   "cell_type": "markdown",
   "metadata": {},
   "source": [
    "#### Question 02 &nbsp;&nbsp;&nbsp;&nbsp;&nbsp;&nbsp;(1 Point)\n",
    "\n",
    "Create a Python program to read the first line of the file `q2.txt`.\n",
    "\n",
    "Create a string variable `output2` and assign the solution to it."
   ]
  },
  {
   "cell_type": "code",
   "execution_count": null,
   "metadata": {
    "tags": []
   },
   "outputs": [],
   "source": [
    "# Write your solution here\n",
    "q2_data = open(\"q2.txt\", \"r\")\n",
    "output2 = q2_data.readline()\n",
    "q2_data.close()\n",
    "\n",
    "print(output2)"
   ]
  },
  {
   "cell_type": "markdown",
   "metadata": {},
   "source": [
    "#### Question 03 &nbsp;&nbsp;&nbsp;&nbsp;&nbsp;&nbsp;(1 Point)\n",
    "\n",
    "Create a Python program to read the first 8 characters of the file `q3.txt`.\n",
    "\n",
    "Create a string variable `output3` and assign the solution to it."
   ]
  },
  {
   "cell_type": "code",
   "execution_count": null,
   "metadata": {
    "tags": []
   },
   "outputs": [],
   "source": [
    "# Write your solution here\n",
    "\n",
    "q3_data = open(\"q3.txt\", \"r\")\n",
    "output3 = q3_data.read(8)\n",
    "q3_data.close()\n",
    "print(output3)"
   ]
  },
  {
   "cell_type": "markdown",
   "metadata": {},
   "source": [
    "#### Question 04 &nbsp;&nbsp;&nbsp;&nbsp;&nbsp;&nbsp;(1 Point)\n",
    "\n",
    "Create a Python program to create a new empty file named `q4.txt`."
   ]
  },
  {
   "cell_type": "code",
   "execution_count": null,
   "metadata": {
    "tags": []
   },
   "outputs": [],
   "source": [
    "# Write your solution here\n",
    "q4_data = open(\"q4.txt\", \"x\")\n",
    "q4_data.close()"
   ]
  },
  {
   "cell_type": "markdown",
   "metadata": {},
   "source": [
    "#### Question 05 &nbsp;&nbsp;&nbsp;&nbsp;&nbsp;&nbsp;(1 Point)\n",
    "\n",
    "Create a Python program to create a new file named `q5.txt`. Write `hello world` to that file."
   ]
  },
  {
   "cell_type": "code",
   "execution_count": null,
   "metadata": {
    "tags": []
   },
   "outputs": [],
   "source": [
    "# Write your solution here\n",
    "with open(\"q5.txt\", \"w\") as q5_f:\n",
    "    q5_f.write(\"hello world\")"
   ]
  },
  {
   "cell_type": "markdown",
   "metadata": {},
   "source": [
    "#### Question 06 &nbsp;&nbsp;&nbsp;&nbsp;&nbsp;&nbsp;(3 Points)\n",
    "\n",
    "Create a Python program to create a new file named file `q6.txt`. Write `hello` to the first line and `world` to the second."
   ]
  },
  {
   "cell_type": "code",
   "execution_count": null,
   "metadata": {
    "tags": []
   },
   "outputs": [],
   "source": [
    "# Write your solution here\n",
    "q6_lines = [\"hello\", \"world\"]\n",
    "with open(\"q6.txt\", \"w\") as q6_f:\n",
    "    q6_f.write(\"\\n\".join(q6_lines))"
   ]
  },
  {
   "cell_type": "markdown",
   "metadata": {},
   "source": [
    "#### Question 07 &nbsp;&nbsp;&nbsp;&nbsp;&nbsp;&nbsp;(3 Points)\n",
    "\n",
    "Create a Python program to read the first 10 characters on the third line of the file q7.txt.\n",
    "\n",
    "Create a string variable `output7` and assign the solution to it."
   ]
  },
  {
   "cell_type": "code",
   "execution_count": null,
   "metadata": {
    "tags": []
   },
   "outputs": [],
   "source": [
    "# Write your solution here\n",
    "with open(\"q7.txt\", \"r\") as q7_f:\n",
    "    count = 1\n",
    "    while (count <= 3):\n",
    "        output7 = q7_f.readline(10)\n",
    "        count += 1\n",
    "    \n",
    "print(output7)"
   ]
  },
  {
   "cell_type": "markdown",
   "metadata": {},
   "source": [
    "#### Question 08 &nbsp;&nbsp;&nbsp;&nbsp;&nbsp;&nbsp;(3 Points)\n",
    "\n",
    "Create a Python program to read the first 4 characters on the third line of the file `q8.txt`.\n",
    "\n",
    "Create a string variable `output8` and assign the solution to it."
   ]
  },
  {
   "cell_type": "code",
   "execution_count": null,
   "metadata": {
    "tags": []
   },
   "outputs": [],
   "source": [
    "# Write your solution here\n",
    "with open(\"q8.txt\", \"r\") as q8_f:\n",
    "    count = 1\n",
    "    while (count <= 3):\n",
    "        output8 = q8_f.readline(4)\n",
    "        count += 1\n",
    "    \n",
    "print(output8)"
   ]
  },
  {
   "cell_type": "markdown",
   "metadata": {},
   "source": [
    "#### Question 09 &nbsp;&nbsp;&nbsp;&nbsp;&nbsp;&nbsp;(3 Points)\n",
    "\n",
    "Create a Python program to create a new empty file named `q9.txt` if that file does not already exist. \n",
    "\n",
    "Create a variable `output9`. If the file exists, your program should set `output9` to `True` otherwise set it `False`."
   ]
  },
  {
   "cell_type": "code",
   "execution_count": null,
   "metadata": {
    "tags": []
   },
   "outputs": [],
   "source": [
    "# Write your solution here\n",
    "try:\n",
    "    with open(\"q9.txt\", \"x\") as q9_f:\n",
    "        output9 = False\n",
    "except:\n",
    "    output9 = True\n",
    "    \n",
    "print(output9)"
   ]
  },
  {
   "cell_type": "markdown",
   "metadata": {},
   "source": [
    "#### Question 10 &nbsp;&nbsp;&nbsp;&nbsp;&nbsp;&nbsp;(3 Points)\n",
    "\n",
    "Create a Python program to create a new file named `q10.txt` and write the text `Hello!` to it if that file does not already exist. \n",
    "\n",
    "Create a variable `output10`. If the file exists, your program should `output10` to `True` otherwise set it `False`."
   ]
  },
  {
   "cell_type": "code",
   "execution_count": null,
   "metadata": {
    "tags": []
   },
   "outputs": [],
   "source": [
    "# Write your solution here\n",
    "try:\n",
    "    with open(\"q10.txt\", \"x\") as q10_f:\n",
    "        output10 = False\n",
    "        q10_f.write(\"Hello!\")\n",
    "except:\n",
    "    output10 = True\n",
    "    \n",
    "print(output10)"
   ]
  },
  {
   "cell_type": "markdown",
   "metadata": {},
   "source": [
    "#### Question 11 &nbsp;&nbsp;&nbsp;&nbsp;&nbsp;&nbsp;(4 Points)\n",
    "\n",
    "Create a Python program to append `!` to the end the file `q11.txt`.\n",
    "\n",
    "---\n",
    "<details>\n",
    "  <summary><span style=\"color:blue\">Hints for testing</span></summary>\n",
    "   Test your code against your own `q12.txt` file containing `123456` to ensure you are getting the behaviour that you want before submission. `!` should appear at the end of the existing last line of the file.\n",
    "</details>"
   ]
  },
  {
   "cell_type": "code",
   "execution_count": null,
   "metadata": {
    "tags": []
   },
   "outputs": [],
   "source": [
    "# Write your solution here\n",
    "with open(\"q11.txt\", \"a\") as q11_f:\n",
    "    q11_f.write(\"!\")\n"
   ]
  },
  {
   "cell_type": "markdown",
   "metadata": {},
   "source": [
    "#### Question 12 &nbsp;&nbsp;&nbsp;&nbsp;&nbsp;&nbsp;(4 Points)\n",
    "\n",
    "Create a Python program to append `Goodnight world` on a new line at the end the file `q12.txt`.\n",
    "\n",
    "---\n",
    "<details>\n",
    "  <summary><span style=\"color:blue\">Hints for testing</span></summary>\n",
    "   Test your code against your own `q12.txt` file containing `123456` to ensure you are getting the behaviour that you want before submission. `Goodnight world` should appear on it's own new line at the end of the file.\n",
    "</details>"
   ]
  },
  {
   "cell_type": "code",
   "execution_count": null,
   "metadata": {
    "tags": []
   },
   "outputs": [],
   "source": [
    "# Write your solution here\n",
    "with open(\"q12.txt\", \"a\") as q12_f:\n",
    "    q12_f.write(\"\\nGoodnight world\")"
   ]
  },
  {
   "cell_type": "markdown",
   "metadata": {},
   "source": [
    "#### Question 13 &nbsp;&nbsp;&nbsp;&nbsp;&nbsp;&nbsp;(4 Points)\n",
    "\n",
    "Create a Python program to append `789` to end the file `q13.txt`, then read that entire file.\n",
    "\n",
    "Create a string variable `output13` and assign the solution to it.\n",
    "\n",
    "---\n",
    "<details>\n",
    "  <summary><span style=\"color:blue\">Hints for testing</span></summary>\n",
    "   Test your code against your own text file containing `123456` to ensure you are getting the behaviour that you want before submission.\n",
    "</details>"
   ]
  },
  {
   "cell_type": "code",
   "execution_count": null,
   "metadata": {
    "tags": []
   },
   "outputs": [],
   "source": [
    "# Write your solution here\n",
    "with open(\"q13.txt\", \"a+\") as q13_f:\n",
    "    q13_f.write(\"789\")\n",
    "    q13_f.seek(0)\n",
    "    output13 = q13_f.read()\n",
    "    \n",
    "print(output13)"
   ]
  },
  {
   "cell_type": "markdown",
   "metadata": {},
   "source": [
    "#### Question 14 &nbsp;&nbsp;&nbsp;&nbsp;&nbsp;&nbsp;(4 Points)\n",
    "\n",
    "Create a Python program to read the file `q14.txt`, and store its contents in a string variable `output14`.\n",
    "\n",
    "Then append `789` to that file.\n",
    "\n",
    "---\n",
    "<details>\n",
    "  <summary><span style=\"color:blue\">Hints for testing</span></summary>\n",
    "   Test your code against your own text file containing `123456` to ensure you are getting the behaviour that you want before submission.\n",
    "</details>"
   ]
  },
  {
   "cell_type": "code",
   "execution_count": null,
   "metadata": {
    "tags": []
   },
   "outputs": [],
   "source": [
    "# Write your solution here\n",
    "with open(\"q14.txt\", \"r+\") as q14_f:\n",
    "    output4 = q14_f.read()\n",
    "    q14_f.seek(0, 2)\n",
    "    q14_f.write(\"789\")\n",
    "print(output4)"
   ]
  },
  {
   "cell_type": "markdown",
   "metadata": {},
   "source": [
    "#### Question 15 &nbsp;&nbsp;&nbsp;&nbsp;&nbsp;&nbsp;(4 Points)\n",
    "\n",
    "Create a Python program to read the second line of the file `q15_in.txt`, then write that line to `q15_out.txt`.\n",
    "\n",
    "---\n",
    "<details>\n",
    "  <summary><span style=\"color:blue\">Hints for testing</span></summary>\n",
    "   Test your code against your own text file containing \n",
    "    <pre>\n",
    "    123456\n",
    "    789012\n",
    "    345678\n",
    "    901234\n",
    "    </pre> to ensure you are getting the behaviour that you want before submission.\n",
    "</details>"
   ]
  },
  {
   "cell_type": "code",
   "execution_count": null,
   "metadata": {
    "tags": []
   },
   "outputs": [],
   "source": [
    "# Write your solution here\n",
    "with open(\"q15_in.txt\", \"r\") as q15_f:\n",
    "    q15_f.readline()\n",
    "    q15_temp = q15_f.readline()\n",
    "    \n",
    "with open(\"q15_out.txt\", \"w\") as q15_f_w:\n",
    "    q15_f_w.write(q15_temp)\n"
   ]
  },
  {
   "cell_type": "markdown",
   "metadata": {},
   "source": [
    "#### Question 16 &nbsp;&nbsp;&nbsp;&nbsp;&nbsp;&nbsp;(4 Points)\n",
    "\n",
    "Create a Python program to overwrite the existing file `q16.txt` with the text `truncate`, then read that file.\n",
    "\n",
    "Create a string variable `output16` and assign the solution to it.\n",
    "\n",
    "---\n",
    "<details>\n",
    "  <summary><span style=\"color:blue\">Hints for testing</span></summary>\n",
    "   Test your code against your own text file to ensure you are getting the behaviour that you want before submission.\n",
    "</details>"
   ]
  },
  {
   "cell_type": "code",
   "execution_count": null,
   "metadata": {
    "tags": []
   },
   "outputs": [],
   "source": [
    "# Write your solution here\n",
    "with open(\"q16.txt\", \"w+\") as q16_f:\n",
    "    q16_f.write(\"truncate\")\n",
    "    q16_f.seek(0)\n",
    "    output16 = q16_f.read()\n",
    "    \n",
    "print(output16)"
   ]
  },
  {
   "cell_type": "markdown",
   "metadata": {},
   "source": [
    "#### Question 17 &nbsp;&nbsp;&nbsp;&nbsp;&nbsp;&nbsp;(6 Points)\n",
    "\n",
    "The file `q17.txt` contains some uppercase text. Create a Python program to change the capitalisation of its contents to lowercase.\n",
    "\n",
    "\n",
    "---\n",
    "<details>\n",
    "  <summary><span style=\"color:blue\">Hints for testing</span></summary>\n",
    "   Test your code against your own `q17.txt` text file containing `THIS IS a file CONTAINING a MIX of Cases` to ensure you are getting the behaviour that you want before submission.\n",
    "</details>"
   ]
  },
  {
   "cell_type": "code",
   "execution_count": null,
   "metadata": {
    "tags": []
   },
   "outputs": [],
   "source": [
    "# Write your solution here\n",
    "with open(\"q17.txt\", \"r+\") as q17_f:\n",
    "    q17_data = q17_f.read()\n",
    "    q17_data = q17_data.lower()\n",
    "    q17_f.seek(0)\n",
    "    q17_f.write(q17_data)"
   ]
  },
  {
   "cell_type": "markdown",
   "metadata": {},
   "source": [
    "#### Question 18 &nbsp;&nbsp;&nbsp;&nbsp;&nbsp;&nbsp;(6 Points)\n",
    "\n",
    "The file `q18.txt` contains the word `PASSWORD` exactly once somewhere in the text. Create a Python program to replace that word with `********` in that file.\n",
    "\n",
    "\n",
    "---\n",
    "<details>\n",
    "  <summary><span style=\"color:blue\">Hints for testing</span></summary>\n",
    "   Test your code against your own `q18.txt` text file containing `THIS file contains a PASSWORD` to ensure you are getting the behaviour that you want before submission.\n",
    "</details>"
   ]
  },
  {
   "cell_type": "code",
   "execution_count": null,
   "metadata": {
    "tags": []
   },
   "outputs": [],
   "source": [
    "# Write your solution here\n",
    "with open(\"q18.txt\", \"r+\") as q18_f:\n",
    "    q18_data = q18_f.read()\n",
    "    q18_data = q18_data.replace(\"PASSWORD\", \"********\")\n",
    "    q18_f.seek(0)\n",
    "    q18_f.write(q18_data)"
   ]
  },
  {
   "cell_type": "markdown",
   "metadata": {},
   "source": [
    "#### Question 19 &nbsp;&nbsp;&nbsp;&nbsp;&nbsp;&nbsp;(6 Points)\n",
    "\n",
    "The file `q19.txt` contains some text. Create a Python program to duplicate its contents. Do **not** add extra characters or newlines between the original and duplicated content.\n",
    "\n",
    "*For example, if it contained `123\\n456`, the text should be updated to `123\\n456123\\n456`*\n",
    "\n",
    "---\n",
    "<details>\n",
    "  <summary><span style=\"color:blue\">Hints for testing</span></summary>\n",
    "   Test your code against your own `q19.txt` text file to ensure you are getting the behaviour that you want before submission.\n",
    "</details>"
   ]
  },
  {
   "cell_type": "code",
   "execution_count": 1,
   "metadata": {
    "tags": []
   },
   "outputs": [],
   "source": [
    "# Write your solution here\n",
    "with open(\"q19.txt\", \"a+\") as q19_f:\n",
    "    q19_f.seek(0)\n",
    "    q19_data = q19_f.read()\n",
    "    q19_f.write(q19_data)"
   ]
  },
  {
   "cell_type": "markdown",
   "metadata": {},
   "source": [
    "#### Question 20 &nbsp;&nbsp;&nbsp;&nbsp;&nbsp;&nbsp;(6 Points)\n",
    "\n",
    "The file `q20.txt` contains some text. Create a Python program to replace characters 10, 11, 12, and 13 with the characters `GOOD`, respectively. \n",
    "\n",
    "*For example, if it contained `abcdefghijklmnopqrstuvwxyz`, the text should be updated to `abcdefghiGOODnopqrstuvwxyz`.*\n",
    "\n",
    "---\n",
    "<details>\n",
    "  <summary><span style=\"color:blue\">Hints for testing</span></summary>\n",
    "   Test your code against your own `q20.txt` text file containing `They are okay` to ensure you are getting the behaviour that you want before submission.\n",
    "</details>"
   ]
  },
  {
   "cell_type": "code",
   "execution_count": null,
   "metadata": {
    "tags": []
   },
   "outputs": [],
   "source": [
    "# Write your solution here\n",
    "with open(\"q20.txt\", \"r+\") as q20_f:\n",
    "    q20_data = q20_f.read()\n",
    "    q20_data = q20_data[:9] + \"GOOD\" + q20_data[13:]\n",
    "    q20_f.seek(0)\n",
    "    q20_f.write(q20_data)"
   ]
  },
  {
   "cell_type": "markdown",
   "metadata": {},
   "source": [
    "#### Question 21 &nbsp;&nbsp;&nbsp;&nbsp;&nbsp;&nbsp;(6 Points)\n",
    "\n",
    "Create a Python program to check if the file `q21.txt` exists. \n",
    "\n",
    "Create a Boolean variable `output21`. If the file exists set its value to `True`, otherwise `False`.  \n",
    "\n",
    "Your code should **not** create the file.\n"
   ]
  },
  {
   "cell_type": "code",
   "execution_count": null,
   "metadata": {
    "tags": []
   },
   "outputs": [],
   "source": [
    "# Write your solution here\n",
    "try:\n",
    "    with open(\"q21.txt\", \"r\") as q21_f:\n",
    "        output21 = True\n",
    "except:\n",
    "    output21 = False\n",
    "print(output21)"
   ]
  },
  {
   "cell_type": "markdown",
   "metadata": {},
   "source": [
    "#### Question 22 &nbsp;&nbsp;&nbsp;&nbsp;&nbsp;&nbsp;(6 Points)\n",
    "\n",
    "The file `q22.txt` contains set of numbers separated by spaces. Create a Python program to create a new empty file named `q22.csv`, then write contents of `q22.txt` into that that to that file except with the spaces replaced with commas."
   ]
  },
  {
   "cell_type": "code",
   "execution_count": null,
   "metadata": {
    "tags": []
   },
   "outputs": [],
   "source": [
    "# Write your solution here\n",
    "with open(\"q22.txt\", \"r\") as q22_f:\n",
    "    q22_data = q22_f.read()\n",
    "    q22_data = q22_data.replace(\" \", \",\")\n",
    "\n",
    "with open(\"q22.csv\", \"w\") as q22_w:\n",
    "    q22_w.write(q22_data)"
   ]
  },
  {
   "cell_type": "markdown",
   "metadata": {},
   "source": [
    "#### Question 23 &nbsp;&nbsp;&nbsp;&nbsp;&nbsp;&nbsp;(10 Points)\n",
    "\n",
    "There are a series of files named `q23_1.txt`, `q23_2.txt` ... `q23_n.txt`, where `n` is some number. \n",
    "\n",
    "Create a Python program to create a new empty file with the first available name, then write that number to the contents of the new file.\n",
    "\n",
    "*For example if the files were `q23_1.txt`, `q23_2.txt`, `q23_3.txt`, your program would create `q23_4.txt` whose contents is `4`*.\n",
    "\n",
    "---\n",
    "<details>\n",
    "  <summary><span style=\"color:blue\">Hints for testing</span></summary>\n",
    "   Test your code against your own series of text files to ensure you are getting the behaviour that you want before submission.\n",
    "</details>"
   ]
  },
  {
   "cell_type": "code",
   "execution_count": null,
   "metadata": {
    "tags": []
   },
   "outputs": [],
   "source": [
    "# Write your solution here\n",
    "def isFileExist(fileName):\n",
    "    try:\n",
    "        with open(fileName) as f:\n",
    "            return True\n",
    "    except: \n",
    "        return False\n",
    "\n",
    "count = 1\n",
    "fileName = f\"q23_{count}.txt\"\n",
    "\n",
    "while(isFileExist(fileName)):\n",
    "    count+=1\n",
    "    fileName = f\"q23_{count}.txt\"\n",
    "    \n",
    "# Create new file\n",
    "with open(fileName, \"x\") as f:\n",
    "    f.write(str(count))\n"
   ]
  },
  {
   "cell_type": "markdown",
   "metadata": {},
   "source": [
    "#### Question 24 &nbsp;&nbsp;&nbsp;&nbsp;&nbsp;&nbsp;(10 Points)\n",
    "\n",
    "The file `q24.txt` contains 10 lines of text. Create a Python program to reverse the order of those lines within that file.\n",
    "\n",
    "---\n",
    "<details>\n",
    "  <summary><span style=\"color:blue\">Hints for testing</span></summary>\n",
    "   Test your code against your own `q24.txt` text file containing multiple lines of text to ensure you are getting the behaviour that you want before submission.\n",
    "</details>"
   ]
  },
  {
   "cell_type": "code",
   "execution_count": null,
   "metadata": {
    "tags": []
   },
   "outputs": [],
   "source": [
    "# Write your solution here\n",
    "q24_list = []\n",
    "with open(\"q24.txt\", \"r+\") as q24_f:\n",
    "    for line in q24_f:\n",
    "        q24_list.append(line.strip())\n",
    "        \n",
    "    #q24_list.reverse()\n",
    "    q24_f.seek(0)\n",
    "    q24_f.write(\"\\n\".join(q24_list))"
   ]
  }
 ],
 "metadata": {
  "kernelspec": {
   "display_name": "Python 3 (ipykernel)",
   "language": "python",
   "name": "python3"
  },
  "language_info": {
   "codemirror_mode": {
    "name": "ipython",
    "version": 3
   },
   "file_extension": ".py",
   "mimetype": "text/x-python",
   "name": "python",
   "nbconvert_exporter": "python",
   "pygments_lexer": "ipython3",
   "version": "3.9.7"
  },
  "otter": {
   "tests": {
    "Question 01": {
     "name": "Question 01",
     "points": 1,
     "suites": [
      {
       "cases": [],
       "scored": true,
       "setup": "",
       "teardown": "",
       "type": "doctest"
      }
     ]
    },
    "Question 02": {
     "name": "Question 02",
     "points": 1,
     "suites": [
      {
       "cases": [],
       "scored": true,
       "setup": "",
       "teardown": "",
       "type": "doctest"
      }
     ]
    },
    "Question 03": {
     "name": "Question 03",
     "points": 1,
     "suites": [
      {
       "cases": [],
       "scored": true,
       "setup": "",
       "teardown": "",
       "type": "doctest"
      }
     ]
    },
    "Question 04": {
     "name": "Question 04",
     "points": 1,
     "suites": [
      {
       "cases": [],
       "scored": true,
       "setup": "",
       "teardown": "",
       "type": "doctest"
      }
     ]
    },
    "Question 05": {
     "name": "Question 05",
     "points": 1,
     "suites": [
      {
       "cases": [],
       "scored": true,
       "setup": "",
       "teardown": "",
       "type": "doctest"
      }
     ]
    },
    "Question 06": {
     "name": "Question 06",
     "points": 3,
     "suites": [
      {
       "cases": [],
       "scored": true,
       "setup": "",
       "teardown": "",
       "type": "doctest"
      }
     ]
    },
    "Question 07": {
     "name": "Question 07",
     "points": 3,
     "suites": [
      {
       "cases": [],
       "scored": true,
       "setup": "",
       "teardown": "",
       "type": "doctest"
      }
     ]
    },
    "Question 08": {
     "name": "Question 08",
     "points": 3,
     "suites": [
      {
       "cases": [],
       "scored": true,
       "setup": "",
       "teardown": "",
       "type": "doctest"
      }
     ]
    },
    "Question 09": {
     "name": "Question 09",
     "points": 3,
     "suites": [
      {
       "cases": [],
       "scored": true,
       "setup": "",
       "teardown": "",
       "type": "doctest"
      }
     ]
    },
    "Question 10": {
     "name": "Question 10",
     "points": 3,
     "suites": [
      {
       "cases": [],
       "scored": true,
       "setup": "",
       "teardown": "",
       "type": "doctest"
      }
     ]
    },
    "q11": {
     "name": "q11",
     "points": 4,
     "suites": [
      {
       "cases": [],
       "scored": true,
       "setup": "",
       "teardown": "",
       "type": "doctest"
      }
     ]
    },
    "q12": {
     "name": "q12",
     "points": 4,
     "suites": [
      {
       "cases": [],
       "scored": true,
       "setup": "",
       "teardown": "",
       "type": "doctest"
      }
     ]
    },
    "q13": {
     "name": "q13",
     "points": 4,
     "suites": [
      {
       "cases": [],
       "scored": true,
       "setup": "",
       "teardown": "",
       "type": "doctest"
      }
     ]
    },
    "q14": {
     "name": "q14",
     "points": 4,
     "suites": [
      {
       "cases": [],
       "scored": true,
       "setup": "",
       "teardown": "",
       "type": "doctest"
      }
     ]
    },
    "q15": {
     "name": "q15",
     "points": 4,
     "suites": [
      {
       "cases": [],
       "scored": true,
       "setup": "",
       "teardown": "",
       "type": "doctest"
      }
     ]
    },
    "q16": {
     "name": "q16",
     "points": 4,
     "suites": [
      {
       "cases": [],
       "scored": true,
       "setup": "",
       "teardown": "",
       "type": "doctest"
      }
     ]
    },
    "q17": {
     "name": "q17",
     "points": 6,
     "suites": [
      {
       "cases": [],
       "scored": true,
       "setup": "",
       "teardown": "",
       "type": "doctest"
      }
     ]
    },
    "q18": {
     "name": "q18",
     "points": 6,
     "suites": [
      {
       "cases": [],
       "scored": true,
       "setup": "",
       "teardown": "",
       "type": "doctest"
      }
     ]
    },
    "q19": {
     "name": "q19",
     "points": 6,
     "suites": [
      {
       "cases": [],
       "scored": true,
       "setup": "",
       "teardown": "",
       "type": "doctest"
      }
     ]
    },
    "q20": {
     "name": "q20",
     "points": 6,
     "suites": [
      {
       "cases": [],
       "scored": true,
       "setup": "",
       "teardown": "",
       "type": "doctest"
      }
     ]
    },
    "q21": {
     "name": "q21",
     "points": 6,
     "suites": [
      {
       "cases": [],
       "scored": true,
       "setup": "",
       "teardown": "",
       "type": "doctest"
      }
     ]
    },
    "q22": {
     "name": "q22",
     "points": 6,
     "suites": [
      {
       "cases": [],
       "scored": true,
       "setup": "",
       "teardown": "",
       "type": "doctest"
      }
     ]
    },
    "q23": {
     "name": "q23",
     "points": 10,
     "suites": [
      {
       "cases": [],
       "scored": true,
       "setup": "",
       "teardown": "",
       "type": "doctest"
      }
     ]
    },
    "q24": {
     "name": "q24",
     "points": 10,
     "suites": [
      {
       "cases": [],
       "scored": true,
       "setup": "",
       "teardown": "",
       "type": "doctest"
      }
     ]
    }
   }
  },
  "varInspector": {
   "cols": {
    "lenName": 16,
    "lenType": 16,
    "lenVar": 40
   },
   "kernels_config": {
    "python": {
     "delete_cmd_postfix": "",
     "delete_cmd_prefix": "del ",
     "library": "var_list.py",
     "varRefreshCmd": "print(var_dic_list())"
    },
    "r": {
     "delete_cmd_postfix": ") ",
     "delete_cmd_prefix": "rm(",
     "library": "var_list.r",
     "varRefreshCmd": "cat(var_dic_list()) "
    }
   },
   "types_to_exclude": [
    "module",
    "function",
    "builtin_function_or_method",
    "instance",
    "_Feature"
   ],
   "window_display": false
  }
 },
 "nbformat": 4,
 "nbformat_minor": 4
}
