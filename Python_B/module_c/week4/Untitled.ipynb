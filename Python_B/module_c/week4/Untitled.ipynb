{
 "cells": [
  {
   "cell_type": "code",
   "execution_count": 1,
   "id": "66d51081",
   "metadata": {},
   "outputs": [
    {
     "name": "stdout",
     "output_type": "stream",
     "text": [
      "{'name': 'Rose Tyler', 'actor': 'Billie Piper', 'year': '2005', '': ''}\n",
      "{'name': 'Mickey Smith', 'actor': 'Noel Clarke', 'year': '2005', '': ''}\n",
      "{'name': 'Jack Harkness', 'actor': 'John Barrowman', 'year': '2005', '': ''}\n",
      "{'name': 'Donna Noble', 'actor': 'Catherine Tate', 'year': '2006', '': ''}\n",
      "{'name': 'Martha Jones', 'actor': 'Freema Agyeman', 'year': '2007', '': ''}\n",
      "{'name': 'River Song', 'actor': 'Alex Kingston', 'year': '2008', '': ''}\n",
      "{'name': 'Amy Pond', 'actor': 'Karen Gillan', 'year': '2010', '': ''}\n",
      "{'name': 'Rory Williams', 'actor': 'Arthur Darvill', 'year': '2010', '': ''}\n",
      "-------\n",
      "['name', 'actor', 'year', '']\n",
      "<class 'list'>\n",
      "['Rose Tyler', 'Billie Piper', '2005', '']\n",
      "<class 'list'>\n",
      "['Mickey Smith', 'Noel Clarke', '2005', '']\n",
      "<class 'list'>\n",
      "['Jack Harkness', 'John Barrowman', '2005', '']\n",
      "<class 'list'>\n",
      "['Donna Noble', 'Catherine Tate', '2006', '']\n",
      "<class 'list'>\n",
      "['Martha Jones', 'Freema Agyeman', '2007', '']\n",
      "<class 'list'>\n",
      "['River Song', 'Alex Kingston', '2008', '']\n",
      "<class 'list'>\n",
      "['Amy Pond', 'Karen Gillan', '2010', '']\n",
      "<class 'list'>\n",
      "['Rory Williams', 'Arthur Darvill', '2010', '']\n",
      "<class 'list'>\n"
     ]
    }
   ],
   "source": [
    "import csv\n",
    "\n",
    "def readDataFromCsv(fileName):\n",
    "    dataFile = open(\"data.csv\", \"r\")\n",
    "\n",
    "    reader = csv.reader(dataFile)\n",
    "    for row in reader:\n",
    "        print(row)\n",
    "        print(type(row))\n",
    "    dataFile.close()\n",
    "\n",
    "# Read data.csv\n",
    "dataFile = open(\"data.csv\", \"r\")\n",
    "\n",
    "reader = csv.reader(dataFile)\n",
    "listCsv = []\n",
    "for row in reader:\n",
    "    listCsv.append(row)\n",
    "dataFile.close()\n",
    "\n",
    "# Test dict reader\n",
    "dictReader = csv.DictReader(open(\"data.csv\", \"r\"))\n",
    "for row in dictReader:\n",
    "    print(row)\n",
    "print('-------')\n",
    "\n",
    "\n",
    "\n",
    "# Write output.csv\n",
    "with open('output.csv', 'w') as file:\n",
    "    writer = csv.writer(file)\n",
    "    writer.writerows(listCsv)\n",
    "    file.close()\n",
    "        \n",
    "readDataFromCsv(\"output.csv\")"
   ]
  },
  {
   "cell_type": "code",
   "execution_count": 31,
   "id": "f53b70a7",
   "metadata": {
    "scrolled": true
   },
   "outputs": [
    {
     "name": "stdout",
     "output_type": "stream",
     "text": [
      "<class 'dict'>\n",
      "{'data1': [{'age': 52, 'name': 'John', 'postcode': 5002},\n",
      "           {'age': 18, 'name': 'Ye', 'postcode': 3005},\n",
      "           {'age': 34, 'name': 'Siobhan', 'postcode': 2356}],\n",
      " 'data2': [{'age': 25, 'name': 'Tung', 'postcode': 5000},\n",
      "           {'age': 18, 'name': 'Mai', 'postcode': 5001},\n",
      "           {'age': 22, 'name': 'Thao', 'postcode': 5123}]}\n",
      "John\n",
      "Ye\n",
      "Siobhan\n",
      "Tung\n",
      "Mai\n",
      "Thao\n"
     ]
    }
   ],
   "source": [
    "import json\n",
    "import pprint\n",
    "with open('customers.json', encoding='utf-8-sig') as dataFile:\n",
    "    # load data into dictionary\n",
    "    jstr = dataFile.read()\n",
    "    jdata=json.loads(jstr)\n",
    "    \n",
    "    print(type(jdata))\n",
    "    pprint.pprint(jdata)\n",
    "    \n",
    "    for k in jdata.keys():\n",
    "        content_data = jdata.get(k)\n",
    "        for i in range(len(content_data)):\n",
    "            print(content_data[i].get('name'))"
   ]
  },
  {
   "cell_type": "code",
   "execution_count": 50,
   "id": "021fae9e",
   "metadata": {},
   "outputs": [
    {
     "name": "stdout",
     "output_type": "stream",
     "text": [
      "person {'id': 'person1'}\n",
      "person {'id': 'person2'}\n",
      "person {'id': 'person3'}\n"
     ]
    }
   ],
   "source": [
    "import xml.etree.ElementTree as ET\n",
    "tree = ET.parse('data.xml')\n",
    "root = tree.getroot()\n",
    "\n",
    "for child in root:\n",
    "    print(child.tag, child.attrib)"
   ]
  },
  {
   "cell_type": "code",
   "execution_count": 5,
   "id": "70b286ad",
   "metadata": {},
   "outputs": [
    {
     "name": "stdout",
     "output_type": "stream",
     "text": [
      "['Date', 'Location', 'MinTemp', 'MaxTemp', 'Rainfall', 'Evaporation', 'Sunshine', 'WindGustDir', 'WindGustSpeed', 'WindDir9am', 'WindDir3pm', 'WindSpeed9am', 'WindSpeed3pm', 'Humidity9am', 'Humidity3pm', 'Pressure9am', 'Pressure3pm', 'Cloud9am', 'Cloud3pm', 'Temp9am', 'Temp3pm', 'RainToday', 'RISK_MM', 'RainTomorrow']\n",
      "-----------\n",
      "['1/12/08', 'Albury', '13.4', '22.9', '0.6', 'NA', 'NA', 'W', '44', 'W', 'WNW', '20', '24', '71', '22', '1007.7', '1007.1', '8', 'NA', '16.9', '21.8', 'No', '0', 'No']\n",
      "2\n",
      "['2/12/08', 'Albury', '7.4', '25.1', '0', 'NA', 'NA', 'WNW', '44', 'NNW', 'WSW', '4', '22', '44', '25', '1010.6', '1007.8', 'NA', 'NA', '17.2', '24.3', 'No', '0', 'No']\n",
      "3\n",
      "['3/12/08', 'Albury', '12.9', '25.7', '0', 'NA', 'NA', 'WSW', '46', 'W', 'WSW', '19', '26', '38', '30', '1007.6', '1008.7', 'NA', '2', '21', '23.2', 'No', '0', 'No']\n",
      "4\n",
      "['4/12/08', 'Albury', '9.2', '28', '0', 'NA', 'NA', 'NE', '24', 'SE', 'E', '11', '9', '45', '16', '1017.6', '1012.8', 'NA', 'NA', '18.1', '26.5', 'No', '1', 'No']\n",
      "5\n",
      "['5/12/08', 'Albury', '17.5', '32.3', '1', 'NA', 'NA', 'W', '41', 'ENE', 'NW', '7', '20', '82', '33', '1010.8', '1006', '7', '8', '17.8', '29.7', 'No', '0.2', 'No']\n",
      "6\n",
      "['6/12/08', 'Albury', '14.6', '29.7', '0.2', 'NA', 'NA', 'WNW', '56', 'W', 'W', '19', '24', '55', '23', '1009.2', '1005.4', 'NA', 'NA', '20.6', '28.9', 'No', '0', 'No']\n",
      "7\n",
      "['7/12/08', 'Albury', '14.3', '25', '0', 'NA', 'NA', 'W', '50', 'SW', 'W', '20', '24', '49', '19', '1009.6', '1008.2', '1', 'NA', '18.1', '24.6', 'No', '0', 'No']\n",
      "8\n",
      "['8/12/08', 'Albury', '7.7', '26.7', '0', 'NA', 'NA', 'W', '35', 'SSE', 'W', '6', '17', '48', '19', '1013.4', '1010.1', 'NA', 'NA', '16.3', '25.5', 'No', '0', 'No']\n",
      "9\n",
      "['9/12/08', 'Albury', '9.7', '31.9', '0', 'NA', 'NA', 'NNW', '80', 'SE', 'NW', '7', '28', '42', '9', '1008.9', '1003.6', 'NA', 'NA', '18.3', '30.2', 'No', '1.4', 'Yes']\n",
      "10\n",
      "['10/12/08', 'Albury', '13.1', '30.1', '1.4', 'NA', 'NA', 'W', '28', 'S', 'SSE', '15', '11', '58', '27', '1007', '1005.7', 'NA', 'NA', '20.1', '28.2', 'Yes', '0', 'No']\n",
      "11\n"
     ]
    }
   ],
   "source": [
    "import csv\n",
    "\n",
    "with open('weatherAUS.csv') as dataFile:\n",
    "    reader = csv.reader(dataFile)\n",
    "    \n",
    "    # Header\n",
    "    header = next(reader)\n",
    "    print(header)\n",
    "    \n",
    "    print('-----------')\n",
    "    \n",
    "    index = 0\n",
    "    # Try using the reader method to retrieve the data row by row in list format for the first 10 rows.\n",
    "    for row in reader:\n",
    "        print(row)\n",
    "        print(reader.line_num)\n",
    "        index += 1\n",
    "        if (index == 10):\n",
    "            break\n",
    "    "
   ]
  }
 ],
 "metadata": {
  "kernelspec": {
   "display_name": "Python 3 (ipykernel)",
   "language": "python",
   "name": "python3"
  },
  "language_info": {
   "codemirror_mode": {
    "name": "ipython",
    "version": 3
   },
   "file_extension": ".py",
   "mimetype": "text/x-python",
   "name": "python",
   "nbconvert_exporter": "python",
   "pygments_lexer": "ipython3",
   "version": "3.9.7"
  }
 },
 "nbformat": 4,
 "nbformat_minor": 5
}
