{
 "cells": [
  {
   "cell_type": "code",
   "execution_count": 1,
   "metadata": {
    "ExecuteTime": {
     "end_time": "2022-03-06T01:16:09.956706Z",
     "start_time": "2022-03-06T01:16:09.950721Z"
    }
   },
   "outputs": [],
   "source": [
    "import pandas as pd\n",
    "import numpy as np"
   ]
  },
  {
   "cell_type": "markdown",
   "metadata": {},
   "source": [
    "# C | Module Test"
   ]
  },
  {
   "cell_type": "markdown",
   "metadata": {},
   "source": [
    "<!-- BEGIN QUESTION -->\n",
    "\n",
    "## Part I&nbsp;&nbsp;&nbsp;&nbsp;&nbsp;&nbsp;(20 Points)"
   ]
  },
  {
   "cell_type": "code",
   "execution_count": 2,
   "metadata": {
    "ExecuteTime": {
     "start_time": "2022-03-06T09:10:36.341Z"
    },
    "tags": []
   },
   "outputs": [],
   "source": [
    "import csv\n",
    "\n",
    "# Write your solution here\n"
   ]
  },
  {
   "cell_type": "markdown",
   "metadata": {},
   "source": [
    "<!-- END QUESTION -->\n",
    "\n",
    "<!-- BEGIN QUESTION -->\n",
    "\n",
    "## Part II&nbsp;&nbsp;&nbsp;&nbsp;&nbsp;&nbsp;(25 Points)"
   ]
  },
  {
   "cell_type": "code",
   "execution_count": 3,
   "metadata": {
    "tags": []
   },
   "outputs": [],
   "source": [
    "import numpy as np\n",
    "\n",
    "# Write your solution here\n",
    "\n"
   ]
  },
  {
   "cell_type": "markdown",
   "metadata": {},
   "source": [
    "<!-- END QUESTION -->\n",
    "\n",
    "<!-- BEGIN QUESTION -->\n",
    "\n",
    "## Part III&nbsp;&nbsp;&nbsp;&nbsp;&nbsp;&nbsp;(30 Points)"
   ]
  },
  {
   "cell_type": "code",
   "execution_count": 4,
   "metadata": {
    "ExecuteTime": {
     "start_time": "2022-03-06T09:13:57.500Z"
    },
    "tags": []
   },
   "outputs": [],
   "source": [
    "import pandas as pd\n",
    "\n",
    "# Write your solution here\n"
   ]
  },
  {
   "cell_type": "markdown",
   "metadata": {},
   "source": [
    "<!-- END QUESTION -->\n",
    "\n",
    "<!-- BEGIN QUESTION -->\n",
    "\n",
    "## Part IV&nbsp;&nbsp;&nbsp;&nbsp;&nbsp;&nbsp;(25 Points)"
   ]
  },
  {
   "cell_type": "code",
   "execution_count": 5,
   "metadata": {
    "ExecuteTime": {
     "end_time": "2022-03-11T04:54:44.265214Z",
     "start_time": "2022-03-11T04:54:35.904128Z"
    }
   },
   "outputs": [
    {
     "name": "stdout",
     "output_type": "stream",
     "text": [
      "Welcome McGruber\n",
      "You have purchased the following items:\n",
      "20 x Rare toy\n",
      "2 x Swedish furniture\n",
      "The total cost of the purchase is:  4360 AUD\n",
      "You can expect the packages to arrive in:  3 Days\n"
     ]
    }
   ],
   "source": [
    "# Refactor this function\n",
    "def checkout(user_id,purchased_items,item_counts,delivery_postcode,user_monthly_purchase):\n",
    "    lst1=['Designer silverware','Swedish furniture','Rare toy','Antique replica goods'] # List of items\n",
    "    lst2=[1000,180,200,560] # List of prices\n",
    "    lst3=[5000, 5001, 5002, 5003, 5004, 5005, 5006, 5007, 5008, 5009, \n",
    "          2000, 2001, 2002, 2003, 2004, 2005, 2006, 2007, 2008, 2009, \n",
    "          3000, 3001, 3002, 3003, 3004, 3005, 3006, 3007, 3008, 3009] # List of city postcodes\n",
    "    lst4=['John_doe','Jane_smith','McGruber','Mc_lane','Hans'] # List of premium members\n",
    "    i=0\n",
    "    var1=0\n",
    "    for item in purchased_items:\n",
    "        var1+=lst2[lst1.index(item)]*item_counts[i]\n",
    "        i+=1\n",
    "    if var1>500 and delivery_postcode in lst3:\n",
    "         shipping_time = \"3 Days\"\n",
    "    elif user_id in lst4:\n",
    "        if user_monthly_purchase<150:\n",
    "            shipping_time = \"3 Days\"\n",
    "        else:\n",
    "            shipping_time=\"7 days\"\n",
    "    elif user_monthly_purchase>300:\n",
    "        shipping_time=\"3 days\"\n",
    "    else:\n",
    "        shipping_time=\"7 days\"\n",
    "    print(f\"Welcome {user_id}\")\n",
    "    print(f\"You have purchased the following items:\")\n",
    "    i=0\n",
    "    for item in purchased_items:\n",
    "        print(item_counts[i],'x',item)\n",
    "        i+=1\n",
    "    print('The total cost of the purchase is: ',var1,'AUD')\n",
    "    print('You can expect the packages to arrive in: ',shipping_time)\n",
    "\n",
    "\n",
    "checkout('McGruber',['Rare toy','Swedish furniture'],[20,2],2009,20)"
   ]
  },
  {
   "cell_type": "code",
   "execution_count": 6,
   "metadata": {},
   "outputs": [],
   "source": [
    "\n",
    "# Write your test cases here\n"
   ]
  }
 ],
 "metadata": {
  "celltoolbar": "Edit Metadata",
  "kernelspec": {
   "display_name": "Python 3 (ipykernel)",
   "language": "python",
   "name": "python3"
  },
  "language_info": {
   "codemirror_mode": {
    "name": "ipython",
    "version": 3
   },
   "file_extension": ".py",
   "mimetype": "text/x-python",
   "name": "python",
   "nbconvert_exporter": "python",
   "pygments_lexer": "ipython3",
   "version": "3.9.12"
  },
  "varInspector": {
   "cols": {
    "lenName": 16,
    "lenType": 16,
    "lenVar": 40
   },
   "kernels_config": {
    "python": {
     "delete_cmd_postfix": "",
     "delete_cmd_prefix": "del ",
     "library": "var_list.py",
     "varRefreshCmd": "print(var_dic_list())"
    },
    "r": {
     "delete_cmd_postfix": ") ",
     "delete_cmd_prefix": "rm(",
     "library": "var_list.r",
     "varRefreshCmd": "cat(var_dic_list()) "
    }
   },
   "position": {
    "height": "363.844px",
    "left": "1550px",
    "right": "20px",
    "top": "120px",
    "width": "350px"
   },
   "types_to_exclude": [
    "module",
    "function",
    "builtin_function_or_method",
    "instance",
    "_Feature"
   ],
   "window_display": true
  }
 },
 "nbformat": 4,
 "nbformat_minor": 4
}
