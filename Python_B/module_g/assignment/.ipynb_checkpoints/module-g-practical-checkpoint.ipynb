{
 "cells": [
  {
   "cell_type": "code",
   "execution_count": null,
   "metadata": {},
   "outputs": [],
   "source": [
    "# These imports are for marking only. Please don't rely on them in writing your solution.\n",
    "import otter\n",
    "grader = otter.Notebook()"
   ]
  },
  {
   "cell_type": "markdown",
   "metadata": {
    "tags": []
   },
   "source": [
    "# <mark style=\"background: #843fa1; color: #ffffff;\" >&nbsp;G&nbsp;</mark>&ensp;Graphs & Trees\n",
    "\n",
    "------\n",
    "\n",
    "### Instructions:\n",
    "\n",
    "- Complete 50 points worth of questions to pass the assessment\n",
    "- You can attempt any number of questions and in any order provided you pass at least 50 points.\n",
    "- Each submitted answer **must** use the function definition defined by the questions below. You may write and invoke other helper functions to complete your answer so long as the submission includes the stipulated function to call your code.\n",
    "- These questions should be attempted directly in this notebook.\n",
    "- Be sure to check your work before submitting.\n",
    "- Do not remove any provided markings from the answer spaces.\n",
    "- Do not make any changes to this notebook outside of the answer spaces provided.\n",
    "- In testing your own code, remember to check 'edge cases' such as:\n",
    "  - zero length input,\n",
    "  - out of bounds indexes to a list, and\n",
    "- These are habits of \"defensive programming\" that make your code more robust.\n",
    "\n",
    "#### Submitting\n",
    "\n",
    "- Reset your outputs before submitting\n",
    "  - Select the `Kernel` menu, then either `Restart & Run Clear Output` or `Restart & Run All`\n",
    "  - Don't forget to save your notebook after this step\n",
    "- Submit your .ipynb file to Gradescope\n",
    "- You can submit as many times as needed\n",
    "- When reviewing results, **ignore** any results listed under \"Public Tests\"  \n",
    "  (There are no \"Public Tests\" in this assignment)\n",
    "\n",
    "For more information, see the assessment page."
   ]
  },
  {
   "cell_type": "markdown",
   "metadata": {},
   "source": [
    "## Graphs\n",
    "\n",
    "This practical assumes that you are familiar with the object-oriented sample implementation of graphs presented in the course. This reference code is provided to allow you to extend the provided classes using (single or multi-level) inheritance. It is suggested that you do not modify this base code but rather extend the classes in order to answer the questions below. You are not compelled to make use of the provided code and may answer the questions as you see fit."
   ]
  },
  {
   "cell_type": "code",
   "execution_count": 1,
   "metadata": {},
   "outputs": [],
   "source": [
    "class GraphVertex:\n",
    "    def __init__(self):\n",
    "        self._id = None\n",
    "        self._adjacent = dict()\n",
    "        \n",
    "    def add_neighbour(self, neighbour):\n",
    "        self._adjacent[neighbour._id] = neighbour\n",
    "\n",
    "    def get_connections(self):\n",
    "        return self._adjacent.values()  \n",
    "\n",
    "    def set_id(self, vertex_id):\n",
    "        self._id = vertex_id\n",
    "\n",
    "    def get_id(self):\n",
    "        return self._id\n",
    "                \n",
    "class Graph:\n",
    "    def __init__(self):\n",
    "        self._vertex_dict = dict()\n",
    "            \n",
    "    def print_graph(self):\n",
    "        for v in self._vertex_dict.values():\n",
    "            print (v)\n",
    "\n",
    "    def add_vertex(self, vertex_id):\n",
    "        v = GraphVertex(vertex_id)\n",
    "        self._vertex_dict[vertex_id] = v\n",
    "        return v\n",
    "    \n",
    "    def get_vertex(self, vertex_id):\n",
    "        return self._vertex_dict[vertex_id]\n",
    "\n",
    "    def get_vertex_dict (self):\n",
    "        return self._vertex_dict\n",
    "    \n",
    "    def add_edge (self, v1, v2):\n",
    "        v1.add_neighbour (v2)\n",
    "        v2.add_neighbour (v1)"
   ]
  },
  {
   "cell_type": "markdown",
   "metadata": {},
   "source": [
    "#### Question 01 &nbsp;&nbsp;&nbsp;&nbsp;&nbsp;&nbsp;(5 Points)\n",
    "\n",
    "Write a class `Q1Vertex` with protected instance variables `id` and `weight`. Add (or inherit) the following public methods:\n",
    "```python\n",
    "    def set_id (self, vertex_id):\n",
    "        ...\n",
    "    def get_id (self):\n",
    "        ...    \n",
    "    def set_weight (self, weight):\n",
    "        ...\n",
    "    def get_weight (self):\n",
    "        ...    \n",
    "```"
   ]
  },
  {
   "cell_type": "code",
   "execution_count": 2,
   "metadata": {
    "tags": []
   },
   "outputs": [],
   "source": [
    "class Q1Vertex(GraphVertex):\n",
    "    def __init__(self):\n",
    "        super().__init__()\n",
    "        \n",
    "    def set_weight(self, weight):\n",
    "        self.weight = weight\n",
    "        \n",
    "    def get_weight(self):\n",
    "        return self.weight"
   ]
  },
  {
   "cell_type": "markdown",
   "metadata": {},
   "source": [
    "#### Question 02 &nbsp;&nbsp;&nbsp;&nbsp;&nbsp;&nbsp;(5 Points)\n",
    "\n",
    "Extend `Q1Vertex` to create a class `Q2Vertex` to allow a neighbour to be added via an undirected, weighted edge as follows:\n",
    "```python\n",
    "class Q2Vertex(Q1Vertex):\n",
    "    ...\n",
    "    def add_undirected (self, vertex, edge_weight):\n",
    "        ''' Add a neighbouring vertex with the given edge weighting.'''\n",
    "        \n",
    "    def get_neighbours (self):\n",
    "        ''' Return a list of neighbours as tuples of (id, edge_weight). '''\n",
    "```\n",
    "For example, given three neighbouring vertices with id's '2', '3' & '4' and weightings to those vertices of '3.4', '4.7' & '1.4' respectively, `get_neighbours` would return a list `[('2', 3.4), ('3', 4.7), ('4', 1.4)]`. \n"
   ]
  },
  {
   "cell_type": "code",
   "execution_count": 3,
   "metadata": {
    "tags": []
   },
   "outputs": [
    {
     "name": "stdout",
     "output_type": "stream",
     "text": [
      "[('2', 3.4), ('3', 4.7), ('4', 1.4)]\n"
     ]
    }
   ],
   "source": [
    "class Q2Vertex(Q1Vertex):\n",
    "    def __init__(self):\n",
    "        super().__init__()\n",
    "\n",
    "    def add_undirected (self, vertex, edge_weight):\n",
    "        self._adjacent[vertex.get_id()] = (vertex.get_id(), edge_weight)\n",
    "\n",
    "    def get_neighbours (self):\n",
    "        return [item for item in self.get_connections()]\n",
    "            \n",
    "    \n",
    "v1 = Q2Vertex()\n",
    "v1.set_id('1')\n",
    "v2 = Q2Vertex()\n",
    "v2.set_id('2')\n",
    "v3 = Q2Vertex()\n",
    "v3.set_id('3')\n",
    "v4 = Q2Vertex()\n",
    "v4.set_id('4')\n",
    "v1.add_undirected (v2, 3.4)\n",
    "v1.add_undirected (v3, 4.7)\n",
    "v1.add_undirected (v4, 1.4)\n",
    "print(v1.get_neighbours())"
   ]
  },
  {
   "cell_type": "markdown",
   "metadata": {},
   "source": [
    "#### Question 03 &nbsp;&nbsp;&nbsp;&nbsp;&nbsp;&nbsp;(5 Points)\n",
    "\n",
    "Extend `Q2Vertex` to create a class `Q3Vertex` with a function that returns the degree of the vertex:\n",
    "```python\n",
    "class Q3Vertex(Q2Vertex):\n",
    "    def degree(self):\n",
    "        ''' Return the degree of this vertex as the number of edges that connect this vertex to others.'''\n",
    "```    "
   ]
  },
  {
   "cell_type": "code",
   "execution_count": 15,
   "metadata": {
    "tags": []
   },
   "outputs": [],
   "source": [
    "class Q3Vertex(Q2Vertex):\n",
    "    def __init__(self):\n",
    "        super().__init__()\n",
    "        \n",
    "    def degree(self):\n",
    "        return len(self._adjacent)\n",
    "    \n",
    "#     v1 = Q3Vertex()\n",
    "#     v1.set_id('1')\n",
    "    \n",
    "#     print(v1.degree())\n",
    "    \n",
    "#     v2 = Q2Vertex()\n",
    "#     v2.set_id('2')\n",
    "#     v3 = Q2Vertex()\n",
    "#     v3.set_id('3')\n",
    "#     v4 = Q2Vertex()\n",
    "#     v4.set_id('4')\n",
    "#     v1.add_undirected (v2, 3.4)\n",
    "#     v1.add_undirected (v3, 4.7)\n",
    "#     v1.add_undirected (v4, 1.4)\n",
    "    \n",
    "#     print(v1.degree())"
   ]
  },
  {
   "cell_type": "markdown",
   "metadata": {},
   "source": [
    "#### Question 04 &nbsp;&nbsp;&nbsp;&nbsp;&nbsp;&nbsp;(5 Points)\n",
    "\n",
    "Extend `Q3Vertex` to create a class `Q4Vertex` that supports a directed graph with the function `add_directed` that indicates with the flag `traversable` whether the edge can be traversed from `self` to `target_vertex`. Secondly, add a function that returns True when a vertex (**identified by id**) is adjacent and traversable. \n",
    "```python\n",
    "class Q4Vertex(Q3Vertex):\n",
    "    ...\n",
    "    def add_directed (self, target_vertex, edge_weight, traversable):\n",
    "        '''\n",
    "        Add a neighbouring vertex object with the given edge weighting that records if the edge is traversable.\n",
    "        '''\n",
    "    def is_adjacent (self, target_id):\n",
    "        '''\n",
    "        Returns True when the target_id identifies a vertex that is adjacent and traversable. Otherwise False.\n",
    "        '''\n",
    "```\n",
    "For example, given an edge-weighted directed graph:</br>\n",
    "<img src=\"https://i.stack.imgur.com/7C2kD.png\" alt=\"edge-weighted directed graph\" style=\"height: 307px; width: 503px; align: left\"></br>\n",
    "A call to `vertex_B.is_adjacent('C')` would return `True`."
   ]
  },
  {
   "cell_type": "code",
   "execution_count": 16,
   "metadata": {
    "tags": []
   },
   "outputs": [],
   "source": [
    "class Q4Vertex(Q3Vertex):\n",
    "    def __init__(self, vertex_name = None):\n",
    "        super().__init__()\n",
    "        \n",
    "        if vertex_name is not None:\n",
    "            self.set_id(vertex_name)\n",
    "\n",
    "    def add_directed (self, target_vertex, edge_weight, traversable=True):\n",
    "        if traversable:\n",
    "            self._adjacent[target_vertex.get_id()] = (target_vertex.get_id(), edge_weight)\n",
    "        \n",
    "    def is_adjacent (self, target_id):\n",
    "        for item in self.get_connections():\n",
    "            if item[0] == target_id:\n",
    "                return True\n",
    "            \n",
    "        return False\n",
    "    \n",
    "#     vA = Q4Vertex('A')\n",
    "#     vB = Q4Vertex('B')\n",
    "    \n",
    "#     vA.add_directed(vB,1.2,True)\n",
    "#     print(vA.is_adjacent('B'))\n",
    "#     print(vB.is_adjacent('A'))"
   ]
  },
  {
   "cell_type": "markdown",
   "metadata": {},
   "source": [
    "#### Question 05 &nbsp;&nbsp;&nbsp;&nbsp;&nbsp;&nbsp;(10 Points)\n",
    "\n",
    "Extend `Q4Vertex` to create a class `Q5Vertex` that produces an adjacency list for a directed graph in the form of a list of tuples with (id, edge_weighgt).\n",
    "```python\n",
    "        def get_adjacency_list (self):\n",
    "        ''' Return a list of traversable neighbours as tuples of (id, edge_weight).'''\n",
    "```\n",
    "In the example directed graph above, a call to `vertex_B.get_adjacency_list()` would return `[('C', 3), ('D', 2), ('E', 1)]`."
   ]
  },
  {
   "cell_type": "code",
   "execution_count": 53,
   "metadata": {
    "tags": []
   },
   "outputs": [],
   "source": [
    "class Q5Vertex(Q4Vertex):\n",
    "    \n",
    "    def __init__(self, vertex_name = None):\n",
    "        super().__init__()\n",
    "        \n",
    "        if vertex_name is not None:\n",
    "            self.set_id(vertex_name)\n",
    "    \n",
    "    def get_adjacency_list (self):\n",
    "        return list(self.get_connections())\n",
    "    \n",
    "    def __repr__(self):\n",
    "        return self._id + \": adjacent list = \" + str(list(self._adjacent.values())) \n",
    "    \n",
    "#     vvA = Q5Vertex('A')\n",
    "#     vvB = Q5Vertex('B')\n",
    "#     vvC = Q5Vertex('C')\n",
    "#     vvD = Q5Vertex('D')\n",
    "#     vvE = Q5Vertex('E')\n",
    "#     vvA.add_directed (vvB, 1, True)\n",
    "#     vvB.add_directed (vvA, 0, False)\n",
    "#     vvB.add_directed (vvC, 3, True)\n",
    "#     vvB.add_directed (vvD, 2, True)\n",
    "#     vvB.add_directed (vvE, 1, True)\n",
    "    \n",
    "#     print(vvB.get_adjacency_list ())"
   ]
  },
  {
   "cell_type": "markdown",
   "metadata": {
    "tags": []
   },
   "source": [
    "#### Question 06 &nbsp;&nbsp;&nbsp;&nbsp;&nbsp;&nbsp;(10 Points)\n",
    "\n",
    "Create a class `Q6Graph` that represents a directed graph containing a set of edge-weighted vertices. Add methods that allow the addition of vertices and edges according to the function definitions below and a function `get_dfs_path_edge_weight` that finds **any** traversable path between a start and stop vertice using a **Depth First Search** and returns the sum of the edge weights on the path traversed.\n",
    "```python\n",
    "class Q6Graph:\n",
    "\n",
    "    def add_vertex(self, vertex_id):\n",
    "        ''' A vertex to the graph with the given id. '''\n",
    "    def add_directed_edge_with_weight(self, source_id, destination_id, weight):       \n",
    "        ''' \n",
    "        Add a directed edge from the vertex with id 'source_id' to the vertex with id\n",
    "        'destination_id' and apply a weight.\n",
    "        '''\n",
    "    def get_dfs_path_edge_weight(self, start_id, stop_id):\n",
    "        ''' Return the sum of edge weights between start and stop vertices using DFS.'''\n",
    "```\n",
    "\n",
    "For example, in the graph depicted above, a call:\n",
    "```python\n",
    "    my_graph.get_dfs_path_edge_weight('G', 'A') \n",
    "```\n",
    "would return the integer `3`."
   ]
  },
  {
   "cell_type": "code",
   "execution_count": 83,
   "metadata": {
    "tags": []
   },
   "outputs": [],
   "source": [
    "class Q6Graph(Graph):\n",
    "    \n",
    "    def __init__(self):\n",
    "        super().__init__()\n",
    "\n",
    "    def add_vertex(self, vertex_id):\n",
    "        v = Q5Vertex(vertex_id)\n",
    "        self._vertex_dict[vertex_id] = v\n",
    "        #return v\n",
    "    \n",
    "    def add_directed_edge_with_weight(self, source_id, destination_id, weight):\n",
    "        source = self.get_vertex(source_id)\n",
    "        if source is None:\n",
    "            source = Q5Vertex(source_id)\n",
    "            self._vertex_dict[source_id] = source\n",
    "        \n",
    "        dest = self.get_vertex(destination_id)\n",
    "        if dest is None:\n",
    "            dest = Q5Vertex(destination_id)\n",
    "            self._vertex_dict[destination_id] = dest\n",
    "            \n",
    "        source.add_directed(dest, weight)\n",
    "        \n",
    "        \n",
    "    def get_dfs_path_edge_weight(self, start_id, stop_id):\n",
    "        path = self.iterative_dfs(self.get_vertex(start_id), self.get_vertex(stop_id))\n",
    "        \n",
    "        result = 0\n",
    "        index = 0\n",
    "        \n",
    "        for i in range(0, len(path) - 1):\n",
    "            list_weight = path[i].get_adjacency_list()\n",
    "            for item in list_weight:\n",
    "                if item[0] == path[i+1].get_id():\n",
    "                    result += item[1]\n",
    "                    break\n",
    "        return result\n",
    "    \n",
    "    def dfs(self, start, target, path = None, visited = None):\n",
    "        if path is None:\n",
    "            path = []\n",
    "            \n",
    "        if visited is None:\n",
    "            visited = set()\n",
    "\n",
    "        path.append(start)\n",
    "        visited.add(start)\n",
    "\n",
    "        if start == target:\n",
    "            return path\n",
    "        \n",
    "        adjacent = start.get_adjacency_list()\n",
    "\n",
    "        for neighbour in adjacent:\n",
    "            if self.get_vertex(neighbour[0]) not in visited:\n",
    "                result = self.dfs(self.get_vertex(neighbour[0]), target, path, visited)\n",
    "                \n",
    "                if result is not None:\n",
    "                    return result\n",
    "        \n",
    "        path.pop()\n",
    "        return None\n",
    "    \n",
    "    def iterative_dfs(self, start, target):\n",
    "        stack = list()\n",
    "        visited = set()\n",
    "        \n",
    "        stack.append((start, [start]))\n",
    "        \n",
    "        while len(stack) > 0:\n",
    "            (current, path) = stack.pop()\n",
    "            visited.add(current)\n",
    "            \n",
    "            if current == target:\n",
    "                return path\n",
    "            \n",
    "\n",
    "            for v in current.get_adjacency_list():\n",
    "                vertex = self.get_vertex(v[0])\n",
    "                if vertex not in visited:\n",
    "                    stack.append((vertex, path + [vertex]))\n",
    "                    \n",
    "        return None\n",
    "        \n",
    "# g = Q6Graph()\n",
    "# g.add_vertex('A')\n",
    "# g.add_vertex('B')\n",
    "# g.add_vertex('C')\n",
    "# g.add_vertex('D')\n",
    "# g.add_vertex('E')\n",
    "# g.add_vertex('F')\n",
    "# g.add_vertex('G')\n",
    "# g.add_directed_edge_with_weight ('A', 'B', 1)\n",
    "# g.add_directed_edge_with_weight ('B', 'C', 3)\n",
    "# g.add_directed_edge_with_weight ('B', 'D', 2)\n",
    "# g.add_directed_edge_with_weight ('B', 'E', 1)\n",
    "# g.add_directed_edge_with_weight ('C', 'E', 4)\n",
    "# g.add_directed_edge_with_weight ('C', 'D', 1)\n",
    "# g.add_directed_edge_with_weight ('E', 'F', 3)\n",
    "# g.add_directed_edge_with_weight ('D', 'A', 2)\n",
    "# g.add_directed_edge_with_weight ('D', 'E', 2)\n",
    "# g.add_directed_edge_with_weight ('G', 'D', 1)\n",
    "# print(g.get_dfs_path_edge_weight('A', 'D'))"
   ]
  },
  {
   "cell_type": "markdown",
   "metadata": {},
   "source": [
    "#### Question 07 &nbsp;&nbsp;&nbsp;&nbsp;&nbsp;&nbsp;(10 Points)\n",
    "\n",
    "Extend `Q6Graph` to create a class `Q7Graph` with a method:\n",
    "```python\n",
    "    def add_undirected (self, v1_id, v2_id):\n",
    "```\n",
    "to add undirected edges between vertices and a function:\n",
    "```python\n",
    "    def get_bfs_path (self, start_id, stop_id):\n",
    "```\n",
    "that uses a **Breadth First Search** to traverse an undirected graph from start_id to stop_id and returns **any** path from the start and stop vertices as a list of vertex ids.\n",
    "\n",
    "For example, in the graph:</br>\n",
    "<img src=\"https://www.log2base2.com/images/ds/undirected-graph.png\" alt=\"ndirected graph\"></br>\n",
    "a call:\n",
    "```python\n",
    "    my_graph.get_recursive_bfs_path('0', '4')\n",
    "```\n",
    "could return `['0', '1', '4'] amongst other valid paths."
   ]
  },
  {
   "cell_type": "code",
   "execution_count": 66,
   "metadata": {
    "tags": []
   },
   "outputs": [
    {
     "name": "stdout",
     "output_type": "stream",
     "text": [
      "True\n"
     ]
    }
   ],
   "source": [
    "class Q7Graph(Q6Graph):\n",
    "    def __init__(self):\n",
    "        super().__init__()\n",
    "        \n",
    "    def add_undirected (self, v1_id, v2_id): \n",
    "        v1 = self.get_vertex(v1_id)\n",
    "        if v1 is None:\n",
    "            v1 = self.add_vertex(v1_id)\n",
    "        v2 = self.get_vertex(v2_id)    \n",
    "        if v2 is None:\n",
    "            v2 = self.add_vertex(v2_id)\n",
    "        \n",
    "        self.add_edge(v1, v2)\n",
    "        \n",
    "    def get_recursive_bfs_path (self, start_id, stop_id):\n",
    "        return self.bfs(self.get_vertex(start_id), self.get_vertex(stop_id))\n",
    "    \n",
    "    def bfs(self, start, target):\n",
    "        queue = list()\n",
    "        visited = set()\n",
    "            \n",
    "        queue.append(start)\n",
    "        visited.add(start)\n",
    "        \n",
    "        parent = dict()\n",
    "        parent[start] = None\n",
    "        path_found = False\n",
    "        \n",
    "        while len(queue):\n",
    "            current = queue.pop(0)\n",
    "\n",
    "            if current == target:\n",
    "                path_found = True\n",
    "                break\n",
    "                \n",
    "            for item in current.get_adjacency_list():\n",
    "                if item not in visited:\n",
    "                    queue.append(item)\n",
    "                    visited.add(item)\n",
    "                    parent[item] = current\n",
    "        \n",
    "        \n",
    "        path = []\n",
    "        if path_found:\n",
    "            path.append(target)\n",
    "            while parent[target] is not None:\n",
    "                path.append(parent[target])\n",
    "                target = parent[target]\n",
    "                \n",
    "            path.reverse()\n",
    "            \n",
    "        return path\n",
    "    \n",
    "g = Q7Graph()\n",
    "g.add_vertex('0')\n",
    "g.add_vertex('1')\n",
    "g.add_vertex('2')\n",
    "g.add_vertex('3')\n",
    "g.add_vertex('4')\n",
    "g.add_undirected('0', '1')\n",
    "g.add_undirected('0', '2')\n",
    "g.add_undirected('0', '3')\n",
    "g.add_undirected('1', '3')\n",
    "g.add_undirected('1', '4')\n",
    "g.add_undirected('4', '3')\n",
    "g.add_undirected('2', '3')\n",
    "p = g.get_recursive_bfs_path('0', '4')\n",
    "\n",
    "print((len(p)) >= 3)"
   ]
  },
  {
   "cell_type": "markdown",
   "metadata": {},
   "source": [
    "## Trees\n",
    "\n",
    "As for graphs, this reference code is provided to allow you to extend the classes using (single or multi-level) inheritance. It is suggested that you do not modify this base code but rather extend the classes in order to answer the questions below. You are not compelled to make use of the provided code and may answer the questions as you see fit."
   ]
  },
  {
   "cell_type": "code",
   "execution_count": 130,
   "metadata": {},
   "outputs": [],
   "source": [
    "class TreeVertex:\n",
    "\n",
    "    def __init__ (self, _value = None):\n",
    "        # User domain payload of the TreeVertex\n",
    "        self._value = _value\n",
    "        \n",
    "        # Left and right sided children\n",
    "        self._left = None\n",
    "        self._right = None\n",
    "        \n",
    "    def get_value (self):\n",
    "        return self._value\n",
    "    \n",
    "    def set_value (self, _value):\n",
    "        self._value = _value\n",
    "        \n",
    "    def get_left (self):\n",
    "        return self._left\n",
    "\n",
    "    def set_left (self, new_left):\n",
    "        self._left = new_left\n",
    "        \n",
    "    def get_right (self):\n",
    "        return self._right\n",
    "    \n",
    "    def set_right (self, new_right):\n",
    "        self._right = new_right"
   ]
  },
  {
   "cell_type": "code",
   "execution_count": 131,
   "metadata": {},
   "outputs": [],
   "source": [
    "class BinarySearchTree:\n",
    "         \n",
    "    def __init__(self):\n",
    "        self._root = None"
   ]
  },
  {
   "cell_type": "markdown",
   "metadata": {},
   "source": [
    "#### Question 08 &nbsp;&nbsp;&nbsp;&nbsp;&nbsp;&nbsp;(5 Points)\n",
    "\n",
    "Write a class `Q8Vertex` as a subclass of `TreeVertex` whose constructor accepts a word as a mixed case string containing only the letters of the alphabet such as `'Hidden'` or `'valley'` and stores this as a protected instance variable. Add an `insert_word` function that positions an inserted word in a leaf vertex sorted alphabetically ignoring case.\n",
    "```python\n",
    "class Q8Vertex(TreeVertex): # Optional subclassing of TreeVertex\n",
    "\n",
    "    def __init__ (self, word = \"\"):\n",
    "        self._value = word\n",
    "\n",
    "    def insert_word (self, word):\n",
    "        '''\n",
    "        Insert a word as a leaf vertex in either left or right subtree with in-order position\n",
    "        determined alphabetically ignoring case.\n",
    "        '''\n",
    "```\n",
    "For example:\n",
    "```python\n",
    "vertex = Q8Vertex(\"Hidden\")\n",
    "vertex.insert_word(\"a\")\n",
    "vertex.insert_word(\"valley\")\n",
    "```\n",
    "would result in a Q8Vertex with \"Hidden\" having left lead node \"a\" and right leaf node \"valley\". The in-order description of the tree would be \"a\", \"Hidden\", \"valley\"."
   ]
  },
  {
   "cell_type": "code",
   "execution_count": 167,
   "metadata": {
    "tags": []
   },
   "outputs": [],
   "source": [
    "class Q8Vertex(TreeVertex): # Optional subclassing of TreeVertex\n",
    "\n",
    "    def __init__ (self, word = \"\"):\n",
    "        super().__init__(word)\n",
    "\n",
    "    def insert_word (self, word):\n",
    "        if word.lower() <= self._value.lower():\n",
    "            if self._left is None:\n",
    "                self.set_left (Q8Vertex(word))\n",
    "            else:\n",
    "                self._left.insert_word(word)               \n",
    "        else:\n",
    "            if self._right is None:\n",
    "                self.set_right (Q8Vertex(word))\n",
    "            else:\n",
    "                self._right.insert_word(word)\n",
    "                \n",
    "# vertex = Q8Vertex(\"Hidden\")\n",
    "# vertex.insert_word(\"a\")\n",
    "# vertex.insert_word(\"valley\")\n",
    "\n",
    "# print(vertex.get_right().get_value())"
   ]
  },
  {
   "cell_type": "markdown",
   "metadata": {},
   "source": [
    "#### Question 09 &nbsp;&nbsp;&nbsp;&nbsp;&nbsp;&nbsp;(5 Points)\n",
    "\n",
    "Extend `Q8Vertex` in a class `Q9Vertex` and add the function:\n",
    "```python\n",
    "    def the_last_word (self):\n",
    "```\n",
    "that returns the last word of an in order traversal of vertices from the root of any tree or subtree. For example, in the in-order example used above \"a\", \"Hidden\", \"valley\", `vertex.the_last_word()` would return `\"valley\"`."
   ]
  },
  {
   "cell_type": "code",
   "execution_count": 168,
   "metadata": {
    "tags": []
   },
   "outputs": [],
   "source": [
    "class Q9Vertex(Q8Vertex):\n",
    "    def __init__(self, word = \"\"):\n",
    "        super().__init__(word)\n",
    "        \n",
    "    def the_last_word(self):\n",
    "        return self.get_right().get_value()"
   ]
  },
  {
   "cell_type": "markdown",
   "metadata": {},
   "source": [
    "#### Question 10 &nbsp;&nbsp;&nbsp;&nbsp;&nbsp;&nbsp;(10 Points)\n",
    "\n",
    "Extend `Q9Vertex` in a class `Q10Vertex` that adds a function:\n",
    "```python\n",
    "    def in_order_upper_case (self):\n",
    "```\n",
    "that returns the in-order traversal of the tree and returns the words as a string which concatenates each word separated by a space into a single string.\n",
    "\n",
    "For example:\n",
    "```python\n",
    "    vertex.in_order_upper_case()\n",
    "```\n",
    "would return a string: `'A HIDDEN VALLEY'`."
   ]
  },
  {
   "cell_type": "code",
   "execution_count": 169,
   "metadata": {
    "tags": []
   },
   "outputs": [],
   "source": [
    "class Q10Vertex(Q9Vertex):\n",
    "    def __init__(self, word = \"\"):\n",
    "        super().__init__(word)\n",
    "        \n",
    "    def in_order_upper_case(self):\n",
    "        def get_in_order_result(root, result = None):\n",
    "            if result is None:\n",
    "                result = []\n",
    "            \n",
    "            if root:\n",
    "                result.append(get_in_order_result(root.get_left()))\n",
    "            \n",
    "                result.append(root.get_value())\n",
    "            \n",
    "                result.append(get_in_order_result(root.get_right()))\n",
    "        \n",
    "            return \" \".join(result).upper().strip()\n",
    "        \n",
    "        return get_in_order_result(self)\n",
    "    \n",
    "    \n",
    "# vertex = Q10Vertex(\"Hidden\")\n",
    "# vertex.insert_word(\"a\")\n",
    "# vertex.insert_word(\"valley\")\n",
    "\n",
    "# print (vertex.in_order_upper_case())"
   ]
  },
  {
   "cell_type": "markdown",
   "metadata": {},
   "source": [
    "#### Question 11 &nbsp;&nbsp;&nbsp;&nbsp;&nbsp;&nbsp;(15 Points)\n",
    "\n",
    "Create a class Q11BinarySearchTree that implements a binary search tree for words in a sentence and sorts them alphabetically ignoring case. The constructor should take a sentence such as:\n",
    "`\"Loveliest of trees the cherry now Is hung with bloom along the bough\"` and separate individual words before adding them to the contained BST.\n",
    "\n",
    "```python\n",
    "class Q11BinarySearchTree(): \n",
    "    def __init__(self, sentence):\n",
    "```   \n",
    "The tree should have a method:\n",
    "```python\n",
    "    def contains(self, word):\n",
    "```   \n",
    "that searches the BST for a word and returns True when the word appears in the sentence ignoring case. For example, given the sentence above:\n",
    "```python\n",
    "    tree = Q11BinarySearchTree(\"Loveliest of trees the cherry now ...\")\n",
    "    tree.constains(\"the\") == True\n",
    "    tree.constains(\"THE\") == True # Because case ignored\n",
    "    tree.constains(\"python\") == False\n",
    "```"
   ]
  },
  {
   "cell_type": "code",
   "execution_count": 171,
   "metadata": {
    "tags": []
   },
   "outputs": [
    {
     "name": "stdout",
     "output_type": "stream",
     "text": [
      "True\n",
      "True\n",
      "True\n"
     ]
    }
   ],
   "source": [
    "class Q11BinarySearchTree(BinarySearchTree): \n",
    "    def __init__(self, sentence):\n",
    "        super().__init__()\n",
    "        \n",
    "        list_words = sentence.split()\n",
    "\n",
    "        root = self._root\n",
    "        \n",
    "        for word in list_words:\n",
    "            word = word.lower()\n",
    "\n",
    "            if self._root is None:\n",
    "                root = Q10Vertex(word)\n",
    "                self._root = root\n",
    "            else:\n",
    "                root.insert_word(word)\n",
    "        \n",
    "    def contains(self, value):\n",
    "        value = value.lower()\n",
    "        \n",
    "        found = False\n",
    "        previous_vertex = None\n",
    "        current_vertex = self._root\n",
    "        \n",
    "        while not found and current_vertex is not None:\n",
    "            if current_vertex.get_value().lower() == value:\n",
    "                found = True\n",
    "            elif current_vertex.get_value().lower() > value:\n",
    "                previous_vertex = current_vertex\n",
    "                current_vertex = previous_vertex.get_left()\n",
    "            else:\n",
    "                previous_vertex = current_vertex\n",
    "                current_vertex = previous_vertex.get_right()\n",
    "\n",
    "        return found\n",
    "    \n",
    "tree = Q11BinarySearchTree(\"Loveliest of trees the cherry now ...\")\n",
    "print(tree.contains(\"the\") == True)\n",
    "print(tree.contains(\"THE\") == True) # Because case ignored\n",
    "print(tree.contains(\"python\") == False)"
   ]
  },
  {
   "cell_type": "markdown",
   "metadata": {},
   "source": [
    "#### Question 12 &nbsp;&nbsp;&nbsp;&nbsp;&nbsp;&nbsp;(15 Points)\n",
    "\n",
    "Extend `Q11BinarySearchTree` in a class `Q12BinarySearchTree` that is capable of storing at each vertex of the BST both the word and the number of times it occurs in the sentence passed to the constructor. To do this, you will need to create a new vertex class that extends a tree vertex class from a previous question. Words are added to the tree alphabetically ignoring case as before. \n",
    "\n",
    "Your class must include a method `frequency` that traverses the tree in order and returns a list of tuples where each tuple consists of the (word, occurrences) - where occurrences is the number of times the word occurs in the sentence.\n",
    "```python\n",
    "class Q12BinarySearchTree(Q11BinarySearchTree):\n",
    "    def __init__(self, sentence):\n",
    "        ''' \n",
    "        Accepts an input sentence, converts it to lowercase and splits into\n",
    "        words which are stored in the BST alphabetically ignoring case.\n",
    "        '''\n",
    "        \n",
    "    def frequency(self):    \n",
    "        '''\n",
    "        Returns a list of tuples containing the in-order traversal of the  \n",
    "        tree and the number of times the word appears in the sentence.\n",
    "        '''\n",
    "```\n",
    "For example, given a sentence `\"a A tree repeats\"` the function `frequency` would return a list: </br>\n",
    "`[('a', 2), ('repeats', 1), ('tree', 1)]`</br>\n",
    "because the sentence contains two instances of 'a'.\n"
   ]
  },
  {
   "cell_type": "code",
   "execution_count": 172,
   "metadata": {
    "tags": []
   },
   "outputs": [
    {
     "name": "stdout",
     "output_type": "stream",
     "text": [
      "[('a', 2), ('repeats', 1), ('tree', 1)]\n"
     ]
    }
   ],
   "source": [
    "class Q12BinarySearchTree(Q11BinarySearchTree):\n",
    "    def __init__(self, sentence):\n",
    "        super().__init__(sentence)\n",
    "        \n",
    "    def frequency(self):\n",
    "        def in_order_travel(root, dict_frequency = None):\n",
    "            \n",
    "            if dict_frequency is None:\n",
    "                dict_frequency = dict()\n",
    "                \n",
    "            if root:\n",
    "                in_order_travel(root.get_left(), dict_frequency)\n",
    "                \n",
    "                if root.get_value() in dict_frequency:\n",
    "                    dict_frequency[root.get_value()] += 1\n",
    "                else:\n",
    "                    dict_frequency[root.get_value()] = 1\n",
    "                    \n",
    "                in_order_travel(root.get_right(), dict_frequency)\n",
    "            \n",
    "            return dict_frequency\n",
    "        \n",
    "        dict_frequency = in_order_travel(self._root)\n",
    "        \n",
    "        return [(key, value) for key, value in dict_frequency.items()]\n",
    "    \n",
    "tree = Q12BinarySearchTree(\"a A tree repeats\")\n",
    "print(tree.frequency())\n",
    "        "
   ]
  }
 ],
 "metadata": {
  "kernelspec": {
   "display_name": "Python 3 (ipykernel)",
   "language": "python",
   "name": "python3"
  },
  "language_info": {
   "codemirror_mode": {
    "name": "ipython",
    "version": 3
   },
   "file_extension": ".py",
   "mimetype": "text/x-python",
   "name": "python",
   "nbconvert_exporter": "python",
   "pygments_lexer": "ipython3",
   "version": "3.9.7"
  },
  "otter": {
   "tests": {
    "Question 01": {
     "name": "Question 01",
     "points": 5,
     "suites": [
      {
       "cases": [],
       "scored": true,
       "setup": "",
       "teardown": "",
       "type": "doctest"
      }
     ]
    },
    "Question 02": {
     "name": "Question 02",
     "points": 5,
     "suites": [
      {
       "cases": [],
       "scored": true,
       "setup": "",
       "teardown": "",
       "type": "doctest"
      }
     ]
    },
    "Question 03": {
     "name": "Question 03",
     "points": 5,
     "suites": [
      {
       "cases": [],
       "scored": true,
       "setup": "",
       "teardown": "",
       "type": "doctest"
      }
     ]
    },
    "Question 04": {
     "name": "Question 04",
     "points": 5,
     "suites": [
      {
       "cases": [],
       "scored": true,
       "setup": "",
       "teardown": "",
       "type": "doctest"
      }
     ]
    },
    "Question 05": {
     "name": "Question 05",
     "points": 10,
     "suites": [
      {
       "cases": [],
       "scored": true,
       "setup": "",
       "teardown": "",
       "type": "doctest"
      }
     ]
    },
    "Question 06": {
     "name": "Question 06",
     "points": 10,
     "suites": [
      {
       "cases": [],
       "scored": true,
       "setup": "",
       "teardown": "",
       "type": "doctest"
      }
     ]
    },
    "Question 07": {
     "name": "Question 07",
     "points": 10,
     "suites": [
      {
       "cases": [],
       "scored": true,
       "setup": "",
       "teardown": "",
       "type": "doctest"
      }
     ]
    },
    "Question 08": {
     "name": "Question 08",
     "points": 5,
     "suites": [
      {
       "cases": [],
       "scored": true,
       "setup": "",
       "teardown": "",
       "type": "doctest"
      }
     ]
    },
    "Question 09": {
     "name": "Question 09",
     "points": 5,
     "suites": [
      {
       "cases": [],
       "scored": true,
       "setup": "",
       "teardown": "",
       "type": "doctest"
      }
     ]
    },
    "Question 10": {
     "name": "Question 10",
     "points": 10,
     "suites": [
      {
       "cases": [],
       "scored": true,
       "setup": "",
       "teardown": "",
       "type": "doctest"
      }
     ]
    },
    "Question 11": {
     "name": "Question 11",
     "points": 15,
     "suites": [
      {
       "cases": [],
       "scored": true,
       "setup": "",
       "teardown": "",
       "type": "doctest"
      }
     ]
    },
    "Question 12": {
     "name": "Question 12",
     "points": 15,
     "suites": [
      {
       "cases": [],
       "scored": true,
       "setup": "",
       "teardown": "",
       "type": "doctest"
      }
     ]
    },
    "q1": {
     "name": "q1",
     "points": 1,
     "suites": [
      {
       "cases": [],
       "scored": true,
       "setup": "",
       "teardown": "",
       "type": "doctest"
      }
     ]
    },
    "q10": {
     "name": "q10",
     "points": 4,
     "suites": [
      {
       "cases": [],
       "scored": true,
       "setup": "",
       "teardown": "",
       "type": "doctest"
      }
     ]
    },
    "q11": {
     "name": "q11",
     "points": 6,
     "suites": [
      {
       "cases": [],
       "scored": true,
       "setup": "",
       "teardown": "",
       "type": "doctest"
      }
     ]
    },
    "q12": {
     "name": "q12",
     "points": 6,
     "suites": [
      {
       "cases": [],
       "scored": true,
       "setup": "",
       "teardown": "",
       "type": "doctest"
      }
     ]
    },
    "q13": {
     "name": "q13",
     "points": 6,
     "suites": [
      {
       "cases": [],
       "scored": true,
       "setup": "",
       "teardown": "",
       "type": "doctest"
      }
     ]
    },
    "q14": {
     "name": "q14",
     "points": 6,
     "suites": [
      {
       "cases": [],
       "scored": true,
       "setup": "",
       "teardown": "",
       "type": "doctest"
      }
     ]
    },
    "q15": {
     "name": "q15",
     "points": 6,
     "suites": [
      {
       "cases": [],
       "scored": true,
       "setup": "",
       "teardown": "",
       "type": "doctest"
      }
     ]
    },
    "q16": {
     "name": "q16",
     "points": 6,
     "suites": [
      {
       "cases": [],
       "scored": true,
       "setup": "",
       "teardown": "",
       "type": "doctest"
      }
     ]
    },
    "q17": {
     "name": "q17",
     "points": 8,
     "suites": [
      {
       "cases": [],
       "scored": true,
       "setup": "",
       "teardown": "",
       "type": "doctest"
      }
     ]
    },
    "q18": {
     "name": "q18",
     "points": 8,
     "suites": [
      {
       "cases": [],
       "scored": true,
       "setup": "",
       "teardown": "",
       "type": "doctest"
      }
     ]
    },
    "q19": {
     "name": "q19",
     "points": 12,
     "suites": [
      {
       "cases": [],
       "scored": true,
       "setup": "",
       "teardown": "",
       "type": "doctest"
      }
     ]
    },
    "q2": {
     "name": "q2",
     "points": 1,
     "suites": [
      {
       "cases": [],
       "scored": true,
       "setup": "",
       "teardown": "",
       "type": "doctest"
      }
     ]
    },
    "q20": {
     "name": "q20",
     "points": 12,
     "suites": [
      {
       "cases": [],
       "scored": true,
       "setup": "",
       "teardown": "",
       "type": "doctest"
      }
     ]
    },
    "q3": {
     "name": "q3",
     "points": 1,
     "suites": [
      {
       "cases": [],
       "scored": true,
       "setup": "",
       "teardown": "",
       "type": "doctest"
      }
     ]
    },
    "q4": {
     "name": "q4",
     "points": 1,
     "suites": [
      {
       "cases": [],
       "scored": true,
       "setup": "",
       "teardown": "",
       "type": "doctest"
      }
     ]
    },
    "q5": {
     "name": "q5",
     "points": 2,
     "suites": [
      {
       "cases": [],
       "scored": true,
       "setup": "",
       "teardown": "",
       "type": "doctest"
      }
     ]
    },
    "q6": {
     "name": "q6",
     "points": 2,
     "suites": [
      {
       "cases": [],
       "scored": true,
       "setup": "",
       "teardown": "",
       "type": "doctest"
      }
     ]
    },
    "q7": {
     "name": "q7",
     "points": 4,
     "suites": [
      {
       "cases": [],
       "scored": true,
       "setup": "",
       "teardown": "",
       "type": "doctest"
      }
     ]
    },
    "q8": {
     "name": "q8",
     "points": 4,
     "suites": [
      {
       "cases": [],
       "scored": true,
       "setup": "",
       "teardown": "",
       "type": "doctest"
      }
     ]
    },
    "q9": {
     "name": "q9",
     "points": 4,
     "suites": [
      {
       "cases": [],
       "scored": true,
       "setup": "",
       "teardown": "",
       "type": "doctest"
      }
     ]
    }
   }
  },
  "varInspector": {
   "cols": {
    "lenName": 16,
    "lenType": 16,
    "lenVar": 40
   },
   "kernels_config": {
    "python": {
     "delete_cmd_postfix": "",
     "delete_cmd_prefix": "del ",
     "library": "var_list.py",
     "varRefreshCmd": "print(var_dic_list())"
    },
    "r": {
     "delete_cmd_postfix": ") ",
     "delete_cmd_prefix": "rm(",
     "library": "var_list.r",
     "varRefreshCmd": "cat(var_dic_list()) "
    }
   },
   "types_to_exclude": [
    "module",
    "function",
    "builtin_function_or_method",
    "instance",
    "_Feature"
   ],
   "window_display": false
  }
 },
 "nbformat": 4,
 "nbformat_minor": 4
}
