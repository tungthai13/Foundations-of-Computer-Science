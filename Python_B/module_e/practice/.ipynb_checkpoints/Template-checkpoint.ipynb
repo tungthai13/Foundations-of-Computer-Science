{
 "cells": [
  {
   "cell_type": "code",
   "execution_count": 2,
   "id": "99d3b42b",
   "metadata": {
    "scrolled": true
   },
   "outputs": [
    {
     "name": "stdout",
     "output_type": "stream",
     "text": [
      "[-1, 0, 1, 2, 3, 3, 4, 4, 5]\n"
     ]
    }
   ],
   "source": [
    "def bubble_sort(my_list):\n",
    "    for i in range(len(my_list) - 1, 0, -1):\n",
    "        for j in range(i):\n",
    "            if my_list[j] > my_list[j+1]:\n",
    "                my_list[j], my_list[j+1] = my_list[j+1], my_list[j]\n",
    "                \n",
    "my_list = [5,4,1,2,3,0,3,4,-1]\n",
    "bubble_sort(my_list)\n",
    "print(my_list)"
   ]
  },
  {
   "cell_type": "code",
   "execution_count": 5,
   "id": "293f1af8",
   "metadata": {},
   "outputs": [
    {
     "name": "stdout",
     "output_type": "stream",
     "text": [
      "[-1, 0, 1, 2, 3, 3, 4, 4, 5]\n"
     ]
    }
   ],
   "source": [
    "def selection_sort(my_list):\n",
    "    for i in range(len(my_list), 0, -1):\n",
    "        max_number = my_list[0]\n",
    "        max_number_index = 0\n",
    "        \n",
    "        for j in range(i):\n",
    "            if max_number < my_list[j]:\n",
    "                max_number = my_list[j]\n",
    "                max_number_index = j\n",
    "                \n",
    "        # Swap max number to the end (i index)\n",
    "        my_list[i-1], my_list[max_number_index] = my_list[max_number_index], my_list[i-1]\n",
    "        \n",
    "my_list = [5,4,1,2,3,0,3,4,-1]\n",
    "selection_sort(my_list)\n",
    "print(my_list)"
   ]
  },
  {
   "cell_type": "code",
   "execution_count": 14,
   "id": "65b074d8",
   "metadata": {},
   "outputs": [
    {
     "name": "stdout",
     "output_type": "stream",
     "text": [
      "[1, 2, 2, 3, 4]\n"
     ]
    }
   ],
   "source": [
    "def selection_sort(my_list):\n",
    "    for index, value in enumerate(my_list):\n",
    "        for i in range(index - 1, -1, -1):\n",
    "            if value < my_list[i]:\n",
    "                my_list[i], my_list[i+1] = my_list[i+1], my_list[i]\n",
    "\n",
    "my_list = [1,2,3,4,2]\n",
    "selection_sort(my_list)\n",
    "print(my_list)"
   ]
  },
  {
   "cell_type": "code",
   "execution_count": 9,
   "id": "8cd90e3f",
   "metadata": {},
   "outputs": [
    {
     "name": "stdout",
     "output_type": "stream",
     "text": [
      "[-1, 0, 1, 2, 3, 3, 4, 4, 5]\n"
     ]
    }
   ],
   "source": [
    "def quicksort(my_list, start, end):\n",
    "    if start >= end:\n",
    "        return\n",
    "    \n",
    "    i, j = start, end - 1\n",
    "    pivot = my_list[end]\n",
    "    pivot_index = end\n",
    "    \n",
    "    while True:\n",
    "        while my_list[i] < pivot:\n",
    "            i += 1\n",
    "        while my_list[j] > pivot:\n",
    "            j -= 1\n",
    "        \n",
    "        # If i and j cross each other, then break loop\n",
    "        if i >= j:\n",
    "            break\n",
    "            \n",
    "        # Swap i, j\n",
    "        my_list[i], my_list[j] = my_list[j], my_list[i]\n",
    "        i += 1\n",
    "        j -= 1\n",
    "        \n",
    "        \n",
    "    # Swap pivot and i\n",
    "    my_list[pivot_index], my_list[i] = my_list[i], my_list[pivot_index]\n",
    "        \n",
    "    quicksort(my_list, start, i - 1)\n",
    "    quicksort(my_list, i + 1, end)\n",
    "    \n",
    "my_list = [5,4,1,2,3,0,3,4,-1]\n",
    "quicksort(my_list, 0, len(my_list) - 1)\n",
    "print(my_list)"
   ]
  },
  {
   "cell_type": "code",
   "execution_count": 45,
   "id": "37f4ecd7",
   "metadata": {},
   "outputs": [
    {
     "name": "stdout",
     "output_type": "stream",
     "text": [
      "[-1, 0, 1, 2, 3, 3, 4, 4, 5]\n"
     ]
    }
   ],
   "source": [
    "def quicksort_median(my_list, start, end):\n",
    "    if start >= end:\n",
    "        return\n",
    "    \n",
    "    if start == end - 1:\n",
    "        if my_list[start] > my_list[end]:\n",
    "            my_list[start], my_list[end] = my_list[end], my_list[start]\n",
    "        return\n",
    "    \n",
    "    # Pivot median start, middle, end\n",
    "    middle = end - (end - start) // 2\n",
    "    \n",
    "    temp = [my_list[start], my_list[middle], my_list[end]]\n",
    "    temp.sort()\n",
    "    \n",
    "    # Swap\n",
    "    my_list[start] = temp[0]\n",
    "    my_list[middle] = temp[1]\n",
    "    my_list[end] = temp[2]\n",
    "    \n",
    "    # Choose pivot\n",
    "    # Swap middle to pivot position\n",
    "    my_list[middle], my_list[end-1] = my_list[end-1], my_list[middle]\n",
    "    pivot = my_list[end-1]\n",
    "    pivot_index = end-1\n",
    "    \n",
    "    i, j = start + 1, pivot_index - 1\n",
    "    while True:\n",
    "        while my_list[i] < pivot:\n",
    "            i += 1\n",
    "        while my_list[j] > pivot:\n",
    "            j -= 1\n",
    "\n",
    "        # If i and j cross each other, then break loop\n",
    "        if i >= j:\n",
    "            break\n",
    "            \n",
    "        # Swap i, j\n",
    "        my_list[i], my_list[j] = my_list[j], my_list[i]\n",
    "        \n",
    "    # Swap pivot and i\n",
    "    my_list[pivot_index], my_list[i] = my_list[i], my_list[pivot_index]\n",
    "    \n",
    "    # Sort left and right partition of pivot\n",
    "    quicksort_median(my_list, start, i - 1)\n",
    "    quicksort_median(my_list, i + 1, end)\n",
    "    \n",
    "my_list = [5,4,1,2,3,0,3,4,-1]\n",
    "quicksort_median(my_list, 0, len(my_list) - 1)\n",
    "print(my_list)"
   ]
  },
  {
   "cell_type": "code",
   "execution_count": null,
   "id": "aec20ea0",
   "metadata": {},
   "outputs": [],
   "source": [
    "# Search algorithm"
   ]
  },
  {
   "cell_type": "code",
   "execution_count": 29,
   "id": "a97f139b",
   "metadata": {
    "scrolled": true
   },
   "outputs": [
    {
     "name": "stdout",
     "output_type": "stream",
     "text": [
      "1\n",
      "1\n"
     ]
    }
   ],
   "source": [
    "# Binary search\n",
    "def binary_search(my_list, start, end, match):\n",
    "    if start > end:\n",
    "        return False\n",
    "    \n",
    "    mid = end - (end - start) // 2\n",
    "    \n",
    "    if my_list[mid] == match:\n",
    "        return mid\n",
    "    elif match < my_list[mid]:\n",
    "        return binary_search(my_list, start, mid - 1, match)\n",
    "    else:\n",
    "        return binary_search(my_list, mid + 1, end, match)\n",
    "    \n",
    "my_list = [-1, 0, 1, 2, 3, 3, 4, 4, 5]\n",
    "print(binary_search(my_list, 0, len(my_list) - 1, 0))\n",
    "\n",
    "import bisect\n",
    "\n",
    "print(bisect.bisect_left(my_list, 0))"
   ]
  },
  {
   "cell_type": "code",
   "execution_count": 34,
   "id": "7a9f51a3",
   "metadata": {},
   "outputs": [
    {
     "name": "stdout",
     "output_type": "stream",
     "text": [
      "False\n"
     ]
    }
   ],
   "source": [
    "#Interpolation search\n",
    "def interpolation_search(my_list, match):\n",
    "    def search(my_list, start, end, match):\n",
    "        if start > end:\n",
    "            return False\n",
    "        \n",
    "        if match > my_list[end] or match < my_list[start]:\n",
    "            return False\n",
    "        \n",
    "        key = end + ((start - end)*(match - my_list[start])) // (my_list[end] - my_list[start])\n",
    "        \n",
    "        if my_list[key] == match:\n",
    "            return key\n",
    "        elif match < my_list[key]:\n",
    "            return binary_search(my_list, start, key - 1, match)\n",
    "        else:\n",
    "            return binary_search(my_list, key + 1, end, match)\n",
    "    return search(my_list, 0, len(my_list) - 1, 150)\n",
    "my_list = [-1, 0, 1, 2, 3, 3, 4, 4, 5]\n",
    "print(interpolation_search(my_list, 0))"
   ]
  },
  {
   "cell_type": "code",
   "execution_count": 43,
   "id": "31f00c32",
   "metadata": {
    "scrolled": true
   },
   "outputs": [
    {
     "name": "stdout",
     "output_type": "stream",
     "text": [
      "8\n"
     ]
    }
   ],
   "source": [
    "# Jump search\n",
    "import math\n",
    "def jump_search(my_list, match):\n",
    "    \n",
    "    length = len(my_list)\n",
    "    \n",
    "    jump = int(math.sqrt(length))\n",
    "    \n",
    "    block_found = False\n",
    "    \n",
    "    start = 0\n",
    "    while start < length:\n",
    "        \n",
    "        end = start + jump\n",
    "        if (end >= length):\n",
    "            end = length - 1\n",
    "        \n",
    "        if my_list[start] <= match and match <= my_list[end]:\n",
    "            block_found = True\n",
    "            break\n",
    "            \n",
    "        start = end + 1\n",
    "\n",
    "    if block_found:\n",
    "        for index in range(start, end + 1):\n",
    "            if my_list[index] == match:\n",
    "                return index\n",
    "    else:\n",
    "        return False\n",
    "    \n",
    "my_list = [-1, 0, 1, 2, 3, 3, 4, 4, 5]\n",
    "print(jump_search(my_list, 5))\n",
    "        \n",
    "    "
   ]
  },
  {
   "cell_type": "code",
   "execution_count": null,
   "id": "0003c76c",
   "metadata": {},
   "outputs": [],
   "source": [
    "def fibonacci_search(lst, target):\n",
    "    size = len(lst)\n",
    "     \n",
    "    start = -1\n",
    "     \n",
    "    f0 = 0\n",
    "    f1 = 1\n",
    "    f2 = 1\n",
    "    while(f2 < size):\n",
    "        f0 = f1\n",
    "        f1 = f2\n",
    "        f2 = f1 + f0\n",
    "     \n",
    "     \n",
    "    while(f2 > 1):\n",
    "        index = min(start + f0, size - 1)\n",
    "        if lst[index] < target:\n",
    "            f2 = f1\n",
    "            f1 = f0\n",
    "            f0 = f2 - f1\n",
    "            start = index\n",
    "        elif lst[index] > target:\n",
    "            f2 = f0\n",
    "            f1 = f1 - f0\n",
    "            f0 = f2 - f1\n",
    "        else:\n",
    "            return index\n",
    "    if (f1) and (lst[size - 1] == target):\n",
    "        return size - 1\n",
    "    return None"
   ]
  }
 ],
 "metadata": {
  "kernelspec": {
   "display_name": "Python 3 (ipykernel)",
   "language": "python",
   "name": "python3"
  },
  "language_info": {
   "codemirror_mode": {
    "name": "ipython",
    "version": 3
   },
   "file_extension": ".py",
   "mimetype": "text/x-python",
   "name": "python",
   "nbconvert_exporter": "python",
   "pygments_lexer": "ipython3",
   "version": "3.9.7"
  }
 },
 "nbformat": 4,
 "nbformat_minor": 5
}
