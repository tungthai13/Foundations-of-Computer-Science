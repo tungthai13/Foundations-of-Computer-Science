{
 "cells": [
  {
   "cell_type": "code",
   "execution_count": 28,
   "id": "cdc2127e",
   "metadata": {
    "scrolled": true
   },
   "outputs": [
    {
     "name": "stdout",
     "output_type": "stream",
     "text": [
      "(True, 3)\n",
      "(True, 2)\n",
      "(False, 0)\n"
     ]
    }
   ],
   "source": [
    "def contains(number, pattern):\n",
    "    def test(number, pattern, count):\n",
    "        if len(number) < len(pattern):\n",
    "            return count\n",
    "\n",
    "        if number[:len(pattern)] == pattern:\n",
    "            count += 1\n",
    "            return test(number[1:], pattern, count)\n",
    "        else:\n",
    "            return test(number[1:], pattern, count)\n",
    "        \n",
    "    count = test(number, pattern, 0)\n",
    "    \n",
    "    if count > 0:\n",
    "        return (True, count)\n",
    "    \n",
    "    return (False, count)\n",
    "    \n",
    "    \n",
    "print(contains(\"1011\", \"1\"))\n",
    "print(contains(\"10111\", \"11\"))                \n",
    "print(contains(\"101110111\", \"01011\"))"
   ]
  },
  {
   "cell_type": "code",
   "execution_count": 55,
   "id": "ed2098b1",
   "metadata": {
    "scrolled": true
   },
   "outputs": [
    {
     "name": "stdout",
     "output_type": "stream",
     "text": [
      "True\n",
      "False\n",
      "False\n"
     ]
    }
   ],
   "source": [
    "def binary_search (names, match):\n",
    "\n",
    "    # Write your solution here\n",
    "    def search(names, low, high, match):\n",
    "        if low > high:\n",
    "            return False\n",
    "        \n",
    "        mid = high - (high - low) // 2\n",
    "        \n",
    "        if names[mid] == match:\n",
    "            return True\n",
    "        elif match < names[mid]:\n",
    "            return search(names, low, mid - 1, match)\n",
    "        else:\n",
    "            return search(names, mid + 1, high, match)\n",
    "        \n",
    "    return search(names, 0, len(names) - 1, match)\n",
    "        \n",
    "print(binary_search ([\"Aashray\", \"Bhavana\", \"Hanyue\", \"Inzah\"], \"Bhavana\"))\n",
    "print(binary_search ([\"Pranav\", \"Rui\", \"Victor\", \"Xiufeng\"], \"Menasha\"))\n",
    "\n",
    "print(binary_search ([1,5,6,8,10,30,35,80,100], 31))"
   ]
  },
  {
   "cell_type": "code",
   "execution_count": 32,
   "id": "a48bd164",
   "metadata": {
    "scrolled": true
   },
   "outputs": [
    {
     "name": "stdout",
     "output_type": "stream",
     "text": [
      "True\n",
      "False\n"
     ]
    }
   ],
   "source": [
    "def binary_search_iteractive(names, match):\n",
    "    high = len(names) - 1\n",
    "    low = 0\n",
    "    \n",
    "    mid = high - (high - low) // 2\n",
    "    \n",
    "    while low <= high:\n",
    "        \n",
    "        if names[mid] == match:\n",
    "            return True\n",
    "        elif match < names[mid]:\n",
    "            high = mid - 1\n",
    "        else:\n",
    "            low = mid + 1\n",
    "            \n",
    "        mid = high - (high - low) // 2\n",
    "        \n",
    "    return False\n",
    "\n",
    "print(binary_search_iteractive ([\"Aashray\", \"Bhavana\", \"Hanyue\", \"Inzah\"], \"Bhavana\"))\n",
    "print(binary_search_iteractive ([\"Pranav\", \"Rui\", \"Victor\", \"Xiufeng\"], \"Menasha\"))\n",
    "\n",
    "mid"
   ]
  },
  {
   "cell_type": "code",
   "execution_count": 61,
   "id": "36cfd1a0",
   "metadata": {},
   "outputs": [
    {
     "name": "stdout",
     "output_type": "stream",
     "text": [
      "low= 0 high= 8 2\n",
      "1 100\n",
      "low= 3 high= 8 4\n",
      "8 100\n",
      "low= 5 high= 8 5\n",
      "30 100\n",
      "False\n"
     ]
    }
   ],
   "source": [
    "def interpolation_search_recursively(names, match):\n",
    "    def search(names, match, low, high):\n",
    "        \n",
    "        \n",
    "        if low > high or names[low] > match or names[high] < match:\n",
    "            return False\n",
    "        \n",
    "        position = low + (match - names[low])*(high - low) // (names[high] - names[low])\n",
    "\n",
    "        if names[position] == match:\n",
    "            return True\n",
    "        elif match < names[position]:\n",
    "            return search(names, match, low, position - 1)\n",
    "        else:\n",
    "            return search(names, match, position + 1, high)\n",
    "        \n",
    "    return search(names, match, 0, len(names) - 1)\n",
    "        \n",
    "print(interpolation_search_recursively ([1,5,6,8,10,30,35,80,100], 31))"
   ]
  },
  {
   "cell_type": "code",
   "execution_count": 53,
   "id": "fcd97b2f",
   "metadata": {},
   "outputs": [
    {
     "name": "stdout",
     "output_type": "stream",
     "text": [
      "low= 0 high= 8 2\n",
      "low= 3 high= 8 4\n",
      "low= 5 high= 8 5\n",
      "(False, -1)\n"
     ]
    }
   ],
   "source": [
    "def interpolation_search(slist, match):     \n",
    "    '''\n",
    "    Using interpolation, search a list of integers for a target value 'match' and\n",
    "    return whether 'match' was found and at what indematch of slist.\n",
    "    '''\n",
    "    low = 0     \n",
    "    high = (len(slist) - 1)   \n",
    "    \n",
    "    while((slist[high] != slist[low]) and (match >= slist[low]) and (match <= slist[high])):\n",
    "        \n",
    "        # Interpolate a search index         \n",
    "        mid = low + int((match - slist[low]) * (high - low) / (slist[high] - slist[low]))\n",
    "        print(\"low=\",low, \"high=\",high, mid)\n",
    "        # Compare the value at the interpolated index with search value \n",
    "        if slist[mid] < match:\n",
    "            low = mid + 1\n",
    "        elif match < slist[mid]:\n",
    "            high = mid - 1\n",
    "        else:\n",
    "            return True, mid    \n",
    "        \n",
    "    if match == slist[low]:\n",
    "        return True, low\n",
    "    else: \n",
    "        return False, -1\n",
    "    \n",
    "\n",
    "print(interpolation_search ([1,5,6,8,10,30,35,80,100], 31))"
   ]
  },
  {
   "cell_type": "code",
   "execution_count": 70,
   "id": "4067ce69",
   "metadata": {},
   "outputs": [
    {
     "name": "stdout",
     "output_type": "stream",
     "text": [
      "(True, 5)\n",
      "(True, 8)\n"
     ]
    }
   ],
   "source": [
    "def jump_search_1(arr, match, jump=3):\n",
    "    low = 0\n",
    "    high = len(arr) - 1\n",
    "    \n",
    "    i = low\n",
    "    found = False\n",
    "    while i <= high:\n",
    "        \n",
    "        j = i + jump\n",
    "        if j > high:\n",
    "            j = high\n",
    "        \n",
    "        if arr[i] <= match and match <= arr[j]:\n",
    "            found = True\n",
    "            break\n",
    "            \n",
    "        i += jump\n",
    "    \n",
    "    if found:\n",
    "        for index in range(i, j + 1):\n",
    "            if arr[index] == match:\n",
    "                return True, index\n",
    "    \n",
    "    return False\n",
    "my_list = [-1, 0, 1, 2, 3, 3, 4, 4, 5]\n",
    "print(jump_search_1 ([1,5,6,8,10,30,35,80,100], 30))\n",
    "print(jump_search_1(my_list, 5))"
   ]
  },
  {
   "cell_type": "code",
   "execution_count": null,
   "id": "728213ae",
   "metadata": {},
   "outputs": [],
   "source": []
  },
  {
   "cell_type": "code",
   "execution_count": 65,
   "id": "aec08fab",
   "metadata": {
    "scrolled": true
   },
   "outputs": [
    {
     "name": "stdout",
     "output_type": "stream",
     "text": [
      "8\n"
     ]
    }
   ],
   "source": [
    "import math\n",
    "def jump_search(my_list, match):\n",
    "    \n",
    "    length = len(my_list)\n",
    "    \n",
    "    jump = int(math.sqrt(length))\n",
    "    \n",
    "    block_found = False\n",
    "    \n",
    "    start = 0\n",
    "    while start < length:\n",
    "        \n",
    "        end = start + jump\n",
    "        if (end >= length):\n",
    "            end = length - 1\n",
    "        \n",
    "        if my_list[start] <= match and match <= my_list[end]:\n",
    "            block_found = True\n",
    "            break\n",
    "            \n",
    "        start = end + 1\n",
    "\n",
    "    if block_found:\n",
    "        for index in range(start, end + 1):\n",
    "            if my_list[index] == match:\n",
    "                return index\n",
    "    else:\n",
    "        return False\n",
    "    \n",
    "my_list = [-1, 0, 1, 2, 3, 3, 4, 4, 5]\n",
    "print(jump_search(my_list, 5))"
   ]
  },
  {
   "cell_type": "code",
   "execution_count": 84,
   "id": "ae35a831",
   "metadata": {
    "scrolled": true
   },
   "outputs": [
    {
     "name": "stdout",
     "output_type": "stream",
     "text": [
      "[-1, -1, 0, 2, 2, 3, 3, 5, 5, 6, 6, 78]\n",
      "[1, 2, 3, 4, 5]\n",
      "[-1, -1, 0, 2, 2, 3, 3, 5, 5, 6, 6, 78]\n",
      "[1, 2, 3, 4, 5]\n",
      "\n",
      "[78, 6, 6, 5, 5, 3, 3, 2, 2, 0, -1, -1]\n"
     ]
    }
   ],
   "source": [
    "def bubble_sort(my_arr):\n",
    "    arr = my_arr.copy()\n",
    "    for i in range(len(arr) - 1, -1, -1):\n",
    "        \n",
    "        for j in range(i):\n",
    "            if arr[j] > arr[j+1]:\n",
    "                arr[j], arr[j+1] = arr[j+1], arr[j]\n",
    "        \n",
    "        \n",
    "    return arr\n",
    "\n",
    "def selection_sort(my_arr):\n",
    "    arr = my_arr.copy()\n",
    "    \n",
    "    for i in range(len(arr) - 1, -1, -1):\n",
    "        max_value = arr[0]\n",
    "        max_index = 0\n",
    "        for j in range(i+1):\n",
    "            if max_value < arr[j]:\n",
    "                max_value = arr[j]\n",
    "                max_index = j\n",
    "        arr[max_index], arr[i] = arr[i], arr[max_index]\n",
    "        \n",
    "    return arr\n",
    "\n",
    "def insertion_sort(my_arr):\n",
    "    arr = my_arr.copy()\n",
    "    \n",
    "    for index, value in enumerate(arr):\n",
    "        for i in range(index - 1, -1, -1):\n",
    "            if value > arr[i]:\n",
    "                arr[i + 1], arr[i] = arr[i], arr[i+1]\n",
    "                \n",
    "    return arr\n",
    "                \n",
    "print(bubble_sort([3,5,6,78,0,-1,-1,3,2,2,6,5]))\n",
    "print(bubble_sort([5,4,3,2,1]))\n",
    "print(selection_sort([3,5,6,78,0,-1,-1,3,2,2,6,5]))\n",
    "print(selection_sort([5,4,3,2,1]))\n",
    "\n",
    "print()\n",
    "print(insertion_sort([3,5,6,78,0,-1,-1,3,2,2,6,5]))"
   ]
  },
  {
   "cell_type": "code",
   "execution_count": 102,
   "id": "ce1541c5",
   "metadata": {},
   "outputs": [
    {
     "name": "stdout",
     "output_type": "stream",
     "text": [
      "init 0 11 3 5\n",
      "[3, 5, 6, 78, 0, -1, -1, 3, 2, 2, 6, 5]\n",
      "i = 0\n",
      "i = 1\n",
      "2 9\n",
      "i = 2\n",
      "3 8\n",
      "i = 3\n",
      "i = 4\n",
      "i = 5\n",
      "i = 6\n",
      "i = 7\n",
      "8 7\n",
      "AAA\n",
      "init 0 7 3 78\n",
      "[3, 5, 2, 2, 0, -1, -1, 78]\n",
      "i = 0\n",
      "i = 1\n",
      "i = 2\n",
      "i = 3\n",
      "i = 4\n",
      "i = 5\n",
      "i = 6\n",
      "7 6\n",
      "AAA\n",
      "init 0 6 3 78\n",
      "[3, 5, 2, 2, 0, -1, 78]\n",
      "i = 0\n",
      "i = 1\n",
      "i = 2\n",
      "i = 3\n",
      "i = 4\n",
      "i = 5\n",
      "6 5\n",
      "AAA\n",
      "init 0 5 3 78\n",
      "[3, 5, 2, 2, 0, 78]\n",
      "i = 0\n",
      "i = 1\n",
      "i = 2\n",
      "i = 3\n",
      "i = 4\n",
      "5 4\n",
      "AAA\n",
      "init 0 4 3 78\n",
      "[3, 5, 2, 2, 78]\n",
      "i = 0\n",
      "i = 1\n",
      "i = 2\n",
      "i = 3\n",
      "4 3\n",
      "AAA\n",
      "init 0 3 3 78\n",
      "[3, 5, 2, 78]\n",
      "i = 0\n",
      "i = 1\n",
      "i = 2\n",
      "3 2\n",
      "AAA\n",
      "init 0 2 3 78\n",
      "[3, 5, 78]\n",
      "i = 0\n",
      "i = 1\n",
      "2 1\n",
      "AAA\n",
      "init 0 1 3 78\n",
      "[3, 78]\n",
      "i = 0\n",
      "1 0\n",
      "AAA\n",
      "init 0 0 78 78\n",
      "[78]\n",
      "AAA\n",
      "init 9 11 6 3\n",
      "[6, 6, 3]\n",
      "9 7\n",
      "AAA\n",
      "init 10 11 6 -1\n",
      "[6, -1]\n",
      "10 -1\n",
      "AAA\n",
      "init 11 11 -1 -1\n",
      "[-1]\n",
      "AAA\n",
      "None\n"
     ]
    }
   ],
   "source": [
    "def quick_sort(arr):\n",
    "    def sort(arr, low, high):\n",
    "        if low > high:\n",
    "            return arr\n",
    "        \n",
    "        pivot_value = arr[high]\n",
    "        pivot_index = high\n",
    "        \n",
    "        i = low\n",
    "        j = high\n",
    "        print(\"init\",i,j,arr[i], arr[j])\n",
    "        print(arr[low:high+1])\n",
    "        while i < j:\n",
    "            while arr[i] <= pivot_value and i < j:\n",
    "                print(\"i =\",i)\n",
    "                i += 1\n",
    "            while arr[j] >= pivot_value and j >= 0:\n",
    "                j -= 1\n",
    "            print(i,j)\n",
    "            arr[i], arr[j] = arr[j], arr[i]\n",
    "        \n",
    "        print(\"AAA\")\n",
    "        arr[pivot_index], arr[i] = arr[i], arr[pivot_index]\n",
    "        \n",
    "        sort(arr, low, i - 1)\n",
    "        sort(arr, i + 1, high)\n",
    "        \n",
    "    return sort(arr, 0, len(arr) - 1)\n",
    "\n",
    "print(quick_sort([3,5,6,78,0,-1,-1,3,2,2,6,5]))"
   ]
  }
 ],
 "metadata": {
  "kernelspec": {
   "display_name": "Python 3 (ipykernel)",
   "language": "python",
   "name": "python3"
  },
  "language_info": {
   "codemirror_mode": {
    "name": "ipython",
    "version": 3
   },
   "file_extension": ".py",
   "mimetype": "text/x-python",
   "name": "python",
   "nbconvert_exporter": "python",
   "pygments_lexer": "ipython3",
   "version": "3.9.7"
  }
 },
 "nbformat": 4,
 "nbformat_minor": 5
}
