{
 "cells": [
  {
   "attachments": {},
   "cell_type": "markdown",
   "id": "bfba2cbb",
   "metadata": {},
   "source": [
    "O(log n): number of operations decreases by specific factor with each step\n",
    "O(n log n): \n",
    "    For (n)\n",
    "        For (j = 1, j<n, j*=2)\n",
    "        \n",
    "O(k^n)\n",
    "    For example, O(2n) algorithms double with every additional input. So, if n = 2, these algorithms will run four times; if n = 3, they will run eight times (kind of like the opposite of logarithmic time algorithms).\n",
    "\n",
    "    O(3n) algorithms triple with every additional input, O(kn) algorithms will get k times bigger with every additional input.\n",
    "\n",
    "O(n!) - Factorial Time\n",
    "\n",
    "\n",
    "O(2^n)\n",
    "int fibonacci(int num)\n",
    "{\n",
    "    if (num <= 1) return num;\n",
    "    return fibonacci(num - 2) + fibonacci(num - 1);\n",
    "}"
   ]
  },
  {
   "cell_type": "markdown",
   "id": "f1bff92a",
   "metadata": {},
   "source": [
    "# Sort"
   ]
  },
  {
   "cell_type": "markdown",
   "id": "1d2d2268",
   "metadata": {},
   "source": [
    "## 1.1. Quick sort median"
   ]
  },
  {
   "cell_type": "code",
   "execution_count": 17,
   "id": "236f05ba",
   "metadata": {
    "scrolled": true
   },
   "outputs": [
    {
     "name": "stdout",
     "output_type": "stream",
     "text": [
      "[-1, 0, 1, 2, 3, 3, 4, 4, 5]\n"
     ]
    }
   ],
   "source": [
    "def quicksort_median(my_list, start, end):\n",
    "    if start >= end:\n",
    "        return\n",
    "    \n",
    "    if start == end - 1:\n",
    "        if my_list[start] > my_list[end]:\n",
    "            my_list[start], my_list[end] = my_list[end], my_list[start]\n",
    "        return\n",
    "    \n",
    "    # Pivot median start, middle, end\n",
    "    middle = end - (end - start) // 2\n",
    "    \n",
    "    temp = [my_list[start], my_list[middle], my_list[end]]\n",
    "    temp.sort()\n",
    "    \n",
    "    # Swap\n",
    "    my_list[start] = temp[0]\n",
    "    my_list[middle] = temp[1]\n",
    "    my_list[end] = temp[2]\n",
    "    \n",
    "    # Choose pivot\n",
    "    # Swap middle to pivot position\n",
    "    my_list[middle], my_list[end-1] = my_list[end-1], my_list[middle]\n",
    "    pivot = my_list[end-1]\n",
    "    pivot_index = end-1\n",
    "    \n",
    "    i, j = start + 1, pivot_index - 1\n",
    "    while True:\n",
    "        while my_list[i] < pivot:\n",
    "            i += 1\n",
    "        while my_list[j] > pivot:\n",
    "            j -= 1\n",
    "\n",
    "        # If i and j cross each other, then break loop\n",
    "        if i >= j:\n",
    "            break\n",
    "            \n",
    "        # Swap i, j\n",
    "        my_list[i], my_list[j] = my_list[j], my_list[i]\n",
    "        \n",
    "    # Swap pivot and i\n",
    "    my_list[pivot_index], my_list[i] = my_list[i], my_list[pivot_index]\n",
    "    \n",
    "    # Sort left and right partition of pivot\n",
    "    quicksort_median(my_list, start, i - 1)\n",
    "    quicksort_median(my_list, i + 1, end)\n",
    "    \n",
    "my_list = [5,4,1,2,3,0,3,4,-1]\n",
    "quicksort_median(my_list, 0, len(my_list) - 1)\n",
    "print(my_list)"
   ]
  },
  {
   "cell_type": "markdown",
   "id": "63ec0a34",
   "metadata": {},
   "source": [
    "## 1.2. Quick sort normal"
   ]
  },
  {
   "cell_type": "code",
   "execution_count": 7,
   "id": "9e07ad34",
   "metadata": {
    "scrolled": true
   },
   "outputs": [
    {
     "name": "stdout",
     "output_type": "stream",
     "text": [
      "[-1, 0, 1, 2, 3, 3, 4, 4, 5]\n"
     ]
    }
   ],
   "source": [
    "def quicksort(my_list, start, end):\n",
    "    if start >= end:\n",
    "        return\n",
    "    \n",
    "    i, j = start, end - 1\n",
    "    pivot = my_list[end]\n",
    "    pivot_index = end\n",
    "    \n",
    "    while True:\n",
    "        while my_list[i] < pivot:\n",
    "            i += 1\n",
    "        while my_list[j] > pivot:\n",
    "            j -= 1\n",
    "        \n",
    "        # If i and j cross each other, then break loop\n",
    "        if i >= j:\n",
    "            break\n",
    "            \n",
    "        # Swap i, j\n",
    "        my_list[i], my_list[j] = my_list[j], my_list[i]\n",
    "        i += 1\n",
    "        j -= 1\n",
    "        \n",
    "        \n",
    "    # Swap pivot and i\n",
    "    my_list[pivot_index], my_list[i] = my_list[i], my_list[pivot_index]\n",
    "        \n",
    "    quicksort(my_list, start, i - 1)\n",
    "    quicksort(my_list, i + 1, end)\n",
    "    \n",
    "my_list = [5,4,1,2,3,0,3,4,-1]\n",
    "quicksort(my_list, 0, len(my_list) - 1)\n",
    "print(my_list)"
   ]
  },
  {
   "cell_type": "markdown",
   "id": "67d1e8fa",
   "metadata": {},
   "source": [
    "## 1.3. Quick sort random"
   ]
  },
  {
   "cell_type": "code",
   "execution_count": 1,
   "id": "ea31d90c",
   "metadata": {
    "scrolled": true
   },
   "outputs": [
    {
     "name": "stdout",
     "output_type": "stream",
     "text": [
      "[-1, 0, 1, 2, 3, 3, 4, 4, 5]\n"
     ]
    }
   ],
   "source": [
    "from random import randint\n",
    "\n",
    "# Write your solution here\n",
    "def quick_sort_random(input_list):\n",
    "    # Copy input to another list\n",
    "    my_list = input_list.copy()\n",
    "\n",
    "    def quick_sort(my_list, start, end):\n",
    "        \n",
    "        if start >= end:\n",
    "            return\n",
    "\n",
    "        length = len(my_list)\n",
    "\n",
    "        # Choose pivot by random index\n",
    "        pivot_index = randint(start, end)\n",
    "        pivot = my_list[pivot_index]\n",
    "\n",
    "        # Swap random_index with end\n",
    "        my_list[pivot_index], my_list[end] = my_list[end], my_list[pivot_index]\n",
    "        pivot = my_list[end]\n",
    "        pivot_index = end\n",
    "        i, j = start, end - 1\n",
    "        \n",
    "        while True:\n",
    "            while my_list[i] < pivot:\n",
    "                i += 1\n",
    "            while my_list[j] > pivot:\n",
    "                j -= 1\n",
    "\n",
    "            if i>=j:\n",
    "                break\n",
    "\n",
    "            # Swap i and j\n",
    "            my_list[i], my_list[j] = my_list[j], my_list[i]\n",
    "            i += 1\n",
    "            j -= 1\n",
    "\n",
    "        # Swap pivot index and i\n",
    "        my_list[pivot_index], my_list[i] = my_list[i], my_list[pivot_index]\n",
    "\n",
    "        quick_sort(my_list, start, i - 1)\n",
    "        quick_sort(my_list, i + 1, end)\n",
    "    \n",
    "    quick_sort(my_list, 0, len(input_list) - 1)\n",
    "\n",
    "    return my_list\n",
    "    \n",
    "my_list = [5,4,1,2,3,0,3,4,-1]\n",
    "print(quick_sort_random(my_list))\n",
    "    "
   ]
  },
  {
   "cell_type": "markdown",
   "id": "08d913f3",
   "metadata": {},
   "source": [
    "## 2. Bubble sort"
   ]
  },
  {
   "cell_type": "code",
   "execution_count": 9,
   "id": "099ccc9f",
   "metadata": {},
   "outputs": [
    {
     "name": "stdout",
     "output_type": "stream",
     "text": [
      "[-1, 0, 1, 2, 3, 3, 4, 4, 5]\n"
     ]
    }
   ],
   "source": [
    "def bubble_sort(my_list):\n",
    "    for i in range(len(my_list) - 1, -1, -1):\n",
    "        for j in range(i):\n",
    "            if my_list[j] > my_list[j+1]:\n",
    "                my_list[j], my_list[j+1] = my_list[j+1], my_list[j]\n",
    "                \n",
    "    return my_list\n",
    "                \n",
    "my_list = [5,4,1,2,3,0,3,4,-1]\n",
    "print(bubble_sort(my_list))"
   ]
  },
  {
   "cell_type": "markdown",
   "id": "5f54f21a",
   "metadata": {},
   "source": [
    "## 3. Selection sort"
   ]
  },
  {
   "cell_type": "code",
   "execution_count": 12,
   "id": "b7af9313",
   "metadata": {},
   "outputs": [
    {
     "name": "stdout",
     "output_type": "stream",
     "text": [
      "[-1, 0, 1, 2, 3, 3, 4, 4, 5]\n"
     ]
    }
   ],
   "source": [
    "def selection_sort(my_list):\n",
    "    for i in range(len(my_list), -1, -1):\n",
    "        \n",
    "        max_index = 0\n",
    "        for j in range(i):\n",
    "            if my_list[j] > my_list[max_index]:\n",
    "                max_index = j\n",
    "      \n",
    "        my_list[j], my_list[max_index] = my_list[max_index], my_list[j]\n",
    "        \n",
    "    return my_list\n",
    "                \n",
    "my_list = [5,4,1,2,3,0,3,4,-1]\n",
    "print(selection_sort(my_list))"
   ]
  },
  {
   "cell_type": "markdown",
   "id": "1f54995c",
   "metadata": {},
   "source": [
    "## 4. Insertion sort"
   ]
  },
  {
   "cell_type": "code",
   "execution_count": 15,
   "id": "85d6bb62",
   "metadata": {},
   "outputs": [
    {
     "name": "stdout",
     "output_type": "stream",
     "text": [
      "[-1, 0, 1, 2, 3, 3, 4, 4, 5]\n"
     ]
    }
   ],
   "source": [
    "def insertion_sort(my_list):\n",
    "    for index, value in enumerate(my_list):\n",
    "        for i in range(index - 1, -1, -1):\n",
    "            if my_list[i] > value:\n",
    "                my_list[i+1] = my_list[i]\n",
    "                my_list[i] = value\n",
    "        \n",
    "    return my_list\n",
    "                \n",
    "my_list = [5,4,1,2,3,0,3,4,-1]\n",
    "print(insertion_sort(my_list))"
   ]
  },
  {
   "cell_type": "markdown",
   "id": "e803ac20",
   "metadata": {},
   "source": [
    "# Search"
   ]
  },
  {
   "cell_type": "markdown",
   "id": "9b7cc8d3",
   "metadata": {},
   "source": [
    "## 1. Interpolation search recursively"
   ]
  },
  {
   "cell_type": "code",
   "execution_count": 50,
   "id": "12a06570",
   "metadata": {
    "scrolled": true
   },
   "outputs": [
    {
     "name": "stdout",
     "output_type": "stream",
     "text": [
      "True\n"
     ]
    }
   ],
   "source": [
    "def interpolation_search_recursively(names, match):\n",
    "    def search(names, match, low, high):\n",
    "        if low > high or names[low] > match or names[high] < match:\n",
    "            return False\n",
    "        \n",
    "        position = low + (match - names[low])*(high - low) // (names[high] - names[low])\n",
    "\n",
    "        if names[position] == match:\n",
    "            return True\n",
    "        elif match < names[position]:\n",
    "            return search(names, match, low, position - 1)\n",
    "        else:\n",
    "            return search(names, match, position + 1, high)\n",
    "        \n",
    "    return search(names, match, 0, len(names) - 1)\n",
    "        \n",
    "print(interpolation_search_recursively ([1,5,6,8,10,30,35,80,100], 100))"
   ]
  },
  {
   "cell_type": "markdown",
   "id": "848fd87c",
   "metadata": {},
   "source": [
    "## 2. Interpolation search iteractive"
   ]
  },
  {
   "cell_type": "code",
   "execution_count": 48,
   "id": "0e8c4d6e",
   "metadata": {},
   "outputs": [
    {
     "name": "stdout",
     "output_type": "stream",
     "text": [
      "low= 0 high= 8 2\n",
      "low= 3 high= 8 4\n",
      "low= 5 high= 8 5\n",
      "low= 6 high= 8 6\n",
      "(True, 6)\n"
     ]
    }
   ],
   "source": [
    "def interpolation_search(slist, match):     \n",
    "    low = 0     \n",
    "    high = (len(slist) - 1)   \n",
    "    \n",
    "    while((slist[high] != slist[low]) and (match >= slist[low]) and (match <= slist[high])):\n",
    "        \n",
    "        # Interpolate a search index         \n",
    "        mid = low + int((match - slist[low]) * (high - low) / (slist[high] - slist[low]))\n",
    "        print(\"low=\",low, \"high=\",high, mid)\n",
    "        # Compare the value at the interpolated index with search value \n",
    "        if slist[mid] < match:\n",
    "            low = mid + 1\n",
    "        elif match < slist[mid]:\n",
    "            high = mid - 1\n",
    "        else:\n",
    "            return True, mid    \n",
    "        \n",
    "    if match == slist[low]:\n",
    "        return True, low\n",
    "    else: \n",
    "        return False, -1\n",
    "    \n",
    "\n",
    "print(interpolation_search ([1,5,6,8,10,30,35,80,100], 35))"
   ]
  },
  {
   "cell_type": "markdown",
   "id": "38d18ab1",
   "metadata": {},
   "source": [
    "## 3. Binary Search Iteractive"
   ]
  },
  {
   "cell_type": "code",
   "execution_count": 43,
   "id": "e09c7284",
   "metadata": {
    "scrolled": true
   },
   "outputs": [
    {
     "name": "stdout",
     "output_type": "stream",
     "text": [
      "True\n",
      "False\n"
     ]
    }
   ],
   "source": [
    "def binary_search_iteractive(names, match):\n",
    "    high = len(names) - 1\n",
    "    low = 0\n",
    "    \n",
    "    mid = high - (high - low) // 2\n",
    "    \n",
    "    while low <= high:\n",
    "        \n",
    "        if names[mid] == match:\n",
    "            return True\n",
    "        elif match < names[mid]:\n",
    "            high = mid - 1\n",
    "        else:\n",
    "            low = mid + 1\n",
    "            \n",
    "        mid = high - (high - low) // 2\n",
    "        \n",
    "    return False\n",
    "\n",
    "print(binary_search_iteractive ([\"Aashray\", \"Bhavana\", \"Hanyue\", \"Inzah\"], \"Bhavana\"))\n",
    "print(binary_search_iteractive ([\"Pranav\", \"Rui\", \"Victor\", \"Xiufeng\"], \"Menasha\"))"
   ]
  },
  {
   "cell_type": "markdown",
   "id": "4623401e",
   "metadata": {},
   "source": [
    "## 4. Binary Search Recursive"
   ]
  },
  {
   "cell_type": "code",
   "execution_count": 20,
   "id": "10967afe",
   "metadata": {},
   "outputs": [
    {
     "name": "stdout",
     "output_type": "stream",
     "text": [
      "True\n",
      "False\n"
     ]
    }
   ],
   "source": [
    "def binary_search (names, match):\n",
    "\n",
    "    # Write your solution here\n",
    "    def search(names, low, high, match):\n",
    "        if low > high:\n",
    "            return False\n",
    "        \n",
    "        mid = high - (high - low) // 2\n",
    "        \n",
    "        if names[mid] == match:\n",
    "            return True\n",
    "        elif match < names[mid]:\n",
    "            return search(names, low, mid - 1, match)\n",
    "        else:\n",
    "            return search(names, mid + 1, high, match)\n",
    "        \n",
    "    return search(names, 0, len(names) - 1, match)\n",
    "        \n",
    "print(binary_search ([\"Aashray\", \"Bhavana\", \"Hanyue\", \"Inzah\"], \"Bhavana\"))\n",
    "print(binary_search ([\"Pranav\", \"Rui\", \"Victor\", \"Xiufeng\"], \"Menasha\"))"
   ]
  },
  {
   "cell_type": "markdown",
   "id": "cc0ae899",
   "metadata": {},
   "source": [
    "## 3. Jump search"
   ]
  },
  {
   "cell_type": "code",
   "execution_count": 40,
   "id": "ad72feb1",
   "metadata": {
    "scrolled": true
   },
   "outputs": [
    {
     "name": "stdout",
     "output_type": "stream",
     "text": [
      "False\n"
     ]
    }
   ],
   "source": [
    "import math\n",
    "def jump_search(my_list, match):\n",
    "    \n",
    "    length = len(my_list)\n",
    "    \n",
    "    jump = int(math.sqrt(length))\n",
    "    \n",
    "    block_found = False\n",
    "    \n",
    "    start = 0\n",
    "    while start < length:\n",
    "        \n",
    "        end = start + jump\n",
    "        if (end >= length):\n",
    "            end = length - 1\n",
    "        \n",
    "        if my_list[start] <= match and match <= my_list[end]:\n",
    "            block_found = True\n",
    "            break\n",
    "        elif my_list[start] > match:\n",
    "            break\n",
    "            \n",
    "        start = end + 1\n",
    "    \n",
    "    if block_found:\n",
    "        for index in range(start, end + 1):\n",
    "            if my_list[index] == match:\n",
    "                return index\n",
    "    \n",
    "    return False\n",
    "    \n",
    "my_list = [-1, 0, 1, 2, 3, 3, 4, 4, 6, 6, 8, 9, 10, 11, 13]\n",
    "print(jump_search(my_list, 14))"
   ]
  },
  {
   "cell_type": "markdown",
   "id": "b26529ac",
   "metadata": {},
   "source": [
    "## 4. Fibonacci search"
   ]
  },
  {
   "cell_type": "code",
   "execution_count": 73,
   "id": "73c1e167",
   "metadata": {},
   "outputs": [
    {
     "name": "stdout",
     "output_type": "stream",
     "text": [
      "9\n"
     ]
    }
   ],
   "source": [
    "def fibonacci_search(lst, target):\n",
    "    size = len(lst)\n",
    "     \n",
    "    start = -1\n",
    "     \n",
    "    f0 = 0\n",
    "    f1 = 1\n",
    "    f2 = 1\n",
    "    while(f2 < size):\n",
    "        f0 = f1\n",
    "        f1 = f2\n",
    "        f2 = f1 + f0\n",
    "     \n",
    "     \n",
    "    while(f2 > 1):\n",
    "        index = min(start + f0, size - 1)\n",
    "        if lst[index] < target:\n",
    "            f2 = f1\n",
    "            f1 = f0\n",
    "            f0 = f2 - f1\n",
    "            start = index\n",
    "        elif lst[index] > target:\n",
    "            f2 = f0\n",
    "            f1 = f1 - f0\n",
    "            f0 = f2 - f1\n",
    "        else:\n",
    "            return index\n",
    "        \n",
    "    if f1 and (lst[size - 1] == target):\n",
    "        return size - 1\n",
    "    \n",
    "    return None\n",
    "\n",
    "my_list = [-1, 0, 1, 2, 4, 6, 8, 9, 10, 10, 11, 13]\n",
    "print(fibonacci_search(my_list, 10))"
   ]
  }
 ],
 "metadata": {
  "kernelspec": {
   "display_name": "Python 3 (ipykernel)",
   "language": "python",
   "name": "python3"
  },
  "language_info": {
   "codemirror_mode": {
    "name": "ipython",
    "version": 3
   },
   "file_extension": ".py",
   "mimetype": "text/x-python",
   "name": "python",
   "nbconvert_exporter": "python",
   "pygments_lexer": "ipython3",
   "version": "3.9.7"
  }
 },
 "nbformat": 4,
 "nbformat_minor": 5
}
