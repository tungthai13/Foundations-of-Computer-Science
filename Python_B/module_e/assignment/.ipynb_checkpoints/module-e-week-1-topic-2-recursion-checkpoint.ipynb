{
 "cells": [
  {
   "cell_type": "code",
   "execution_count": null,
   "metadata": {},
   "outputs": [],
   "source": [
    "# These imports are for marking only. Please don't rely on them in writing your solution.\n",
    "import otter\n",
    "grader = otter.Notebook()\n",
    "import math"
   ]
  },
  {
   "cell_type": "markdown",
   "metadata": {
    "tags": []
   },
   "source": [
    "# <mark style=\"background: #2dc26b; color: #ffffff;\" >&nbsp;E&nbsp;</mark>&ensp;Week 1: Recursion\n",
    "\n",
    "------\n",
    "\n",
    "### Instructions:\n",
    "\n",
    "- Complete 50 points worth of questions to pass the assessment\n",
    "  - You can attempt any number of questions and in any order provided you pass at least 50 points.\n",
    "- Each submitted answer **must** use recursion to produce the desired output. This will be checked during grading and solutions that rely only on iteration, or those that do not use recursion to solve the problem at hand, will receive zero marks for that question.\n",
    "- Each submitted answer **must** use the function definition defined by the questions below. This allows us to test the solution and also to test that the solution uses recursion. You may write and invoke other recursive helper functions to complete your answer so long as the submission includes the stipulated function to call your code and that that code, when executed, invokes recursive funtions to answer the question.\n",
    "- These questions should be attempted directly in this notebook.\n",
    "- Be sure to check your work before submitting.\n",
    "  - Do not remove any provided markings from the answer spaces.\n",
    "  - Do not make any changes to this notebook outside of the answer spaces provided.\n",
    "  \n",
    "#### Submitting\n",
    "\n",
    "- Reset your outputs before submitting\n",
    "  - Select the `Kernel` menu, then either `Restart & Run Clear Output` or `Restart & Run All`\n",
    "  - Don't forget to save your notebook after this step\n",
    "- Submit your .ipynb file to Gradescope using Git & GitHub\n",
    "- You can submit as many times as needed\n",
    "- When reviewing results, ignore any results listed under \"Public Tests\"  \n",
    "  (There are no \"Public Tests\" in this assignment)\n",
    "\n",
    "For more information, see the assessment page."
   ]
  },
  {
   "cell_type": "markdown",
   "metadata": {},
   "source": [
    "#### Question 01 &nbsp;&nbsp;&nbsp;&nbsp;&nbsp;&nbsp;(4 Points)\n",
    "\n",
    "Create a python function defined as:  \n",
    "```python\n",
    "    def sum_list (numbers):\n",
    "```    \n",
    "that uses recursion to calculate the sum of a list of numbers. \n"
   ]
  },
  {
   "cell_type": "code",
   "execution_count": 132,
   "metadata": {
    "tags": []
   },
   "outputs": [
    {
     "name": "stdout",
     "output_type": "stream",
     "text": [
      "10\n"
     ]
    }
   ],
   "source": [
    "def sum_list (numbers):\n",
    "    # Write your solution here\n",
    "    if len(numbers) == 0:\n",
    "        return 0\n",
    "    \n",
    "    if len(numbers) > 1:\n",
    "        return numbers.pop() + sum_list(numbers)\n",
    "    else:\n",
    "        return numbers.pop()\n",
    "    \n",
    "print(sum_list([1,2,3,4]))"
   ]
  },
  {
   "cell_type": "markdown",
   "metadata": {},
   "source": [
    "#### Question 02 &nbsp;&nbsp;&nbsp;&nbsp;&nbsp;&nbsp;(4 Points)\n",
    "\n",
    "Create a python function defined as:\n",
    "```python\n",
    "    def append_to_list(n):\n",
    "```    \n",
    "that uses recursion to return an ordered list of numbers from n to 0.\n"
   ]
  },
  {
   "cell_type": "code",
   "execution_count": 65,
   "metadata": {
    "tags": []
   },
   "outputs": [
    {
     "name": "stdout",
     "output_type": "stream",
     "text": [
      "[5, 4, 3, 2, 1, 0]\n"
     ]
    }
   ],
   "source": [
    "def append_to_list(n):\n",
    "    # Write your solution here\n",
    "    my_list = [n]\n",
    "    \n",
    "    if n == 0:\n",
    "        return my_list\n",
    "    \n",
    "    return my_list + append_to_list(n-1)\n",
    "\n",
    "print(append_to_list(5))\n"
   ]
  },
  {
   "cell_type": "markdown",
   "metadata": {
    "tags": []
   },
   "source": [
    "#### Question 03 &nbsp;&nbsp;&nbsp;&nbsp;&nbsp;&nbsp;(4 Points)\n",
    "\n",
    "Create a python function defined as:  \n",
    "```python\n",
    "    def rev_append_to_list(n):\n",
    "```  \n",
    "that uses recursion to return an ordered list of numbers from 0 to n. You should be able to trivially modify your approach to Question 2. \n"
   ]
  },
  {
   "cell_type": "code",
   "execution_count": 69,
   "metadata": {
    "tags": []
   },
   "outputs": [
    {
     "name": "stdout",
     "output_type": "stream",
     "text": [
      "[0, 1, 2, 3, 4, 5]\n"
     ]
    }
   ],
   "source": [
    "def rev_append_to_list(n):\n",
    "    # Write your solution here\n",
    "    my_list = [n]\n",
    "\n",
    "    if n == 0:\n",
    "        return my_list\n",
    "    \n",
    "    return rev_append_to_list(n - 1) + my_list\n",
    "\n",
    "print(rev_append_to_list(5))    "
   ]
  },
  {
   "cell_type": "markdown",
   "metadata": {},
   "source": [
    "#### Question 04 &nbsp;&nbsp;&nbsp;&nbsp;&nbsp;&nbsp;(4 Points)\n",
    "Create a python function defined as:  \n",
    "```python\n",
    "    def ladder_word_dict(word):\n",
    "```\n",
    "that uses recursion to return a dictionary with keys `1 to len(word)` and values set as a slice of the input word from `1 to len(word)`.\n",
    "\n",
    "For example:  \n",
    "```python\n",
    "    word = \"Recursion\"  \n",
    "    output = {  \n",
    "        1: \"R\",  \n",
    "        2: \"Re\",  \n",
    "        3: \"Rec\",  \n",
    "        4: \"Recu\",  \n",
    "        ...  \n",
    "        9: \"Recursion\"  \n",
    "    }  \n",
    "```"
   ]
  },
  {
   "cell_type": "code",
   "execution_count": 130,
   "metadata": {
    "tags": []
   },
   "outputs": [
    {
     "name": "stdout",
     "output_type": "stream",
     "text": [
      "{6: 'crayon', 5: 'crayo', 4: 'cray', 3: 'cra', 2: 'cr', 1: 'c'}\n",
      "{9: 'Recursion', 8: 'Recursio', 7: 'Recursi', 6: 'Recurs', 5: 'Recur', 4: 'Recu', 3: 'Rec', 2: 'Re', 1: 'R'}\n"
     ]
    }
   ],
   "source": [
    "def ladder_word_dict(word):\n",
    "    # Write your solution here\n",
    "    result = dict()\n",
    "    \n",
    "    test(word, result)\n",
    "    \n",
    "    return result\n",
    "    \n",
    "def test(word, dict):\n",
    "    dict[len(word)] = word\n",
    "\n",
    "    if (len(word) == 1):\n",
    "        return\n",
    "    \n",
    "    test(word[:len(word)-1], dict)\n",
    "\n",
    "print(ladder_word_dict(\"Recursion\"))"
   ]
  },
  {
   "cell_type": "markdown",
   "metadata": {},
   "source": [
    "#### Question 05 &nbsp;&nbsp;&nbsp;&nbsp;&nbsp;&nbsp;(4 Points)\n",
    "\n",
    "Write a function defined as:\n",
    "```python\n",
    "    def reverse_string(string):\n",
    "```\n",
    "that uses recursion to return a reversed copy of the string. "
   ]
  },
  {
   "cell_type": "code",
   "execution_count": 90,
   "metadata": {
    "tags": []
   },
   "outputs": [
    {
     "name": "stdout",
     "output_type": "stream",
     "text": [
      "DCBA\n"
     ]
    }
   ],
   "source": [
    "def reverse_string(string):\n",
    "    # Write your solution here\n",
    "    if (string == \"\"):\n",
    "        return string\n",
    "\n",
    "    return string[len(string) - 1] + reverse_string(string[:len(string) - 1])\n",
    "    \n",
    "print(reverse_string(\"ABCD\"))\n",
    "    \n",
    "    "
   ]
  },
  {
   "cell_type": "markdown",
   "metadata": {},
   "source": [
    "#### Question 06 &nbsp;&nbsp;&nbsp;&nbsp;&nbsp;&nbsp;(5 Points)\n",
    "\n",
    "Write a function defined as:\n",
    "```python\n",
    "    def raise_to_power (base, exp):\n",
    "```        \n",
    "that takes a base and an exponent as arguments and recursively computes base<sup>exp</sup>. Recall that base<sup>0</sup> == 1.\n"
   ]
  },
  {
   "cell_type": "code",
   "execution_count": 92,
   "metadata": {
    "tags": []
   },
   "outputs": [
    {
     "name": "stdout",
     "output_type": "stream",
     "text": [
      "8\n"
     ]
    }
   ],
   "source": [
    "def raise_to_power (base, exp):\n",
    "    # Write your solution here\n",
    "    \n",
    "    if (exp == 0):\n",
    "        return 1\n",
    "    \n",
    "    return base * raise_to_power(base, exp - 1)\n",
    "\n",
    "print(raise_to_power(2,3))\n"
   ]
  },
  {
   "cell_type": "markdown",
   "metadata": {},
   "source": [
    "#### Question 07 &nbsp;&nbsp;&nbsp;&nbsp;&nbsp;&nbsp;(5 Points)\n",
    "\n",
    "Write a function defined as:\n",
    "```python\n",
    "    def factorial(n):\n",
    "```\n",
    "\n",
    "that recursively computes and returns the factorial of a non-negative integer. Recall that 0! = 1.<br/>\n",
    "<details>\n",
    "  <summary><span style=\"color:blue\">Click to see hint</span></summary>\n",
    "  <br/>\n",
    "  Python includes the function <code>math.factorial(n)</code> that returns n!. Please <em>don't</em> use that - implement your own recursive algorithm.   \n",
    "</details>\n",
    "<br/>"
   ]
  },
  {
   "cell_type": "code",
   "execution_count": 94,
   "metadata": {
    "tags": []
   },
   "outputs": [
    {
     "name": "stdout",
     "output_type": "stream",
     "text": [
      "120\n"
     ]
    }
   ],
   "source": [
    "def factorial(n):\n",
    "    # Write your solution here\n",
    "    \n",
    "    if (n == 0):\n",
    "        return 1\n",
    "    \n",
    "    return n * factorial(n-1)\n",
    "\n",
    "print(factorial(5))\n"
   ]
  },
  {
   "cell_type": "markdown",
   "metadata": {},
   "source": [
    "#### Question 08 &nbsp;&nbsp;&nbsp;&nbsp;&nbsp;&nbsp;(5 Points)\n",
    "\n",
    "Given a non-negative integer such as `3422`, write a function defined as:\n",
    "```python\n",
    "    def sum_digits(n):\n",
    "```   \n",
    "that uses recursion to return the integer sum of each of the digits of the input number.\n",
    "\n",
    "For example:\n",
    "```\n",
    "    sum_digits(3422) == 11\n",
    "    sum_digits(345) == 12\n",
    "    sum_digits(45) == 9\n",
    "```"
   ]
  },
  {
   "cell_type": "code",
   "execution_count": 102,
   "metadata": {
    "tags": []
   },
   "outputs": [
    {
     "name": "stdout",
     "output_type": "stream",
     "text": [
      "11\n"
     ]
    }
   ],
   "source": [
    "def sum_digits(n):\n",
    "    # Write your solution here\n",
    "    \n",
    "    if n == 0:\n",
    "        return 0\n",
    "    \n",
    "    return n%10 + sum_digits(n//10)\n",
    "\n",
    "print(sum_digits(3422))\n"
   ]
  },
  {
   "cell_type": "markdown",
   "metadata": {},
   "source": [
    "#### Question 09 &nbsp;&nbsp;&nbsp;&nbsp;&nbsp;&nbsp;(10 Points)\n",
    "\n",
    "Write a function defined as:\n",
    "```python\n",
    "    def harmonic(n):\n",
    "```\n",
    "that recursively calculates the harmonic sum of `n - 1`. \n",
    "\n",
    "The \"harmonic sum\" is the sum of the reciprocals of the positive integers like: \n",
    "  \n",
    "$$1 + \\frac{1}{2} + \\frac{1}{3} + \\frac{1}{4} + \\frac{1}{5} + \\ldots$$\n",
    "\n",
    "for example:\n",
    "\n",
    "    harmonic (1) == 1\n",
    "    harmonic (2) == 1.5\n",
    "    harmonic (6) == 2.45\n"
   ]
  },
  {
   "cell_type": "code",
   "execution_count": 103,
   "metadata": {
    "tags": []
   },
   "outputs": [
    {
     "name": "stdout",
     "output_type": "stream",
     "text": [
      "2.4499999999999997\n"
     ]
    }
   ],
   "source": [
    "def harmonic(n):\n",
    "    # Write your solution here\n",
    "    \n",
    "    if n == 1:\n",
    "        return n\n",
    "    \n",
    "    return 1/n + harmonic(n-1)\n",
    "\n",
    "print(harmonic(6))\n"
   ]
  },
  {
   "cell_type": "markdown",
   "metadata": {},
   "source": [
    "#### Question 10 &nbsp;&nbsp;&nbsp;&nbsp;&nbsp;&nbsp;(10 Points)\n",
    "\n",
    "Write a function defined as:\n",
    "```python\n",
    "    def gcd(i1, i2):\n",
    "```\n",
    "that recursively computes and returns the greatest common divisor of two integers.<br/>\n",
    "<details>\n",
    "  <summary><span style=\"color:blue\">Click to see hint</span></summary>\n",
    "  <br/>\n",
    "  Python includes the function <code>math.gcd(x, y)</code> that finds the greatest common divisor. Please <em>don't</em> use that - implement your own recursive algorithm.   \n",
    "</details>\n",
    "<br/>"
   ]
  },
  {
   "cell_type": "code",
   "execution_count": 105,
   "metadata": {
    "tags": []
   },
   "outputs": [
    {
     "name": "stdout",
     "output_type": "stream",
     "text": [
      "13\n"
     ]
    }
   ],
   "source": [
    "def gcd(i1, i2):\n",
    "    # Write your solution here\n",
    "    if i1 < i2:\n",
    "        i1, i2 = i2, i1\n",
    "    \n",
    "    if i1 == i2 or i1 % i2 == 0:\n",
    "        return i2\n",
    "    \n",
    "    return gcd (i2, i1%i2)\n",
    "\n",
    "print(gcd(91, 39))\n"
   ]
  },
  {
   "cell_type": "markdown",
   "metadata": {},
   "source": [
    "#### Question 11 &nbsp;&nbsp;&nbsp;&nbsp;&nbsp;&nbsp;(15 Points)\n",
    "\n",
    "Write a recursive function defined as: \n",
    "```python\n",
    "def nth_fibonacci (n):\n",
    "```\n",
    "that takes in one argument n and computes F<sub>n</sub>, the n'th value of the Fibonacci sequence. \n",
    "\n",
    "Recall that the Fibonacci sequence is defined by the relation:  \n",
    "&ensp;F<sub>n</sub> = F<sub>n−1</sub> + F<sub>n−2</sub> where F<sub>0</sub> = 0 and F<sub>1</sub> = 1. \n",
    "\n",
    "Thus, in the sequence:`0, 1, 1, 2, 3, 5, 8, 13, 21, 34, 55, 89, 144, 233`, the 9th value of the sequence is 21.\n"
   ]
  },
  {
   "cell_type": "code",
   "execution_count": 131,
   "metadata": {
    "tags": []
   },
   "outputs": [
    {
     "name": "stdout",
     "output_type": "stream",
     "text": [
      "34\n"
     ]
    }
   ],
   "source": [
    "def nth_fibonacci (n):\n",
    "    # Write your solution here\n",
    "    if n == 2 or n == 1:\n",
    "        return n - 1\n",
    "    \n",
    "    if n == 0:\n",
    "        return 0\n",
    "    \n",
    "    return nth_fibonacci(n-1) + nth_fibonacci(n-2)\n",
    "\n",
    "print(nth_fibonacci(10))\n"
   ]
  },
  {
   "cell_type": "markdown",
   "metadata": {},
   "source": [
    "#### Question 12 &nbsp;&nbsp;&nbsp;&nbsp;&nbsp;&nbsp;(15 Points)\n",
    "\n",
    "You have semi-sorted data that consists of a dictionary of student scores in a recent prac. In the dictionary, the key is always a student number in the form `a0000000` and the value is either:\n",
    "<ul><li>an integer representing the student's score from 0..100, or</li>\n",
    "    <li>a nested dictionary with further key:value pairs</li></ul>\n",
    "\n",
    "For example:\n",
    "```python\n",
    "{'a1000000': {'a1000002': 76, 'a1000351': 50, 'a1003202': 59},\n",
    " 'a2000000': {'a2002202': 56,\n",
    "              'a2002535': 57,\n",
    "              'a2005452': 79,\n",
    "              'a2200000': {'a2200354': 65,\n",
    "                           'a220s029': 80,\n",
    "                           'a2212332': 12,\n",
    "                           'a2240000': {'a2249834': 87}}}}\n",
    "```\n",
    "***\n",
    "<details>\n",
    "  <summary><span style=\"color:blue\">Click to see hint</span></summary>\n",
    "  This example dictionary was \"pretty printed\" with Python's <code>pprint</code> module. When reading complex data structures, <code>pprint.pprint()</code> can often do a good job of rendering a variable meaningfully.   \n",
    "</details>\n",
    "<br/>\n",
    "We wish to extract a \"flat\" list of tuples from this nested data structure where each tuple contains (student_id, score) for all elements of the source dictionary. Values of the dictionary which are themselves a dictionary are not added to the list. The list should be sorted by the first element of each tuple (the student number).</br>\n",
    "\n",
    "For example:</br>\n",
    "```python\n",
    "[('a1000002', 76),\n",
    " ('a1000351', 50),\n",
    " ('a1003202', 59),\n",
    " ('a2002202', 56),\n",
    " ('a2002535', 57),\n",
    " ('a2005452', 79),\n",
    " ('a2200354', 65),\n",
    " ('a220s029', 80),\n",
    " ('a2212332', 12),\n",
    " ('a2249834', 87)]\n",
    "```\n",
    "\n",
    "Write a function defined as: \n",
    "```python\n",
    "def flatten_nested_scores (student_id_score_dict):\n",
    "```\n",
    "that recursively traverses the nested dictionary and returns a list of tuples, sorted by student ID, each containing id and score.\n",
    "<br/>\n",
    "<details>\n",
    "  <summary><span style=\"color:blue\">Click to see hint</span></summary>\n",
    "  <ul><li>You can use the builtin function <code>sorted(my_list)</code> to order a list of tuples alphabetically using the first value of the tuple - in this case the student ID.</li>\n",
    "  <li>Two lists can be joined together - concatenated - with the <code>extend()</code> function like <code>my_list.extend(appended_list)</code></li></ul>     \n",
    "</details>\n",
    "<br/>"
   ]
  },
  {
   "cell_type": "code",
   "execution_count": 113,
   "metadata": {
    "tags": []
   },
   "outputs": [
    {
     "name": "stdout",
     "output_type": "stream",
     "text": [
      "{'a1000002': 76, 'a1000351': 50, 'a1003202': 59, 'a2002202': 56, 'a2002535': 57, 'a2005452': 79, 'a2200354': 65, 'a220s029': 80, 'a2212332': 12, 'a2249834': 87}\n"
     ]
    }
   ],
   "source": [
    "def flatten_nested_scores (student_id_score_dict):\n",
    "    # Write your solution here\n",
    "    def expand(key, value):\n",
    "        if isinstance(value, dict):\n",
    "            return [ (k, v) for k, v in flatten_nested_scores(value).items() ]\n",
    "        else:\n",
    "            return [ (key, value) ]\n",
    "\n",
    "    items = [ item for k, v in student_id_score_dict.items() for item in expand(k, v) ]\n",
    "\n",
    "    return dict(items)\n",
    "        \n",
    "\n",
    "student_id_score_dict = {'a1000000': {'a1000002': 76, 'a1000351': 50, 'a1003202': 59},\n",
    " 'a2000000': {'a2002202': 56,\n",
    "              'a2002535': 57,\n",
    "              'a2005452': 79,\n",
    "              'a2200000': {'a2200354': 65,\n",
    "                           'a220s029': 80,\n",
    "                           'a2212332': 12,\n",
    "                           'a2240000': {'a2249834': 87}}}}\n",
    "\n",
    "print(flatten_nested_scores(student_id_score_dict))\n"
   ]
  },
  {
   "cell_type": "markdown",
   "metadata": {},
   "source": [
    "#### Question 13 &nbsp;&nbsp;&nbsp;&nbsp;&nbsp;&nbsp;(15 Points)\n",
    "\n",
    "A palindrome is a word or phrase that reads the same backward as it does forward. Examples include the following:\n",
    "<ul><li>Glenelg</li>\n",
    "    <li>A nut for a jar of tuna</li>\n",
    "    <li>Taco cat</li>\n",
    "    <li>Murder for a jar of red rum</li></ul>\n",
    "\n",
    "You are to write a function that uses recursion to detect whether an input phrase is a palindrome (excluding whitespace and ignoring the case of each letter). You might consider a base case where an empty string or a single character is inherently \"palindromic\". \n",
    "\n",
    "Write a function defined as:\n",
    "```python\n",
    "def is_palindrome(phrase):\n",
    "```\n",
    "that returns True when the phrase is a palindrome (ignoring whitespace and case).\n",
    "<br/>\n",
    "<details>\n",
    "  <summary><span style=\"color:blue\">Click to see hint</span></summary>\n",
    "    <ul><li>You can use the builtin function <code>phrase.lower()</code> to find the lowercase version of a string.</li>\n",
    "  <li>You can use <code>phrase.replace(\" \", \"\")</code> to strip all spaces out of a string.</li>\n",
    "      <li>Finally, you can chain these two function calls together like <code>phrase.lower().replace(\" \", \"\")</code> to find the lower case version of a string excluding spaces.</li></ul>     \n",
    "</details>\n",
    "<br/>"
   ]
  },
  {
   "cell_type": "code",
   "execution_count": 128,
   "metadata": {
    "tags": []
   },
   "outputs": [
    {
     "name": "stdout",
     "output_type": "stream",
     "text": [
      "True\n"
     ]
    }
   ],
   "source": [
    "def is_palindrome(phrase):\n",
    "    # Write your solution here\n",
    "    phrase = phrase.lower().replace(\" \", \"\")\n",
    "    \n",
    "    if len(phrase) == 1 or len(phrase) == 0:\n",
    "        return True\n",
    "    \n",
    "    if phrase[0] == phrase[len(phrase) - 1]:\n",
    "        return is_palindrome(phrase[1:len(phrase) - 1])\n",
    "    else:\n",
    "        return False\n",
    "    \n",
    "    \n",
    "print(is_palindrome(\"Glenelg\"))\n"
   ]
  }
 ],
 "metadata": {
  "kernelspec": {
   "display_name": "Python 3 (ipykernel)",
   "language": "python",
   "name": "python3"
  },
  "language_info": {
   "codemirror_mode": {
    "name": "ipython",
    "version": 3
   },
   "file_extension": ".py",
   "mimetype": "text/x-python",
   "name": "python",
   "nbconvert_exporter": "python",
   "pygments_lexer": "ipython3",
   "version": "3.9.7"
  },
  "otter": {
   "tests": {
    "Question 01": {
     "name": "Question 01",
     "points": 4,
     "suites": [
      {
       "cases": [],
       "scored": true,
       "setup": "",
       "teardown": "",
       "type": "doctest"
      }
     ]
    },
    "Question 02": {
     "name": "Question 02",
     "points": 4,
     "suites": [
      {
       "cases": [],
       "scored": true,
       "setup": "",
       "teardown": "",
       "type": "doctest"
      }
     ]
    },
    "Question 03": {
     "name": "Question 03",
     "points": 4,
     "suites": [
      {
       "cases": [],
       "scored": true,
       "setup": "",
       "teardown": "",
       "type": "doctest"
      }
     ]
    },
    "Question 04": {
     "name": "Question 04",
     "points": 4,
     "suites": [
      {
       "cases": [],
       "scored": true,
       "setup": "",
       "teardown": "",
       "type": "doctest"
      }
     ]
    },
    "Question 05": {
     "name": "Question 05",
     "points": 4,
     "suites": [
      {
       "cases": [],
       "scored": true,
       "setup": "",
       "teardown": "",
       "type": "doctest"
      }
     ]
    },
    "Question 06": {
     "name": "Question 06",
     "points": 5,
     "suites": [
      {
       "cases": [],
       "scored": true,
       "setup": "",
       "teardown": "",
       "type": "doctest"
      }
     ]
    },
    "Question 07": {
     "name": "Question 07",
     "points": 5,
     "suites": [
      {
       "cases": [],
       "scored": true,
       "setup": "",
       "teardown": "",
       "type": "doctest"
      }
     ]
    },
    "Question 08": {
     "name": "Question 08",
     "points": 5,
     "suites": [
      {
       "cases": [],
       "scored": true,
       "setup": "",
       "teardown": "",
       "type": "doctest"
      }
     ]
    },
    "Question 09": {
     "name": "Question 09",
     "points": 10,
     "suites": [
      {
       "cases": [],
       "scored": true,
       "setup": "",
       "teardown": "",
       "type": "doctest"
      }
     ]
    },
    "Question 10": {
     "name": "Question 10",
     "points": 10,
     "suites": [
      {
       "cases": [],
       "scored": true,
       "setup": "",
       "teardown": "",
       "type": "doctest"
      }
     ]
    },
    "Question 11": {
     "name": "Question 11",
     "points": 15,
     "suites": [
      {
       "cases": [],
       "scored": true,
       "setup": "",
       "teardown": "",
       "type": "doctest"
      }
     ]
    },
    "Question 12": {
     "name": "Question 12",
     "points": 15,
     "suites": [
      {
       "cases": [],
       "scored": true,
       "setup": "",
       "teardown": "",
       "type": "doctest"
      }
     ]
    },
    "Question 13": {
     "name": "Question 13",
     "points": 15,
     "suites": [
      {
       "cases": [],
       "scored": true,
       "setup": "",
       "teardown": "",
       "type": "doctest"
      }
     ]
    },
    "q1": {
     "name": "q1",
     "points": 1,
     "suites": [
      {
       "cases": [],
       "scored": true,
       "setup": "",
       "teardown": "",
       "type": "doctest"
      }
     ]
    },
    "q10": {
     "name": "q10",
     "points": 4,
     "suites": [
      {
       "cases": [],
       "scored": true,
       "setup": "",
       "teardown": "",
       "type": "doctest"
      }
     ]
    },
    "q11": {
     "name": "q11",
     "points": 6,
     "suites": [
      {
       "cases": [],
       "scored": true,
       "setup": "",
       "teardown": "",
       "type": "doctest"
      }
     ]
    },
    "q12": {
     "name": "q12",
     "points": 6,
     "suites": [
      {
       "cases": [],
       "scored": true,
       "setup": "",
       "teardown": "",
       "type": "doctest"
      }
     ]
    },
    "q13": {
     "name": "q13",
     "points": 6,
     "suites": [
      {
       "cases": [],
       "scored": true,
       "setup": "",
       "teardown": "",
       "type": "doctest"
      }
     ]
    },
    "q14": {
     "name": "q14",
     "points": 6,
     "suites": [
      {
       "cases": [],
       "scored": true,
       "setup": "",
       "teardown": "",
       "type": "doctest"
      }
     ]
    },
    "q15": {
     "name": "q15",
     "points": 6,
     "suites": [
      {
       "cases": [],
       "scored": true,
       "setup": "",
       "teardown": "",
       "type": "doctest"
      }
     ]
    },
    "q16": {
     "name": "q16",
     "points": 6,
     "suites": [
      {
       "cases": [],
       "scored": true,
       "setup": "",
       "teardown": "",
       "type": "doctest"
      }
     ]
    },
    "q17": {
     "name": "q17",
     "points": 8,
     "suites": [
      {
       "cases": [],
       "scored": true,
       "setup": "",
       "teardown": "",
       "type": "doctest"
      }
     ]
    },
    "q18": {
     "name": "q18",
     "points": 8,
     "suites": [
      {
       "cases": [],
       "scored": true,
       "setup": "",
       "teardown": "",
       "type": "doctest"
      }
     ]
    },
    "q19": {
     "name": "q19",
     "points": 12,
     "suites": [
      {
       "cases": [],
       "scored": true,
       "setup": "",
       "teardown": "",
       "type": "doctest"
      }
     ]
    },
    "q2": {
     "name": "q2",
     "points": 1,
     "suites": [
      {
       "cases": [],
       "scored": true,
       "setup": "",
       "teardown": "",
       "type": "doctest"
      }
     ]
    },
    "q20": {
     "name": "q20",
     "points": 12,
     "suites": [
      {
       "cases": [],
       "scored": true,
       "setup": "",
       "teardown": "",
       "type": "doctest"
      }
     ]
    },
    "q3": {
     "name": "q3",
     "points": 1,
     "suites": [
      {
       "cases": [],
       "scored": true,
       "setup": "",
       "teardown": "",
       "type": "doctest"
      }
     ]
    },
    "q4": {
     "name": "q4",
     "points": 1,
     "suites": [
      {
       "cases": [],
       "scored": true,
       "setup": "",
       "teardown": "",
       "type": "doctest"
      }
     ]
    },
    "q5": {
     "name": "q5",
     "points": 2,
     "suites": [
      {
       "cases": [],
       "scored": true,
       "setup": "",
       "teardown": "",
       "type": "doctest"
      }
     ]
    },
    "q6": {
     "name": "q6",
     "points": 2,
     "suites": [
      {
       "cases": [],
       "scored": true,
       "setup": "",
       "teardown": "",
       "type": "doctest"
      }
     ]
    },
    "q7": {
     "name": "q7",
     "points": 4,
     "suites": [
      {
       "cases": [],
       "scored": true,
       "setup": "",
       "teardown": "",
       "type": "doctest"
      }
     ]
    },
    "q8": {
     "name": "q8",
     "points": 4,
     "suites": [
      {
       "cases": [],
       "scored": true,
       "setup": "",
       "teardown": "",
       "type": "doctest"
      }
     ]
    },
    "q9": {
     "name": "q9",
     "points": 4,
     "suites": [
      {
       "cases": [],
       "scored": true,
       "setup": "",
       "teardown": "",
       "type": "doctest"
      }
     ]
    }
   }
  },
  "varInspector": {
   "cols": {
    "lenName": 16,
    "lenType": 16,
    "lenVar": 40
   },
   "kernels_config": {
    "python": {
     "delete_cmd_postfix": "",
     "delete_cmd_prefix": "del ",
     "library": "var_list.py",
     "varRefreshCmd": "print(var_dic_list())"
    },
    "r": {
     "delete_cmd_postfix": ") ",
     "delete_cmd_prefix": "rm(",
     "library": "var_list.r",
     "varRefreshCmd": "cat(var_dic_list()) "
    }
   },
   "types_to_exclude": [
    "module",
    "function",
    "builtin_function_or_method",
    "instance",
    "_Feature"
   ],
   "window_display": false
  }
 },
 "nbformat": 4,
 "nbformat_minor": 4
}
