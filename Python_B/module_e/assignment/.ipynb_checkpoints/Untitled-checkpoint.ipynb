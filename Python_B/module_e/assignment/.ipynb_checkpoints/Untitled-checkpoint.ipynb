{
 "cells": [
  {
   "cell_type": "code",
   "execution_count": 2,
   "id": "1d541e09",
   "metadata": {},
   "outputs": [],
   "source": [
    "with open(\"random-10k.txt\") as file:\n",
    "    my_list = []\n",
    "    for row in file:\n",
    "        my_list.append(int(row))"
   ]
  },
  {
   "cell_type": "code",
   "execution_count": 51,
   "id": "b8447f13",
   "metadata": {
    "scrolled": true
   },
   "outputs": [],
   "source": [
    "def sort1(uo_list):\n",
    "    def quick_sort(uo_list, start, end):\n",
    "        # 1 element\n",
    "        if start >= end:\n",
    "            return\n",
    "        \n",
    "        # 2 element\n",
    "        if start == end - 1:\n",
    "            if uo_list[start] > uo_list[end]:\n",
    "                uo_list[start], uo_list[end] = uo_list[end], uo_list[start]\n",
    "            return\n",
    "        \n",
    "        # Median pivot\n",
    "        first_element = uo_list[start]\n",
    "        last_element = uo_list[end]\n",
    "        middle = int(end - (end - start)/2)\n",
    "\n",
    "        middle_element = uo_list[middle]\n",
    "        list_three_elements = [first_element, middle_element, last_element]\n",
    "        list_three_elements.sort()\n",
    "        \n",
    "        # Reorder 3 elements\n",
    "        uo_list[start] = list_three_elements[0]\n",
    "        uo_list[middle] = list_three_elements[1]\n",
    "        uo_list[end] = list_three_elements[2]\n",
    "        \n",
    "        # Swap middle element to pivot element\n",
    "        pivot_index = end - 1\n",
    "        pivot = uo_list[middle]\n",
    "        \n",
    "        uo_list[middle], uo_list[pivot_index] = uo_list[pivot_index], uo_list[middle]\n",
    "        \n",
    "        # Exclude start and end\n",
    "        i, j = start + 1, pivot_index\n",
    "\n",
    "        while True:\n",
    "            while uo_list[i] < pivot:\n",
    "                i += 1\n",
    "            while uo_list[j] >= pivot:\n",
    "                j -= 1\n",
    "            print(i, j)    \n",
    "            # Break\n",
    "            if i >= j:\n",
    "                break\n",
    "                \n",
    "            # Swap i and j\n",
    "            uo_list[i], uo_list[j] = uo_list[j], uo_list[i]\n",
    "        \n",
    "        # Swap i and pivot\n",
    "        uo_list[i], uo_list[pivot_index] = uo_list[pivot_index], uo_list[i]\n",
    "        \n",
    "        # Sort left and right partition of pivot\n",
    "        quick_sort(uo_list, start, i - 1)\n",
    "        quick_sort(uo_list, i + 1, end)\n",
    "        \n",
    "    quick_sort(uo_list, 0, len(uo_list) - 1)"
   ]
  },
  {
   "cell_type": "code",
   "execution_count": 5,
   "id": "a4900c6f",
   "metadata": {
    "scrolled": true
   },
   "outputs": [
    {
     "name": "stdout",
     "output_type": "stream",
     "text": [
      "8\n"
     ]
    }
   ],
   "source": [
    "import bisect\n",
    "\n",
    "order_list = [1,2,3,4,5,6,7,8,9,10]\n",
    "print(bisect.bisect_left(order_list, 9))"
   ]
  },
  {
   "cell_type": "code",
   "execution_count": 50,
   "id": "9418bcdb",
   "metadata": {},
   "outputs": [
    {
     "name": "stdout",
     "output_type": "stream",
     "text": [
      "Geek -1\n",
      "Result 8682\n",
      "Search in binary mode:        0.00032920800003921613 s\n",
      "Result 8682\n",
      "Search in interpolation mode: 9.691600007499801e-05 s\n",
      "Result 8682\n",
      "Search in jump search mode:   0.000353540999640245 s\n"
     ]
    }
   ],
   "source": [
    "from timeit import default_timer\n",
    "import math\n",
    "\n",
    "def search(slist, match, mode='binary'):\n",
    "    def interpolation_search(slist, low, high, match):\n",
    "        if low > high or slist[low] > match or slist[high] < match:\n",
    "            return False\n",
    "        \n",
    "        if mode == 'binary':\n",
    "            position = high - (high - low) // 2\n",
    "        else:\n",
    "            position = low + ((high - low) * (match - slist[low])) // (slist[high] - slist[low])\n",
    "\n",
    "        if slist[position] == match:\n",
    "            return position\n",
    "        elif slist[position] > match:\n",
    "            return interpolation_search(slist, low, position - 1, match)\n",
    "        else:\n",
    "            return interpolation_search(slist, position + 1, high, match)\n",
    "        \n",
    "    return interpolation_search(slist, 0, len(slist) - 1, match)\n",
    "\n",
    "def jump_search(slist, match):\n",
    "    low = 0\n",
    "    jump = int(math.sqrt(len(slist)))\n",
    "    length = len(slist)\n",
    "    \n",
    "    while low < len(slist):\n",
    "        \n",
    "        high = low + jump\n",
    "        if high >= length:\n",
    "            high = len(slist) - 1\n",
    "        \n",
    "        if slist[low] <= match and match <= slist[high]:\n",
    "            break\n",
    "        \n",
    "        low = high + 1\n",
    "        \n",
    "    if low >= len(slist):\n",
    "        return False\n",
    "    \n",
    "    for index in range (low, high + 1):\n",
    "        if slist[index] == match:\n",
    "            return index\n",
    "        \n",
    "my_list.sort()\n",
    "\n",
    "print(\"Geek\", interpolationSearch(order_list, 0, len(order_list) - 1, 7528))\n",
    "\n",
    "start = default_timer()\n",
    "print(\"Result\", search(my_list, 7528, 'binary'))\n",
    "print(f'Search in binary mode:        {default_timer() - start} s')\n",
    "start = default_timer()\n",
    "print(\"Result\", search(my_list, 7528, ''))\n",
    "print(f'Search in interpolation mode: {default_timer() - start} s')\n",
    "start = default_timer()\n",
    "print(\"Result\", jump_search(my_list, 7528))\n",
    "print(f'Search in jump search mode:   {default_timer() - start} s')"
   ]
  },
  {
   "cell_type": "code",
   "execution_count": 68,
   "id": "c75690ba",
   "metadata": {},
   "outputs": [
    {
     "name": "stdout",
     "output_type": "stream",
     "text": [
      "[-1, 0, 1, 2, 3, 4, 4, 5, 5, 5, 7, 8, 9, 10]\n"
     ]
    }
   ],
   "source": [
    "def sort(my_list, sort_type = 'quick_sort_last'):\n",
    "    def quick_sort_last(my_list, low, high):\n",
    "        if low >= high:\n",
    "            return\n",
    "        \n",
    "        i, j = low, high\n",
    "        pivot = my_list[high]\n",
    "        \n",
    "        while i <= j:\n",
    "            while my_list[i] < pivot:\n",
    "                i += 1\n",
    "            while my_list[j] > pivot:\n",
    "                j -= 1\n",
    "                \n",
    "            if i <= j:\n",
    "                # Swap i, j\n",
    "                my_list[i], my_list[j] = my_list[j], my_list[i]\n",
    "                i, j = i + 1, j - 1\n",
    "        quick_sort_last(my_list, low, j)\n",
    "        quick_sort_last(my_list, i, high)\n",
    "        \n",
    "    def quick_sort_first(my_list, low, high):\n",
    "        if low >= high:\n",
    "            return\n",
    "        \n",
    "        i, j = low, high\n",
    "        pivot = my_list[low]\n",
    "        \n",
    "        while(True):\n",
    "            while my_list[i] < pivot:\n",
    "                i += 1\n",
    "            while my_list[j] > pivot:\n",
    "                j -= 1\n",
    "                \n",
    "            if i >= j:\n",
    "                break\n",
    "            \n",
    "            my_list[i], my_list[j] = my_list[j], my_list[i]\n",
    "            \n",
    "        quick_sort_first(my_list, low, j - 1)\n",
    "        quick_sort_last(my_list, i + 1, high)\n",
    "        \n",
    "    if sort_type == 'quick_sort_last':\n",
    "        quick_sort_last(my_list, 0, len(my_list) - 1)\n",
    "    elif sort_type == 'quick_sort_first':\n",
    "        quick_sort_first(my_list, 0, len(my_list) - 1)\n",
    "        \n",
    "my_random_list = [3,5,8,0,1,2,5,4,5,10,9,7,4,-1]        \n",
    "sort(my_random_list)\n",
    "print(my_random_list)"
   ]
  }
 ],
 "metadata": {
  "kernelspec": {
   "display_name": "Python 3 (ipykernel)",
   "language": "python",
   "name": "python3"
  },
  "language_info": {
   "codemirror_mode": {
    "name": "ipython",
    "version": 3
   },
   "file_extension": ".py",
   "mimetype": "text/x-python",
   "name": "python",
   "nbconvert_exporter": "python",
   "pygments_lexer": "ipython3",
   "version": "3.9.7"
  }
 },
 "nbformat": 4,
 "nbformat_minor": 5
}
