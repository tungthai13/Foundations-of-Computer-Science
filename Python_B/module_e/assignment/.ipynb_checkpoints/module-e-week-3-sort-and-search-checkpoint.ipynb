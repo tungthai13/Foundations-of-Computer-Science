{
 "cells": [
  {
   "cell_type": "code",
   "execution_count": null,
   "metadata": {},
   "outputs": [],
   "source": [
    "# These imports are for marking only. Please don't rely on them in writing your solution.\n",
    "import otter\n",
    "grader = otter.Notebook()"
   ]
  },
  {
   "cell_type": "markdown",
   "metadata": {
    "tags": []
   },
   "source": [
    "# <mark style=\"background: #2dc26b; color: #ffffff;\" >&nbsp;E&nbsp;</mark>&ensp;Weeks 2 & 3: Sorting and Searching\n",
    "\n",
    "------\n",
    "\n",
    "### Instructions:\n",
    "\n",
    "- Complete 50 points worth of questions to pass the assessment\n",
    "- You can attempt any number of questions and in any order provided you pass at least 50 points.\n",
    "- Each submitted answer **must not** use in-built functions to sort or search. Solutions that do not comply will receive zero marks for that question.\n",
    "- Each submitted answer **must** use the function definition defined by the questions below. You may write and invoke other helper functions to complete your answer so long as the submission includes the stipulated function to call your code.\n",
    "- These questions should be attempted directly in this notebook.\n",
    "- Be sure to check your work before submitting.\n",
    "- Do not remove any provided markings from the answer spaces.\n",
    "- Do not make any changes to this notebook outside of the answer spaces provided.\n",
    "- In testing your own code, remember to check 'edge cases' such as:\n",
    "  - zero length input to be sorted or searched,\n",
    "  - searches the have no match,\n",
    "  - out of bounds indexes to a list, and\n",
    "  - searches that match the first or last element of a list.\n",
    "- These are habits of \"defensive programming\" that make your code more robust.\n",
    "\n",
    "#### Submitting\n",
    "\n",
    "- Reset your outputs before submitting\n",
    "  - Select the `Kernel` menu, then either `Restart & Run Clear Output` or `Restart & Run All`\n",
    "  - Don't forget to save your notebook after this step\n",
    "- Submit your .ipynb file to Gradescope using Git & GitHub\n",
    "- You can submit as many times as needed\n",
    "- When reviewing results, ignore any results listed under \"Public Tests\"  \n",
    "  (There are no \"Public Tests\" in this assignment)\n",
    "\n",
    "For more information, see the assessment page."
   ]
  },
  {
   "cell_type": "markdown",
   "metadata": {},
   "source": [
    "#### Question 01 &nbsp;&nbsp;&nbsp;&nbsp;&nbsp;&nbsp;(5 Points)\n",
    "\n",
    "Write a function defined as:\n",
    "```python\n",
    "def reverse_linear (un_list, match):\n",
    "```\n",
    "that performs a linear search on the list from the last element to the first returning the index of the first matching element or False if not found.\n",
    "\n",
    "For example:\n",
    "```python\n",
    "reverse_linear ([7, 7]) == 1\n",
    "```"
   ]
  },
  {
   "cell_type": "code",
   "execution_count": 3,
   "metadata": {
    "tags": []
   },
   "outputs": [
    {
     "data": {
      "text/plain": [
       "3"
      ]
     },
     "execution_count": 3,
     "metadata": {},
     "output_type": "execute_result"
    }
   ],
   "source": [
    "def reverse_linear (un_list, match):\n",
    "    # Write your solution here\n",
    "    for index in range(len(un_list)-1, 0, -1):\n",
    "        if un_list[index] == match:\n",
    "            return index\n",
    "        \n",
    "    return False\n",
    "\n",
    "reverse_linear([0,6,2,6,4,5,10,7,8,9], 6)"
   ]
  },
  {
   "cell_type": "markdown",
   "metadata": {},
   "source": [
    "#### Question 02 &nbsp;&nbsp;&nbsp;&nbsp;&nbsp;&nbsp;(5 Points)\n",
    "\n",
    "Write a function defined as:\n",
    "```python\n",
    "def selection_sort_n (un_list, n):\n",
    "```\n",
    "that uses **selection sort** to sort a list in-place ascending from un_list[0] and performs **exactly** ‘n’ swaps. i.e.: the function terminates (returns) when ‘n’ swaps have been performed.\n",
    "\n",
    "For example:\n",
    "```python\n",
    "selection_sort_n ([27, 12, 23, 1, 19, 14], 1) == [14, 12, 23, 1, 19, 27]\n",
    "```"
   ]
  },
  {
   "cell_type": "code",
   "execution_count": 14,
   "metadata": {
    "tags": []
   },
   "outputs": [
    {
     "name": "stdout",
     "output_type": "stream",
     "text": [
      "[14, 12, 23, 1, 19, 27]\n"
     ]
    }
   ],
   "source": [
    "def selection_sort_n (un_list, n):\n",
    "    # Write your solution here\n",
    "    count_swap = 0\n",
    "    \n",
    "    length = len(un_list)\n",
    "    \n",
    "    for i in range(length - 1, 0, -1):\n",
    "        \n",
    "        # Check number of swap\n",
    "        if (count_swap == n):\n",
    "            return un_list\n",
    "        \n",
    "        max_number = un_list[i]\n",
    "        max_index = i\n",
    "        \n",
    "        for j in range(0, i):\n",
    "            # Find max of the pass\n",
    "            if (un_list[j] > max_number):\n",
    "                max_number = un_list[j]\n",
    "                max_index = j\n",
    "\n",
    "        # Swap max number into i position\n",
    "        un_list[i], un_list[max_index] = un_list[max_index], un_list[i]\n",
    "        count_swap += 1\n",
    "\n",
    "    return un_list\n",
    "print(selection_sort_n ([27, 12, 23, 1, 19, 14], 1))        \n",
    "                "
   ]
  },
  {
   "cell_type": "markdown",
   "metadata": {
    "tags": []
   },
   "source": [
    "#### Question 03 &nbsp;&nbsp;&nbsp;&nbsp;&nbsp;&nbsp;(5 Points)\n",
    "\n",
    "Write a function defined as:\n",
    "```python\n",
    "def bubble_sort_n (un_list, n):\n",
    "```\n",
    "that applies an in-place **bubble sort** for exactly 'n' iterations. i.e.: the function terminates (returns) after the n'th iteration of the sort.\n",
    "\n",
    "For example:\n",
    "```python\n",
    "bubble_sort_n ([27, 13, 23, 1, 12, 14], 2) == [13, 1, 12, 14, 23, 27]\n",
    "```"
   ]
  },
  {
   "cell_type": "code",
   "execution_count": 10,
   "metadata": {
    "tags": []
   },
   "outputs": [
    {
     "name": "stdout",
     "output_type": "stream",
     "text": [
      "[13, 1, 12, 14, 23, 27]\n"
     ]
    }
   ],
   "source": [
    "def bubble_sort_n (un_list, n):\n",
    "    # Write your solution here\n",
    "    \n",
    "    count_iterator = 0\n",
    "    \n",
    "    last_index = len(un_list) - 1\n",
    "    \n",
    "    for i in range(last_index, 0, -1):\n",
    "        \n",
    "        if (count_iterator == n):\n",
    "            return un_list\n",
    "        \n",
    "        for j in range(i):\n",
    "            if un_list[j] > un_list[j+1]:\n",
    "                # Swap\n",
    "                un_list[j], un_list[j+1] = un_list[j+1], un_list[j]\n",
    "                \n",
    "        count_iterator += 1\n",
    "            \n",
    "    return un_list\n",
    "\n",
    "print(bubble_sort_n ([27, 13, 23, 1, 12, 14], 2))"
   ]
  },
  {
   "cell_type": "markdown",
   "metadata": {},
   "source": [
    "#### Question 04 &nbsp;&nbsp;&nbsp;&nbsp;&nbsp;&nbsp;(5 Points)\n",
    "\n",
    "Write a function defined as:\n",
    "```python\n",
    "def weighted_binary_search (or_list, match):\n",
    "```\n",
    "that performs a **iterative binary search** on an ordered list of ints that returns the (index * value) or False if the element is not found.\n",
    "\n",
    "For example:\n",
    "```python\n",
    "weighted_binary_search ([0, 3, 6], 6) == 12 # because (value) = 6 * (index) 2\n",
    "```"
   ]
  },
  {
   "cell_type": "code",
   "execution_count": 21,
   "metadata": {
    "tags": []
   },
   "outputs": [
    {
     "name": "stdout",
     "output_type": "stream",
     "text": [
      "12\n"
     ]
    }
   ],
   "source": [
    "def weighted_binary_search (or_list, match):\n",
    "    # Write your solution here\n",
    "    \n",
    "    def binary_search(or_list, low, high, match):\n",
    "        if high < low:\n",
    "            return False\n",
    "        \n",
    "        mid_index = (low + high) // 2\n",
    "    \n",
    "        if match == or_list[mid_index]:\n",
    "            return match * mid_index\n",
    "    \n",
    "        elif match > or_list[mid_index]:\n",
    "            return binary_search(or_list, mid_index + 1, high, match)\n",
    "    \n",
    "        else:\n",
    "            return binary_search(or_list, low, mid_index - 1, match)\n",
    "        \n",
    "    return binary_search(or_list, 0, len(or_list) - 1, match)\n",
    "\n",
    "print(weighted_binary_search ([0, 3, 6], 6))"
   ]
  },
  {
   "cell_type": "markdown",
   "metadata": {},
   "source": [
    "#### Question 05 &nbsp;&nbsp;&nbsp;&nbsp;&nbsp;&nbsp;(5 Points)\n",
    "\n",
    "Write a function defined as:\n",
    "```python\n",
    "def num_matches_jump_search (or_list, match, jump = 1):\n",
    "```\n",
    "\n",
    "that implements a **jump search** that takes the size of the jump as an input parameter. The search should return the number of items in the ordered list that match the search value (rather than the index) or False if the item was not found.\n",
    "\n",
    "For example:\n",
    "```python\n",
    "num_matches_jump_search ([0, 2, 3, 5, 5, 6, 8, 11, 12, 12, 12], 5, 2) == 2\n",
    "```"
   ]
  },
  {
   "cell_type": "code",
   "execution_count": 27,
   "metadata": {
    "tags": []
   },
   "outputs": [
    {
     "name": "stdout",
     "output_type": "stream",
     "text": [
      "2\n"
     ]
    }
   ],
   "source": [
    "def num_matches_jump_search (or_list, match, jump = 1):\n",
    "    # Write your solution here\n",
    "    \n",
    "    def count_linear_search(or_list, start, end, match):\n",
    "        count = 0\n",
    "        for i in range(start, end + 1):\n",
    "            if (or_list[i] == match):\n",
    "                count += 1\n",
    "                \n",
    "        return count\n",
    "    \n",
    "    start, end = 0, 0\n",
    "    count_match = 0\n",
    "    length = len(or_list)\n",
    "    \n",
    "    while start < length and or_list[start] <= match:\n",
    "        end = start + jump\n",
    "        \n",
    "        if end > length:\n",
    "            end = length - 1\n",
    "        \n",
    "        if (match >= or_list[start] and match <= or_list[end]):\n",
    "            # count number of match\n",
    "            count_match += count_linear_search(or_list, start, end, match)\n",
    "        \n",
    "        start += jump + 1\n",
    "        \n",
    "    if count_match == 0:\n",
    "        return False\n",
    "    \n",
    "    return count_match\n",
    "\n",
    "print(num_matches_jump_search ([0, 2, 3, 5, 5, 6, 8, 11, 12, 12, 12], 5, 2))"
   ]
  },
  {
   "cell_type": "markdown",
   "metadata": {},
   "source": [
    "#### Question 06 &nbsp;&nbsp;&nbsp;&nbsp;&nbsp;&nbsp;(10 Points)\n",
    "\n",
    "Write a function defined as:\n",
    "```python\n",
    "def sort_dict_by_value (un_dict):\n",
    "```\n",
    "that performs a sort of any type that sorts a dict by value in-place while retaining identical keys.\n",
    "\n",
    "For example, given a dictionary:\n",
    "```python\n",
    "d = {\n",
    "    1: 101,\n",
    "    2: 2,\n",
    "    8: -1,\n",
    "}\n",
    "```\n",
    "would be sorted as:\n",
    "```python\n",
    "d = {\n",
    "    1: -1,\n",
    "    2: 2,\n",
    "    8: 101,\n",
    "}\n",
    "```"
   ]
  },
  {
   "cell_type": "code",
   "execution_count": 21,
   "metadata": {
    "tags": []
   },
   "outputs": [
    {
     "name": "stdout",
     "output_type": "stream",
     "text": [
      "[-1, 2, 101]\n",
      "{1: -1, 2: 2, 8: 101}\n"
     ]
    }
   ],
   "source": [
    "def sort_dict_by_value (un_dict):\n",
    "    \n",
    "    def insertion_sort(my_list):\n",
    "        for index, value in enumerate(my_list):\n",
    "            for i in range(index - 1, -1, -1):\n",
    "                if value < my_list[i]:\n",
    "                    my_list[i+1] = my_list[i]\n",
    "                    my_list[i] = value\n",
    "     \n",
    "    my_list = list(un_dict.values())\n",
    "    \n",
    "    insertion_sort(my_list)\n",
    "    print(my_list)\n",
    "    index = 0\n",
    "    for key in un_dict.keys():\n",
    "        un_dict[key] = my_list[index]\n",
    "        index += 1\n",
    "\n",
    "d = {\n",
    "    1: 101,\n",
    "    2: 2,\n",
    "    8: -1,\n",
    "}\n",
    "sort_dict_by_value(d)\n",
    "\n",
    "print(d)"
   ]
  },
  {
   "cell_type": "markdown",
   "metadata": {},
   "source": [
    "#### Question 07 &nbsp;&nbsp;&nbsp;&nbsp;&nbsp;&nbsp;(10 Points)\n",
    "\n",
    "Write a function defined as:\n",
    "```python\n",
    "def median_quicksort_by_string_length (str_list):\n",
    "```   \n",
    "\n",
    "that implements a recursive **quicksort** that sorts a list of capitalised names by length using the median partition scheme. In calculating the pivot index, the first letter of each name is given a weighting according to its index in this list:\n",
    "\n",
    "```python\n",
    "alphabet_list = list(string.ascii_uppercase)\n",
    "```\n",
    "Thus, in a list like:\n",
    "```python\n",
    "[\"Majid\", \"Victoria\", \"Tashreque\", \"Xiefeng\", \"Fu\", \"Biao\", \"Rui\"]\n",
    "```\n",
    "in calculating the pivot, we take the median of 12, 23 & 17 as our first pivot.\n",
    "\n",
    "When sorted in-place, the str_list is:\n",
    "```python\n",
    "['Fu', 'Rui', 'Biao', 'Majid', 'Pranav', 'Xiefeng', 'Victoria', 'Tashreque']\n",
    "```"
   ]
  },
  {
   "cell_type": "code",
   "execution_count": 65,
   "metadata": {
    "tags": []
   },
   "outputs": [
    {
     "name": "stdout",
     "output_type": "stream",
     "text": [
      "['Fu', 'Rui', 'Biao', 'Majid', 'Xiefeng', 'Victoria', 'Tashreque']\n"
     ]
    }
   ],
   "source": [
    "import string\n",
    "alphabet_list = list(string.ascii_uppercase)\n",
    "\n",
    "def median_quicksort_by_string_length (str_list):\n",
    "    # Write your solution here\n",
    "    def quick_sort(uo_list, start, end):\n",
    "        # 1 element\n",
    "        if start >= end:\n",
    "            return\n",
    "        \n",
    "        # 2 element\n",
    "        if start == end - 1:\n",
    "            if len(uo_list[start]) > len(uo_list[end]):\n",
    "                uo_list[start], uo_list[end] = uo_list[end], uo_list[start]\n",
    "            return\n",
    "        \n",
    "        # Median pivot\n",
    "        first_element = uo_list[start]\n",
    "        last_element = uo_list[end]\n",
    "        middle = int(end - (end - start)/2)\n",
    "\n",
    "        middle_element = uo_list[middle]\n",
    "        list_three_elements = [first_element, middle_element, last_element]\n",
    "        list_three_elements.sort(key=len)\n",
    "        \n",
    "        # Reorder 3 elements\n",
    "        uo_list[start] = list_three_elements[0]\n",
    "        uo_list[middle] = list_three_elements[1]\n",
    "        uo_list[end] = list_three_elements[2]\n",
    "        \n",
    "        # Swap middle element to pivot element\n",
    "        pivot_index = end - 1\n",
    "        pivot = uo_list[middle]\n",
    "        \n",
    "        uo_list[middle], uo_list[pivot_index] = uo_list[pivot_index], uo_list[middle]\n",
    "        \n",
    "        # Exclude start and end\n",
    "        i, j = start + 1, pivot_index\n",
    "\n",
    "        while True:\n",
    "            while len(uo_list[i]) < len(pivot):\n",
    "                i += 1\n",
    "            while len(uo_list[j]) >= len(pivot):\n",
    "                j -= 1  \n",
    "            # Break\n",
    "            if i >= j:\n",
    "                break\n",
    "                \n",
    "            # Swap i and j\n",
    "            uo_list[i], uo_list[j] = uo_list[j], uo_list[i]\n",
    "        \n",
    "        # Swap i and pivot\n",
    "        uo_list[i], uo_list[pivot_index] = uo_list[pivot_index], uo_list[i]\n",
    "        \n",
    "        # Sort left and right partition of pivot\n",
    "        quick_sort(uo_list, start, i - 1)\n",
    "        quick_sort(uo_list, i + 1, end)\n",
    "\n",
    "    quick_sort(str_list, 0, len(str_list) - 1)\n",
    "    \n",
    "    return str_list\n",
    "\n",
    "print(median_quicksort_by_string_length([\"Majid\", \"Victoria\", \"Tashreque\", \"Xiefeng\", \"Fu\", \"Biao\", \"Rui\"]))"
   ]
  },
  {
   "cell_type": "markdown",
   "metadata": {},
   "source": [
    "#### Question 08 &nbsp;&nbsp;&nbsp;&nbsp;&nbsp;&nbsp;(10 Points)\n",
    "\n",
    "Write a function defined as:\n",
    "```python\n",
    "def binary_search_tuples_by_second_value (tu_list,  match):\n",
    "```\n",
    "that implements a binary search to find the second element in a list of tuples sorted by the second value in the tuple returning the tuple found at the index of the first match or False when the match is not found.\n",
    "\n",
    "For example:\n",
    "```python\n",
    "# because the tuple (1,2) has '2' in the second position.\n",
    "binary_search_tuples_by_second_value ([(1,2),(1,4),(3,5),(5,7)], 2) == (1, 2)\n",
    "```"
   ]
  },
  {
   "cell_type": "code",
   "execution_count": 23,
   "metadata": {
    "tags": []
   },
   "outputs": [
    {
     "name": "stdout",
     "output_type": "stream",
     "text": [
      "(1, 2)\n"
     ]
    }
   ],
   "source": [
    "def binary_search_tuples_by_second_value (tu_list,  match):\n",
    "    # Write your solution here\n",
    "    \n",
    "    def binary_search(tu_list, start, end, match):\n",
    "        if start > end:\n",
    "            return False\n",
    "        \n",
    "        mid = (start + end) // 2\n",
    "        \n",
    "        if (tu_list[mid][1] == match):\n",
    "            return tu_list[mid]\n",
    "        elif (match > tu_list[mid][1]):\n",
    "            return binary_search(tu_list, mid + 1, end, match)\n",
    "        else: \n",
    "            return binary_search(tu_list, start, mid - 1, match)\n",
    "    \n",
    "    return binary_search(tu_list, 0, len(tu_list) - 1, match)\n",
    "    \n",
    "print(binary_search_tuples_by_second_value ([(1,2),(1,4),(3,5),(5,7)], 2))"
   ]
  },
  {
   "cell_type": "markdown",
   "metadata": {},
   "source": [
    "#### Question 09 &nbsp;&nbsp;&nbsp;&nbsp;&nbsp;&nbsp;(10 Points)\n",
    "\n",
    "Write a function defined as:\n",
    "```python\n",
    "def sinking_sort_list_by_value (un_list):\n",
    "```\n",
    "that performs a **bubble sort** to sort a list by **descending value** (aka: *sinking sort*) and returns a list of (original_location, value) tuples with the 1st item reflecting the original position of the value in the list.\n",
    "\n",
    "For example, a list like:\n",
    "```python\n",
    "[6, 2, 1, 5, 4]\n",
    "```\n",
    "returns:\n",
    "```python\n",
    "[(0, 6), (3, 5), (4, 4), (1, 2), (2, 1)]\n",
    "```\n",
    "which has (i, v) tuples sorted in descending order v, where i is the index in the original list. "
   ]
  },
  {
   "cell_type": "code",
   "execution_count": 28,
   "metadata": {
    "tags": []
   },
   "outputs": [
    {
     "data": {
      "text/plain": [
       "[(0, 6), (3, 5), (4, 4), (1, 2), (2, 1)]"
      ]
     },
     "execution_count": 28,
     "metadata": {},
     "output_type": "execute_result"
    }
   ],
   "source": [
    "def sinking_sort_list_by_value (original_list):\n",
    "    \n",
    "    # Write your solution here\n",
    "    un_list = original_list.copy()\n",
    "    \n",
    "    # Sort descending\n",
    "    for i in range(len(un_list) - 1, 0, -1):\n",
    "        for j in range(i):\n",
    "            if un_list[j] < un_list[j+1]:\n",
    "                un_list[j], un_list[j+1] = un_list[j+1], un_list[j]\n",
    "    \n",
    "    # Find original position\n",
    "    result = []\n",
    "    for item in un_list:\n",
    "        result.append((original_list.index(item), item))\n",
    "        \n",
    "    return result\n",
    "    \n",
    "sinking_sort_list_by_value([6, 2, 1, 5, 4])"
   ]
  },
  {
   "cell_type": "markdown",
   "metadata": {},
   "source": [
    "#### Question 10 &nbsp;&nbsp;&nbsp;&nbsp;&nbsp;&nbsp;(10 Points)\n",
    "\n",
    "Write a function defined as: \n",
    "```python\n",
    "def sort_floats_to_list (source):\n",
    "```\n",
    "that performs a sort of any type on a source list of unsorted floats and returns a destination list that will contain the sorted data. An in place sort may not be used and the source list must remain unchanged.\n",
    "\n",
    "For example:\n",
    "```python\n",
    "in_list = [19.8, 1.1, 16.9, 0.1, -7.6]\n",
    "out_list = sort_floats_to_list (in_list)\n",
    "```\n",
    "returns:\n",
    "```python\n",
    "[-7.6, 0.1, 1.1, 16.9, 19.8]\n",
    "```\n",
    "while the source in_list is unchanged."
   ]
  },
  {
   "cell_type": "code",
   "execution_count": 29,
   "metadata": {
    "tags": []
   },
   "outputs": [
    {
     "data": {
      "text/plain": [
       "[-7.6, 0.1, 1.1, 16.9, 19.8]"
      ]
     },
     "execution_count": 29,
     "metadata": {},
     "output_type": "execute_result"
    }
   ],
   "source": [
    "def sort_floats_to_list (source):\n",
    "    # Write your solution here\n",
    "    \n",
    "    # Copy\n",
    "    destination = source.copy()\n",
    "    \n",
    "    for index, value in enumerate(destination):\n",
    "        for i in range(index - 1, -1, -1):\n",
    "            if value < destination[i]:\n",
    "                destination[i + 1] = destination[i]\n",
    "                destination[i] = value\n",
    "                \n",
    "    return destination\n",
    "\n",
    "in_list = [19.8, 1.1, 16.9, 0.1, -7.6]\n",
    "out_list = sort_floats_to_list (in_list)\n",
    "out_list "
   ]
  },
  {
   "cell_type": "markdown",
   "metadata": {},
   "source": [
    "#### Question 11 &nbsp;&nbsp;&nbsp;&nbsp;&nbsp;&nbsp;(10 Points)\n",
    "\n",
    "Write a function defined as: \n",
    "```python\n",
    "def search_float_with_tolerance (or_list, match, tolerance = 0.5):\n",
    "```\n",
    "that will accepts an ordered list of floats and a tolerance that performs a search of any type for a float and returns the first value that matches plus or minus the tolerance or returns False if no value is found within that tolerance such that:\n",
    "```python\n",
    "(match - tolerance) < match < (match + tolerance)\n",
    "````    "
   ]
  },
  {
   "cell_type": "code",
   "execution_count": 32,
   "metadata": {
    "tags": []
   },
   "outputs": [
    {
     "name": "stdout",
     "output_type": "stream",
     "text": [
      "16.9\n"
     ]
    }
   ],
   "source": [
    "def search_float_with_tolerance (or_list, match, tolerance = 0.5):\n",
    "    # Write your solution here\n",
    "    def check_value_with_tolerance(value, match, tolerance):\n",
    "        low = match - tolerance\n",
    "        high = match + tolerance\n",
    "        \n",
    "        if low < value and value < high:\n",
    "            return \"mid\"\n",
    "        elif value >= low:\n",
    "            return \"left\"\n",
    "        else:\n",
    "            return \"right\"\n",
    "    \n",
    "    # Search\n",
    "    def binary_search(or_list, start, end, match, tolerance):\n",
    "        if start > end:\n",
    "            return False\n",
    "        \n",
    "        mid = (start + end) // 2\n",
    "        \n",
    "        switch = check_value_with_tolerance(or_list[mid], match, tolerance)\n",
    "        \n",
    "        if switch == 'mid':\n",
    "            return or_list[mid]\n",
    "        elif switch == 'left':\n",
    "            return binary_search(or_list, start, mid - 1, match, tolerance)\n",
    "        else:\n",
    "            return binary_search(or_list, mid + 1, end, match, tolerance)\n",
    "        \n",
    "    # Execute\n",
    "    return binary_search(or_list, 0, len(or_list), match, tolerance)\n",
    "        \n",
    "print(search_float_with_tolerance([-7.6, 0.1, 1.1, 16.9, 19.8], 17.2))"
   ]
  },
  {
   "cell_type": "markdown",
   "metadata": {},
   "source": [
    "#### Question 12 &nbsp;&nbsp;&nbsp;&nbsp;&nbsp;&nbsp;(10 Points)\n",
    "\n",
    "Write a function defined as:\n",
    "```python\n",
    "def search_num_matches (or_list, match):\n",
    "```\n",
    "that implements a search of any type on ordered data and returns the number of elements that match a value or False if no match is found.\n"
   ]
  },
  {
   "cell_type": "code",
   "execution_count": 49,
   "metadata": {
    "tags": []
   },
   "outputs": [
    {
     "name": "stdout",
     "output_type": "stream",
     "text": [
      "4\n"
     ]
    }
   ],
   "source": [
    "import math\n",
    "def search_num_matches (or_list, match):\n",
    "    # Write your solution here\n",
    "    \n",
    "    length = len(or_list)\n",
    "    start, end = 0, 0\n",
    "    count_existed_number = 0\n",
    "    jump = int(math.sqrt(length))\n",
    "    \n",
    "    while (start < length and or_list[start] <= match):\n",
    "        # Set value for end index\n",
    "        end = start + jump\n",
    "        if end >= length:\n",
    "            end = length - 1\n",
    "        \n",
    "        if match <= or_list[end]:\n",
    "            for index in range(start, end + 1, 1):\n",
    "                if or_list[index] == match:\n",
    "                    count_existed_number += 1\n",
    "        \n",
    "        start = end + 1\n",
    "    \n",
    "    if count_existed_number == 0:\n",
    "        return False\n",
    "    else:\n",
    "        return count_existed_number\n",
    "\n",
    "print(search_num_matches([1,3,5,7,9,10,12,16,16,16,16], 16))\n",
    "        "
   ]
  }
 ],
 "metadata": {
  "kernelspec": {
   "display_name": "Python 3 (ipykernel)",
   "language": "python",
   "name": "python3"
  },
  "language_info": {
   "codemirror_mode": {
    "name": "ipython",
    "version": 3
   },
   "file_extension": ".py",
   "mimetype": "text/x-python",
   "name": "python",
   "nbconvert_exporter": "python",
   "pygments_lexer": "ipython3",
   "version": "3.9.7"
  },
  "otter": {
   "tests": {
    "Question 01": {
     "name": "Question 01",
     "points": 5,
     "suites": [
      {
       "cases": [],
       "scored": true,
       "setup": "",
       "teardown": "",
       "type": "doctest"
      }
     ]
    },
    "Question 02": {
     "name": "Question 02",
     "points": 5,
     "suites": [
      {
       "cases": [],
       "scored": true,
       "setup": "",
       "teardown": "",
       "type": "doctest"
      }
     ]
    },
    "Question 03": {
     "name": "Question 03",
     "points": 5,
     "suites": [
      {
       "cases": [],
       "scored": true,
       "setup": "",
       "teardown": "",
       "type": "doctest"
      }
     ]
    },
    "Question 04": {
     "name": "Question 04",
     "points": 5,
     "suites": [
      {
       "cases": [],
       "scored": true,
       "setup": "",
       "teardown": "",
       "type": "doctest"
      }
     ]
    },
    "Question 05": {
     "name": "Question 05",
     "points": 10,
     "suites": [
      {
       "cases": [],
       "scored": true,
       "setup": "",
       "teardown": "",
       "type": "doctest"
      }
     ]
    },
    "Question 06": {
     "name": "Question 06",
     "points": 10,
     "suites": [
      {
       "cases": [],
       "scored": true,
       "setup": "",
       "teardown": "",
       "type": "doctest"
      }
     ]
    },
    "Question 07": {
     "name": "Question 07",
     "points": 10,
     "suites": [
      {
       "cases": [],
       "scored": true,
       "setup": "",
       "teardown": "",
       "type": "doctest"
      }
     ]
    },
    "Question 08": {
     "name": "Question 08",
     "points": 10,
     "suites": [
      {
       "cases": [],
       "scored": true,
       "setup": "",
       "teardown": "",
       "type": "doctest"
      }
     ]
    },
    "Question 09": {
     "name": "Question 09",
     "points": 10,
     "suites": [
      {
       "cases": [],
       "scored": true,
       "setup": "",
       "teardown": "",
       "type": "doctest"
      }
     ]
    },
    "Question 10": {
     "name": "Question 10",
     "points": 10,
     "suites": [
      {
       "cases": [],
       "scored": true,
       "setup": "",
       "teardown": "",
       "type": "doctest"
      }
     ]
    },
    "Question 11": {
     "name": "Question 11",
     "points": 10,
     "suites": [
      {
       "cases": [],
       "scored": true,
       "setup": "",
       "teardown": "",
       "type": "doctest"
      }
     ]
    },
    "Question 12": {
     "name": "Question 12",
     "points": 10,
     "suites": [
      {
       "cases": [],
       "scored": true,
       "setup": "",
       "teardown": "",
       "type": "doctest"
      }
     ]
    },
    "q1": {
     "name": "q1",
     "points": 1,
     "suites": [
      {
       "cases": [],
       "scored": true,
       "setup": "",
       "teardown": "",
       "type": "doctest"
      }
     ]
    },
    "q10": {
     "name": "q10",
     "points": 4,
     "suites": [
      {
       "cases": [],
       "scored": true,
       "setup": "",
       "teardown": "",
       "type": "doctest"
      }
     ]
    },
    "q11": {
     "name": "q11",
     "points": 6,
     "suites": [
      {
       "cases": [],
       "scored": true,
       "setup": "",
       "teardown": "",
       "type": "doctest"
      }
     ]
    },
    "q12": {
     "name": "q12",
     "points": 6,
     "suites": [
      {
       "cases": [],
       "scored": true,
       "setup": "",
       "teardown": "",
       "type": "doctest"
      }
     ]
    },
    "q13": {
     "name": "q13",
     "points": 6,
     "suites": [
      {
       "cases": [],
       "scored": true,
       "setup": "",
       "teardown": "",
       "type": "doctest"
      }
     ]
    },
    "q14": {
     "name": "q14",
     "points": 6,
     "suites": [
      {
       "cases": [],
       "scored": true,
       "setup": "",
       "teardown": "",
       "type": "doctest"
      }
     ]
    },
    "q15": {
     "name": "q15",
     "points": 6,
     "suites": [
      {
       "cases": [],
       "scored": true,
       "setup": "",
       "teardown": "",
       "type": "doctest"
      }
     ]
    },
    "q16": {
     "name": "q16",
     "points": 6,
     "suites": [
      {
       "cases": [],
       "scored": true,
       "setup": "",
       "teardown": "",
       "type": "doctest"
      }
     ]
    },
    "q17": {
     "name": "q17",
     "points": 8,
     "suites": [
      {
       "cases": [],
       "scored": true,
       "setup": "",
       "teardown": "",
       "type": "doctest"
      }
     ]
    },
    "q18": {
     "name": "q18",
     "points": 8,
     "suites": [
      {
       "cases": [],
       "scored": true,
       "setup": "",
       "teardown": "",
       "type": "doctest"
      }
     ]
    },
    "q19": {
     "name": "q19",
     "points": 12,
     "suites": [
      {
       "cases": [],
       "scored": true,
       "setup": "",
       "teardown": "",
       "type": "doctest"
      }
     ]
    },
    "q2": {
     "name": "q2",
     "points": 1,
     "suites": [
      {
       "cases": [],
       "scored": true,
       "setup": "",
       "teardown": "",
       "type": "doctest"
      }
     ]
    },
    "q20": {
     "name": "q20",
     "points": 12,
     "suites": [
      {
       "cases": [],
       "scored": true,
       "setup": "",
       "teardown": "",
       "type": "doctest"
      }
     ]
    },
    "q3": {
     "name": "q3",
     "points": 1,
     "suites": [
      {
       "cases": [],
       "scored": true,
       "setup": "",
       "teardown": "",
       "type": "doctest"
      }
     ]
    },
    "q4": {
     "name": "q4",
     "points": 1,
     "suites": [
      {
       "cases": [],
       "scored": true,
       "setup": "",
       "teardown": "",
       "type": "doctest"
      }
     ]
    },
    "q5": {
     "name": "q5",
     "points": 2,
     "suites": [
      {
       "cases": [],
       "scored": true,
       "setup": "",
       "teardown": "",
       "type": "doctest"
      }
     ]
    },
    "q6": {
     "name": "q6",
     "points": 2,
     "suites": [
      {
       "cases": [],
       "scored": true,
       "setup": "",
       "teardown": "",
       "type": "doctest"
      }
     ]
    },
    "q7": {
     "name": "q7",
     "points": 4,
     "suites": [
      {
       "cases": [],
       "scored": true,
       "setup": "",
       "teardown": "",
       "type": "doctest"
      }
     ]
    },
    "q8": {
     "name": "q8",
     "points": 4,
     "suites": [
      {
       "cases": [],
       "scored": true,
       "setup": "",
       "teardown": "",
       "type": "doctest"
      }
     ]
    },
    "q9": {
     "name": "q9",
     "points": 4,
     "suites": [
      {
       "cases": [],
       "scored": true,
       "setup": "",
       "teardown": "",
       "type": "doctest"
      }
     ]
    }
   }
  },
  "varInspector": {
   "cols": {
    "lenName": 16,
    "lenType": 16,
    "lenVar": 40
   },
   "kernels_config": {
    "python": {
     "delete_cmd_postfix": "",
     "delete_cmd_prefix": "del ",
     "library": "var_list.py",
     "varRefreshCmd": "print(var_dic_list())"
    },
    "r": {
     "delete_cmd_postfix": ") ",
     "delete_cmd_prefix": "rm(",
     "library": "var_list.r",
     "varRefreshCmd": "cat(var_dic_list()) "
    }
   },
   "types_to_exclude": [
    "module",
    "function",
    "builtin_function_or_method",
    "instance",
    "_Feature"
   ],
   "window_display": false
  }
 },
 "nbformat": 4,
 "nbformat_minor": 4
}
