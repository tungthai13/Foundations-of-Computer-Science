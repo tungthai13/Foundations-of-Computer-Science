{
 "cells": [
  {
   "cell_type": "code",
   "execution_count": 30,
   "id": "470a343f",
   "metadata": {},
   "outputs": [],
   "source": [
    "from timeit import default_timer\n",
    "import math\n",
    "def quick_sort_last(my_list, low, high):\n",
    "        if low >= high:\n",
    "            return\n",
    "        \n",
    "        i, j = low, high - 1\n",
    "        pivot = my_list[high]\n",
    "        pivot_index = high\n",
    "\n",
    "        while True:\n",
    "            while my_list[i] < pivot:\n",
    "                i += 1\n",
    "            while my_list[j] > pivot:\n",
    "                j -= 1\n",
    "\n",
    "            if i >= j:\n",
    "                break\n",
    "  \n",
    "            # Swap i, j\n",
    "            my_list[i], my_list[j] = my_list[j], my_list[i]\n",
    "            i += 1\n",
    "            j -= 1\n",
    "            \n",
    "        # Swap i and pivot\n",
    "        my_list[i], my_list[pivot_index] = my_list[pivot_index], my_list[i]\n",
    "        print(my_list)\n",
    "        quick_sort_last(my_list, low, i-1)\n",
    "        quick_sort_last(my_list, i+1, high)\n",
    "\n",
    "def quicksort(array, first, last):\n",
    "    '''\n",
    "    Sort the range array[first, last] in-place with vanilla QuickSort\n",
    "\n",
    "    :param array:  the list of numbers to sort\n",
    "    :param first: the first index from array to begin sorting from,\n",
    "                must be in the range [0, len(array))\n",
    "    :param last: the last index from array to stop sorting at\n",
    "                must be in the range [first, len(array))\n",
    "    :return:    nothing, the side effect is that array[first, last] is sorted\n",
    "    '''\n",
    "    if first >= last:\n",
    "        return\n",
    "\n",
    "    i, j = first, last\n",
    "    # Selected with Lomuto partition scheme\n",
    "    pivot = array[last]\n",
    "\n",
    "    while i <= j:\n",
    "        while array[i] < pivot:\n",
    "            i += 1\n",
    "        while array[j] > pivot:\n",
    "            j -= 1\n",
    "\n",
    "        if i <= j:\n",
    "            array[i], array[j] = array[j], array[i]\n",
    "            i, j = i + 1, j - 1\n",
    "    print(array)        \n",
    "    quicksort(array, first, j)\n",
    "    quicksort(array, i, last)"
   ]
  },
  {
   "cell_type": "code",
   "execution_count": 28,
   "id": "0bcf4628",
   "metadata": {},
   "outputs": [
    {
     "name": "stdout",
     "output_type": "stream",
     "text": [
      "[-1, 5, 8, 0, 1, 2, 5, 4, 5, 10, 9, 7, 4, 3]\n",
      "[-1, 2, 1, 0, 3, 5, 5, 4, 5, 10, 9, 7, 4, 8]\n",
      "[-1, 0, 1, 2, 3, 5, 5, 4, 5, 10, 9, 7, 4, 8]\n",
      "[-1, 0, 1, 2, 3, 5, 5, 4, 5, 10, 9, 7, 4, 8]\n",
      "[-1, 0, 1, 2, 3, 5, 5, 4, 5, 4, 7, 8, 10, 9]\n",
      "[-1, 0, 1, 2, 3, 5, 5, 4, 5, 4, 7, 8, 10, 9]\n",
      "[-1, 0, 1, 2, 3, 4, 4, 5, 5, 5, 7, 8, 10, 9]\n",
      "[-1, 0, 1, 2, 3, 4, 4, 5, 5, 5, 7, 8, 10, 9]\n",
      "[-1, 0, 1, 2, 3, 4, 4, 5, 5, 5, 7, 8, 9, 10]\n",
      "[-1, 0, 1, 2, 3, 4, 4, 5, 5, 5, 7, 8, 9, 10]\n",
      "Search in quick sort last:        0.0010815419999516962 s\n"
     ]
    }
   ],
   "source": [
    "#my_random_list = [7,8,10,2,26,4,19,5,3,16,11,6,13,12]\n",
    "# my_random_list = [5,5,5,5,5,5]\n",
    "my_random_list = [3,5,8,0,1,2,5,4,5,10,9,7,4,-1]\n",
    "#my_random_list = [5,5,5]\n",
    "start = default_timer()\n",
    "quick_sort_last(my_random_list, 0, len(my_random_list) - 1)\n",
    "#quicksort(my_random_list, 0, len(my_random_list) - 1)\n",
    "print(my_random_list)\n",
    "print(f'Search in quick sort last:        {default_timer() - start} s')"
   ]
  },
  {
   "cell_type": "code",
   "execution_count": 31,
   "id": "165b4468",
   "metadata": {},
   "outputs": [
    {
     "name": "stdout",
     "output_type": "stream",
     "text": [
      "[-1, 5, 8, 0, 1, 2, 5, 4, 5, 10, 9, 7, 4, 3]\n",
      "[-1, 3, 2, 0, 1, 8, 5, 4, 5, 10, 9, 7, 4, 5]\n",
      "[-1, 1, 0, 2, 3, 8, 5, 4, 5, 10, 9, 7, 4, 5]\n",
      "[-1, 0, 1, 2, 3, 8, 5, 4, 5, 10, 9, 7, 4, 5]\n",
      "[-1, 0, 1, 2, 3, 8, 5, 4, 5, 10, 9, 7, 4, 5]\n",
      "[-1, 0, 1, 2, 3, 5, 4, 4, 5, 10, 9, 7, 5, 8]\n",
      "[-1, 0, 1, 2, 3, 4, 4, 5, 5, 10, 9, 7, 5, 8]\n",
      "[-1, 0, 1, 2, 3, 4, 4, 5, 5, 8, 5, 7, 9, 10]\n",
      "[-1, 0, 1, 2, 3, 4, 4, 5, 5, 7, 5, 8, 9, 10]\n",
      "[-1, 0, 1, 2, 3, 4, 4, 5, 5, 5, 7, 8, 9, 10]\n",
      "[-1, 0, 1, 2, 3, 4, 4, 5, 5, 5, 7, 8, 9, 10]\n",
      "[-1, 0, 1, 2, 3, 4, 4, 5, 5, 5, 7, 8, 9, 10]\n",
      "Search in quick sort last:        0.0005026659999884941 s\n"
     ]
    }
   ],
   "source": [
    "my_random_list = [5,5,5]\n",
    "start = default_timer()\n",
    "#quick_sort_last(my_random_list, 0, len(my_random_list) - 1)\n",
    "my_random_list = [3,5,8,0,1,2,5,4,5,10,9,7,4,-1]\n",
    "quicksort(my_random_list, 0, len(my_random_list) - 1)\n",
    "print(my_random_list)\n",
    "print(f'Search in quick sort last:        {default_timer() - start} s')"
   ]
  }
 ],
 "metadata": {
  "kernelspec": {
   "display_name": "Python 3 (ipykernel)",
   "language": "python",
   "name": "python3"
  },
  "language_info": {
   "codemirror_mode": {
    "name": "ipython",
    "version": 3
   },
   "file_extension": ".py",
   "mimetype": "text/x-python",
   "name": "python",
   "nbconvert_exporter": "python",
   "pygments_lexer": "ipython3",
   "version": "3.9.7"
  }
 },
 "nbformat": 4,
 "nbformat_minor": 5
}
