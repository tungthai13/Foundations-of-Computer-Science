{
 "cells": [
  {
   "cell_type": "code",
   "execution_count": 1,
   "id": "0b600a43",
   "metadata": {},
   "outputs": [],
   "source": [
    "def load_words(path):\n",
    "    with open(path) as text_file:\n",
    "        return text_file.read().splitlines()"
   ]
  },
  {
   "cell_type": "code",
   "execution_count": 68,
   "id": "8795f28c",
   "metadata": {},
   "outputs": [],
   "source": [
    "# List words in words.txt\n",
    "list_words = load_words(\"words.txt\")\n",
    "\n",
    "# List sorted words in words.txt\n",
    "list_sorted_words = list_words.copy()\n",
    "list_sorted_words.sort()"
   ]
  },
  {
   "cell_type": "code",
   "execution_count": 6,
   "id": "76ff7a6e",
   "metadata": {},
   "outputs": [],
   "source": [
    "def binary_search(slist, low, high, match):\n",
    "    '''\n",
    "    Search a list for a matching item.\n",
    "    \n",
    "    :param slist: input data to search.\n",
    "    :param low: the index in slist of the lowest element in this search.\n",
    "    :param high: the index in slist of the highest element in this search.\n",
    "    :param match: the element to match against.\n",
    "    :return True when the item is found and the index position in the list.\n",
    "    '''\n",
    " \n",
    "    # Check base case\n",
    "    if high >= low:\n",
    " \n",
    "        mid = (high + low) // 2\n",
    " \n",
    "        # If element is present at the middle itself\n",
    "        if slist[mid] == match:\n",
    "            return True, mid\n",
    " \n",
    "        # If element is smaller than mid, then it can only\n",
    "        # be present in left subslist\n",
    "        elif slist[mid] > match:\n",
    "            return binary_search(slist, low, mid - 1, match)\n",
    " \n",
    "        # Else the element can only be present in right sublist\n",
    "        else:\n",
    "            return binary_search(slist, mid + 1, high, match)\n",
    " \n",
    "    else:\n",
    "        # Element is not present in the list\n",
    "        return False, -1"
   ]
  },
  {
   "cell_type": "code",
   "execution_count": 84,
   "id": "893c096c",
   "metadata": {},
   "outputs": [],
   "source": [
    "def linear_search(slist, item):\n",
    "    '''\n",
    "    Search the slist for a matching item.\n",
    "    \n",
    "    :param slist: the data to be searched.\n",
    "    :param item: an item to match against\n",
    "    :return True when item is found in slist and the index of the location\n",
    "    '''\n",
    "    \n",
    "    index = 0     \n",
    "    found = False \n",
    "    \n",
    "    # Match the value with each data element     \n",
    "    while not found and index < len(slist):\n",
    "        if slist[index] == item:             \n",
    "            found = True\n",
    "        else:             \n",
    "            index = index + 1     \n",
    "\n",
    "    return found, index"
   ]
  },
  {
   "cell_type": "code",
   "execution_count": 103,
   "id": "4ec20afb",
   "metadata": {},
   "outputs": [
    {
     "name": "stdout",
     "output_type": "stream",
     "text": [
      "(True, 79667)\n",
      "Binary search elapsed time: 0.0007487920001949533 sec\n"
     ]
    }
   ],
   "source": [
    "from timeit import default_timer\n",
    "\n",
    "start_time = default_timer()\n",
    "\n",
    "# Binary search \"Aachen\" in list sorted words\n",
    "print(binary_search(list_sorted_words, 0, len(list_sorted_words), 'aboard'))\n",
    "print(\"Binary search elapsed time: {} sec\".format(default_timer() - start_time))"
   ]
  },
  {
   "cell_type": "code",
   "execution_count": 102,
   "id": "50d01463",
   "metadata": {
    "scrolled": false
   },
   "outputs": [
    {
     "name": "stdout",
     "output_type": "stream",
     "text": [
      "(True, 85)\n",
      "Linear search in sorted list elapsed time: 0.0006756249999853026 sec\n",
      "(True, 538)\n",
      "Linear search in list elapsed time: 0.0008532910001122218 sec\n"
     ]
    }
   ],
   "source": [
    "# Linear search \"Aachen\" in list words\n",
    "start_time = default_timer()\n",
    "print(linear_search(list_words, \"Aachen\"))\n",
    "print(\"Linear search in sorted list elapsed time: {} sec\".format(default_timer() - start_time))\n",
    "\n",
    "# Linear search \"Aachen\" in list sorted words\n",
    "start_time = default_timer()\n",
    "print(linear_search(list_sorted_words, \"Aachen\"))\n",
    "print(\"Linear search in list elapsed time: {} sec\".format(default_timer() - start_time))"
   ]
  }
 ],
 "metadata": {
  "kernelspec": {
   "display_name": "Python 3 (ipykernel)",
   "language": "python",
   "name": "python3"
  },
  "language_info": {
   "codemirror_mode": {
    "name": "ipython",
    "version": 3
   },
   "file_extension": ".py",
   "mimetype": "text/x-python",
   "name": "python",
   "nbconvert_exporter": "python",
   "pygments_lexer": "ipython3",
   "version": "3.9.7"
  }
 },
 "nbformat": 4,
 "nbformat_minor": 5
}
