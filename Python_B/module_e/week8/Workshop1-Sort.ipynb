{
 "cells": [
  {
   "cell_type": "code",
   "execution_count": 21,
   "id": "17e50636",
   "metadata": {
    "scrolled": true
   },
   "outputs": [
    {
     "name": "stdout",
     "output_type": "stream",
     "text": [
      "[1, 2, 3, 5, 4]\n",
      "pass 4 :  0 [1, 2, 3, 5, 4]\n",
      "pass 4 :  1 [1, 2, 3, 5, 4]\n",
      "pass 4 :  2 [1, 2, 3, 5, 4]\n",
      "pass 4 :  3 [1, 2, 3, 4, 5]\n",
      "pass 3 :  0 [1, 2, 3, 4, 5]\n",
      "pass 3 :  1 [1, 2, 3, 4, 5]\n",
      "pass 3 :  2 [1, 2, 3, 4, 5]\n",
      "pass 2 :  0 [1, 2, 3, 4, 5]\n",
      "pass 2 :  1 [1, 2, 3, 4, 5]\n",
      "pass 1 :  0 [1, 2, 3, 4, 5]\n",
      "[1, 2, 3, 4, 5]\n"
     ]
    }
   ],
   "source": [
    "my_list = [1,2,3,5,4]\n",
    "\n",
    "# Bubble sort\n",
    "def bubble_sort(my_list):\n",
    "    length = len(my_list)\n",
    "    for i in range(length - 1, 0, -1):\n",
    "        for j in range(i):\n",
    "            if my_list[j] > my_list[j + 1]:\n",
    "                my_list[j+1], my_list[j] = my_list[j], my_list[j+1]  \n",
    "            print (\"pass\", i,\": \",j, my_list)\n",
    "\n",
    "print(my_list)\n",
    "bubble_sort(my_list)\n",
    "print(my_list)"
   ]
  },
  {
   "cell_type": "code",
   "execution_count": 22,
   "id": "8178d117",
   "metadata": {
    "scrolled": true
   },
   "outputs": [
    {
     "name": "stdout",
     "output_type": "stream",
     "text": [
      "[1, 2, 3, 5, 4]\n",
      "pass 4 :  0 [1, 2, 3, 5, 4]\n",
      "pass 4 :  1 [1, 2, 3, 5, 4]\n",
      "pass 4 :  2 [1, 2, 3, 5, 4]\n",
      "pass 4 :  3 [1, 2, 3, 4, 5]\n",
      "pass 3 :  0 [1, 2, 3, 4, 5]\n",
      "pass 3 :  1 [1, 2, 3, 4, 5]\n",
      "pass 3 :  2 [1, 2, 3, 4, 5]\n",
      "[1, 2, 3, 4, 5]\n"
     ]
    }
   ],
   "source": [
    "def bubble_sort_v2(my_list):\n",
    "    length = len(my_list)\n",
    "    for i in range(length - 1, 0, -1):\n",
    "        \n",
    "        # If the list doesn't change, break the loop\n",
    "        any_change = False\n",
    "        \n",
    "        for j in range(i):\n",
    "            if my_list[j] > my_list[j + 1]:\n",
    "                any_change = True\n",
    "                my_list[j+1], my_list[j] = my_list[j], my_list[j+1]\n",
    "            print (\"pass\", i,\": \",j, my_list)\n",
    "        \n",
    "        # Break the loop\n",
    "        if not any_change:\n",
    "            break\n",
    "        \n",
    "my_list = [1,2,3,5,4]\n",
    "print(my_list)\n",
    "bubble_sort_v2(my_list)\n",
    "print(my_list)"
   ]
  },
  {
   "cell_type": "code",
   "execution_count": 28,
   "id": "06f9fe35",
   "metadata": {
    "scrolled": true
   },
   "outputs": [
    {
     "name": "stdout",
     "output_type": "stream",
     "text": [
      "[1, 2, 3, 4, 5]\n",
      "0 [1, 2, 3, 4, 5]\n",
      "1 [1, 2, 3, 4, 5]\n",
      "2 [1, 2, 3, 4, 5]\n",
      "3 [1, 2, 3, 4, 5]\n",
      "4 [1, 2, 3, 4, 5]\n",
      "[1, 2, 3, 4, 5]\n"
     ]
    }
   ],
   "source": [
    "def insertion_sort(my_list):\n",
    "    length = len(my_list)\n",
    "    \n",
    "    for i in range(length):\n",
    "\n",
    "        # Find index of max number of this pass\n",
    "        max_num_index = 0\n",
    "            \n",
    "        for j in range(length - i):\n",
    "            if my_list[j] > my_list[max_num_index]:\n",
    "                max_num_index = j\n",
    "                \n",
    "        # Swap max_num_index to the end of list\n",
    "        my_list[max_num_index], my_list[length - 1 - i] = my_list[length - 1 - i], my_list[max_num_index]\n",
    "         \n",
    "        print(i, my_list)\n",
    "\n",
    "my_list = [1,2,3,4,5]\n",
    "print(my_list)\n",
    "insertion_sort(my_list)\n",
    "print(my_list)     \n",
    "            "
   ]
  },
  {
   "cell_type": "code",
   "execution_count": null,
   "id": "d701bfd4",
   "metadata": {},
   "outputs": [],
   "source": [
    "class Car:\n",
    "    def __init__(self, no_of_doors, max_speed, fuel_type):\n",
    "        self.no_of_doors = no_of_doors\n",
    "        self.max_speed = max_speed\n",
    "        self.fuel_type = fuel_type\n",
    "    \n",
    "    def __gt__(self, other):\n",
    "        if self.max_speed > other.max_speed:\n",
    "            return True\n",
    "        else:\n",
    "            return False\n",
    "\n",
    "    "
   ]
  }
 ],
 "metadata": {
  "kernelspec": {
   "display_name": "Python 3 (ipykernel)",
   "language": "python",
   "name": "python3"
  },
  "language_info": {
   "codemirror_mode": {
    "name": "ipython",
    "version": 3
   },
   "file_extension": ".py",
   "mimetype": "text/x-python",
   "name": "python",
   "nbconvert_exporter": "python",
   "pygments_lexer": "ipython3",
   "version": "3.9.7"
  }
 },
 "nbformat": 4,
 "nbformat_minor": 5
}
