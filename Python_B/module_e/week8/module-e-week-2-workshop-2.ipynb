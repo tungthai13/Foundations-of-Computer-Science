{
 "cells": [
  {
   "cell_type": "markdown",
   "id": "cb5c9ded-10d9-4d99-9b5b-60887f24b75c",
   "metadata": {},
   "source": [
    "### data generation"
   ]
  },
  {
   "cell_type": "code",
   "execution_count": null,
   "id": "a1b40bf4-f0b1-4f80-a6ce-271cc2a98d14",
   "metadata": {},
   "outputs": [],
   "source": [
    "from random import sample, randint \n",
    "\n",
    "SAMPLES = 2500\n",
    "\n",
    "# Ascending values \n",
    "sorted_data = list(range(SAMPLES))\n",
    "\n",
    "# Ascending values with 10% unsorted\n",
    "mostly_sorted_data = list(range(SAMPLES))\n",
    "for i in range(SAMPLES // 10):\n",
    "    mostly_sorted_data[i] = randint(0,mostly_sorted_data[i]) \n",
    "\n",
    "# Reverse sorted data\n",
    "reverse_sorted_data = list(range(SAMPLES, 0, -1))\n",
    "\n",
    "# Random data\n",
    "unsorted_data = sample(sorted_data,len(sorted_data))"
   ]
  },
  {
   "cell_type": "markdown",
   "id": "eee5784a-c3d1-4242-8fa5-f654ff8695df",
   "metadata": {},
   "source": [
    "### example implementation: quicksort"
   ]
  },
  {
   "cell_type": "code",
   "execution_count": null,
   "id": "2f9b2e3f-3e20-4d71-b94b-5d74ed61f3fe",
   "metadata": {},
   "outputs": [],
   "source": [
    "def quicksort(array, first, last):\n",
    "    '''\n",
    "    Sort the range array[first, last] in-place with vanilla QuickSort\n",
    "\n",
    "    :param array:  the list of numbers to sort\n",
    "    :param first: the first index from array to begin sorting from,\n",
    "                must be in the range [0, len(array))\n",
    "    :param last: the last index from array to stop sorting at\n",
    "                must be in the range [first, len(array))\n",
    "    :return:    nothing, the side effect is that array[first, last] is sorted\n",
    "    '''\n",
    "    if first >= last:\n",
    "        return\n",
    "\n",
    "    i, j = first, last\n",
    "    # Selected with lomuto partition scheme\n",
    "    pivot = array[last]\n",
    "\n",
    "    while i <= j:\n",
    "        while array[i] < pivot:\n",
    "            i += 1\n",
    "        while array[j] > pivot:\n",
    "            j -= 1\n",
    "\n",
    "        if i <= j:\n",
    "            array[i], array[j] = array[j], array[i]\n",
    "            i, j = i + 1, j - 1\n",
    "    quicksort(array, first, j)\n",
    "    quicksort(array, i, last)"
   ]
  },
  {
   "cell_type": "markdown",
   "id": "540d7c76-9cb2-4536-a158-2397e9ec3f06",
   "metadata": {},
   "source": [
    "### example implementation: insertion sort"
   ]
  },
  {
   "cell_type": "code",
   "execution_count": null,
   "id": "6f52fb65-57e8-4585-aefd-8418a8a02a2f",
   "metadata": {},
   "outputs": [],
   "source": [
    "def insertion_sort(list):\n",
    "    '''\n",
    "    Sort the list in-place with vanilla insertion sort.\n",
    "\n",
    "    :param list: the list of items to sort\n",
    "    :return:     nothing, the side effect is that list is sorted\n",
    "    '''\n",
    "    \n",
    "    for i, value in enumerate(list):\n",
    "        for j in range(i - 1, -1, -1):\n",
    "            if list[j] > value:\n",
    "                list[j + 1] = list[j]\n",
    "                list[j] = value"
   ]
  },
  {
   "cell_type": "markdown",
   "id": "a1fb538c-78c3-4f88-bd72-cfa689eef8e5",
   "metadata": {},
   "source": [
    "### timing test example"
   ]
  },
  {
   "cell_type": "code",
   "execution_count": null,
   "id": "7b89b31f-a3f0-48f2-ac74-4443fc7eba97",
   "metadata": {},
   "outputs": [],
   "source": [
    "from timeit import default_timer\n",
    "\n",
    "start_time = default_timer()\n",
    "quicksort(mostly_sorted_data, 0, len(mostly_sorted_data) - 1)\n",
    "print(\"mostly sorted:      {} seconds\".format(default_timer() - start_time))\n"
   ]
  }
 ],
 "metadata": {
  "kernelspec": {
   "display_name": "Python 3 (ipykernel)",
   "language": "python",
   "name": "python3"
  },
  "language_info": {
   "codemirror_mode": {
    "name": "ipython",
    "version": 3
   },
   "file_extension": ".py",
   "mimetype": "text/x-python",
   "name": "python",
   "nbconvert_exporter": "python",
   "pygments_lexer": "ipython3",
   "version": "3.9.7"
  }
 },
 "nbformat": 4,
 "nbformat_minor": 5
}
