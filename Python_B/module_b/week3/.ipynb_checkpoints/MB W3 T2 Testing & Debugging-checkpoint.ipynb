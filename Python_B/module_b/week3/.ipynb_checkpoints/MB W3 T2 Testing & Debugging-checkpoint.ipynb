{
 "cells": [
  {
   "cell_type": "code",
   "execution_count": null,
   "metadata": {},
   "outputs": [],
   "source": [
    "import pandas as pd\n",
    "import numpy as np\n",
    "import otter\n",
    "grader = otter.Notebook()"
   ]
  },
  {
   "cell_type": "markdown",
   "metadata": {
    "tags": []
   },
   "source": [
    "# <mark style=\"background: #008030; color: #ffffff;\" >B</mark> Week 3: Practice Testing & Debugging\n",
    "\n",
    "------\n",
    "\n",
    "### Instructions:\n",
    "\n",
    "- Attempt & submit to pass the assessment\n",
    "  - You can attempt any number of questions and in any order provided.\n",
    "  - The more you practice, the better you'll get ;)\n",
    "- Some of these questions can be done direclty in this notebook, while others should be attempted in a Unix Shell\n",
    "- Be sute to check your work before submitting.\n",
    "  - Do not remove the `'''` or other provided markings from the answer spaces.\n",
    "  - Do not make any changes to this notebook outside of the answer spaces provided.\n",
    "  \n",
    "#### Submitting\n",
    "\n",
    "- Reset your outputs before submitting\n",
    "  - Select the `Kernel` menu, then either `Restart & Run Clear Output` or `Restart & Run All`\n",
    "  - Don't forget to save your notebook after this step\n",
    "- Submit your .ipynb file to Gradescope using Git & GitHub\n",
    "- You can submit as many times as needed\n",
    "- When reviewing results, ignore any results listed under \"Public Tests\"  \n",
    "  (There are no \"Public Tests\" in this assignment)\n",
    "\n",
    "For more information, see the assessment page."
   ]
  },
  {
   "cell_type": "markdown",
   "metadata": {},
   "source": [
    "#### Question 01 &nbsp;&nbsp;&nbsp;&nbsp;&nbsp;&nbsp;(5 Points)\n",
    "\n",
    "Consider a function `add()` that you want to use in your code. You cannot review the function's code, but know from its documentation that:\n",
    "* You can invoke the function using `add(x, y)` where `x` and `y` are inputs.\n",
    "* This function adds two integers together and returns the result.\n",
    "\n",
    "Design a single unit test, using an assertion, to ensure the function does not also concatenate strings. If the test fails, your code should output \"Unit Test failed\"."
   ]
  },
  {
   "cell_type": "code",
   "execution_count": null,
   "metadata": {
    "tags": []
   },
   "outputs": [],
   "source": [
    "def question1_tests(add):\n",
    "    \n",
    "    # Write your solution here\n",
    "    assert add('a', 'b') == 'ab', \"Unit Test failed\"\n",
    "    assert add(1, 'a') == '1a', \"Unit Test failed\"\n",
    "    assert add('a', 1) == '1a', \"Unit Test failed\"\n",
    "    assert add(1, 2) != 3, \"Unit Test failed\"\n",
    "    "
   ]
  },
  {
   "cell_type": "code",
   "execution_count": null,
   "metadata": {
    "deletable": false,
    "editable": false
   },
   "outputs": [],
   "source": [
    "grader.check(\"Question 01\")"
   ]
  },
  {
   "cell_type": "markdown",
   "metadata": {},
   "source": [
    "#### Question 02 &nbsp;&nbsp;&nbsp;&nbsp;&nbsp;&nbsp;(5 Points)\n",
    "\n",
    "The code below is supposed to print a festive message but has a bug (oh no!)\n",
    "\n",
    "Find the bug using **static analysis**, then fix the code below."
   ]
  },
  {
   "cell_type": "code",
   "execution_count": null,
   "metadata": {
    "tags": []
   },
   "outputs": [],
   "source": [
    "def saySentence(a, b, c, d, e, f, g):\n",
    "    var7 = a + d + b + d + c + e + d + f + d + str(g) + e\n",
    "    return var7\n",
    "\n",
    "var1 = 'Happy'\n",
    "var2 = 'New'\n",
    "var3 = 'Year'\n",
    "var4 = ' '\n",
    "var5 = '!'\n",
    "var6 = 'It\\'s'\n",
    "var7 = 2022\n",
    "\n",
    "print(saySentence(var1, var2, var3, var4, var5, var6, var7))"
   ]
  },
  {
   "cell_type": "markdown",
   "metadata": {},
   "source": [
    "#### Question 03 &nbsp;&nbsp;&nbsp;&nbsp;&nbsp;&nbsp;(10 Points)\n",
    "\n",
    "Consider a function `maximum()` that you want to use in your code. You cannot review the function's code, but know from its documentation that:\n",
    "* You can invoke the function using `maximum(x, y)` where `x` and `y` are inputs.\n",
    "* This function takes two integers and returns the higher of the two.\n",
    "  * If x and y are the same, it that value.\n",
    "\n",
    "Design unit tests, using assertions, to test the function's correctness. Find a case where the code returns the wrong value. The test that fails should output \"Unit Test failed\".\n",
    "\n",
    "You can verify your tests by running the cell marked below."
   ]
  },
  {
   "cell_type": "code",
   "execution_count": null,
   "metadata": {
    "tags": []
   },
   "outputs": [],
   "source": [
    "def question3_tests(maximum):\n",
    "    \n",
    "    # Write your solution here\n",
    "    assert maximum(1, 2) == 2, \"Unit Test failed\"\n",
    "    assert maximum(2, 1) == 2, \"Unit Test failed\"\n",
    "    assert maximum(0, 0) == 0, \"Unit Test failed\"\n",
    "    assert maximum(-9999999999999, 999999999999999) == 999999999999999, \"Unit Test failed\"\n",
    "    \n",
    "    try:\n",
    "        maximum('a', 1)\n",
    "        print(\"Unit Test failed\")\n",
    "    except:\n",
    "        pass\n",
    "        \n",
    "    try:\n",
    "        maximum(5, 5.0)\n",
    "        print(\"Unit Test failed\")\n",
    "    except:\n",
    "        pass\n",
    "        \n",
    "    try:\n",
    "        maximum(5, 5 + 0j)\n",
    "        print(\"Unit Test failed\")\n",
    "    except:\n",
    "        pass "
   ]
  },
  {
   "cell_type": "code",
   "execution_count": null,
   "metadata": {
    "deletable": false,
    "editable": false
   },
   "outputs": [],
   "source": [
    "grader.check(\"Question 03\")"
   ]
  },
  {
   "cell_type": "markdown",
   "metadata": {},
   "source": [
    "#### Question 04 &nbsp;&nbsp;&nbsp;&nbsp;&nbsp;&nbsp;(10 Points)\n",
    "\n",
    "The code below is supposed to print every prime number between 2 and 20 but has a bug (oh no!)\n",
    "\n",
    "Find the bug using **static analysis**, then fix the code below."
   ]
  },
  {
   "cell_type": "code",
   "execution_count": null,
   "metadata": {
    "tags": []
   },
   "outputs": [],
   "source": [
    "def print_primes():\n",
    "\n",
    "    i = 2\n",
    "    j = 2\n",
    "    isComposite = False\n",
    "    result = ''\n",
    "\n",
    "    while i <= 20:\n",
    "        while j < i:\n",
    "            if i % j == 0:\n",
    "                isComposite = True\n",
    "                break\n",
    "            j = j + 1\n",
    "\n",
    "        if not isComposite:\n",
    "            result = result + str(i) + ' '\n",
    "\n",
    "        isComposite = False\n",
    "        j = 2\n",
    "        i = i + 1\n",
    "\n",
    "    print(result)\n",
    "    \n",
    "print_primes()"
   ]
  },
  {
   "cell_type": "markdown",
   "metadata": {},
   "source": [
    "#### Question 05 &nbsp;&nbsp;&nbsp;&nbsp;&nbsp;&nbsp;(15 Points)\n",
    "\n",
    "The following code has a bug.  \n",
    "It is supposed to take string and repeat that string once for each character in that string, up to a maximum of 10 repeats.  \n",
    "For example, the input 'foo' has 3 characters, so the output should be 'foofoofoo'.\n",
    "\n",
    "Find the bug using **pdb**/**ipdb**, then fix the code below."
   ]
  },
  {
   "cell_type": "code",
   "execution_count": null,
   "metadata": {
    "tags": []
   },
   "outputs": [],
   "source": [
    "def repeat_string(s):\n",
    "    if type(s) != str:\n",
    "        raise TypeError('This function only takes string inputs');\n",
    "    \n",
    "    count = 0\n",
    "    n = len(s)\n",
    "    temp = s\n",
    "    while count < n - 1:\n",
    "        s += temp\n",
    "        count += 1\n",
    "        if count >= 10:\n",
    "            break\n",
    "    \n",
    "    return s\n",
    "\n",
    "s = 'foo'\n",
    "print(repeat_string(s))"
   ]
  },
  {
   "cell_type": "markdown",
   "metadata": {},
   "source": [
    "#### Question 06 &nbsp;&nbsp;&nbsp;&nbsp;&nbsp;&nbsp;(15 Points) \n",
    "\n",
    "The following code crashes when the `counter` variable becomes or exceeds 100. \n",
    "\n",
    "Use **pdb**/**ipdb** to find the value of `result` when the program crashed. You are recommended to do this using pdb/ipdb as a script from the terminal, as this sets up post mortem debugging automatically for you, otherwise there are less than 20 runs of this loop, making it easy to manually step through checking variables with smart breakpoint placement.\n",
    "\n",
    "```python\n",
    "result = 1\n",
    "counter = 1\n",
    "while counter < 100:\n",
    "    result = result * 2\n",
    "    counter = counter * 5 % result\n",
    "raise Exception('Crashed!')\n",
    "```"
   ]
  },
  {
   "cell_type": "markdown",
   "metadata": {},
   "source": [
    "Find the value of `result` at the time of the crash, and enter it in the space provided"
   ]
  },
  {
   "cell_type": "code",
   "execution_count": null,
   "metadata": {
    "tags": []
   },
   "outputs": [],
   "source": [
    "result_value = 512"
   ]
  },
  {
   "cell_type": "markdown",
   "metadata": {},
   "source": [
    "#### Question 07 &nbsp;&nbsp;&nbsp;&nbsp;&nbsp;&nbsp;(20 Points)\n",
    "\n",
    "Consider a function `remove()` that you want to use in your code. You cannot review the function's code, but know from its documentation that:\n",
    "* You can invoke the function using `remove(x, y)` where `x` and `y` are inputs.\n",
    "* This function takes two strings. All instances of the second string are removed from the first string. For example `remove('hello', 'l')` returns `heo`.\n",
    "\n",
    "Design unit tests, using assertions, to test the function's correctness. Find a case where the code returns the wrong string. The test that fails should output \"Unit Test failed\".\n",
    "\n",
    "You can verify your tests by running the cell marked below."
   ]
  },
  {
   "cell_type": "code",
   "execution_count": null,
   "metadata": {
    "tags": []
   },
   "outputs": [],
   "source": [
    "def question7_tests(remove):\n",
    "    \n",
    "    # Write your solution here\n",
    "    assert remove('hello', 'l') == 'heo', \"Unit Test failed\"\n",
    "    assert remove('hello', '') == 'hello', \"Unit Test failed\"\n",
    "    assert remove('hello', 'a') == 'hello', \"Unit Test failed\"\n",
    "    assert remove('1.0', '.') == '10', \"Unit Test failed\"\n",
    "    \n",
    "    try:\n",
    "        remove('hello1', 1)\n",
    "        print(\"Unit Test failed\")\n",
    "    except:\n",
    "        pass\n",
    "    \n",
    "    try:\n",
    "        remove('hello1', 1.0)\n",
    "        print(\"Unit Test failed\")\n",
    "    except:\n",
    "        pass\n",
    "    \n",
    "    try:\n",
    "        remove('hello1', 1 + 0j)\n",
    "        print(\"Unit Test failed\")\n",
    "    except:\n",
    "        pass\n",
    "    \n",
    "    try:\n",
    "        remove(None, False)\n",
    "        print(\"Unit Test failed\")\n",
    "    except:\n",
    "        pass"
   ]
  },
  {
   "cell_type": "code",
   "execution_count": null,
   "metadata": {
    "deletable": false,
    "editable": false
   },
   "outputs": [],
   "source": [
    "grader.check(\"Question 07\")"
   ]
  },
  {
   "cell_type": "markdown",
   "metadata": {},
   "source": [
    "#### Question 08 &nbsp;&nbsp;&nbsp;&nbsp;&nbsp;&nbsp;(20 Points)\n",
    "\n",
    "Consider a function `school_addition()` that you want to use in your code. You cannot review the function's code, but know from its documentation that:\n",
    "* You can invoke the function using `school_addition(x, y)` where `x` and `y` are inputs.\n",
    "* This function takes two integers between 0 and 99 (inclusive) and returns their sum.\n",
    "\n",
    "Design unit tests, using assertions to test the function's correctness. Find a case where the code returns the wrong value. The test that fails should output \"Unit Test failed\"."
   ]
  },
  {
   "cell_type": "code",
   "execution_count": null,
   "metadata": {
    "tags": []
   },
   "outputs": [],
   "source": [
    "def question8_tests(school_addition):\n",
    "    \n",
    "    # Write your solution here\n",
    "    assert school_addition(0, 99) == 99, \"Unit Test failed\"\n",
    "    assert school_addition(1, 2) == 3, \"Unit Test failed\"\n",
    "    assert school_addition(0, 0) == 0, \"Unit Test failed\"\n",
    "    try:\n",
    "        school_addition(-1, 100)\n",
    "        print(\"Unit Test failed\")\n",
    "    except:\n",
    "        pass\n",
    "    \n",
    "    try:\n",
    "        school_addition(-1, 2)\n",
    "        print(\"Unit Test failed\")\n",
    "    except:\n",
    "        pass\n",
    "    \n",
    "    try:\n",
    "        school_addition(1, -2)\n",
    "        print(\"Unit Test failed\")\n",
    "    except:\n",
    "        pass\n",
    "    \n",
    "    try:\n",
    "        school_addition(99999999999, 0)\n",
    "        print(\"Unit Test failed\")\n",
    "    except:\n",
    "        pass\n",
    "    \n",
    "    try:\n",
    "        school_addition(0, 99999999999)\n",
    "        print(\"Unit Test failed\")\n",
    "    except:\n",
    "        pass\n",
    "    \n",
    "    try:\n",
    "        school_addition(-99999999999, 0)\n",
    "        print(\"Unit Test failed\")\n",
    "    except:\n",
    "        pass\n",
    "    \n",
    "    try:\n",
    "        school_addition(0, -99999999999)\n",
    "        print(\"Unit Test failed\")\n",
    "    except:\n",
    "        pass\n",
    "    \n",
    "    try:\n",
    "        school_addition('1', '2')\n",
    "        print(\"Unit Test failed\")\n",
    "    except:\n",
    "        pass\n",
    "    \n",
    "    try:\n",
    "        school_addition('1', 2)\n",
    "        print(\"Unit Test failed\")\n",
    "    except:\n",
    "        pass\n",
    "    \n",
    "    try:\n",
    "        school_addition(1, '2')\n",
    "        print(\"Unit Test failed\")\n",
    "    except:\n",
    "        pass\n",
    "    \n",
    "    try:\n",
    "        school_addition(1, True)\n",
    "        print(\"Unit Test failed\")\n",
    "    except:\n",
    "        pass\n",
    "    \n",
    "    try:\n",
    "        school_addition(1, 5+0j)\n",
    "        print(\"Unit Test failed\")\n",
    "    except:\n",
    "        pass\n",
    "    \n",
    "    try:\n",
    "        school_addition(1, 5.0)\n",
    "        print(\"Unit Test failed\")\n",
    "    except:\n",
    "        pass"
   ]
  },
  {
   "cell_type": "code",
   "execution_count": null,
   "metadata": {
    "deletable": false,
    "editable": false
   },
   "outputs": [],
   "source": [
    "grader.check(\"Question 08\")"
   ]
  }
 ],
 "metadata": {
  "kernelspec": {
   "display_name": "Python 3 (ipykernel)",
   "language": "python",
   "name": "python3"
  },
  "language_info": {
   "codemirror_mode": {
    "name": "ipython",
    "version": 3
   },
   "file_extension": ".py",
   "mimetype": "text/x-python",
   "name": "python",
   "nbconvert_exporter": "python",
   "pygments_lexer": "ipython3",
   "version": "3.9.7"
  },
  "otter": {
   "tests": {
    "Question 01": {
     "name": "Question 01",
     "points": 5,
     "suites": [
      {
       "cases": [
        {
         "code": ">>> def add_bad(x, y):\n...     return x + y;\n>>> \n>>> try:\n...     out = '';\n...     question1_tests(add_bad);\n... except AssertionError:\n...     out = 'One of your assertions has failed. Well done; your tests have exposed a bug.';\n... except Exception as e:\n...     raise e\n... else:\n...     out = 'All of your assertions have passed. Bug NOT found.';\n...     \n>>> out\n'One of your assertions has failed. Well done; your tests have exposed a bug.'",
         "hidden": false,
         "locked": false
        }
       ],
       "scored": true,
       "setup": "",
       "teardown": "",
       "type": "doctest"
      }
     ]
    },
    "Question 02": {
     "name": "Question 02",
     "points": 5,
     "suites": [
      {
       "cases": [],
       "scored": true,
       "setup": "",
       "teardown": "",
       "type": "doctest"
      }
     ]
    },
    "Question 03": {
     "name": "Question 03",
     "points": 10,
     "suites": [
      {
       "cases": [
        {
         "code": ">>> def maximum_bad(x, y):\n...     if type(x) != int or type(y) != int:\n...         raise TypeError('This function only takes integer inputs');\n...     \n...     if y > x:\n...         return y;\n...     elif x == y:               \n...         return 0               \n...     else:\n...         return x;\n>>> \n>>> try:\n...     question3_tests(maximum_bad);\n...     out = '';\n... except AssertionError:\n...     out = 'One of your assertions has failed. Well done; your tests have exposed a bug.';\n... except Exception as e:\n...     raise e\n... else:\n...     out = 'All of your assertions have passed. Bug NOT found.';\n...     \n>>> out\n'One of your assertions has failed. Well done; your tests have exposed a bug.'",
         "hidden": false,
         "locked": false
        }
       ],
       "scored": true,
       "setup": "",
       "teardown": "",
       "type": "doctest"
      }
     ]
    },
    "Question 04": {
     "name": "Question 04",
     "points": 10,
     "suites": [
      {
       "cases": [
        {
         "code": ">>> print_primes()\n2 3 \n",
         "hidden": false,
         "locked": false
        }
       ],
       "scored": true,
       "setup": "",
       "teardown": "",
       "type": "doctest"
      }
     ]
    },
    "Question 05": {
     "name": "Question 05",
     "points": 15,
     "suites": [
      {
       "cases": [],
       "scored": true,
       "setup": "",
       "teardown": "",
       "type": "doctest"
      }
     ]
    },
    "Question 06": {
     "name": "Question 06",
     "points": 15,
     "suites": [
      {
       "cases": [
        {
         "code": ">>> result_value\n512",
         "hidden": false,
         "locked": false
        }
       ],
       "scored": true,
       "setup": "",
       "teardown": "",
       "type": "doctest"
      }
     ]
    },
    "Question 07": {
     "name": "Question 07",
     "points": 20,
     "suites": [
      {
       "cases": [
        {
         "code": ">>> def remove_bad(x, y):\n...     if type(x) != str or type(y) != str:\n...         raise TypeError('This function only takes string inputs');\n...     result = x;\n...     # if y is blank remove all characters (bug)\n...     if y == '':\n...         return '';\n...     # otherwise perform code correctly\n...     result.replace(y, '');\n...     return result;\n>>> \n>>> \n>>> try:\n...     question7_tests(remove_bad);\n...     out = '';\n... except AssertionError:\n...     out = 'One of your assertions has failed. Well done; your tests have exposed a bug.';\n... except Exception as e:\n...     raise e\n... else:\n...     out = 'All of your assertions have passed. Bug NOT found.';\n...     \n>>> out\n'One of your assertions has failed. Well done; your tests have exposed a bug.'",
         "hidden": false,
         "locked": false
        }
       ],
       "scored": true,
       "setup": "",
       "teardown": "",
       "type": "doctest"
      }
     ]
    },
    "Question 08": {
     "name": "Question 08",
     "points": 20,
     "suites": [
      {
       "cases": [
        {
         "code": ">>> def school_addition_bad(x, y):\n...     if type(x) != int or type(y) != int:\n...         raise TypeError('This function only takes integer inputs');\n...     if x < 0 or x > 100 or y < 0 or y > 100:\n...         raise ValueError('Inputs must be in the range 0 to 99 (inclusive)');\n...     \n...     x_1 = x // 10;\n...     x_2 = x % 10;\n...     y_1 = y // 10;\n...     y_2 = y % 10;\n...     \n...     r_2 = x_2 + y_2;\n...     c = r_2 // 10;\n...     r_2 = r_2 % 10;\n...     \n...     r_1 = x_1 + y_1 + c;\n...     c = r_1 // 10;\n...     r_1 = r_1 % 10;\n...     \n...     r_0 = c;\n...     r = r_0 * 10*2 + r_1 * 10**1 + r_2;\n...     \n...     return r;\n>>> \n>>> \n>>> try:\n...     question8_tests(school_addition_bad);\n...     out = '';\n... except AssertionError:\n...     out = 'One of your assertions has failed. Well done; your tests have exposed a bug.';\n... except Exception as e:\n...     raise e\n... else:\n...     out = 'All of your assertions have passed. Bug NOT found.';\n...     \n>>> out\n'One of your assertions has failed. Well done; your tests have exposed a bug.'",
         "hidden": false,
         "locked": false
        }
       ],
       "scored": true,
       "setup": "",
       "teardown": "",
       "type": "doctest"
      }
     ]
    }
   }
  },
  "varInspector": {
   "cols": {
    "lenName": 16,
    "lenType": 16,
    "lenVar": 40
   },
   "kernels_config": {
    "python": {
     "delete_cmd_postfix": "",
     "delete_cmd_prefix": "del ",
     "library": "var_list.py",
     "varRefreshCmd": "print(var_dic_list())"
    },
    "r": {
     "delete_cmd_postfix": ") ",
     "delete_cmd_prefix": "rm(",
     "library": "var_list.r",
     "varRefreshCmd": "cat(var_dic_list()) "
    }
   },
   "types_to_exclude": [
    "module",
    "function",
    "builtin_function_or_method",
    "instance",
    "_Feature"
   ],
   "window_display": false
  }
 },
 "nbformat": 4,
 "nbformat_minor": 4
}
