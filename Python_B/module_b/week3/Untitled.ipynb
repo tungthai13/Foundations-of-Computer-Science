{
 "cells": [
  {
   "cell_type": "code",
   "execution_count": 15,
   "id": "02b56d04",
   "metadata": {},
   "outputs": [
    {
     "name": "stdout",
     "output_type": "stream",
     "text": [
      "> \u001b[0;32m/var/folders/pw/s8535kh50y9b39g5wwk9_83h0000gn/T/ipykernel_2071/2337189698.py\u001b[0m(9)\u001b[0;36mdiff\u001b[0;34m()\u001b[0m\n",
      "\u001b[0;32m      7 \u001b[0;31m\u001b[0;34m\u001b[0m\u001b[0m\n",
      "\u001b[0m\u001b[0;32m      8 \u001b[0;31m    \u001b[0;31m# a difference should not be negative, so if the first number is smaller than the second, swap the numbers around\u001b[0m\u001b[0;34m\u001b[0m\u001b[0;34m\u001b[0m\u001b[0m\n",
      "\u001b[0m\u001b[0;32m----> 9 \u001b[0;31m    \u001b[0;32mif\u001b[0m \u001b[0;34m(\u001b[0m\u001b[0mnum1\u001b[0m \u001b[0;34m<\u001b[0m \u001b[0mnum2\u001b[0m\u001b[0;34m)\u001b[0m\u001b[0;34m:\u001b[0m\u001b[0;34m\u001b[0m\u001b[0;34m\u001b[0m\u001b[0m\n",
      "\u001b[0m\u001b[0;32m     10 \u001b[0;31m        \u001b[0mnum1\u001b[0m \u001b[0;34m=\u001b[0m \u001b[0mnum2\u001b[0m\u001b[0;34m\u001b[0m\u001b[0;34m\u001b[0m\u001b[0m\n",
      "\u001b[0m\u001b[0;32m     11 \u001b[0;31m        \u001b[0mnum2\u001b[0m \u001b[0;34m=\u001b[0m \u001b[0mnum1\u001b[0m\u001b[0;34m\u001b[0m\u001b[0;34m\u001b[0m\u001b[0m\n",
      "\u001b[0m\n",
      "ipdb> c\n",
      "> \u001b[0;32m/var/folders/pw/s8535kh50y9b39g5wwk9_83h0000gn/T/ipykernel_2071/2337189698.py\u001b[0m(15)\u001b[0;36mdiff\u001b[0;34m()\u001b[0m\n",
      "\u001b[0;32m     13 \u001b[0;31m    \u001b[0mset_trace\u001b[0m\u001b[0;34m(\u001b[0m\u001b[0;34m)\u001b[0m\u001b[0;34m\u001b[0m\u001b[0;34m\u001b[0m\u001b[0m\n",
      "\u001b[0m\u001b[0;32m     14 \u001b[0;31m    \u001b[0;31m# find the difference between the two numbers using subtraction\u001b[0m\u001b[0;34m\u001b[0m\u001b[0;34m\u001b[0m\u001b[0m\n",
      "\u001b[0m\u001b[0;32m---> 15 \u001b[0;31m    \u001b[0mdifference\u001b[0m \u001b[0;34m=\u001b[0m \u001b[0mnum1\u001b[0m \u001b[0;34m-\u001b[0m \u001b[0mnum2\u001b[0m\u001b[0;34m\u001b[0m\u001b[0;34m\u001b[0m\u001b[0m\n",
      "\u001b[0m\u001b[0;32m     16 \u001b[0;31m    \u001b[0mprint\u001b[0m\u001b[0;34m(\u001b[0m\u001b[0mdifference\u001b[0m\u001b[0;34m)\u001b[0m\u001b[0;34m\u001b[0m\u001b[0;34m\u001b[0m\u001b[0m\n",
      "\u001b[0m\u001b[0;32m     17 \u001b[0;31m\u001b[0;34m\u001b[0m\u001b[0m\n",
      "\u001b[0m\n",
      "ipdb> p num1\n",
      "15\n",
      "ipdb> n\n",
      "> \u001b[0;32m/var/folders/pw/s8535kh50y9b39g5wwk9_83h0000gn/T/ipykernel_2071/2337189698.py\u001b[0m(16)\u001b[0;36mdiff\u001b[0;34m()\u001b[0m\n",
      "\u001b[0;32m     14 \u001b[0;31m    \u001b[0;31m# find the difference between the two numbers using subtraction\u001b[0m\u001b[0;34m\u001b[0m\u001b[0;34m\u001b[0m\u001b[0m\n",
      "\u001b[0m\u001b[0;32m     15 \u001b[0;31m    \u001b[0mdifference\u001b[0m \u001b[0;34m=\u001b[0m \u001b[0mnum1\u001b[0m \u001b[0;34m-\u001b[0m \u001b[0mnum2\u001b[0m\u001b[0;34m\u001b[0m\u001b[0;34m\u001b[0m\u001b[0m\n",
      "\u001b[0m\u001b[0;32m---> 16 \u001b[0;31m    \u001b[0mprint\u001b[0m\u001b[0;34m(\u001b[0m\u001b[0mdifference\u001b[0m\u001b[0;34m)\u001b[0m\u001b[0;34m\u001b[0m\u001b[0;34m\u001b[0m\u001b[0m\n",
      "\u001b[0m\u001b[0;32m     17 \u001b[0;31m\u001b[0;34m\u001b[0m\u001b[0m\n",
      "\u001b[0m\u001b[0;32m     18 \u001b[0;31m\u001b[0;31m# run the diff function to find the difference between 10 and 15; we expect this to be 5\u001b[0m\u001b[0;34m\u001b[0m\u001b[0;34m\u001b[0m\u001b[0m\n",
      "\u001b[0m\n",
      "ipdb> p num2\n",
      "15\n",
      "ipdb> c\n",
      "0\n"
     ]
    }
   ],
   "source": [
    "from IPython.core.debugger import set_trace\n",
    "\n",
    "# here a function is defined, do not worry about how this works if you have not learnt functions yet\n",
    "def diff(num1, num2):\n",
    "    # [insert a breakpoint here]\n",
    "    set_trace()\n",
    "\n",
    "    # a difference should not be negative, so if the first number is smaller than the second, swap the numbers around\n",
    "    if (num1 < num2):\n",
    "        num1 = num2\n",
    "        num2 = num1\n",
    "\n",
    "    set_trace()\n",
    "    # find the difference between the two numbers using subtraction\n",
    "    difference = num1 - num2\n",
    "    print(difference)\n",
    "\n",
    "# run the diff function to find the difference between 10 and 15; we expect this to be 5\n",
    "diff(10, 15)"
   ]
  },
  {
   "cell_type": "code",
   "execution_count": 16,
   "id": "10932311",
   "metadata": {},
   "outputs": [
    {
     "name": "stdout",
     "output_type": "stream",
     "text": [
      "Enter a non-zero number: 0\n",
      "The try block attempted to divide by 0\n"
     ]
    }
   ],
   "source": [
    "try:\n",
    "    usr_input = input(\"Enter a non-zero number: \")\n",
    "    inverse = 1/int(usr_input)\n",
    "    print(inverse)\n",
    "except ZeroDivisionError:\n",
    "    print(\"The try block attempted to divide by 0\")\n",
    "except ValueError:\n",
    "    print(\"The try block was unable to case user input to an int\")\n",
    "except:\n",
    "    print(\"Some other exception occurred\")"
   ]
  },
  {
   "cell_type": "code",
   "execution_count": 18,
   "id": "23f2c18a",
   "metadata": {},
   "outputs": [
    {
     "name": "stdout",
     "output_type": "stream",
     "text": [
      "Enter an integer: 0\n",
      "An error occurred.\n",
      "block completed.\n"
     ]
    }
   ],
   "source": [
    "try:\n",
    "    usr_input = input(\"Enter an integer: \")\n",
    "    inverse = 1/int(usr_input)\n",
    "    print(inverse)\n",
    "except:\n",
    "    print(\"An error occurred.\")\n",
    "else:\n",
    "    print(\"No error occurred.\")\n",
    "finally:\n",
    "    print(\"block completed.\")"
   ]
  },
  {
   "cell_type": "code",
   "execution_count": 21,
   "id": "b5289d98",
   "metadata": {},
   "outputs": [
    {
     "ename": "Exception",
     "evalue": "variable a must be between 1 and 10",
     "output_type": "error",
     "traceback": [
      "\u001b[0;31m---------------------------------------------------------------------------\u001b[0m",
      "\u001b[0;31mException\u001b[0m                                 Traceback (most recent call last)",
      "\u001b[0;32m/var/folders/pw/s8535kh50y9b39g5wwk9_83h0000gn/T/ipykernel_2071/1912823216.py\u001b[0m in \u001b[0;36m<module>\u001b[0;34m\u001b[0m\n\u001b[1;32m      2\u001b[0m \u001b[0;34m\u001b[0m\u001b[0m\n\u001b[1;32m      3\u001b[0m \u001b[0;32mif\u001b[0m \u001b[0ma\u001b[0m \u001b[0;34m<\u001b[0m \u001b[0;36m1\u001b[0m \u001b[0;32mor\u001b[0m \u001b[0ma\u001b[0m \u001b[0;34m>\u001b[0m \u001b[0;36m10\u001b[0m\u001b[0;34m:\u001b[0m\u001b[0;34m\u001b[0m\u001b[0;34m\u001b[0m\u001b[0m\n\u001b[0;32m----> 4\u001b[0;31m     \u001b[0;32mraise\u001b[0m \u001b[0mException\u001b[0m\u001b[0;34m(\u001b[0m\u001b[0;34m\"variable a must be between 1 and 10\"\u001b[0m\u001b[0;34m)\u001b[0m\u001b[0;34m\u001b[0m\u001b[0;34m\u001b[0m\u001b[0m\n\u001b[0m",
      "\u001b[0;31mException\u001b[0m: variable a must be between 1 and 10"
     ]
    }
   ],
   "source": [
    "a = 0\n",
    "\n",
    "if a < 1 or a > 10:\n",
    "    raise Exception(\"variable a must be between 1 and 10\")"
   ]
  }
 ],
 "metadata": {
  "kernelspec": {
   "display_name": "Python 3 (ipykernel)",
   "language": "python",
   "name": "python3"
  },
  "language_info": {
   "codemirror_mode": {
    "name": "ipython",
    "version": 3
   },
   "file_extension": ".py",
   "mimetype": "text/x-python",
   "name": "python",
   "nbconvert_exporter": "python",
   "pygments_lexer": "ipython3",
   "version": "3.9.7"
  }
 },
 "nbformat": 4,
 "nbformat_minor": 5
}
